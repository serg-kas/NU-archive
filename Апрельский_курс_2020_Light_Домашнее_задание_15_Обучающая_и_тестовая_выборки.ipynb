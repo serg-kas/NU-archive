{
  "nbformat": 4,
  "nbformat_minor": 0,
  "metadata": {
    "colab": {
      "name": "Апрельский курс-2020 Light. Домашнее задание 15. Обучающая и тестовая выборки",
      "provenance": [],
      "collapsed_sections": [
        "6CTlj7a_4JT9"
      ],
      "include_colab_link": true
    },
    "kernelspec": {
      "name": "python3",
      "display_name": "Python 3"
    },
    "accelerator": "GPU"
  },
  "cells": [
    {
      "cell_type": "markdown",
      "metadata": {
        "id": "view-in-github",
        "colab_type": "text"
      },
      "source": [
        "<a href=\"https://colab.research.google.com/github/serg-kas/NN-archive/blob/main/%D0%90%D0%BF%D1%80%D0%B5%D0%BB%D1%8C%D1%81%D0%BA%D0%B8%D0%B9_%D0%BA%D1%83%D1%80%D1%81_2020_Light_%D0%94%D0%BE%D0%BC%D0%B0%D1%88%D0%BD%D0%B5%D0%B5_%D0%B7%D0%B0%D0%B4%D0%B0%D0%BD%D0%B8%D0%B5_15_%D0%9E%D0%B1%D1%83%D1%87%D0%B0%D1%8E%D1%89%D0%B0%D1%8F_%D0%B8_%D1%82%D0%B5%D1%81%D1%82%D0%BE%D0%B2%D0%B0%D1%8F_%D0%B2%D1%8B%D0%B1%D0%BE%D1%80%D0%BA%D0%B8.ipynb\" target=\"_parent\"><img src=\"https://colab.research.google.com/assets/colab-badge.svg\" alt=\"Open In Colab\"/></a>"
      ]
    },
    {
      "cell_type": "markdown",
      "metadata": {
        "id": "Ah7dy1kFL2H9"
      },
      "source": [
        "# Импорт библиотек"
      ]
    },
    {
      "cell_type": "code",
      "metadata": {
        "id": "qrfd6FzSLrE2"
      },
      "source": [
        "from tensorflow.keras.models import Sequential # модель прямого распространения\n",
        "from tensorflow.keras.layers import Dense, Activation, Dropout, BatchNormalization # слои\n",
        "from tensorflow.keras import utils # тут to_categorical\n",
        "from tensorflow.keras.preprocessing import image # для отрисовки изображения\n",
        "from tensorflow.keras.optimizers import Adam, Adadelta # обучение\n",
        "from tensorflow.keras.datasets import mnist # библиотека с базой MNIST\n",
        "\n",
        "from sklearn.preprocessing import LabelEncoder, StandardScaler # для нормализации данных\n",
        "from sklearn import preprocessing # предварительная обработка данных\n",
        "from sklearn.model_selection import train_test_split  # функция разделения на обучающую и проверочную/тестовую выборку\n",
        "\n",
        "\n",
        "import numpy as np # массивы numpy\n",
        "import pandas as pd # pandas\n",
        "\n",
        "from google.colab import files # Импорт файлов\n",
        "\n",
        "import matplotlib.pyplot as plt # графики\n",
        "from PIL import Image # Отрисовка изображений\n",
        "\n",
        "# Отрисовывать изображения в ноутбуке, а не в консоль или файл\n",
        "%matplotlib inline\n"
      ],
      "execution_count": null,
      "outputs": []
    },
    {
      "cell_type": "markdown",
      "metadata": {
        "id": "mcL8zbzjxGu_"
      },
      "source": [
        "#LIGHT#\n",
        "\n",
        "Создайте модель для распознавания рукописных цифр из набора MNIST (можно воспользоваться ноутбуком 1-го занятия) и проведите ряд тестов:\n",
        "  1. Запустите сеть с различными размерами обучающей и проверочной выборок:\n",
        "\n",
        "      a. Обучающая выборка 50.000 примеров\n",
        "\n",
        "      b. Обучающая выборка 10.000 примеров\n",
        "\n",
        "      c. Обучающая выборка 500 примеров\n",
        "  2. Создайте еще два варианта сети и сравните значения точности на проверочной выборке (на последней эпохе) и на тестовой выборке.Сделайте сравнительную таблицу.\n",
        "  3. Создайте сеть следующей архитектуры:\n",
        "\n",
        "    a. 4 Dense слоя\n",
        "\n",
        "    b. 3 Dropout слоя\n",
        "\n",
        "    c. 3 BatchNormalization слоя\n",
        "\n",
        "Напишите свои выводы по результатам проведенных тестов."
      ]
    },
    {
      "cell_type": "code",
      "metadata": {
        "id": "7YUKBzUZBejo",
        "colab": {
          "base_uri": "https://localhost:8080/",
          "height": 51
        },
        "outputId": "477f3659-c123-4e83-a421-caae78eb5693"
      },
      "source": [
        "# Повторим сеть для распознавания рукописных цифр из набора MNIST из предыдущего занятия.\n",
        "\n",
        "# Загружаем MNIST\n",
        "(x_train_org, y_train_org), (x_test_org, y_test_org) = mnist.load_data()"
      ],
      "execution_count": null,
      "outputs": [
        {
          "output_type": "stream",
          "text": [
            "Downloading data from https://storage.googleapis.com/tensorflow/tf-keras-datasets/mnist.npz\n",
            "11493376/11490434 [==============================] - 0s 0us/step\n"
          ],
          "name": "stdout"
        }
      ]
    },
    {
      "cell_type": "code",
      "metadata": {
        "id": "cBXuhorbF4hF",
        "colab": {
          "base_uri": "https://localhost:8080/",
          "height": 85
        },
        "outputId": "690a2c9d-3926-4673-fd7e-623bc543f00b"
      },
      "source": [
        "# Подготовим данные\n",
        "\n",
        "# Каждый символ из матрицы 28х28 перестроим в вектор 784х1\n",
        "x_train = x_train_org.reshape(60000,784)\n",
        "x_test = x_test_org.reshape(10000, 784)\n",
        "\n",
        "print('Было', x_train_org.shape, 'Стало',  x_train.shape)\n",
        "print('Было', x_test_org.shape, 'Стало',  x_test.shape)\n",
        "\n",
        "# Нормализуем входные данные \n",
        "#меняем тип на float\n",
        "x_train = x_train.astype('float32')\n",
        "#поделив на 255 получим данные в диапазоне от 0 до 1\n",
        "x_train = x_train / 255 \n",
        "#меняем тип на float\n",
        "x_test = x_test.astype('float32')\n",
        "#поделив на 255 получим данные в диапазоне от 0 до 1\n",
        "x_test = x_test / 255 \n",
        "\n",
        "# one_hot_encoding для данных=результатов\n",
        "y_train = utils.to_categorical(y_train_org, 10)\n",
        "y_test = utils.to_categorical(y_test_org, 10)\n",
        "\n",
        "print('Было', y_train_org.shape, 'Стало',  y_train.shape)\n",
        "print('Было', y_test_org.shape, 'Стало',  y_test.shape)"
      ],
      "execution_count": null,
      "outputs": [
        {
          "output_type": "stream",
          "text": [
            "Было (60000, 28, 28) Стало (60000, 784)\n",
            "Было (10000, 28, 28) Стало (10000, 784)\n",
            "Было (60000,) Стало (60000, 10)\n",
            "Было (10000,) Стало (10000, 10)\n"
          ],
          "name": "stdout"
        }
      ]
    },
    {
      "cell_type": "code",
      "metadata": {
        "id": "brKy5kN8Goyf",
        "colab": {
          "base_uri": "https://localhost:8080/",
          "height": 799
        },
        "outputId": "8362edef-0840-4da9-f362-d2ca8418a6d5"
      },
      "source": [
        "# Создаем сеть (как в предыдущем занятии)\n",
        "model = Sequential()\n",
        "#полносвязный слой на 800 нейронов с relu-активацией\n",
        "model.add(Dense(800, input_dim=784, activation=\"relu\")) \n",
        "#полносвязный слой на 400 нейронов с relu-активацией\n",
        "model.add(Dense(400, activation=\"relu\")) \n",
        "#полносвязный слой на 10 нейронов с softmax-активацией\n",
        "model.add(Dense(10, activation=\"softmax\")) \n",
        "\n",
        "# Компиляция\n",
        "model.compile(loss=\"categorical_crossentropy\", optimizer=\"adam\", metrics=[\"accuracy\"]) \n",
        "# Структура модели\n",
        "print(model.summary())\n",
        "\n",
        "# Обучение нейронной сети методом fit\n",
        "model.fit(x_train, y_train, batch_size=128, epochs=15, verbose=1)"
      ],
      "execution_count": null,
      "outputs": [
        {
          "output_type": "stream",
          "text": [
            "Model: \"sequential\"\n",
            "_________________________________________________________________\n",
            "Layer (type)                 Output Shape              Param #   \n",
            "=================================================================\n",
            "dense (Dense)                (None, 800)               628000    \n",
            "_________________________________________________________________\n",
            "dense_1 (Dense)              (None, 400)               320400    \n",
            "_________________________________________________________________\n",
            "dense_2 (Dense)              (None, 10)                4010      \n",
            "=================================================================\n",
            "Total params: 952,410\n",
            "Trainable params: 952,410\n",
            "Non-trainable params: 0\n",
            "_________________________________________________________________\n",
            "None\n",
            "Epoch 1/15\n",
            "469/469 [==============================] - 1s 3ms/step - loss: 0.2019 - accuracy: 0.9397\n",
            "Epoch 2/15\n",
            "469/469 [==============================] - 1s 3ms/step - loss: 0.0761 - accuracy: 0.9762\n",
            "Epoch 3/15\n",
            "469/469 [==============================] - 1s 3ms/step - loss: 0.0483 - accuracy: 0.9844\n",
            "Epoch 4/15\n",
            "469/469 [==============================] - 1s 3ms/step - loss: 0.0353 - accuracy: 0.9887\n",
            "Epoch 5/15\n",
            "469/469 [==============================] - 1s 3ms/step - loss: 0.0274 - accuracy: 0.9909\n",
            "Epoch 6/15\n",
            "469/469 [==============================] - 1s 3ms/step - loss: 0.0226 - accuracy: 0.9927\n",
            "Epoch 7/15\n",
            "469/469 [==============================] - 1s 3ms/step - loss: 0.0179 - accuracy: 0.9944\n",
            "Epoch 8/15\n",
            "469/469 [==============================] - 1s 3ms/step - loss: 0.0159 - accuracy: 0.9948\n",
            "Epoch 9/15\n",
            "469/469 [==============================] - 1s 3ms/step - loss: 0.0153 - accuracy: 0.9946\n",
            "Epoch 10/15\n",
            "469/469 [==============================] - 1s 3ms/step - loss: 0.0126 - accuracy: 0.9958\n",
            "Epoch 11/15\n",
            "469/469 [==============================] - 1s 3ms/step - loss: 0.0122 - accuracy: 0.9959\n",
            "Epoch 12/15\n",
            "469/469 [==============================] - 1s 3ms/step - loss: 0.0121 - accuracy: 0.9962\n",
            "Epoch 13/15\n",
            "469/469 [==============================] - 1s 3ms/step - loss: 0.0105 - accuracy: 0.9963\n",
            "Epoch 14/15\n",
            "469/469 [==============================] - 1s 3ms/step - loss: 0.0132 - accuracy: 0.9955\n",
            "Epoch 15/15\n",
            "469/469 [==============================] - 1s 3ms/step - loss: 0.0072 - accuracy: 0.9976\n"
          ],
          "name": "stdout"
        },
        {
          "output_type": "execute_result",
          "data": {
            "text/plain": [
              "<tensorflow.python.keras.callbacks.History at 0x7f0c50512748>"
            ]
          },
          "metadata": {
            "tags": []
          },
          "execution_count": 4
        }
      ]
    },
    {
      "cell_type": "code",
      "metadata": {
        "id": "o5vPDTLWX6sP",
        "colab": {
          "base_uri": "https://localhost:8080/",
          "height": 68
        },
        "outputId": "3b2bc1f2-641d-4e64-a93e-9e78e491c0e7"
      },
      "source": [
        "# Вычисляем результаты сети на тестовом наборе\n",
        "scores = model.evaluate(x_test, y_test, verbose=1)\n",
        "\n",
        "# scores состоит из двух знанчений\n",
        "# scores[0] - loss сети на тестовой выборке\n",
        "# scores[1] - процент правильно распознанных примеров на тестовой выборке\n",
        "print(scores)\n",
        "print(\"Доля верных ответов на тестовых данных, в процентах: \", round(scores[1] * 100, 4), \"%\", sep=\"\")"
      ],
      "execution_count": null,
      "outputs": [
        {
          "output_type": "stream",
          "text": [
            "313/313 [==============================] - 1s 2ms/step - loss: 0.0868 - accuracy: 0.9833\n",
            "[0.08679089695215225, 0.983299970626831]\n",
            "Доля верных ответов на тестовых данных, в процентах: 98.33%\n"
          ],
          "name": "stdout"
        }
      ]
    },
    {
      "cell_type": "code",
      "metadata": {
        "id": "qZ6L8SCrIoxV",
        "colab": {
          "base_uri": "https://localhost:8080/",
          "height": 867
        },
        "outputId": "e2399b59-6cf0-461c-8d78-a21b6db9f108"
      },
      "source": [
        "# Сделаем обучающую выборку 50000 примеров и обучим на ней\n",
        "\n",
        "# test_size=10000 - будет выделено 10000 примеров данных для тестовой выборки\n",
        "# shuffle=True - перемешать данные (возможно тут это и не обязательно)\n",
        "# x_train_50 - данные для обучения\n",
        "# x_test_50 - данные для проверки\n",
        "# y_train_50 - правильные ответы для обучения\n",
        "# y_test_50 - правильные ответы для проверки\n",
        "x_train_50, x_test_50, y_train_50, y_test_50 = train_test_split(x_train, y_train, test_size=10000, shuffle=True)    \n",
        "print (x_train_50.shape)\n",
        "print (x_test_50.shape)\n",
        "print (y_train_50.shape)\n",
        "print (y_test_50.shape)\n",
        "\n",
        "# Создаем сеть (как в предыдущем занятии)\n",
        "model = Sequential()\n",
        "#полносвязный слой на 800 нейронов с relu-активацией\n",
        "model.add(Dense(800, input_dim=784, activation=\"relu\")) \n",
        "#полносвязный слой на 400 нейронов с relu-активацией\n",
        "model.add(Dense(400, activation=\"relu\")) \n",
        "#полносвязный слой на 10 нейронов с softmax-активацией\n",
        "model.add(Dense(10, activation=\"softmax\")) \n",
        "\n",
        "# Компиляция\n",
        "model.compile(loss=\"categorical_crossentropy\", optimizer=\"adam\", metrics=[\"accuracy\"]) \n",
        "# Структура модели\n",
        "print(model.summary())\n",
        "\n",
        "# Обучение нейронной сети методом fit\n",
        "model.fit(x_train_50, y_train_50, batch_size=128, epochs=15, verbose=1)\n"
      ],
      "execution_count": null,
      "outputs": [
        {
          "output_type": "stream",
          "text": [
            "(50000, 784)\n",
            "(10000, 784)\n",
            "(50000, 10)\n",
            "(10000, 10)\n",
            "Model: \"sequential_1\"\n",
            "_________________________________________________________________\n",
            "Layer (type)                 Output Shape              Param #   \n",
            "=================================================================\n",
            "dense_3 (Dense)              (None, 800)               628000    \n",
            "_________________________________________________________________\n",
            "dense_4 (Dense)              (None, 400)               320400    \n",
            "_________________________________________________________________\n",
            "dense_5 (Dense)              (None, 10)                4010      \n",
            "=================================================================\n",
            "Total params: 952,410\n",
            "Trainable params: 952,410\n",
            "Non-trainable params: 0\n",
            "_________________________________________________________________\n",
            "None\n",
            "Epoch 1/15\n",
            "391/391 [==============================] - 1s 3ms/step - loss: 0.2242 - accuracy: 0.9332\n",
            "Epoch 2/15\n",
            "391/391 [==============================] - 1s 3ms/step - loss: 0.0815 - accuracy: 0.9755\n",
            "Epoch 3/15\n",
            "391/391 [==============================] - 1s 3ms/step - loss: 0.0524 - accuracy: 0.9828\n",
            "Epoch 4/15\n",
            "391/391 [==============================] - 1s 3ms/step - loss: 0.0337 - accuracy: 0.9895\n",
            "Epoch 5/15\n",
            "391/391 [==============================] - 1s 3ms/step - loss: 0.0278 - accuracy: 0.9908\n",
            "Epoch 6/15\n",
            "391/391 [==============================] - 1s 3ms/step - loss: 0.0193 - accuracy: 0.9936\n",
            "Epoch 7/15\n",
            "391/391 [==============================] - 1s 3ms/step - loss: 0.0176 - accuracy: 0.9941\n",
            "Epoch 8/15\n",
            "391/391 [==============================] - 1s 3ms/step - loss: 0.0164 - accuracy: 0.9947\n",
            "Epoch 9/15\n",
            "391/391 [==============================] - 1s 3ms/step - loss: 0.0161 - accuracy: 0.9946\n",
            "Epoch 10/15\n",
            "391/391 [==============================] - 1s 3ms/step - loss: 0.0149 - accuracy: 0.9954\n",
            "Epoch 11/15\n",
            "391/391 [==============================] - 1s 3ms/step - loss: 0.0100 - accuracy: 0.9965\n",
            "Epoch 12/15\n",
            "391/391 [==============================] - 1s 3ms/step - loss: 0.0103 - accuracy: 0.9966\n",
            "Epoch 13/15\n",
            "391/391 [==============================] - 1s 3ms/step - loss: 0.0134 - accuracy: 0.9956\n",
            "Epoch 14/15\n",
            "391/391 [==============================] - 1s 3ms/step - loss: 0.0064 - accuracy: 0.9978\n",
            "Epoch 15/15\n",
            "391/391 [==============================] - 1s 3ms/step - loss: 0.0076 - accuracy: 0.9978\n"
          ],
          "name": "stdout"
        },
        {
          "output_type": "execute_result",
          "data": {
            "text/plain": [
              "<tensorflow.python.keras.callbacks.History at 0x7f0c502c37b8>"
            ]
          },
          "metadata": {
            "tags": []
          },
          "execution_count": 6
        }
      ]
    },
    {
      "cell_type": "code",
      "metadata": {
        "id": "POQIHRQbR_Vm",
        "colab": {
          "base_uri": "https://localhost:8080/",
          "height": 68
        },
        "outputId": "5451eabe-5577-4fe2-8b9a-518c51659c42"
      },
      "source": [
        "# Вычисляем результаты сети на тестовом наборе\n",
        "scores = model.evaluate(x_test, y_test, verbose=1)\n",
        "\n",
        "# scores состоит из двух знанчений\n",
        "# scores[0] - loss сети на тестовой выборке\n",
        "# scores[1] - процент правильно распознанных примеров на тестовой выборке\n",
        "print(scores)\n",
        "print(\"Доля верных ответов на тестовых данных, в процентах: \", round(scores[1] * 100, 4), \"%\", sep=\"\")"
      ],
      "execution_count": null,
      "outputs": [
        {
          "output_type": "stream",
          "text": [
            "313/313 [==============================] - 1s 2ms/step - loss: 0.0873 - accuracy: 0.9815\n",
            "[0.08730628341436386, 0.9815000295639038]\n",
            "Доля верных ответов на тестовых данных, в процентах: 98.15%\n"
          ],
          "name": "stdout"
        }
      ]
    },
    {
      "cell_type": "code",
      "metadata": {
        "id": "itT8PJPsNbsg",
        "colab": {
          "base_uri": "https://localhost:8080/",
          "height": 867
        },
        "outputId": "aa6a1f1a-7e22-43ac-9bf3-a6fe3a799c7c"
      },
      "source": [
        "# Сделаем обучающую выборку 10000 примеров и обучим на ней\n",
        "\n",
        "# test_size=50000 - будет выделено 50000 примеров данных для тестовой выборки\n",
        "# shuffle=True - перемешать данные (возможно тут это и не обязательно)\n",
        "# x_train_50 - данные для обучения\n",
        "# x_test_50 - данные для проверки\n",
        "# y_train_50 - правильные ответы для обучения\n",
        "# y_test_50 - правильные ответы для проверки\n",
        "x_train_10, x_test_10, y_train_10, y_test_10 = train_test_split(x_train, y_train, test_size=50000, shuffle=True)    \n",
        "print (x_train_10.shape)\n",
        "print (x_test_10.shape)\n",
        "print (y_train_10.shape)\n",
        "print (y_test_10.shape)\n",
        "\n",
        "# Создаем сеть (как в предыдущем занятии)\n",
        "model = Sequential()\n",
        "#полносвязный слой на 800 нейронов с relu-активацией\n",
        "model.add(Dense(800, input_dim=784, activation=\"relu\")) \n",
        "#полносвязный слой на 400 нейронов с relu-активацией\n",
        "model.add(Dense(400, activation=\"relu\")) \n",
        "#полносвязный слой на 10 нейронов с softmax-активацией\n",
        "model.add(Dense(10, activation=\"softmax\")) \n",
        "\n",
        "# Компиляция\n",
        "model.compile(loss=\"categorical_crossentropy\", optimizer=\"adam\", metrics=[\"accuracy\"]) \n",
        "# Структура модели\n",
        "print(model.summary())\n",
        "\n",
        "# Обучение нейронной сети методом fit\n",
        "model.fit(x_train_10, y_train_10, batch_size=128, epochs=15, verbose=1)"
      ],
      "execution_count": null,
      "outputs": [
        {
          "output_type": "stream",
          "text": [
            "(10000, 784)\n",
            "(50000, 784)\n",
            "(10000, 10)\n",
            "(50000, 10)\n",
            "Model: \"sequential_2\"\n",
            "_________________________________________________________________\n",
            "Layer (type)                 Output Shape              Param #   \n",
            "=================================================================\n",
            "dense_6 (Dense)              (None, 800)               628000    \n",
            "_________________________________________________________________\n",
            "dense_7 (Dense)              (None, 400)               320400    \n",
            "_________________________________________________________________\n",
            "dense_8 (Dense)              (None, 10)                4010      \n",
            "=================================================================\n",
            "Total params: 952,410\n",
            "Trainable params: 952,410\n",
            "Non-trainable params: 0\n",
            "_________________________________________________________________\n",
            "None\n",
            "Epoch 1/15\n",
            "79/79 [==============================] - 0s 3ms/step - loss: 0.4988 - accuracy: 0.8503\n",
            "Epoch 2/15\n",
            "79/79 [==============================] - 0s 3ms/step - loss: 0.1785 - accuracy: 0.9468\n",
            "Epoch 3/15\n",
            "79/79 [==============================] - 0s 3ms/step - loss: 0.1053 - accuracy: 0.9664\n",
            "Epoch 4/15\n",
            "79/79 [==============================] - 0s 3ms/step - loss: 0.0757 - accuracy: 0.9774\n",
            "Epoch 5/15\n",
            "79/79 [==============================] - 0s 3ms/step - loss: 0.0331 - accuracy: 0.9931\n",
            "Epoch 6/15\n",
            "79/79 [==============================] - 0s 3ms/step - loss: 0.0225 - accuracy: 0.9934\n",
            "Epoch 7/15\n",
            "79/79 [==============================] - 0s 3ms/step - loss: 0.0104 - accuracy: 0.9986\n",
            "Epoch 8/15\n",
            "79/79 [==============================] - 0s 3ms/step - loss: 0.0111 - accuracy: 0.9973\n",
            "Epoch 9/15\n",
            "79/79 [==============================] - 0s 3ms/step - loss: 0.0064 - accuracy: 0.9990\n",
            "Epoch 10/15\n",
            "79/79 [==============================] - 0s 3ms/step - loss: 0.0042 - accuracy: 0.9993\n",
            "Epoch 11/15\n",
            "79/79 [==============================] - 0s 3ms/step - loss: 0.0022 - accuracy: 0.9999\n",
            "Epoch 12/15\n",
            "79/79 [==============================] - 0s 3ms/step - loss: 8.5478e-04 - accuracy: 1.0000\n",
            "Epoch 13/15\n",
            "79/79 [==============================] - 0s 3ms/step - loss: 6.1496e-04 - accuracy: 1.0000\n",
            "Epoch 14/15\n",
            "79/79 [==============================] - 0s 3ms/step - loss: 5.0307e-04 - accuracy: 1.0000\n",
            "Epoch 15/15\n",
            "79/79 [==============================] - 0s 3ms/step - loss: 4.3502e-04 - accuracy: 1.0000\n"
          ],
          "name": "stdout"
        },
        {
          "output_type": "execute_result",
          "data": {
            "text/plain": [
              "<tensorflow.python.keras.callbacks.History at 0x7f0c50181ef0>"
            ]
          },
          "metadata": {
            "tags": []
          },
          "execution_count": 8
        }
      ]
    },
    {
      "cell_type": "code",
      "metadata": {
        "id": "hGfeoq5JR3vX",
        "colab": {
          "base_uri": "https://localhost:8080/",
          "height": 68
        },
        "outputId": "37a13c4a-08a1-419a-ccc2-7b2b6be38a93"
      },
      "source": [
        "# Вычисляем результаты сети на тестовом наборе\n",
        "scores = model.evaluate(x_test, y_test, verbose=1)\n",
        "\n",
        "# scores состоит из двух знанчений\n",
        "# scores[0] - loss сети на тестовой выборке\n",
        "# scores[1] - процент правильно распознанных примеров на тестовой выборке\n",
        "print(scores)\n",
        "print(\"Доля верных ответов на тестовых данных, в процентах: \", round(scores[1] * 100, 4), \"%\", sep=\"\")"
      ],
      "execution_count": null,
      "outputs": [
        {
          "output_type": "stream",
          "text": [
            "313/313 [==============================] - 1s 2ms/step - loss: 0.1389 - accuracy: 0.9672\n",
            "[0.1388876885175705, 0.967199981212616]\n",
            "Доля верных ответов на тестовых данных, в процентах: 96.72%\n"
          ],
          "name": "stdout"
        }
      ]
    },
    {
      "cell_type": "code",
      "metadata": {
        "id": "LoJid4zsPxQH",
        "colab": {
          "base_uri": "https://localhost:8080/",
          "height": 867
        },
        "outputId": "d8dcf6de-1b90-4f1f-b37d-3b2ad8dfc550"
      },
      "source": [
        "# Сделаем обучающую выборку 500 примеров и обучим на ней\n",
        "\n",
        "# test_size=59500 - будет выделено 59500 примеров данных для тестовой выборки\n",
        "# shuffle=True - перемешать данные (возможно тут это и не обязательно)\n",
        "# x_train_05 - данные для обучения\n",
        "# x_test_05 - данные для проверки\n",
        "# y_train_05 - правильные ответы для обучения\n",
        "# y_test_05 - правильные ответы для проверки\n",
        "x_train_05, x_test_05, y_train_05, y_test_05 = train_test_split(x_train, y_train, test_size=59500, shuffle=True)    \n",
        "print (x_train_05.shape)\n",
        "print (x_test_05.shape)\n",
        "print (y_train_05.shape)\n",
        "print (y_test_05.shape)\n",
        "\n",
        "# Создаем сеть (как в предыдущем занятии)\n",
        "model = Sequential()\n",
        "#полносвязный слой на 800 нейронов с relu-активацией\n",
        "model.add(Dense(800, input_dim=784, activation=\"relu\")) \n",
        "#полносвязный слой на 400 нейронов с relu-активацией\n",
        "model.add(Dense(400, activation=\"relu\")) \n",
        "#полносвязный слой на 10 нейронов с softmax-активацией\n",
        "model.add(Dense(10, activation=\"softmax\")) \n",
        "\n",
        "# Компиляция\n",
        "model.compile(loss=\"categorical_crossentropy\", optimizer=\"adam\", metrics=[\"accuracy\"]) \n",
        "# Структура модели\n",
        "print(model.summary())\n",
        "\n",
        "# Обучение нейронной сети методом fit\n",
        "model.fit(x_train_05, y_train_05, batch_size=128, epochs=15, verbose=1)"
      ],
      "execution_count": null,
      "outputs": [
        {
          "output_type": "stream",
          "text": [
            "(500, 784)\n",
            "(59500, 784)\n",
            "(500, 10)\n",
            "(59500, 10)\n",
            "Model: \"sequential_3\"\n",
            "_________________________________________________________________\n",
            "Layer (type)                 Output Shape              Param #   \n",
            "=================================================================\n",
            "dense_9 (Dense)              (None, 800)               628000    \n",
            "_________________________________________________________________\n",
            "dense_10 (Dense)             (None, 400)               320400    \n",
            "_________________________________________________________________\n",
            "dense_11 (Dense)             (None, 10)                4010      \n",
            "=================================================================\n",
            "Total params: 952,410\n",
            "Trainable params: 952,410\n",
            "Non-trainable params: 0\n",
            "_________________________________________________________________\n",
            "None\n",
            "Epoch 1/15\n",
            "4/4 [==============================] - 0s 3ms/step - loss: 1.9329 - accuracy: 0.4640\n",
            "Epoch 2/15\n",
            "4/4 [==============================] - 0s 3ms/step - loss: 0.9437 - accuracy: 0.7940\n",
            "Epoch 3/15\n",
            "4/4 [==============================] - 0s 3ms/step - loss: 0.4858 - accuracy: 0.8800\n",
            "Epoch 4/15\n",
            "4/4 [==============================] - 0s 3ms/step - loss: 0.3054 - accuracy: 0.9280\n",
            "Epoch 5/15\n",
            "4/4 [==============================] - 0s 2ms/step - loss: 0.1997 - accuracy: 0.9540\n",
            "Epoch 6/15\n",
            "4/4 [==============================] - 0s 2ms/step - loss: 0.1377 - accuracy: 0.9620\n",
            "Epoch 7/15\n",
            "4/4 [==============================] - 0s 3ms/step - loss: 0.0885 - accuracy: 0.9800\n",
            "Epoch 8/15\n",
            "4/4 [==============================] - 0s 3ms/step - loss: 0.0518 - accuracy: 0.9940\n",
            "Epoch 9/15\n",
            "4/4 [==============================] - 0s 3ms/step - loss: 0.0298 - accuracy: 1.0000\n",
            "Epoch 10/15\n",
            "4/4 [==============================] - 0s 3ms/step - loss: 0.0204 - accuracy: 1.0000\n",
            "Epoch 11/15\n",
            "4/4 [==============================] - 0s 2ms/step - loss: 0.0144 - accuracy: 1.0000\n",
            "Epoch 12/15\n",
            "4/4 [==============================] - 0s 3ms/step - loss: 0.0104 - accuracy: 1.0000\n",
            "Epoch 13/15\n",
            "4/4 [==============================] - 0s 2ms/step - loss: 0.0081 - accuracy: 1.0000\n",
            "Epoch 14/15\n",
            "4/4 [==============================] - 0s 2ms/step - loss: 0.0065 - accuracy: 1.0000\n",
            "Epoch 15/15\n",
            "4/4 [==============================] - 0s 2ms/step - loss: 0.0053 - accuracy: 1.0000\n"
          ],
          "name": "stdout"
        },
        {
          "output_type": "execute_result",
          "data": {
            "text/plain": [
              "<tensorflow.python.keras.callbacks.History at 0x7f0c04027be0>"
            ]
          },
          "metadata": {
            "tags": []
          },
          "execution_count": 10
        }
      ]
    },
    {
      "cell_type": "code",
      "metadata": {
        "id": "Q67KLcrgRiHI",
        "colab": {
          "base_uri": "https://localhost:8080/",
          "height": 68
        },
        "outputId": "44e8be41-f876-4b97-c55f-8939ac125966"
      },
      "source": [
        "# Вычисляем результаты сети на тестовом наборе\n",
        "scores = model.evaluate(x_test, y_test, verbose=1)\n",
        "\n",
        "# scores состоит из двух знанчений\n",
        "# scores[0] - loss сети на тестовой выборке\n",
        "# scores[1] - процент правильно распознанных примеров на тестовой выборке\n",
        "print(scores)\n",
        "print(\"Доля верных ответов на тестовых данных, в процентах: \", round(scores[1] * 100, 4), \"%\", sep=\"\")"
      ],
      "execution_count": null,
      "outputs": [
        {
          "output_type": "stream",
          "text": [
            "313/313 [==============================] - 1s 2ms/step - loss: 0.4829 - accuracy: 0.8872\n",
            "[0.48285189270973206, 0.8871999979019165]\n",
            "Доля верных ответов на тестовых данных, в процентах: 88.72%\n"
          ],
          "name": "stdout"
        }
      ]
    },
    {
      "cell_type": "markdown",
      "metadata": {
        "id": "RxZpaB-VSyUc"
      },
      "source": [
        "[Результаты  обобщены в таблице (см.model)](https://docs.google.com/spreadsheets/d/1SVXnS4zcKhqMv2ZH3apatqHwPedjAsHwOCULNaPk_pU/edit?usp=sharing)"
      ]
    },
    {
      "cell_type": "code",
      "metadata": {
        "id": "LMy_9vS4UqSP",
        "colab": {
          "base_uri": "https://localhost:8080/",
          "height": 867
        },
        "outputId": "b8c038af-4876-4408-87d1-03ed6cb039c9"
      },
      "source": [
        "# Сделаем еще 2 варианта сети протестируем их\n",
        "\n",
        "# Создаем сеть. Добавим два слоя Dropout.\n",
        "model_21 = Sequential()\n",
        "#полносвязный слой на 800 нейронов с relu-активацией\n",
        "model_21.add(Dense(800, input_dim=784, activation=\"relu\")) \n",
        "# Слой Dropout\n",
        "model_21.add(Dropout(0.3))  \n",
        "#полносвязный слой на 400 нейронов с relu-активацией\n",
        "model_21.add(Dense(400, activation=\"relu\")) \n",
        "# Слой Dropout\n",
        "model_21.add(Dropout(0.3))  \n",
        "#полносвязный слой на 10 нейронов с softmax-активацией\n",
        "model_21.add(Dense(10, activation=\"softmax\")) \n",
        "\n",
        "# Компиляция\n",
        "model_21.compile(loss=\"categorical_crossentropy\", optimizer=\"adam\", metrics=[\"accuracy\"]) \n",
        "# Структура модели\n",
        "print(model_21.summary())\n",
        "\n",
        "# Обучение нейронной сети методом fit\n",
        "model_21.fit(x_train, y_train, batch_size=128, epochs=15, verbose=1)"
      ],
      "execution_count": null,
      "outputs": [
        {
          "output_type": "stream",
          "text": [
            "Model: \"sequential_4\"\n",
            "_________________________________________________________________\n",
            "Layer (type)                 Output Shape              Param #   \n",
            "=================================================================\n",
            "dense_12 (Dense)             (None, 800)               628000    \n",
            "_________________________________________________________________\n",
            "dropout (Dropout)            (None, 800)               0         \n",
            "_________________________________________________________________\n",
            "dense_13 (Dense)             (None, 400)               320400    \n",
            "_________________________________________________________________\n",
            "dropout_1 (Dropout)          (None, 400)               0         \n",
            "_________________________________________________________________\n",
            "dense_14 (Dense)             (None, 10)                4010      \n",
            "=================================================================\n",
            "Total params: 952,410\n",
            "Trainable params: 952,410\n",
            "Non-trainable params: 0\n",
            "_________________________________________________________________\n",
            "None\n",
            "Epoch 1/15\n",
            "469/469 [==============================] - 1s 3ms/step - loss: 0.2560 - accuracy: 0.9218\n",
            "Epoch 2/15\n",
            "469/469 [==============================] - 1s 3ms/step - loss: 0.1087 - accuracy: 0.9663\n",
            "Epoch 3/15\n",
            "469/469 [==============================] - 1s 3ms/step - loss: 0.0803 - accuracy: 0.9743\n",
            "Epoch 4/15\n",
            "469/469 [==============================] - 1s 3ms/step - loss: 0.0634 - accuracy: 0.9798\n",
            "Epoch 5/15\n",
            "469/469 [==============================] - 1s 3ms/step - loss: 0.0536 - accuracy: 0.9832\n",
            "Epoch 6/15\n",
            "469/469 [==============================] - 1s 3ms/step - loss: 0.0429 - accuracy: 0.9862\n",
            "Epoch 7/15\n",
            "469/469 [==============================] - 1s 3ms/step - loss: 0.0408 - accuracy: 0.9865\n",
            "Epoch 8/15\n",
            "469/469 [==============================] - 1s 3ms/step - loss: 0.0368 - accuracy: 0.9881\n",
            "Epoch 9/15\n",
            "469/469 [==============================] - 1s 3ms/step - loss: 0.0334 - accuracy: 0.9887\n",
            "Epoch 10/15\n",
            "469/469 [==============================] - 1s 3ms/step - loss: 0.0308 - accuracy: 0.9901\n",
            "Epoch 11/15\n",
            "469/469 [==============================] - 1s 3ms/step - loss: 0.0295 - accuracy: 0.9902\n",
            "Epoch 12/15\n",
            "469/469 [==============================] - 1s 3ms/step - loss: 0.0270 - accuracy: 0.9909\n",
            "Epoch 13/15\n",
            "469/469 [==============================] - 1s 3ms/step - loss: 0.0273 - accuracy: 0.9912\n",
            "Epoch 14/15\n",
            "469/469 [==============================] - 1s 3ms/step - loss: 0.0237 - accuracy: 0.9920\n",
            "Epoch 15/15\n",
            "469/469 [==============================] - 1s 3ms/step - loss: 0.0236 - accuracy: 0.9924\n"
          ],
          "name": "stdout"
        },
        {
          "output_type": "execute_result",
          "data": {
            "text/plain": [
              "<tensorflow.python.keras.callbacks.History at 0x7f0bf46f8e48>"
            ]
          },
          "metadata": {
            "tags": []
          },
          "execution_count": 12
        }
      ]
    },
    {
      "cell_type": "code",
      "metadata": {
        "id": "D0f16sDYeTBm",
        "colab": {
          "base_uri": "https://localhost:8080/",
          "height": 68
        },
        "outputId": "23ef8870-f935-45d0-bda4-2192c1d50261"
      },
      "source": [
        "# Вычисляем результаты сети на тестовом наборе\n",
        "scores = model_21.evaluate(x_test, y_test, verbose=1)\n",
        "\n",
        "# scores состоит из двух знанчений\n",
        "# scores[0] - loss сети на тестовой выборке\n",
        "# scores[1] - процент правильно распознанных примеров на тестовой выборке\n",
        "print(scores)\n",
        "print(\"Доля верных ответов на тестовых данных, в процентах: \", round(scores[1] * 100, 4), \"%\", sep=\"\")"
      ],
      "execution_count": null,
      "outputs": [
        {
          "output_type": "stream",
          "text": [
            "313/313 [==============================] - 1s 2ms/step - loss: 0.0677 - accuracy: 0.9826\n",
            "[0.06773972511291504, 0.9825999736785889]\n",
            "Доля верных ответов на тестовых данных, в процентах: 98.26%\n"
          ],
          "name": "stdout"
        }
      ]
    },
    {
      "cell_type": "code",
      "metadata": {
        "id": "A7TUDuy1gaL9",
        "colab": {
          "base_uri": "https://localhost:8080/",
          "height": 867
        },
        "outputId": "7f5dd4b1-9b69-42a7-d573-67d5ac81f4fa"
      },
      "source": [
        "# Создаем еще вариант. Добавим два слоя BatchNormalization.\n",
        "\n",
        "model_22 = Sequential()\n",
        "#полносвязный слой на 800 нейронов с relu-активацией\n",
        "model_22.add(Dense(800, input_dim=784, activation=\"relu\")) \n",
        "# Слой BatchNormalization\n",
        "model_22.add(BatchNormalization())\n",
        "#полносвязный слой на 400 нейронов с relu-активацией\n",
        "model_22.add(Dense(400, activation=\"relu\")) \n",
        "# Слой BatchNormalization\n",
        "model_22.add(BatchNormalization())\n",
        "#полносвязный слой на 10 нейронов с softmax-активацией\n",
        "model_22.add(Dense(10, activation=\"softmax\")) \n",
        "\n",
        "# Компиляция\n",
        "model_22.compile(loss=\"categorical_crossentropy\", optimizer=\"adam\", metrics=[\"accuracy\"]) \n",
        "# Структура модели\n",
        "print(model_22.summary())\n",
        "\n",
        "# Обучение нейронной сети методом fit\n",
        "model_22.fit(x_train, y_train, batch_size=128, epochs=15, verbose=1)"
      ],
      "execution_count": null,
      "outputs": [
        {
          "output_type": "stream",
          "text": [
            "Model: \"sequential_5\"\n",
            "_________________________________________________________________\n",
            "Layer (type)                 Output Shape              Param #   \n",
            "=================================================================\n",
            "dense_15 (Dense)             (None, 800)               628000    \n",
            "_________________________________________________________________\n",
            "batch_normalization (BatchNo (None, 800)               3200      \n",
            "_________________________________________________________________\n",
            "dense_16 (Dense)             (None, 400)               320400    \n",
            "_________________________________________________________________\n",
            "batch_normalization_1 (Batch (None, 400)               1600      \n",
            "_________________________________________________________________\n",
            "dense_17 (Dense)             (None, 10)                4010      \n",
            "=================================================================\n",
            "Total params: 957,210\n",
            "Trainable params: 954,810\n",
            "Non-trainable params: 2,400\n",
            "_________________________________________________________________\n",
            "None\n",
            "Epoch 1/15\n",
            "469/469 [==============================] - 2s 4ms/step - loss: 0.1653 - accuracy: 0.9493\n",
            "Epoch 2/15\n",
            "469/469 [==============================] - 2s 4ms/step - loss: 0.0699 - accuracy: 0.9779\n",
            "Epoch 3/15\n",
            "469/469 [==============================] - 2s 4ms/step - loss: 0.0436 - accuracy: 0.9859\n",
            "Epoch 4/15\n",
            "469/469 [==============================] - 2s 4ms/step - loss: 0.0352 - accuracy: 0.9883\n",
            "Epoch 5/15\n",
            "469/469 [==============================] - 2s 4ms/step - loss: 0.0285 - accuracy: 0.9905\n",
            "Epoch 6/15\n",
            "469/469 [==============================] - 2s 4ms/step - loss: 0.0249 - accuracy: 0.9917\n",
            "Epoch 7/15\n",
            "469/469 [==============================] - 2s 4ms/step - loss: 0.0200 - accuracy: 0.9934\n",
            "Epoch 8/15\n",
            "469/469 [==============================] - 2s 4ms/step - loss: 0.0171 - accuracy: 0.9938\n",
            "Epoch 9/15\n",
            "469/469 [==============================] - 2s 4ms/step - loss: 0.0159 - accuracy: 0.9947\n",
            "Epoch 10/15\n",
            "469/469 [==============================] - 2s 3ms/step - loss: 0.0167 - accuracy: 0.9943\n",
            "Epoch 11/15\n",
            "469/469 [==============================] - 2s 3ms/step - loss: 0.0138 - accuracy: 0.9952\n",
            "Epoch 12/15\n",
            "469/469 [==============================] - 2s 4ms/step - loss: 0.0136 - accuracy: 0.9953\n",
            "Epoch 13/15\n",
            "469/469 [==============================] - 2s 4ms/step - loss: 0.0108 - accuracy: 0.9965\n",
            "Epoch 14/15\n",
            "469/469 [==============================] - 2s 4ms/step - loss: 0.0111 - accuracy: 0.9960\n",
            "Epoch 15/15\n",
            "469/469 [==============================] - 2s 4ms/step - loss: 0.0120 - accuracy: 0.9959\n"
          ],
          "name": "stdout"
        },
        {
          "output_type": "execute_result",
          "data": {
            "text/plain": [
              "<tensorflow.python.keras.callbacks.History at 0x7f0bf4500668>"
            ]
          },
          "metadata": {
            "tags": []
          },
          "execution_count": 14
        }
      ]
    },
    {
      "cell_type": "code",
      "metadata": {
        "id": "wohUe903h0O2",
        "colab": {
          "base_uri": "https://localhost:8080/",
          "height": 68
        },
        "outputId": "22061ca5-a101-4c24-a2a9-e7232c4ea93f"
      },
      "source": [
        "# Вычисляем результаты сети на тестовом наборе\n",
        "scores = model_22.evaluate(x_test, y_test, verbose=1)\n",
        "\n",
        "# scores состоит из двух знанчений\n",
        "# scores[0] - loss сети на тестовой выборке\n",
        "# scores[1] - процент правильно распознанных примеров на тестовой выборке\n",
        "print(scores)\n",
        "print(\"Доля верных ответов на тестовых данных, в процентах: \", round(scores[1] * 100, 4), \"%\", sep=\"\")"
      ],
      "execution_count": null,
      "outputs": [
        {
          "output_type": "stream",
          "text": [
            "313/313 [==============================] - 1s 2ms/step - loss: 0.0964 - accuracy: 0.9782\n",
            "[0.0963997095823288, 0.9782000184059143]\n",
            "Доля верных ответов на тестовых данных, в процентах: 97.82%\n"
          ],
          "name": "stdout"
        }
      ]
    },
    {
      "cell_type": "markdown",
      "metadata": {
        "id": "veB4Ww4LiEsS"
      },
      "source": [
        "[Результаты  обобщены в таблице (см.model_21 и model_22)](https://docs.google.com/spreadsheets/d/1SVXnS4zcKhqMv2ZH3apatqHwPedjAsHwOCULNaPk_pU/edit?usp=sharing)"
      ]
    },
    {
      "cell_type": "code",
      "metadata": {
        "id": "PwpEjY4YjXca",
        "colab": {
          "base_uri": "https://localhost:8080/",
          "height": 1000
        },
        "outputId": "926cc78b-a162-4f40-ddd2-8d27cad9dcf0"
      },
      "source": [
        "# Создадим сеть следующей архитектуры: 4 Dense слоя, 3 Dropout слоя 3 BatchNormalization слоя\n",
        "\n",
        "model_3 = Sequential()\n",
        "#полносвязный слой на 800 нейронов с relu-активацией\n",
        "model_3.add(Dense(800, input_dim=784, activation=\"relu\")) \n",
        "# Слой BatchNormalization\n",
        "model_3.add(BatchNormalization())\n",
        "# Слой Dropout\n",
        "model_3.add(Dropout(0.3))\n",
        "#полносвязный слой на 400 нейронов с relu-активацией\n",
        "model_3.add(Dense(400, activation=\"relu\")) \n",
        "# Слой BatchNormalization\n",
        "model_3.add(BatchNormalization())\n",
        "# Слой Dropout\n",
        "model_3.add(Dropout(0.3))\n",
        "#полносвязный слой на 800 нейронов с relu-активацией\n",
        "model_3.add(Dense(800, input_dim=784, activation=\"relu\")) \n",
        "# Слой BatchNormalization\n",
        "model_3.add(BatchNormalization())\n",
        "# Слой Dropout\n",
        "model_3.add(Dropout(0.3))\n",
        "#полносвязный слой на 400 нейронов с relu-активацией\n",
        "model_3.add(Dense(400, activation=\"relu\")) \n",
        "#полносвязный слой на 10 нейронов с softmax-активацией\n",
        "model_3.add(Dense(10, activation=\"softmax\")) \n",
        "\n",
        "# Компиляция\n",
        "model_3.compile(loss=\"categorical_crossentropy\", optimizer=\"adam\", metrics=[\"accuracy\"]) \n",
        "# Структура модели\n",
        "print(model_3.summary())\n",
        "\n",
        "# Обучение нейронной сети методом fit\n",
        "model_3.fit(x_train, y_train, batch_size=128, epochs=15, verbose=1)"
      ],
      "execution_count": null,
      "outputs": [
        {
          "output_type": "stream",
          "text": [
            "Model: \"sequential_6\"\n",
            "_________________________________________________________________\n",
            "Layer (type)                 Output Shape              Param #   \n",
            "=================================================================\n",
            "dense_18 (Dense)             (None, 800)               628000    \n",
            "_________________________________________________________________\n",
            "batch_normalization_2 (Batch (None, 800)               3200      \n",
            "_________________________________________________________________\n",
            "dropout_2 (Dropout)          (None, 800)               0         \n",
            "_________________________________________________________________\n",
            "dense_19 (Dense)             (None, 400)               320400    \n",
            "_________________________________________________________________\n",
            "batch_normalization_3 (Batch (None, 400)               1600      \n",
            "_________________________________________________________________\n",
            "dropout_3 (Dropout)          (None, 400)               0         \n",
            "_________________________________________________________________\n",
            "dense_20 (Dense)             (None, 800)               320800    \n",
            "_________________________________________________________________\n",
            "batch_normalization_4 (Batch (None, 800)               3200      \n",
            "_________________________________________________________________\n",
            "dropout_4 (Dropout)          (None, 800)               0         \n",
            "_________________________________________________________________\n",
            "dense_21 (Dense)             (None, 400)               320400    \n",
            "_________________________________________________________________\n",
            "dense_22 (Dense)             (None, 10)                4010      \n",
            "=================================================================\n",
            "Total params: 1,601,610\n",
            "Trainable params: 1,597,610\n",
            "Non-trainable params: 4,000\n",
            "_________________________________________________________________\n",
            "None\n",
            "Epoch 1/15\n",
            "469/469 [==============================] - 2s 4ms/step - loss: 0.2766 - accuracy: 0.9165\n",
            "Epoch 2/15\n",
            "469/469 [==============================] - 2s 5ms/step - loss: 0.1400 - accuracy: 0.9576\n",
            "Epoch 3/15\n",
            "469/469 [==============================] - 2s 5ms/step - loss: 0.1118 - accuracy: 0.9656\n",
            "Epoch 4/15\n",
            "469/469 [==============================] - 2s 4ms/step - loss: 0.0911 - accuracy: 0.9717\n",
            "Epoch 5/15\n",
            "469/469 [==============================] - 2s 4ms/step - loss: 0.0801 - accuracy: 0.9747\n",
            "Epoch 6/15\n",
            "469/469 [==============================] - 2s 5ms/step - loss: 0.0740 - accuracy: 0.9766\n",
            "Epoch 7/15\n",
            "469/469 [==============================] - 2s 4ms/step - loss: 0.0675 - accuracy: 0.9787\n",
            "Epoch 8/15\n",
            "469/469 [==============================] - 2s 4ms/step - loss: 0.0652 - accuracy: 0.9797\n",
            "Epoch 9/15\n",
            "469/469 [==============================] - 2s 4ms/step - loss: 0.0584 - accuracy: 0.9809\n",
            "Epoch 10/15\n",
            "469/469 [==============================] - 2s 4ms/step - loss: 0.0548 - accuracy: 0.9829\n",
            "Epoch 11/15\n",
            "469/469 [==============================] - 2s 4ms/step - loss: 0.0512 - accuracy: 0.9838\n",
            "Epoch 12/15\n",
            "469/469 [==============================] - 2s 4ms/step - loss: 0.0491 - accuracy: 0.9838\n",
            "Epoch 13/15\n",
            "469/469 [==============================] - 2s 5ms/step - loss: 0.0457 - accuracy: 0.9851\n",
            "Epoch 14/15\n",
            "469/469 [==============================] - 2s 5ms/step - loss: 0.0447 - accuracy: 0.9858\n",
            "Epoch 15/15\n",
            "469/469 [==============================] - 2s 5ms/step - loss: 0.0400 - accuracy: 0.9870\n"
          ],
          "name": "stdout"
        },
        {
          "output_type": "execute_result",
          "data": {
            "text/plain": [
              "<tensorflow.python.keras.callbacks.History at 0x7f0c502fe898>"
            ]
          },
          "metadata": {
            "tags": []
          },
          "execution_count": 16
        }
      ]
    },
    {
      "cell_type": "code",
      "metadata": {
        "id": "UQ2je94hj6Jh",
        "colab": {
          "base_uri": "https://localhost:8080/",
          "height": 68
        },
        "outputId": "2094b6b4-a7e0-43d4-c572-69e8f82c9f90"
      },
      "source": [
        "# Вычисляем результаты сети на тестовом наборе\n",
        "scores = model_3.evaluate(x_test, y_test, verbose=1)\n",
        "\n",
        "# scores состоит из двух знанчений\n",
        "# scores[0] - loss сети на тестовой выборке\n",
        "# scores[1] - процент правильно распознанных примеров на тестовой выборке\n",
        "print(scores)\n",
        "print(\"Доля верных ответов на тестовых данных, в процентах: \", round(scores[1] * 100, 4), \"%\", sep=\"\")"
      ],
      "execution_count": null,
      "outputs": [
        {
          "output_type": "stream",
          "text": [
            "313/313 [==============================] - 1s 2ms/step - loss: 0.0624 - accuracy: 0.9838\n",
            "[0.06240004301071167, 0.9837999939918518]\n",
            "Доля верных ответов на тестовых данных, в процентах: 98.38%\n"
          ],
          "name": "stdout"
        }
      ]
    },
    {
      "cell_type": "markdown",
      "metadata": {
        "id": "rJj733Wlj7Vc"
      },
      "source": [
        "[Результаты  обобщены в таблице (см.model_3)](https://docs.google.com/spreadsheets/d/1SVXnS4zcKhqMv2ZH3apatqHwPedjAsHwOCULNaPk_pU/edit?usp=sharing)"
      ]
    },
    {
      "cell_type": "markdown",
      "metadata": {
        "id": "0YI0u3bOnaF1"
      },
      "source": [
        "#PRO#\n",
        "\n",
        "*Вариант 1*\n",
        "\n",
        "\n",
        "Повысьте точность модели по обнаружению мин до 90 % на тестовой выборке. Можно использовать\n",
        "различные варианты слоев Dropout и BatchNormalization. Можно менять количество примеров в\n",
        "обучающей и проверочной выборках, но нельзя менять количество примеров в тестовой.\n",
        "\n"
      ]
    },
    {
      "cell_type": "code",
      "metadata": {
        "id": "FaAE79KMoIvM",
        "colab": {
          "resources": {
            "http://localhost:8080/nbextensions/google.colab/files.js": {
              "data": "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",
              "ok": true,
              "headers": [
                [
                  "content-type",
                  "application/javascript"
                ]
              ],
              "status": 200,
              "status_text": ""
            }
          },
          "base_uri": "https://localhost:8080/",
          "height": 89
        },
        "outputId": "384b6831-cb25-49f1-fd91-c8cb38d35378"
      },
      "source": [
        "# Повторим модель по обнаружению  мин из вебинара\n",
        "\n",
        "# Загружаем файл sonar\n",
        "files.upload()\n",
        "!ls # Выводим содержимое корневой папки"
      ],
      "execution_count": null,
      "outputs": [
        {
          "output_type": "display_data",
          "data": {
            "text/html": [
              "\n",
              "     <input type=\"file\" id=\"files-a1322699-693a-49c7-b007-453a4736047a\" name=\"files[]\" multiple disabled\n",
              "        style=\"border:none\" />\n",
              "     <output id=\"result-a1322699-693a-49c7-b007-453a4736047a\">\n",
              "      Upload widget is only available when the cell has been executed in the\n",
              "      current browser session. Please rerun this cell to enable.\n",
              "      </output>\n",
              "      <script src=\"/nbextensions/google.colab/files.js\"></script> "
            ],
            "text/plain": [
              "<IPython.core.display.HTML object>"
            ]
          },
          "metadata": {
            "tags": []
          }
        },
        {
          "output_type": "stream",
          "text": [
            "Saving sonar.csv to sonar.csv\n",
            "sample_data  sonar.csv\n"
          ],
          "name": "stdout"
        }
      ]
    },
    {
      "cell_type": "code",
      "metadata": {
        "id": "ygsbfJO4oy23",
        "colab": {
          "base_uri": "https://localhost:8080/",
          "height": 224
        },
        "outputId": "fcf8cee5-2204-4b78-e98d-a3f36dd7ba53"
      },
      "source": [
        "# Загружаем данные из файла sonar.csv\n",
        "df = pd.read_csv(\"sonar.csv\", header=None)  \n",
        "df.head()  "
      ],
      "execution_count": null,
      "outputs": [
        {
          "output_type": "execute_result",
          "data": {
            "text/html": [
              "<div>\n",
              "<style scoped>\n",
              "    .dataframe tbody tr th:only-of-type {\n",
              "        vertical-align: middle;\n",
              "    }\n",
              "\n",
              "    .dataframe tbody tr th {\n",
              "        vertical-align: top;\n",
              "    }\n",
              "\n",
              "    .dataframe thead th {\n",
              "        text-align: right;\n",
              "    }\n",
              "</style>\n",
              "<table border=\"1\" class=\"dataframe\">\n",
              "  <thead>\n",
              "    <tr style=\"text-align: right;\">\n",
              "      <th></th>\n",
              "      <th>0</th>\n",
              "      <th>1</th>\n",
              "      <th>2</th>\n",
              "      <th>3</th>\n",
              "      <th>4</th>\n",
              "      <th>5</th>\n",
              "      <th>6</th>\n",
              "      <th>7</th>\n",
              "      <th>8</th>\n",
              "      <th>9</th>\n",
              "      <th>10</th>\n",
              "      <th>11</th>\n",
              "      <th>12</th>\n",
              "      <th>13</th>\n",
              "      <th>14</th>\n",
              "      <th>15</th>\n",
              "      <th>16</th>\n",
              "      <th>17</th>\n",
              "      <th>18</th>\n",
              "      <th>19</th>\n",
              "      <th>20</th>\n",
              "      <th>21</th>\n",
              "      <th>22</th>\n",
              "      <th>23</th>\n",
              "      <th>24</th>\n",
              "      <th>25</th>\n",
              "      <th>26</th>\n",
              "      <th>27</th>\n",
              "      <th>28</th>\n",
              "      <th>29</th>\n",
              "      <th>30</th>\n",
              "      <th>31</th>\n",
              "      <th>32</th>\n",
              "      <th>33</th>\n",
              "      <th>34</th>\n",
              "      <th>35</th>\n",
              "      <th>36</th>\n",
              "      <th>37</th>\n",
              "      <th>38</th>\n",
              "      <th>39</th>\n",
              "      <th>40</th>\n",
              "      <th>41</th>\n",
              "      <th>42</th>\n",
              "      <th>43</th>\n",
              "      <th>44</th>\n",
              "      <th>45</th>\n",
              "      <th>46</th>\n",
              "      <th>47</th>\n",
              "      <th>48</th>\n",
              "      <th>49</th>\n",
              "      <th>50</th>\n",
              "      <th>51</th>\n",
              "      <th>52</th>\n",
              "      <th>53</th>\n",
              "      <th>54</th>\n",
              "      <th>55</th>\n",
              "      <th>56</th>\n",
              "      <th>57</th>\n",
              "      <th>58</th>\n",
              "      <th>59</th>\n",
              "      <th>60</th>\n",
              "    </tr>\n",
              "  </thead>\n",
              "  <tbody>\n",
              "    <tr>\n",
              "      <th>0</th>\n",
              "      <td>0.0200</td>\n",
              "      <td>0.0371</td>\n",
              "      <td>0.0428</td>\n",
              "      <td>0.0207</td>\n",
              "      <td>0.0954</td>\n",
              "      <td>0.0986</td>\n",
              "      <td>0.1539</td>\n",
              "      <td>0.1601</td>\n",
              "      <td>0.3109</td>\n",
              "      <td>0.2111</td>\n",
              "      <td>0.1609</td>\n",
              "      <td>0.1582</td>\n",
              "      <td>0.2238</td>\n",
              "      <td>0.0645</td>\n",
              "      <td>0.0660</td>\n",
              "      <td>0.2273</td>\n",
              "      <td>0.3100</td>\n",
              "      <td>0.2999</td>\n",
              "      <td>0.5078</td>\n",
              "      <td>0.4797</td>\n",
              "      <td>0.5783</td>\n",
              "      <td>0.5071</td>\n",
              "      <td>0.4328</td>\n",
              "      <td>0.5550</td>\n",
              "      <td>0.6711</td>\n",
              "      <td>0.6415</td>\n",
              "      <td>0.7104</td>\n",
              "      <td>0.8080</td>\n",
              "      <td>0.6791</td>\n",
              "      <td>0.3857</td>\n",
              "      <td>0.1307</td>\n",
              "      <td>0.2604</td>\n",
              "      <td>0.5121</td>\n",
              "      <td>0.7547</td>\n",
              "      <td>0.8537</td>\n",
              "      <td>0.8507</td>\n",
              "      <td>0.6692</td>\n",
              "      <td>0.6097</td>\n",
              "      <td>0.4943</td>\n",
              "      <td>0.2744</td>\n",
              "      <td>0.0510</td>\n",
              "      <td>0.2834</td>\n",
              "      <td>0.2825</td>\n",
              "      <td>0.4256</td>\n",
              "      <td>0.2641</td>\n",
              "      <td>0.1386</td>\n",
              "      <td>0.1051</td>\n",
              "      <td>0.1343</td>\n",
              "      <td>0.0383</td>\n",
              "      <td>0.0324</td>\n",
              "      <td>0.0232</td>\n",
              "      <td>0.0027</td>\n",
              "      <td>0.0065</td>\n",
              "      <td>0.0159</td>\n",
              "      <td>0.0072</td>\n",
              "      <td>0.0167</td>\n",
              "      <td>0.0180</td>\n",
              "      <td>0.0084</td>\n",
              "      <td>0.0090</td>\n",
              "      <td>0.0032</td>\n",
              "      <td>R</td>\n",
              "    </tr>\n",
              "    <tr>\n",
              "      <th>1</th>\n",
              "      <td>0.0453</td>\n",
              "      <td>0.0523</td>\n",
              "      <td>0.0843</td>\n",
              "      <td>0.0689</td>\n",
              "      <td>0.1183</td>\n",
              "      <td>0.2583</td>\n",
              "      <td>0.2156</td>\n",
              "      <td>0.3481</td>\n",
              "      <td>0.3337</td>\n",
              "      <td>0.2872</td>\n",
              "      <td>0.4918</td>\n",
              "      <td>0.6552</td>\n",
              "      <td>0.6919</td>\n",
              "      <td>0.7797</td>\n",
              "      <td>0.7464</td>\n",
              "      <td>0.9444</td>\n",
              "      <td>1.0000</td>\n",
              "      <td>0.8874</td>\n",
              "      <td>0.8024</td>\n",
              "      <td>0.7818</td>\n",
              "      <td>0.5212</td>\n",
              "      <td>0.4052</td>\n",
              "      <td>0.3957</td>\n",
              "      <td>0.3914</td>\n",
              "      <td>0.3250</td>\n",
              "      <td>0.3200</td>\n",
              "      <td>0.3271</td>\n",
              "      <td>0.2767</td>\n",
              "      <td>0.4423</td>\n",
              "      <td>0.2028</td>\n",
              "      <td>0.3788</td>\n",
              "      <td>0.2947</td>\n",
              "      <td>0.1984</td>\n",
              "      <td>0.2341</td>\n",
              "      <td>0.1306</td>\n",
              "      <td>0.4182</td>\n",
              "      <td>0.3835</td>\n",
              "      <td>0.1057</td>\n",
              "      <td>0.1840</td>\n",
              "      <td>0.1970</td>\n",
              "      <td>0.1674</td>\n",
              "      <td>0.0583</td>\n",
              "      <td>0.1401</td>\n",
              "      <td>0.1628</td>\n",
              "      <td>0.0621</td>\n",
              "      <td>0.0203</td>\n",
              "      <td>0.0530</td>\n",
              "      <td>0.0742</td>\n",
              "      <td>0.0409</td>\n",
              "      <td>0.0061</td>\n",
              "      <td>0.0125</td>\n",
              "      <td>0.0084</td>\n",
              "      <td>0.0089</td>\n",
              "      <td>0.0048</td>\n",
              "      <td>0.0094</td>\n",
              "      <td>0.0191</td>\n",
              "      <td>0.0140</td>\n",
              "      <td>0.0049</td>\n",
              "      <td>0.0052</td>\n",
              "      <td>0.0044</td>\n",
              "      <td>R</td>\n",
              "    </tr>\n",
              "    <tr>\n",
              "      <th>2</th>\n",
              "      <td>0.0262</td>\n",
              "      <td>0.0582</td>\n",
              "      <td>0.1099</td>\n",
              "      <td>0.1083</td>\n",
              "      <td>0.0974</td>\n",
              "      <td>0.2280</td>\n",
              "      <td>0.2431</td>\n",
              "      <td>0.3771</td>\n",
              "      <td>0.5598</td>\n",
              "      <td>0.6194</td>\n",
              "      <td>0.6333</td>\n",
              "      <td>0.7060</td>\n",
              "      <td>0.5544</td>\n",
              "      <td>0.5320</td>\n",
              "      <td>0.6479</td>\n",
              "      <td>0.6931</td>\n",
              "      <td>0.6759</td>\n",
              "      <td>0.7551</td>\n",
              "      <td>0.8929</td>\n",
              "      <td>0.8619</td>\n",
              "      <td>0.7974</td>\n",
              "      <td>0.6737</td>\n",
              "      <td>0.4293</td>\n",
              "      <td>0.3648</td>\n",
              "      <td>0.5331</td>\n",
              "      <td>0.2413</td>\n",
              "      <td>0.5070</td>\n",
              "      <td>0.8533</td>\n",
              "      <td>0.6036</td>\n",
              "      <td>0.8514</td>\n",
              "      <td>0.8512</td>\n",
              "      <td>0.5045</td>\n",
              "      <td>0.1862</td>\n",
              "      <td>0.2709</td>\n",
              "      <td>0.4232</td>\n",
              "      <td>0.3043</td>\n",
              "      <td>0.6116</td>\n",
              "      <td>0.6756</td>\n",
              "      <td>0.5375</td>\n",
              "      <td>0.4719</td>\n",
              "      <td>0.4647</td>\n",
              "      <td>0.2587</td>\n",
              "      <td>0.2129</td>\n",
              "      <td>0.2222</td>\n",
              "      <td>0.2111</td>\n",
              "      <td>0.0176</td>\n",
              "      <td>0.1348</td>\n",
              "      <td>0.0744</td>\n",
              "      <td>0.0130</td>\n",
              "      <td>0.0106</td>\n",
              "      <td>0.0033</td>\n",
              "      <td>0.0232</td>\n",
              "      <td>0.0166</td>\n",
              "      <td>0.0095</td>\n",
              "      <td>0.0180</td>\n",
              "      <td>0.0244</td>\n",
              "      <td>0.0316</td>\n",
              "      <td>0.0164</td>\n",
              "      <td>0.0095</td>\n",
              "      <td>0.0078</td>\n",
              "      <td>R</td>\n",
              "    </tr>\n",
              "    <tr>\n",
              "      <th>3</th>\n",
              "      <td>0.0100</td>\n",
              "      <td>0.0171</td>\n",
              "      <td>0.0623</td>\n",
              "      <td>0.0205</td>\n",
              "      <td>0.0205</td>\n",
              "      <td>0.0368</td>\n",
              "      <td>0.1098</td>\n",
              "      <td>0.1276</td>\n",
              "      <td>0.0598</td>\n",
              "      <td>0.1264</td>\n",
              "      <td>0.0881</td>\n",
              "      <td>0.1992</td>\n",
              "      <td>0.0184</td>\n",
              "      <td>0.2261</td>\n",
              "      <td>0.1729</td>\n",
              "      <td>0.2131</td>\n",
              "      <td>0.0693</td>\n",
              "      <td>0.2281</td>\n",
              "      <td>0.4060</td>\n",
              "      <td>0.3973</td>\n",
              "      <td>0.2741</td>\n",
              "      <td>0.3690</td>\n",
              "      <td>0.5556</td>\n",
              "      <td>0.4846</td>\n",
              "      <td>0.3140</td>\n",
              "      <td>0.5334</td>\n",
              "      <td>0.5256</td>\n",
              "      <td>0.2520</td>\n",
              "      <td>0.2090</td>\n",
              "      <td>0.3559</td>\n",
              "      <td>0.6260</td>\n",
              "      <td>0.7340</td>\n",
              "      <td>0.6120</td>\n",
              "      <td>0.3497</td>\n",
              "      <td>0.3953</td>\n",
              "      <td>0.3012</td>\n",
              "      <td>0.5408</td>\n",
              "      <td>0.8814</td>\n",
              "      <td>0.9857</td>\n",
              "      <td>0.9167</td>\n",
              "      <td>0.6121</td>\n",
              "      <td>0.5006</td>\n",
              "      <td>0.3210</td>\n",
              "      <td>0.3202</td>\n",
              "      <td>0.4295</td>\n",
              "      <td>0.3654</td>\n",
              "      <td>0.2655</td>\n",
              "      <td>0.1576</td>\n",
              "      <td>0.0681</td>\n",
              "      <td>0.0294</td>\n",
              "      <td>0.0241</td>\n",
              "      <td>0.0121</td>\n",
              "      <td>0.0036</td>\n",
              "      <td>0.0150</td>\n",
              "      <td>0.0085</td>\n",
              "      <td>0.0073</td>\n",
              "      <td>0.0050</td>\n",
              "      <td>0.0044</td>\n",
              "      <td>0.0040</td>\n",
              "      <td>0.0117</td>\n",
              "      <td>R</td>\n",
              "    </tr>\n",
              "    <tr>\n",
              "      <th>4</th>\n",
              "      <td>0.0762</td>\n",
              "      <td>0.0666</td>\n",
              "      <td>0.0481</td>\n",
              "      <td>0.0394</td>\n",
              "      <td>0.0590</td>\n",
              "      <td>0.0649</td>\n",
              "      <td>0.1209</td>\n",
              "      <td>0.2467</td>\n",
              "      <td>0.3564</td>\n",
              "      <td>0.4459</td>\n",
              "      <td>0.4152</td>\n",
              "      <td>0.3952</td>\n",
              "      <td>0.4256</td>\n",
              "      <td>0.4135</td>\n",
              "      <td>0.4528</td>\n",
              "      <td>0.5326</td>\n",
              "      <td>0.7306</td>\n",
              "      <td>0.6193</td>\n",
              "      <td>0.2032</td>\n",
              "      <td>0.4636</td>\n",
              "      <td>0.4148</td>\n",
              "      <td>0.4292</td>\n",
              "      <td>0.5730</td>\n",
              "      <td>0.5399</td>\n",
              "      <td>0.3161</td>\n",
              "      <td>0.2285</td>\n",
              "      <td>0.6995</td>\n",
              "      <td>1.0000</td>\n",
              "      <td>0.7262</td>\n",
              "      <td>0.4724</td>\n",
              "      <td>0.5103</td>\n",
              "      <td>0.5459</td>\n",
              "      <td>0.2881</td>\n",
              "      <td>0.0981</td>\n",
              "      <td>0.1951</td>\n",
              "      <td>0.4181</td>\n",
              "      <td>0.4604</td>\n",
              "      <td>0.3217</td>\n",
              "      <td>0.2828</td>\n",
              "      <td>0.2430</td>\n",
              "      <td>0.1979</td>\n",
              "      <td>0.2444</td>\n",
              "      <td>0.1847</td>\n",
              "      <td>0.0841</td>\n",
              "      <td>0.0692</td>\n",
              "      <td>0.0528</td>\n",
              "      <td>0.0357</td>\n",
              "      <td>0.0085</td>\n",
              "      <td>0.0230</td>\n",
              "      <td>0.0046</td>\n",
              "      <td>0.0156</td>\n",
              "      <td>0.0031</td>\n",
              "      <td>0.0054</td>\n",
              "      <td>0.0105</td>\n",
              "      <td>0.0110</td>\n",
              "      <td>0.0015</td>\n",
              "      <td>0.0072</td>\n",
              "      <td>0.0048</td>\n",
              "      <td>0.0107</td>\n",
              "      <td>0.0094</td>\n",
              "      <td>R</td>\n",
              "    </tr>\n",
              "  </tbody>\n",
              "</table>\n",
              "</div>"
            ],
            "text/plain": [
              "       0       1       2       3       4   ...      56      57      58      59  60\n",
              "0  0.0200  0.0371  0.0428  0.0207  0.0954  ...  0.0180  0.0084  0.0090  0.0032   R\n",
              "1  0.0453  0.0523  0.0843  0.0689  0.1183  ...  0.0140  0.0049  0.0052  0.0044   R\n",
              "2  0.0262  0.0582  0.1099  0.1083  0.0974  ...  0.0316  0.0164  0.0095  0.0078   R\n",
              "3  0.0100  0.0171  0.0623  0.0205  0.0205  ...  0.0050  0.0044  0.0040  0.0117   R\n",
              "4  0.0762  0.0666  0.0481  0.0394  0.0590  ...  0.0072  0.0048  0.0107  0.0094   R\n",
              "\n",
              "[5 rows x 61 columns]"
            ]
          },
          "metadata": {
            "tags": []
          },
          "execution_count": 3
        }
      ]
    },
    {
      "cell_type": "code",
      "metadata": {
        "id": "B0xH_JoBo-Mv",
        "colab": {
          "base_uri": "https://localhost:8080/",
          "height": 34
        },
        "outputId": "4a4f2ff3-540a-4de6-9195-0fed0aa928c6"
      },
      "source": [
        "print(df.shape) # Размерность исходных данных"
      ],
      "execution_count": null,
      "outputs": [
        {
          "output_type": "stream",
          "text": [
            "(208, 61)\n"
          ],
          "name": "stdout"
        }
      ]
    },
    {
      "cell_type": "code",
      "metadata": {
        "id": "Jc1GOJUZpTzY",
        "colab": {
          "base_uri": "https://localhost:8080/",
          "height": 153
        },
        "outputId": "c4d02f55-330d-4d05-c421-91f84f3f16a3"
      },
      "source": [
        "dataset = df.values                 # Берем только значения массива(без индексов)\n",
        "X = dataset[:,0:60].astype(float)   # Присваиваем им тип данных - float(с плавающей точкой) данным с 0 по 60 колонки\n",
        "Y = dataset[:,60]                   # Присваеваем значению Y данные из столбца с индексом 60\n",
        "Y[Y=='R']='0'                       # Если значение элемента столбца равно 'R', присваеваем ему значение '0'\n",
        "Y[Y=='M']='1'                       # Если значение элемента столбца равно 'Y', присваеваем ему значение '1'\n",
        "Y = Y.astype(int)                   # Меняем тип данных столбца на 'int'(целочисленный тип данных)\n",
        "print(X.shape)                      # Выводим размерность X\n",
        "print(Y.shape)                      # Выводим размерность Y\n",
        "print(Y)                            "
      ],
      "execution_count": null,
      "outputs": [
        {
          "output_type": "stream",
          "text": [
            "(208, 60)\n",
            "(208,)\n",
            "[0 0 0 0 0 0 0 0 0 0 0 0 0 0 0 0 0 0 0 0 0 0 0 0 0 0 0 0 0 0 0 0 0 0 0 0 0\n",
            " 0 0 0 0 0 0 0 0 0 0 0 0 0 0 0 0 0 0 0 0 0 0 0 0 0 0 0 0 0 0 0 0 0 0 0 0 0\n",
            " 0 0 0 0 0 0 0 0 0 0 0 0 0 0 0 0 0 0 0 0 0 0 0 1 1 1 1 1 1 1 1 1 1 1 1 1 1\n",
            " 1 1 1 1 1 1 1 1 1 1 1 1 1 1 1 1 1 1 1 1 1 1 1 1 1 1 1 1 1 1 1 1 1 1 1 1 1\n",
            " 1 1 1 1 1 1 1 1 1 1 1 1 1 1 1 1 1 1 1 1 1 1 1 1 1 1 1 1 1 1 1 1 1 1 1 1 1\n",
            " 1 1 1 1 1 1 1 1 1 1 1 1 1 1 1 1 1 1 1 1 1 1 1]\n"
          ],
          "name": "stdout"
        }
      ]
    },
    {
      "cell_type": "code",
      "metadata": {
        "id": "rl_6AZmFplXE",
        "colab": {
          "base_uri": "https://localhost:8080/",
          "height": 85
        },
        "outputId": "a3b32bcb-f3c6-4c82-c994-938f3a6bb596"
      },
      "source": [
        "#Выделим тестовую выборку\n",
        "\n",
        "# test_size=0.2 - будет выделено 20% от тренировочных данных \n",
        "# shuffle=True - перемешать данные\n",
        "# x_train - данные для обучения\n",
        "# x_test - данные для проверки\n",
        "# y_train - правильные ответы для обучения\n",
        "# y_test - правильные ответы для проверки\n",
        "x_train, x_test, y_train, y_test = train_test_split(X, Y, test_size=0.2, shuffle=True)    \n",
        "print (x_train.shape)\n",
        "print (x_test.shape)\n",
        "print (y_train.shape)\n",
        "print (y_test.shape)"
      ],
      "execution_count": null,
      "outputs": [
        {
          "output_type": "stream",
          "text": [
            "(166, 60)\n",
            "(42, 60)\n",
            "(166,)\n",
            "(42,)\n"
          ],
          "name": "stdout"
        }
      ]
    },
    {
      "cell_type": "code",
      "metadata": {
        "id": "DEzVu2NFrEs4",
        "colab": {
          "base_uri": "https://localhost:8080/",
          "height": 1000
        },
        "outputId": "764abb72-f868-49b7-b16c-ff7f1206cc0b"
      },
      "source": [
        "# Создаем сеть\n",
        "model = Sequential()\n",
        "\n",
        "# Добавляем слои\n",
        "model.add(Dense(60, input_dim=60, activation='relu'))\n",
        "model.add(Dense(30,  activation='relu'))\n",
        "model.add(Dense(1, activation='sigmoid'))\n",
        "\n",
        "# Компилируем сеть\n",
        "model.compile(loss='binary_crossentropy', optimizer=Adam(lr=0.001), metrics=['accuracy'])\n",
        "\n",
        "# Обучаем сеть\n",
        "model.fit(x_train,         \n",
        "          y_train,         \n",
        "          batch_size=8,    # Размер батча\n",
        "          epochs=100,      # Количество эпох\n",
        "          verbose=1)       # Выводить процесс обучения на каждой эпохе\n",
        "\n",
        "          "
      ],
      "execution_count": null,
      "outputs": [
        {
          "output_type": "stream",
          "text": [
            "Epoch 1/100\n",
            "21/21 [==============================] - 0s 3ms/step - loss: 0.6940 - accuracy: 0.5181\n",
            "Epoch 2/100\n",
            "21/21 [==============================] - 0s 3ms/step - loss: 0.6565 - accuracy: 0.6867\n",
            "Epoch 3/100\n",
            "21/21 [==============================] - 0s 3ms/step - loss: 0.6347 - accuracy: 0.6867\n",
            "Epoch 4/100\n",
            "21/21 [==============================] - 0s 3ms/step - loss: 0.6164 - accuracy: 0.6747\n",
            "Epoch 5/100\n",
            "21/21 [==============================] - 0s 3ms/step - loss: 0.5867 - accuracy: 0.7229\n",
            "Epoch 6/100\n",
            "21/21 [==============================] - 0s 3ms/step - loss: 0.5597 - accuracy: 0.7771\n",
            "Epoch 7/100\n",
            "21/21 [==============================] - 0s 3ms/step - loss: 0.5416 - accuracy: 0.7530\n",
            "Epoch 8/100\n",
            "21/21 [==============================] - 0s 4ms/step - loss: 0.5077 - accuracy: 0.7771\n",
            "Epoch 9/100\n",
            "21/21 [==============================] - 0s 3ms/step - loss: 0.4759 - accuracy: 0.8133\n",
            "Epoch 10/100\n",
            "21/21 [==============================] - 0s 3ms/step - loss: 0.4549 - accuracy: 0.8012\n",
            "Epoch 11/100\n",
            "21/21 [==============================] - 0s 3ms/step - loss: 0.4407 - accuracy: 0.8072\n",
            "Epoch 12/100\n",
            "21/21 [==============================] - 0s 3ms/step - loss: 0.4195 - accuracy: 0.8373\n",
            "Epoch 13/100\n",
            "21/21 [==============================] - 0s 3ms/step - loss: 0.4179 - accuracy: 0.8133\n",
            "Epoch 14/100\n",
            "21/21 [==============================] - 0s 3ms/step - loss: 0.3899 - accuracy: 0.8373\n",
            "Epoch 15/100\n",
            "21/21 [==============================] - 0s 3ms/step - loss: 0.3864 - accuracy: 0.8193\n",
            "Epoch 16/100\n",
            "21/21 [==============================] - 0s 3ms/step - loss: 0.3584 - accuracy: 0.8675\n",
            "Epoch 17/100\n",
            "21/21 [==============================] - 0s 3ms/step - loss: 0.3537 - accuracy: 0.8434\n",
            "Epoch 18/100\n",
            "21/21 [==============================] - 0s 3ms/step - loss: 0.3282 - accuracy: 0.8675\n",
            "Epoch 19/100\n",
            "21/21 [==============================] - 0s 3ms/step - loss: 0.3506 - accuracy: 0.8253\n",
            "Epoch 20/100\n",
            "21/21 [==============================] - 0s 3ms/step - loss: 0.3121 - accuracy: 0.8916\n",
            "Epoch 21/100\n",
            "21/21 [==============================] - 0s 3ms/step - loss: 0.3188 - accuracy: 0.8735\n",
            "Epoch 22/100\n",
            "21/21 [==============================] - 0s 4ms/step - loss: 0.3176 - accuracy: 0.8494\n",
            "Epoch 23/100\n",
            "21/21 [==============================] - 0s 3ms/step - loss: 0.3056 - accuracy: 0.8675\n",
            "Epoch 24/100\n",
            "21/21 [==============================] - 0s 3ms/step - loss: 0.2842 - accuracy: 0.8675\n",
            "Epoch 25/100\n",
            "21/21 [==============================] - 0s 3ms/step - loss: 0.2996 - accuracy: 0.8916\n",
            "Epoch 26/100\n",
            "21/21 [==============================] - 0s 3ms/step - loss: 0.2633 - accuracy: 0.9157\n",
            "Epoch 27/100\n",
            "21/21 [==============================] - 0s 3ms/step - loss: 0.2492 - accuracy: 0.9157\n",
            "Epoch 28/100\n",
            "21/21 [==============================] - 0s 3ms/step - loss: 0.2398 - accuracy: 0.9277\n",
            "Epoch 29/100\n",
            "21/21 [==============================] - 0s 3ms/step - loss: 0.2295 - accuracy: 0.9096\n",
            "Epoch 30/100\n",
            "21/21 [==============================] - 0s 3ms/step - loss: 0.2367 - accuracy: 0.8976\n",
            "Epoch 31/100\n",
            "21/21 [==============================] - 0s 3ms/step - loss: 0.2102 - accuracy: 0.9217\n",
            "Epoch 32/100\n",
            "21/21 [==============================] - 0s 3ms/step - loss: 0.2090 - accuracy: 0.9398\n",
            "Epoch 33/100\n",
            "21/21 [==============================] - 0s 3ms/step - loss: 0.2246 - accuracy: 0.8855\n",
            "Epoch 34/100\n",
            "21/21 [==============================] - 0s 3ms/step - loss: 0.1972 - accuracy: 0.9518\n",
            "Epoch 35/100\n",
            "21/21 [==============================] - 0s 3ms/step - loss: 0.1822 - accuracy: 0.9458\n",
            "Epoch 36/100\n",
            "21/21 [==============================] - 0s 4ms/step - loss: 0.1803 - accuracy: 0.9398\n",
            "Epoch 37/100\n",
            "21/21 [==============================] - 0s 3ms/step - loss: 0.1841 - accuracy: 0.9398\n",
            "Epoch 38/100\n",
            "21/21 [==============================] - 0s 3ms/step - loss: 0.1803 - accuracy: 0.9458\n",
            "Epoch 39/100\n",
            "21/21 [==============================] - 0s 3ms/step - loss: 0.1778 - accuracy: 0.9277\n",
            "Epoch 40/100\n",
            "21/21 [==============================] - 0s 3ms/step - loss: 0.1549 - accuracy: 0.9578\n",
            "Epoch 41/100\n",
            "21/21 [==============================] - 0s 3ms/step - loss: 0.1393 - accuracy: 0.9518\n",
            "Epoch 42/100\n",
            "21/21 [==============================] - 0s 3ms/step - loss: 0.1422 - accuracy: 0.9699\n",
            "Epoch 43/100\n",
            "21/21 [==============================] - 0s 3ms/step - loss: 0.1293 - accuracy: 0.9578\n",
            "Epoch 44/100\n",
            "21/21 [==============================] - 0s 3ms/step - loss: 0.1244 - accuracy: 0.9759\n",
            "Epoch 45/100\n",
            "21/21 [==============================] - 0s 3ms/step - loss: 0.1169 - accuracy: 0.9759\n",
            "Epoch 46/100\n",
            "21/21 [==============================] - 0s 3ms/step - loss: 0.1090 - accuracy: 0.9880\n",
            "Epoch 47/100\n",
            "21/21 [==============================] - 0s 3ms/step - loss: 0.1151 - accuracy: 0.9699\n",
            "Epoch 48/100\n",
            "21/21 [==============================] - 0s 3ms/step - loss: 0.1063 - accuracy: 0.9639\n",
            "Epoch 49/100\n",
            "21/21 [==============================] - 0s 3ms/step - loss: 0.1062 - accuracy: 0.9699\n",
            "Epoch 50/100\n",
            "21/21 [==============================] - 0s 3ms/step - loss: 0.0943 - accuracy: 0.9819\n",
            "Epoch 51/100\n",
            "21/21 [==============================] - 0s 3ms/step - loss: 0.0975 - accuracy: 0.9880\n",
            "Epoch 52/100\n",
            "21/21 [==============================] - 0s 3ms/step - loss: 0.0891 - accuracy: 0.9880\n",
            "Epoch 53/100\n",
            "21/21 [==============================] - 0s 3ms/step - loss: 0.1449 - accuracy: 0.9337\n",
            "Epoch 54/100\n",
            "21/21 [==============================] - 0s 3ms/step - loss: 0.1355 - accuracy: 0.9639\n",
            "Epoch 55/100\n",
            "21/21 [==============================] - 0s 3ms/step - loss: 0.0781 - accuracy: 0.9940\n",
            "Epoch 56/100\n",
            "21/21 [==============================] - 0s 3ms/step - loss: 0.0708 - accuracy: 0.9880\n",
            "Epoch 57/100\n",
            "21/21 [==============================] - 0s 3ms/step - loss: 0.0624 - accuracy: 0.9819\n",
            "Epoch 58/100\n",
            "21/21 [==============================] - 0s 3ms/step - loss: 0.0579 - accuracy: 0.9940\n",
            "Epoch 59/100\n",
            "21/21 [==============================] - 0s 3ms/step - loss: 0.0606 - accuracy: 0.9880\n",
            "Epoch 60/100\n",
            "21/21 [==============================] - 0s 3ms/step - loss: 0.0720 - accuracy: 0.9880\n",
            "Epoch 61/100\n",
            "21/21 [==============================] - 0s 3ms/step - loss: 0.0745 - accuracy: 0.9819\n",
            "Epoch 62/100\n",
            "21/21 [==============================] - 0s 3ms/step - loss: 0.0513 - accuracy: 0.9880\n",
            "Epoch 63/100\n",
            "21/21 [==============================] - 0s 3ms/step - loss: 0.0493 - accuracy: 0.9940\n",
            "Epoch 64/100\n",
            "21/21 [==============================] - 0s 3ms/step - loss: 0.0425 - accuracy: 1.0000\n",
            "Epoch 65/100\n",
            "21/21 [==============================] - 0s 4ms/step - loss: 0.0422 - accuracy: 0.9940\n",
            "Epoch 66/100\n",
            "21/21 [==============================] - 0s 3ms/step - loss: 0.0428 - accuracy: 1.0000\n",
            "Epoch 67/100\n",
            "21/21 [==============================] - 0s 3ms/step - loss: 0.0379 - accuracy: 1.0000\n",
            "Epoch 68/100\n",
            "21/21 [==============================] - 0s 3ms/step - loss: 0.0398 - accuracy: 0.9940\n",
            "Epoch 69/100\n",
            "21/21 [==============================] - 0s 3ms/step - loss: 0.0398 - accuracy: 0.9940\n",
            "Epoch 70/100\n",
            "21/21 [==============================] - 0s 3ms/step - loss: 0.0352 - accuracy: 1.0000\n",
            "Epoch 71/100\n",
            "21/21 [==============================] - 0s 3ms/step - loss: 0.0321 - accuracy: 1.0000\n",
            "Epoch 72/100\n",
            "21/21 [==============================] - 0s 3ms/step - loss: 0.0342 - accuracy: 1.0000\n",
            "Epoch 73/100\n",
            "21/21 [==============================] - 0s 3ms/step - loss: 0.0341 - accuracy: 0.9940\n",
            "Epoch 74/100\n",
            "21/21 [==============================] - 0s 3ms/step - loss: 0.0280 - accuracy: 1.0000\n",
            "Epoch 75/100\n",
            "21/21 [==============================] - 0s 3ms/step - loss: 0.0263 - accuracy: 1.0000\n",
            "Epoch 76/100\n",
            "21/21 [==============================] - 0s 3ms/step - loss: 0.0246 - accuracy: 1.0000\n",
            "Epoch 77/100\n",
            "21/21 [==============================] - 0s 3ms/step - loss: 0.0243 - accuracy: 1.0000\n",
            "Epoch 78/100\n",
            "21/21 [==============================] - 0s 3ms/step - loss: 0.0248 - accuracy: 1.0000\n",
            "Epoch 79/100\n",
            "21/21 [==============================] - 0s 4ms/step - loss: 0.0272 - accuracy: 0.9940\n",
            "Epoch 80/100\n",
            "21/21 [==============================] - 0s 3ms/step - loss: 0.0240 - accuracy: 1.0000\n",
            "Epoch 81/100\n",
            "21/21 [==============================] - 0s 3ms/step - loss: 0.0234 - accuracy: 1.0000\n",
            "Epoch 82/100\n",
            "21/21 [==============================] - 0s 3ms/step - loss: 0.0197 - accuracy: 1.0000\n",
            "Epoch 83/100\n",
            "21/21 [==============================] - 0s 3ms/step - loss: 0.0177 - accuracy: 1.0000\n",
            "Epoch 84/100\n",
            "21/21 [==============================] - 0s 3ms/step - loss: 0.0172 - accuracy: 1.0000\n",
            "Epoch 85/100\n",
            "21/21 [==============================] - 0s 3ms/step - loss: 0.0188 - accuracy: 1.0000\n",
            "Epoch 86/100\n",
            "21/21 [==============================] - 0s 3ms/step - loss: 0.0177 - accuracy: 1.0000\n",
            "Epoch 87/100\n",
            "21/21 [==============================] - 0s 3ms/step - loss: 0.0186 - accuracy: 1.0000\n",
            "Epoch 88/100\n",
            "21/21 [==============================] - 0s 3ms/step - loss: 0.0193 - accuracy: 1.0000\n",
            "Epoch 89/100\n",
            "21/21 [==============================] - 0s 3ms/step - loss: 0.0158 - accuracy: 1.0000\n",
            "Epoch 90/100\n",
            "21/21 [==============================] - 0s 3ms/step - loss: 0.0153 - accuracy: 1.0000\n",
            "Epoch 91/100\n",
            "21/21 [==============================] - 0s 3ms/step - loss: 0.0131 - accuracy: 1.0000\n",
            "Epoch 92/100\n",
            "21/21 [==============================] - 0s 3ms/step - loss: 0.0126 - accuracy: 1.0000\n",
            "Epoch 93/100\n",
            "21/21 [==============================] - 0s 3ms/step - loss: 0.0121 - accuracy: 1.0000\n",
            "Epoch 94/100\n",
            "21/21 [==============================] - 0s 3ms/step - loss: 0.0124 - accuracy: 1.0000\n",
            "Epoch 95/100\n",
            "21/21 [==============================] - 0s 3ms/step - loss: 0.0110 - accuracy: 1.0000\n",
            "Epoch 96/100\n",
            "21/21 [==============================] - 0s 3ms/step - loss: 0.0116 - accuracy: 1.0000\n",
            "Epoch 97/100\n",
            "21/21 [==============================] - 0s 3ms/step - loss: 0.0105 - accuracy: 1.0000\n",
            "Epoch 98/100\n",
            "21/21 [==============================] - 0s 3ms/step - loss: 0.0092 - accuracy: 1.0000\n",
            "Epoch 99/100\n",
            "21/21 [==============================] - 0s 3ms/step - loss: 0.0095 - accuracy: 1.0000\n",
            "Epoch 100/100\n",
            "21/21 [==============================] - 0s 3ms/step - loss: 0.0090 - accuracy: 1.0000\n"
          ],
          "name": "stdout"
        },
        {
          "output_type": "execute_result",
          "data": {
            "text/plain": [
              "<tensorflow.python.keras.callbacks.History at 0x7f710dec6860>"
            ]
          },
          "metadata": {
            "tags": []
          },
          "execution_count": 122
        }
      ]
    },
    {
      "cell_type": "code",
      "metadata": {
        "id": "PuC56F1JrYvJ",
        "colab": {
          "base_uri": "https://localhost:8080/",
          "height": 105
        },
        "outputId": "659da25b-d959-4de7-fceb-fad6c58c7699"
      },
      "source": [
        "# Вычисляем результаты сети на тестовом наборе\n",
        "scores = model.evaluate(x_test, y_test, verbose=1)\n",
        "\n",
        "# scores состоит из двух знанчений\n",
        "# scores[0] - loss сети на тестовой выборке\n",
        "# scores[1] - процент правильно распознанных примеров на тестовой выборке\n",
        "print(scores)\n",
        "print(\"Доля верных ответов на тестовых данных, в процентах: \", round(scores[1] * 100, 4), \"%\", sep=\"\")"
      ],
      "execution_count": null,
      "outputs": [
        {
          "output_type": "stream",
          "text": [
            "WARNING:tensorflow:6 out of the last 11 calls to <function Model.make_test_function.<locals>.test_function at 0x7f710de579d8> triggered tf.function retracing. Tracing is expensive and the excessive number of tracings could be due to (1) creating @tf.function repeatedly in a loop, (2) passing tensors with different shapes, (3) passing Python objects instead of tensors. For (1), please define your @tf.function outside of the loop. For (2), @tf.function has experimental_relax_shapes=True option that relaxes argument shapes that can avoid unnecessary retracing. For (3), please refer to https://www.tensorflow.org/tutorials/customization/performance#python_or_tensor_args and https://www.tensorflow.org/api_docs/python/tf/function for  more details.\n",
            "2/2 [==============================] - 0s 4ms/step - loss: 0.7758 - accuracy: 0.8333\n",
            "[0.7758095264434814, 0.8333333134651184]\n",
            "Доля верных ответов на тестовых данных, в процентах: 83.3333%\n"
          ],
          "name": "stdout"
        }
      ]
    },
    {
      "cell_type": "markdown",
      "metadata": {
        "id": "H8r5XeAqNrOK"
      },
      "source": [
        "Итак, модель из вебинара обучается на 1, но на тестовой выборке дает точность 76%. Будем стараться поднять ее до 90% путем изменения архитектуры сети. \n",
        "\n",
        "По условию  задачи будем использовать тестовую выборку 42 элемента как в вебинаре. \n",
        "\n",
        "Обучающую выборку не будем делить еще на обучающую и валидационную. Так как ее размер 166 элементов и так весьма не велик."
      ]
    },
    {
      "cell_type": "code",
      "metadata": {
        "id": "35mAXUpaPSE5",
        "colab": {
          "base_uri": "https://localhost:8080/",
          "height": 1000
        },
        "outputId": "ee2f97c8-3ca2-4b08-ad4d-a31038fac76e"
      },
      "source": [
        "# В первую очередь пробуем добавлять слои Dropout и BatchNormalization \n",
        "model = Sequential()\n",
        "\n",
        "model.add(BatchNormalization(input_shape=(60,)))\n",
        "#model.add(Dropout(0.3, input_shape=(60,))) \n",
        "\n",
        "model.add(Dropout(0.1))\n",
        "\n",
        "model.add(Dense(60, activation='relu'))\n",
        "\n",
        "#model.add(Dropout(0.2))\n",
        "\n",
        "model.add(BatchNormalization())\n",
        "\n",
        "model.add(Dense(30,  activation='relu'))\n",
        "\n",
        "model.add(Dropout(0.2))\n",
        "\n",
        "model.add(Dense(1, activation='sigmoid'))\n",
        "\n",
        "# Компилируем сеть\n",
        "model.compile(loss='binary_crossentropy', optimizer=Adam(lr=0.001), metrics=['accuracy'])\n",
        "\n",
        "# Структура модели\n",
        "print(model.summary())\n",
        "\n",
        "# Обучаем сеть\n",
        "model.fit(x_train,         \n",
        "          y_train,         \n",
        "          batch_size=8,    # Размер батча\n",
        "          epochs=100,      # Количество эпох\n",
        "          verbose=1)       # Выводить процесс обучения на каждой эпохе\n"
      ],
      "execution_count": null,
      "outputs": [
        {
          "output_type": "stream",
          "text": [
            "Model: \"sequential_114\"\n",
            "_________________________________________________________________\n",
            "Layer (type)                 Output Shape              Param #   \n",
            "=================================================================\n",
            "batch_normalization_211 (Bat (None, 60)                240       \n",
            "_________________________________________________________________\n",
            "dropout_241 (Dropout)        (None, 60)                0         \n",
            "_________________________________________________________________\n",
            "dense_346 (Dense)            (None, 60)                3660      \n",
            "_________________________________________________________________\n",
            "batch_normalization_212 (Bat (None, 60)                240       \n",
            "_________________________________________________________________\n",
            "dense_347 (Dense)            (None, 30)                1830      \n",
            "_________________________________________________________________\n",
            "dropout_242 (Dropout)        (None, 30)                0         \n",
            "_________________________________________________________________\n",
            "dense_348 (Dense)            (None, 1)                 31        \n",
            "=================================================================\n",
            "Total params: 6,001\n",
            "Trainable params: 5,761\n",
            "Non-trainable params: 240\n",
            "_________________________________________________________________\n",
            "None\n",
            "Epoch 1/100\n",
            "21/21 [==============================] - 0s 4ms/step - loss: 0.7900 - accuracy: 0.5301\n",
            "Epoch 2/100\n",
            "21/21 [==============================] - 0s 4ms/step - loss: 0.5931 - accuracy: 0.6928\n",
            "Epoch 3/100\n",
            "21/21 [==============================] - 0s 4ms/step - loss: 0.5527 - accuracy: 0.7108\n",
            "Epoch 4/100\n",
            "21/21 [==============================] - 0s 4ms/step - loss: 0.4437 - accuracy: 0.8193\n",
            "Epoch 5/100\n",
            "21/21 [==============================] - 0s 4ms/step - loss: 0.4719 - accuracy: 0.7952\n",
            "Epoch 6/100\n",
            "21/21 [==============================] - 0s 4ms/step - loss: 0.3756 - accuracy: 0.8313\n",
            "Epoch 7/100\n",
            "21/21 [==============================] - 0s 4ms/step - loss: 0.4652 - accuracy: 0.7831\n",
            "Epoch 8/100\n",
            "21/21 [==============================] - 0s 4ms/step - loss: 0.3372 - accuracy: 0.8554\n",
            "Epoch 9/100\n",
            "21/21 [==============================] - 0s 4ms/step - loss: 0.3844 - accuracy: 0.8193\n",
            "Epoch 10/100\n",
            "21/21 [==============================] - 0s 4ms/step - loss: 0.3322 - accuracy: 0.8193\n",
            "Epoch 11/100\n",
            "21/21 [==============================] - 0s 4ms/step - loss: 0.3027 - accuracy: 0.8855\n",
            "Epoch 12/100\n",
            "21/21 [==============================] - 0s 4ms/step - loss: 0.4023 - accuracy: 0.8193\n",
            "Epoch 13/100\n",
            "21/21 [==============================] - 0s 4ms/step - loss: 0.3392 - accuracy: 0.8614\n",
            "Epoch 14/100\n",
            "21/21 [==============================] - 0s 4ms/step - loss: 0.2711 - accuracy: 0.8916\n",
            "Epoch 15/100\n",
            "21/21 [==============================] - 0s 4ms/step - loss: 0.3334 - accuracy: 0.8554\n",
            "Epoch 16/100\n",
            "21/21 [==============================] - 0s 4ms/step - loss: 0.2970 - accuracy: 0.8795\n",
            "Epoch 17/100\n",
            "21/21 [==============================] - 0s 4ms/step - loss: 0.3344 - accuracy: 0.8614\n",
            "Epoch 18/100\n",
            "21/21 [==============================] - 0s 4ms/step - loss: 0.2623 - accuracy: 0.9096\n",
            "Epoch 19/100\n",
            "21/21 [==============================] - 0s 4ms/step - loss: 0.2731 - accuracy: 0.8916\n",
            "Epoch 20/100\n",
            "21/21 [==============================] - 0s 4ms/step - loss: 0.3013 - accuracy: 0.8675\n",
            "Epoch 21/100\n",
            "21/21 [==============================] - 0s 4ms/step - loss: 0.3090 - accuracy: 0.8675\n",
            "Epoch 22/100\n",
            "21/21 [==============================] - 0s 4ms/step - loss: 0.2384 - accuracy: 0.9337\n",
            "Epoch 23/100\n",
            "21/21 [==============================] - 0s 4ms/step - loss: 0.3022 - accuracy: 0.8675\n",
            "Epoch 24/100\n",
            "21/21 [==============================] - 0s 4ms/step - loss: 0.2510 - accuracy: 0.8976\n",
            "Epoch 25/100\n",
            "21/21 [==============================] - 0s 4ms/step - loss: 0.2385 - accuracy: 0.9277\n",
            "Epoch 26/100\n",
            "21/21 [==============================] - 0s 4ms/step - loss: 0.2386 - accuracy: 0.9277\n",
            "Epoch 27/100\n",
            "21/21 [==============================] - 0s 4ms/step - loss: 0.1970 - accuracy: 0.9398\n",
            "Epoch 28/100\n",
            "21/21 [==============================] - 0s 4ms/step - loss: 0.2908 - accuracy: 0.8855\n",
            "Epoch 29/100\n",
            "21/21 [==============================] - 0s 4ms/step - loss: 0.1972 - accuracy: 0.9337\n",
            "Epoch 30/100\n",
            "21/21 [==============================] - 0s 4ms/step - loss: 0.1708 - accuracy: 0.9337\n",
            "Epoch 31/100\n",
            "21/21 [==============================] - 0s 4ms/step - loss: 0.2095 - accuracy: 0.8855\n",
            "Epoch 32/100\n",
            "21/21 [==============================] - 0s 4ms/step - loss: 0.1931 - accuracy: 0.9398\n",
            "Epoch 33/100\n",
            "21/21 [==============================] - 0s 5ms/step - loss: 0.1845 - accuracy: 0.9458\n",
            "Epoch 34/100\n",
            "21/21 [==============================] - 0s 4ms/step - loss: 0.2220 - accuracy: 0.9096\n",
            "Epoch 35/100\n",
            "21/21 [==============================] - 0s 4ms/step - loss: 0.1434 - accuracy: 0.9277\n",
            "Epoch 36/100\n",
            "21/21 [==============================] - 0s 4ms/step - loss: 0.2083 - accuracy: 0.9036\n",
            "Epoch 37/100\n",
            "21/21 [==============================] - 0s 4ms/step - loss: 0.2398 - accuracy: 0.9036\n",
            "Epoch 38/100\n",
            "21/21 [==============================] - 0s 4ms/step - loss: 0.1831 - accuracy: 0.8976\n",
            "Epoch 39/100\n",
            "21/21 [==============================] - 0s 4ms/step - loss: 0.2206 - accuracy: 0.8976\n",
            "Epoch 40/100\n",
            "21/21 [==============================] - 0s 4ms/step - loss: 0.1840 - accuracy: 0.9217\n",
            "Epoch 41/100\n",
            "21/21 [==============================] - 0s 4ms/step - loss: 0.1104 - accuracy: 0.9639\n",
            "Epoch 42/100\n",
            "21/21 [==============================] - 0s 4ms/step - loss: 0.1577 - accuracy: 0.9518\n",
            "Epoch 43/100\n",
            "21/21 [==============================] - 0s 5ms/step - loss: 0.1874 - accuracy: 0.9277\n",
            "Epoch 44/100\n",
            "21/21 [==============================] - 0s 4ms/step - loss: 0.1616 - accuracy: 0.9337\n",
            "Epoch 45/100\n",
            "21/21 [==============================] - 0s 4ms/step - loss: 0.1293 - accuracy: 0.9518\n",
            "Epoch 46/100\n",
            "21/21 [==============================] - 0s 4ms/step - loss: 0.2478 - accuracy: 0.8976\n",
            "Epoch 47/100\n",
            "21/21 [==============================] - 0s 4ms/step - loss: 0.1411 - accuracy: 0.9578\n",
            "Epoch 48/100\n",
            "21/21 [==============================] - 0s 4ms/step - loss: 0.1571 - accuracy: 0.9277\n",
            "Epoch 49/100\n",
            "21/21 [==============================] - 0s 4ms/step - loss: 0.1621 - accuracy: 0.9398\n",
            "Epoch 50/100\n",
            "21/21 [==============================] - 0s 4ms/step - loss: 0.1721 - accuracy: 0.9458\n",
            "Epoch 51/100\n",
            "21/21 [==============================] - 0s 4ms/step - loss: 0.1449 - accuracy: 0.9398\n",
            "Epoch 52/100\n",
            "21/21 [==============================] - 0s 4ms/step - loss: 0.2289 - accuracy: 0.9096\n",
            "Epoch 53/100\n",
            "21/21 [==============================] - 0s 4ms/step - loss: 0.1157 - accuracy: 0.9458\n",
            "Epoch 54/100\n",
            "21/21 [==============================] - 0s 4ms/step - loss: 0.1792 - accuracy: 0.9398\n",
            "Epoch 55/100\n",
            "21/21 [==============================] - 0s 4ms/step - loss: 0.2692 - accuracy: 0.8976\n",
            "Epoch 56/100\n",
            "21/21 [==============================] - 0s 4ms/step - loss: 0.1250 - accuracy: 0.9699\n",
            "Epoch 57/100\n",
            "21/21 [==============================] - 0s 4ms/step - loss: 0.1368 - accuracy: 0.9578\n",
            "Epoch 58/100\n",
            "21/21 [==============================] - 0s 4ms/step - loss: 0.1591 - accuracy: 0.9639\n",
            "Epoch 59/100\n",
            "21/21 [==============================] - 0s 4ms/step - loss: 0.1578 - accuracy: 0.9217\n",
            "Epoch 60/100\n",
            "21/21 [==============================] - 0s 4ms/step - loss: 0.1272 - accuracy: 0.9639\n",
            "Epoch 61/100\n",
            "21/21 [==============================] - 0s 4ms/step - loss: 0.1895 - accuracy: 0.9337\n",
            "Epoch 62/100\n",
            "21/21 [==============================] - 0s 4ms/step - loss: 0.1489 - accuracy: 0.9337\n",
            "Epoch 63/100\n",
            "21/21 [==============================] - 0s 4ms/step - loss: 0.1552 - accuracy: 0.9458\n",
            "Epoch 64/100\n",
            "21/21 [==============================] - 0s 4ms/step - loss: 0.1071 - accuracy: 0.9578\n",
            "Epoch 65/100\n",
            "21/21 [==============================] - 0s 5ms/step - loss: 0.0830 - accuracy: 0.9759\n",
            "Epoch 66/100\n",
            "21/21 [==============================] - 0s 4ms/step - loss: 0.2067 - accuracy: 0.9096\n",
            "Epoch 67/100\n",
            "21/21 [==============================] - 0s 4ms/step - loss: 0.1002 - accuracy: 0.9639\n",
            "Epoch 68/100\n",
            "21/21 [==============================] - 0s 4ms/step - loss: 0.1332 - accuracy: 0.9699\n",
            "Epoch 69/100\n",
            "21/21 [==============================] - 0s 4ms/step - loss: 0.0998 - accuracy: 0.9639\n",
            "Epoch 70/100\n",
            "21/21 [==============================] - 0s 4ms/step - loss: 0.1147 - accuracy: 0.9518\n",
            "Epoch 71/100\n",
            "21/21 [==============================] - 0s 4ms/step - loss: 0.1741 - accuracy: 0.9217\n",
            "Epoch 72/100\n",
            "21/21 [==============================] - 0s 4ms/step - loss: 0.1004 - accuracy: 0.9699\n",
            "Epoch 73/100\n",
            "21/21 [==============================] - 0s 4ms/step - loss: 0.0976 - accuracy: 0.9699\n",
            "Epoch 74/100\n",
            "21/21 [==============================] - 0s 4ms/step - loss: 0.1192 - accuracy: 0.9578\n",
            "Epoch 75/100\n",
            "21/21 [==============================] - 0s 4ms/step - loss: 0.1658 - accuracy: 0.9458\n",
            "Epoch 76/100\n",
            "21/21 [==============================] - 0s 4ms/step - loss: 0.1094 - accuracy: 0.9699\n",
            "Epoch 77/100\n",
            "21/21 [==============================] - 0s 4ms/step - loss: 0.1072 - accuracy: 0.9518\n",
            "Epoch 78/100\n",
            "21/21 [==============================] - 0s 4ms/step - loss: 0.1309 - accuracy: 0.9337\n",
            "Epoch 79/100\n",
            "21/21 [==============================] - 0s 4ms/step - loss: 0.1138 - accuracy: 0.9578\n",
            "Epoch 80/100\n",
            "21/21 [==============================] - 0s 4ms/step - loss: 0.1205 - accuracy: 0.9518\n",
            "Epoch 81/100\n",
            "21/21 [==============================] - 0s 4ms/step - loss: 0.1052 - accuracy: 0.9578\n",
            "Epoch 82/100\n",
            "21/21 [==============================] - 0s 4ms/step - loss: 0.1106 - accuracy: 0.9578\n",
            "Epoch 83/100\n",
            "21/21 [==============================] - 0s 4ms/step - loss: 0.1470 - accuracy: 0.9398\n",
            "Epoch 84/100\n",
            "21/21 [==============================] - 0s 4ms/step - loss: 0.0999 - accuracy: 0.9639\n",
            "Epoch 85/100\n",
            "21/21 [==============================] - 0s 4ms/step - loss: 0.1151 - accuracy: 0.9578\n",
            "Epoch 86/100\n",
            "21/21 [==============================] - 0s 4ms/step - loss: 0.0892 - accuracy: 0.9699\n",
            "Epoch 87/100\n",
            "21/21 [==============================] - 0s 4ms/step - loss: 0.1539 - accuracy: 0.9518\n",
            "Epoch 88/100\n",
            "21/21 [==============================] - 0s 4ms/step - loss: 0.1162 - accuracy: 0.9337\n",
            "Epoch 89/100\n",
            "21/21 [==============================] - 0s 4ms/step - loss: 0.0720 - accuracy: 0.9639\n",
            "Epoch 90/100\n",
            "21/21 [==============================] - 0s 4ms/step - loss: 0.1208 - accuracy: 0.9518\n",
            "Epoch 91/100\n",
            "21/21 [==============================] - 0s 4ms/step - loss: 0.1084 - accuracy: 0.9699\n",
            "Epoch 92/100\n",
            "21/21 [==============================] - 0s 4ms/step - loss: 0.1772 - accuracy: 0.9458\n",
            "Epoch 93/100\n",
            "21/21 [==============================] - 0s 4ms/step - loss: 0.1001 - accuracy: 0.9578\n",
            "Epoch 94/100\n",
            "21/21 [==============================] - 0s 4ms/step - loss: 0.0703 - accuracy: 0.9699\n",
            "Epoch 95/100\n",
            "21/21 [==============================] - 0s 4ms/step - loss: 0.1121 - accuracy: 0.9518\n",
            "Epoch 96/100\n",
            "21/21 [==============================] - 0s 4ms/step - loss: 0.1146 - accuracy: 0.9578\n",
            "Epoch 97/100\n",
            "21/21 [==============================] - 0s 4ms/step - loss: 0.1732 - accuracy: 0.9458\n",
            "Epoch 98/100\n",
            "21/21 [==============================] - 0s 4ms/step - loss: 0.1049 - accuracy: 0.9639\n",
            "Epoch 99/100\n",
            "21/21 [==============================] - 0s 4ms/step - loss: 0.1261 - accuracy: 0.9699\n",
            "Epoch 100/100\n",
            "21/21 [==============================] - 0s 5ms/step - loss: 0.0769 - accuracy: 0.9639\n"
          ],
          "name": "stdout"
        },
        {
          "output_type": "execute_result",
          "data": {
            "text/plain": [
              "<tensorflow.python.keras.callbacks.History at 0x7f70ca1da5c0>"
            ]
          },
          "metadata": {
            "tags": []
          },
          "execution_count": 241
        }
      ]
    },
    {
      "cell_type": "code",
      "metadata": {
        "id": "SUghgWMVPqdw",
        "colab": {
          "base_uri": "https://localhost:8080/",
          "height": 105
        },
        "outputId": "85f26e99-73b4-42fa-f4cc-4b761cc4fd6a"
      },
      "source": [
        "# Вычисляем результаты сети на тестовом наборе\n",
        "scores = model.evaluate(x_test, y_test, verbose=1)\n",
        "\n",
        "# scores состоит из двух знанчений\n",
        "# scores[0] - loss сети на тестовой выборке\n",
        "# scores[1] - процент правильно распознанных примеров на тестовой выборке\n",
        "print(scores)\n",
        "print(\"Доля верных ответов на тестовых данных, в процентах: \", round(scores[1] * 100, 4), \"%\", sep=\"\")"
      ],
      "execution_count": null,
      "outputs": [
        {
          "output_type": "stream",
          "text": [
            "WARNING:tensorflow:6 out of the last 11 calls to <function Model.make_test_function.<locals>.test_function at 0x7f70ca17d6a8> triggered tf.function retracing. Tracing is expensive and the excessive number of tracings could be due to (1) creating @tf.function repeatedly in a loop, (2) passing tensors with different shapes, (3) passing Python objects instead of tensors. For (1), please define your @tf.function outside of the loop. For (2), @tf.function has experimental_relax_shapes=True option that relaxes argument shapes that can avoid unnecessary retracing. For (3), please refer to https://www.tensorflow.org/tutorials/customization/performance#python_or_tensor_args and https://www.tensorflow.org/api_docs/python/tf/function for  more details.\n",
            "2/2 [==============================] - 0s 4ms/step - loss: 0.2528 - accuracy: 0.9286\n",
            "[0.2527619004249573, 0.9285714030265808]\n",
            "Доля верных ответов на тестовых данных, в процентах: 92.8571%\n"
          ],
          "name": "stdout"
        }
      ]
    },
    {
      "cell_type": "markdown",
      "metadata": {
        "id": "Cekwb5f2Xl57"
      },
      "source": [
        "Искомой точности на тестовой выборке кое-как добились, но провалы по точности все таки бывают."
      ]
    }
  ]
}