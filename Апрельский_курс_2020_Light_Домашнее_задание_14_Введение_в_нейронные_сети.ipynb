{
  "nbformat": 4,
  "nbformat_minor": 0,
  "metadata": {
    "colab": {
      "name": "Апрельский курс-2020 Light. Домашнее задание 14. Введение в нейронные сети",
      "provenance": [],
      "collapsed_sections": [],
      "include_colab_link": true
    },
    "kernelspec": {
      "name": "python3",
      "display_name": "Python 3"
    },
    "accelerator": "GPU"
  },
  "cells": [
    {
      "cell_type": "markdown",
      "metadata": {
        "id": "view-in-github",
        "colab_type": "text"
      },
      "source": [
        "<a href=\"https://colab.research.google.com/github/serg-kas/NN-archive/blob/main/%D0%90%D0%BF%D1%80%D0%B5%D0%BB%D1%8C%D1%81%D0%BA%D0%B8%D0%B9_%D0%BA%D1%83%D1%80%D1%81_2020_Light_%D0%94%D0%BE%D0%BC%D0%B0%D1%88%D0%BD%D0%B5%D0%B5_%D0%B7%D0%B0%D0%B4%D0%B0%D0%BD%D0%B8%D0%B5_14_%D0%92%D0%B2%D0%B5%D0%B4%D0%B5%D0%BD%D0%B8%D0%B5_%D0%B2_%D0%BD%D0%B5%D0%B9%D1%80%D0%BE%D0%BD%D0%BD%D1%8B%D0%B5_%D1%81%D0%B5%D1%82%D0%B8.ipynb\" target=\"_parent\"><img src=\"https://colab.research.google.com/assets/colab-badge.svg\" alt=\"Open In Colab\"/></a>"
      ]
    },
    {
      "cell_type": "markdown",
      "metadata": {
        "id": "7scBrCDj_w4X"
      },
      "source": [
        "#Импорт библиотек#"
      ]
    },
    {
      "cell_type": "code",
      "metadata": {
        "id": "F0mQQCFG_oCI"
      },
      "source": [
        "\n",
        "from tensorflow.keras.datasets import mnist # библиотека с базой Mnist\n",
        "from tensorflow.keras.models import Sequential # модель\n",
        "from tensorflow.keras.layers import Dense # слой\n",
        "from tensorflow.keras.optimizers import Adam # оптимизатор\n",
        "from tensorflow.keras import utils # утитилита to_categorical\n",
        "from tensorflow.keras.preprocessing import image # из массива в картинку\n",
        "\n",
        "from google.colab import files #работа с файлами в ноутбуке\n",
        "\n",
        "import numpy as np # numpy\n",
        "\n",
        "# далее все для графиков\n",
        "from mpl_toolkits.mplot3d import Axes3D \n",
        "from PIL import Image\n",
        "import pylab \n",
        "import matplotlib.pyplot as plt \n",
        "%matplotlib inline"
      ],
      "execution_count": null,
      "outputs": []
    },
    {
      "cell_type": "markdown",
      "metadata": {
        "id": "5NwlXdN2__BH"
      },
      "source": [
        "#LIGHT#\n",
        "**Вариант 1**\n",
        "\n",
        "Перепишите ноутбук по распознаванию рукописных цифр, восстановив следующие операции:\n",
        "\n",
        "1. Импорт библиотек.\n",
        "2. Загрузка базы mnist.\n",
        "3. Нормирование и преобразование x_train и y_train.\n",
        "4. Создание нейронной сети.\n",
        "5. Обучение нейронной сети.\n",
        "\n",
        "Можно смотреть в ноутбук с занятия, но код необходимо писать самостоятельно.\n",
        "\n"
      ]
    },
    {
      "cell_type": "code",
      "metadata": {
        "id": "XIAzi5ykClmu",
        "colab": {
          "base_uri": "https://localhost:8080/",
          "height": 51
        },
        "outputId": "58fbad69-d179-49f9-8092-e82e867df2f8"
      },
      "source": [
        "# Вариант Light 1\n",
        "\n",
        "# загружаем Mnist\n",
        "(x_train_org, y_train_org), (x_test_org, y_test_org) = mnist.load_data()\n"
      ],
      "execution_count": null,
      "outputs": [
        {
          "output_type": "stream",
          "text": [
            "Downloading data from https://storage.googleapis.com/tensorflow/tf-keras-datasets/mnist.npz\n",
            "11493376/11490434 [==============================] - 0s 0us/step\n"
          ],
          "name": "stdout"
        }
      ]
    },
    {
      "cell_type": "code",
      "metadata": {
        "id": "S3PnsLlGG6ND",
        "colab": {
          "base_uri": "https://localhost:8080/",
          "height": 316
        },
        "outputId": "c04040c9-3a56-4115-fcfa-f07244b8865f"
      },
      "source": [
        "# Посмотрим данные\n",
        "print(x_train_org.shape)\n",
        "print(y_train_org.shape)\n",
        "\n",
        "#print(x_train_org[0])\n",
        "print(y_test_org[0])\n",
        "n = 0\n",
        "plt.imshow(Image.fromarray(x_test_org[n]).convert('RGB'))\n",
        "plt.show()"
      ],
      "execution_count": null,
      "outputs": [
        {
          "output_type": "stream",
          "text": [
            "(60000, 28, 28)\n",
            "(60000,)\n",
            "7\n"
          ],
          "name": "stdout"
        },
        {
          "output_type": "display_data",
          "data": {
            "image/png": "[encoded data removed]",
            "text/plain": [
              "<Figure size 432x288 with 1 Axes>"
            ]
          },
          "metadata": {
            "tags": [],
            "needs_background": "light"
          }
        }
      ]
    },
    {
      "cell_type": "code",
      "metadata": {
        "id": "xkxXd0t7J-GE",
        "colab": {
          "base_uri": "https://localhost:8080/",
          "height": 51
        },
        "outputId": "da6f3bb7-b5fa-4c38-df07-df53762cabaa"
      },
      "source": [
        "#Каждый символ из матрицы 28х28 перестроим в вектор 784х1\n",
        "x_train = x_train_org.reshape(60000,784)\n",
        "x_test = x_test_org.reshape(10000, 784)\n",
        "\n",
        "print('Было', x_train_org.shape, 'Стало',  x_train.shape)\n",
        "print('Было', x_test_org.shape, 'Стало',  x_test.shape)"
      ],
      "execution_count": null,
      "outputs": [
        {
          "output_type": "stream",
          "text": [
            "Было (60000, 28, 28) Стало (60000, 784)\n",
            "Было (10000, 28, 28) Стало (10000, 784)\n"
          ],
          "name": "stdout"
        }
      ]
    },
    {
      "cell_type": "code",
      "metadata": {
        "id": "R5cW-u8eEXBN"
      },
      "source": [
        "#Нормализуем входные данные \n",
        "\n",
        "#меняем тип на float\n",
        "x_train = x_train.astype('float32')\n",
        "#поделив на 255 получим данные в диапазоне от 0 до 1\n",
        "x_train = x_train / 255 \n",
        "#меняем тип на float\n",
        "x_test = x_test.astype('float32')\n",
        "#поделив на 255 получим данные в диапазоне от 0 до 1\n",
        "x_test = x_test / 255 # делим на 255, чтобы диапазон был от 0 до 1"
      ],
      "execution_count": null,
      "outputs": []
    },
    {
      "cell_type": "code",
      "metadata": {
        "id": "zrxFxFA5EsVU",
        "colab": {
          "base_uri": "https://localhost:8080/",
          "height": 51
        },
        "outputId": "15fa12d5-6908-4714-834a-8716a9a6f091"
      },
      "source": [
        "# one_hot_encoding для данных=результатов\n",
        "y_train = utils.to_categorical(y_train_org, 10)\n",
        "y_test = utils.to_categorical(y_test_org, 10)\n",
        "\n",
        "print('Было', y_train_org.shape, 'Стало',  y_train.shape)\n",
        "print('Было', y_test_org.shape, 'Стало',  y_test.shape)"
      ],
      "execution_count": null,
      "outputs": [
        {
          "output_type": "stream",
          "text": [
            "Было (60000,) Стало (60000, 10)\n",
            "Было (10000,) Стало (10000, 10)\n"
          ],
          "name": "stdout"
        }
      ]
    },
    {
      "cell_type": "code",
      "metadata": {
        "id": "ljsnXmeiNzIT",
        "colab": {
          "base_uri": "https://localhost:8080/",
          "height": 102
        },
        "outputId": "9a7e087e-339e-417e-9841-a1513a069cb4"
      },
      "source": [
        "#как теперь выглядят данные (примеры)\n",
        "for i in range(0,5): print(y_train[i], '=', y_train_org[i])"
      ],
      "execution_count": null,
      "outputs": [
        {
          "output_type": "stream",
          "text": [
            "[0. 0. 0. 0. 0. 1. 0. 0. 0. 0.] = 5\n",
            "[1. 0. 0. 0. 0. 0. 0. 0. 0. 0.] = 0\n",
            "[0. 0. 0. 0. 1. 0. 0. 0. 0. 0.] = 4\n",
            "[0. 1. 0. 0. 0. 0. 0. 0. 0. 0.] = 1\n",
            "[0. 0. 0. 0. 0. 0. 0. 0. 0. 1.] = 9\n"
          ],
          "name": "stdout"
        }
      ]
    },
    {
      "cell_type": "code",
      "metadata": {
        "id": "odi8yVyxE-w5"
      },
      "source": [
        "#Создаем сеть\n",
        "model = Sequential()\n",
        "#полносвязный слой на 800 нейронов с relu-активацией\n",
        "model.add(Dense(800, input_dim=784, activation=\"relu\")) \n",
        "#полносвязный слой на 400 нейронов с relu-активацией\n",
        "model.add(Dense(400, activation=\"relu\")) \n",
        "#полносвязный слой на 10 нейронов с softmax-активацией\n",
        "model.add(Dense(10, activation=\"softmax\")) "
      ],
      "execution_count": null,
      "outputs": []
    },
    {
      "cell_type": "code",
      "metadata": {
        "id": "6EMUkxTqFkc1",
        "colab": {
          "base_uri": "https://localhost:8080/",
          "height": 272
        },
        "outputId": "7cd4672a-91b6-4133-af2f-7f1f06716e3d"
      },
      "source": [
        "# Компиляция\n",
        "model.compile(loss=\"categorical_crossentropy\", optimizer=\"adam\", metrics=[\"accuracy\"]) \n",
        "# Структура модели\n",
        "print(model.summary()) "
      ],
      "execution_count": null,
      "outputs": [
        {
          "output_type": "stream",
          "text": [
            "Model: \"sequential\"\n",
            "_________________________________________________________________\n",
            "Layer (type)                 Output Shape              Param #   \n",
            "=================================================================\n",
            "dense (Dense)                (None, 800)               628000    \n",
            "_________________________________________________________________\n",
            "dense_1 (Dense)              (None, 400)               320400    \n",
            "_________________________________________________________________\n",
            "dense_2 (Dense)              (None, 10)                4010      \n",
            "=================================================================\n",
            "Total params: 952,410\n",
            "Trainable params: 952,410\n",
            "Non-trainable params: 0\n",
            "_________________________________________________________________\n",
            "None\n"
          ],
          "name": "stdout"
        }
      ]
    },
    {
      "cell_type": "code",
      "metadata": {
        "id": "rUK76sfK8IR6",
        "colab": {
          "base_uri": "https://localhost:8080/",
          "height": 544
        },
        "outputId": "33dcf2fa-370a-4325-8a7e-f42e6c48cdb1"
      },
      "source": [
        "# Обучение нейронной сети методом fit\n",
        "#batch_size - сколько примеров обрабатывать для последующей коррекции весов\n",
        "#epochs - сколько раз проводить обучение на всей выборке \n",
        "#verbose - 1 означает визуализировать \n",
        "\n",
        "model.fit(x_train, y_train, batch_size=128, epochs=15, verbose=1)\n",
        "\n"
      ],
      "execution_count": null,
      "outputs": [
        {
          "output_type": "stream",
          "text": [
            "Epoch 1/15\n",
            "469/469 [==============================] - 2s 5ms/step - loss: 0.2062 - accuracy: 0.9381\n",
            "Epoch 2/15\n",
            "469/469 [==============================] - 2s 4ms/step - loss: 0.0756 - accuracy: 0.9766\n",
            "Epoch 3/15\n",
            "469/469 [==============================] - 2s 4ms/step - loss: 0.0483 - accuracy: 0.9845\n",
            "Epoch 4/15\n",
            "469/469 [==============================] - 2s 4ms/step - loss: 0.0329 - accuracy: 0.9893\n",
            "Epoch 5/15\n",
            "469/469 [==============================] - 2s 4ms/step - loss: 0.0287 - accuracy: 0.9906\n",
            "Epoch 6/15\n",
            "469/469 [==============================] - 2s 4ms/step - loss: 0.0221 - accuracy: 0.9927\n",
            "Epoch 7/15\n",
            "469/469 [==============================] - 2s 4ms/step - loss: 0.0175 - accuracy: 0.9940\n",
            "Epoch 8/15\n",
            "469/469 [==============================] - 2s 4ms/step - loss: 0.0154 - accuracy: 0.9948\n",
            "Epoch 9/15\n",
            "469/469 [==============================] - 2s 4ms/step - loss: 0.0158 - accuracy: 0.9945\n",
            "Epoch 10/15\n",
            "469/469 [==============================] - 2s 4ms/step - loss: 0.0107 - accuracy: 0.9964\n",
            "Epoch 11/15\n",
            "469/469 [==============================] - 2s 4ms/step - loss: 0.0119 - accuracy: 0.9960\n",
            "Epoch 12/15\n",
            "469/469 [==============================] - 2s 4ms/step - loss: 0.0128 - accuracy: 0.9958\n",
            "Epoch 13/15\n",
            "469/469 [==============================] - 2s 4ms/step - loss: 0.0096 - accuracy: 0.9968\n",
            "Epoch 14/15\n",
            "469/469 [==============================] - 2s 4ms/step - loss: 0.0080 - accuracy: 0.9975\n",
            "Epoch 15/15\n",
            "469/469 [==============================] - 2s 4ms/step - loss: 0.0110 - accuracy: 0.9962\n"
          ],
          "name": "stdout"
        },
        {
          "output_type": "execute_result",
          "data": {
            "text/plain": [
              "<tensorflow.python.keras.callbacks.History at 0x7f46d064c828>"
            ]
          },
          "metadata": {
            "tags": []
          },
          "execution_count": 10
        }
      ]
    },
    {
      "cell_type": "code",
      "metadata": {
        "id": "nmxH0W_QSOIX"
      },
      "source": [
        "#Сохраним веса\n",
        "model.save_weights('model.h5')\n",
        "#model.load_weights('model.h5')"
      ],
      "execution_count": null,
      "outputs": []
    },
    {
      "cell_type": "code",
      "metadata": {
        "id": "LV8VbbJ5QvYV",
        "colab": {
          "base_uri": "https://localhost:8080/",
          "height": 265
        },
        "outputId": "90b37f03-2e14-44a2-fb36-c4874b6a4add"
      },
      "source": [
        "#Распознавание рукописных цифр\n",
        "n_rec = 7777\n",
        "plt.imshow(Image.fromarray(x_test_org[n_rec]).convert('RGBA'))\n",
        "plt.show()"
      ],
      "execution_count": null,
      "outputs": [
        {
          "output_type": "display_data",
          "data": {
            "image/png": "[encoded data removed]",
            "text/plain": [
              "<Figure size 432x288 with 1 Axes>"
            ]
          },
          "metadata": {
            "tags": [],
            "needs_background": "light"
          }
        }
      ]
    },
    {
      "cell_type": "code",
      "metadata": {
        "id": "U9zNEKz4Rs2I",
        "colab": {
          "base_uri": "https://localhost:8080/",
          "height": 34
        },
        "outputId": "517d35c0-70b6-4eba-8d74-69e11a2f00a2"
      },
      "source": [
        "# Формируем данные для распознавания\n",
        "x = x_test[n_rec]\n",
        "\n",
        "x = np.expand_dims(x, axis=0) #вектор переделали в массив\n",
        "print(x.shape)"
      ],
      "execution_count": null,
      "outputs": [
        {
          "output_type": "stream",
          "text": [
            "(1, 784)\n"
          ],
          "name": "stdout"
        }
      ]
    },
    {
      "cell_type": "code",
      "metadata": {
        "id": "4PvflDoDTl4v",
        "colab": {
          "base_uri": "https://localhost:8080/",
          "height": 102
        },
        "outputId": "e68a1e31-a3a2-4576-ae05-0dfc727198bf"
      },
      "source": [
        "#и распознаем\n",
        "prediction = model.predict(x)\n",
        "\n",
        "#print(type(prediction))\n",
        "print(prediction) #результат как массив\n",
        "\n",
        "prediction = np.argmax(prediction)\n",
        "print('Распознали:', prediction) #результат как цифра\n",
        "\n",
        "print('Правильный ответ:', y_test_org[n_rec]) "
      ],
      "execution_count": null,
      "outputs": [
        {
          "output_type": "stream",
          "text": [
            "[[1.14742157e-20 4.86265894e-14 1.82501996e-19 5.85148907e-09\n",
            "  1.01241826e-20 1.00000000e+00 2.09355443e-18 1.34996960e-17\n",
            "  2.60188451e-11 1.71764599e-11]]\n",
            "Распознали: 5\n",
            "Правильный ответ: 5\n"
          ],
          "name": "stdout"
        }
      ]
    },
    {
      "cell_type": "markdown",
      "metadata": {
        "id": "L25ZhA2A1grI"
      },
      "source": [
        "#LIGHT#\n",
        "**Вариант 2**\n",
        "\n",
        "Проведите серию экспериментов по перебору гиперпараметров нейронной сети, созданной на занятии.\n",
        "\n",
        "1. Поменяйте количество нейронов в сети, используя следующие значения:\n",
        "* один слой 10 нейронов\n",
        "* один слой 100 нейронов\n",
        "* один слой 5000 нейронов\n",
        "\n",
        "2. Поменяйте активационную функцию в скрытых слоях с relu на linear.\n",
        "3. Поменяйте размеры batch_size:\n",
        "* 1\n",
        "* 10\n",
        "* 100\n",
        "* Вся база (60000)\n",
        "\n",
        "4. Запишите в таблицу получившиеся точности.\n",
        "5. Напишите выводы по результатам проведенных тестов."
      ]
    },
    {
      "cell_type": "code",
      "metadata": {
        "id": "SIzwC2lT1OVL"
      },
      "source": [
        "# Вариант Light 2\n",
        "\n",
        "#Создаем сеть на слое из 10 нейронов\n",
        "model_10 = Sequential()\n",
        "#полносвязный слой на 10 нейронов с relu-активацией\n",
        "model_10.add(Dense(10, input_dim=784, activation=\"relu\")) \n",
        "#полносвязный слой на 10 нейронов с softmax-активацией\n",
        "model_10.add(Dense(10, activation=\"softmax\")) "
      ],
      "execution_count": null,
      "outputs": []
    },
    {
      "cell_type": "code",
      "metadata": {
        "id": "d38OiGx31OkG",
        "colab": {
          "base_uri": "https://localhost:8080/",
          "height": 238
        },
        "outputId": "4fdb26f2-d5b8-469e-8ccc-6472f69adad7"
      },
      "source": [
        "# Компиляция\n",
        "model_10.compile(loss=\"categorical_crossentropy\", optimizer=\"adam\", metrics=[\"accuracy\"]) \n",
        "# Структура модели\n",
        "print(model_10.summary()) "
      ],
      "execution_count": null,
      "outputs": [
        {
          "output_type": "stream",
          "text": [
            "Model: \"sequential_1\"\n",
            "_________________________________________________________________\n",
            "Layer (type)                 Output Shape              Param #   \n",
            "=================================================================\n",
            "dense_3 (Dense)              (None, 10)                7850      \n",
            "_________________________________________________________________\n",
            "dense_4 (Dense)              (None, 10)                110       \n",
            "=================================================================\n",
            "Total params: 7,960\n",
            "Trainable params: 7,960\n",
            "Non-trainable params: 0\n",
            "_________________________________________________________________\n",
            "None\n"
          ],
          "name": "stdout"
        }
      ]
    },
    {
      "cell_type": "code",
      "metadata": {
        "id": "L0uRWPE61Oci",
        "colab": {
          "base_uri": "https://localhost:8080/",
          "height": 544
        },
        "outputId": "03315441-196f-4337-b6d2-e309189d41e8"
      },
      "source": [
        "#Учим так же как в варианте 1\n",
        "model_10.fit(x_train, y_train, batch_size=128, epochs=15, verbose=1)"
      ],
      "execution_count": null,
      "outputs": [
        {
          "output_type": "stream",
          "text": [
            "Epoch 1/15\n",
            "469/469 [==============================] - 2s 3ms/step - loss: 0.8335 - accuracy: 0.7579\n",
            "Epoch 2/15\n",
            "469/469 [==============================] - 2s 3ms/step - loss: 0.3776 - accuracy: 0.8925\n",
            "Epoch 3/15\n",
            "469/469 [==============================] - 2s 3ms/step - loss: 0.3095 - accuracy: 0.9126\n",
            "Epoch 4/15\n",
            "469/469 [==============================] - 2s 3ms/step - loss: 0.2835 - accuracy: 0.9201\n",
            "Epoch 5/15\n",
            "469/469 [==============================] - 2s 3ms/step - loss: 0.2683 - accuracy: 0.9251\n",
            "Epoch 6/15\n",
            "469/469 [==============================] - 2s 3ms/step - loss: 0.2562 - accuracy: 0.9283\n",
            "Epoch 7/15\n",
            "469/469 [==============================] - 2s 3ms/step - loss: 0.2483 - accuracy: 0.9300\n",
            "Epoch 8/15\n",
            "469/469 [==============================] - 2s 3ms/step - loss: 0.2402 - accuracy: 0.9330\n",
            "Epoch 9/15\n",
            "469/469 [==============================] - 2s 3ms/step - loss: 0.2343 - accuracy: 0.9346\n",
            "Epoch 10/15\n",
            "469/469 [==============================] - 2s 3ms/step - loss: 0.2283 - accuracy: 0.9355\n",
            "Epoch 11/15\n",
            "469/469 [==============================] - 2s 3ms/step - loss: 0.2234 - accuracy: 0.9372\n",
            "Epoch 12/15\n",
            "469/469 [==============================] - 2s 3ms/step - loss: 0.2191 - accuracy: 0.9381\n",
            "Epoch 13/15\n",
            "469/469 [==============================] - 2s 4ms/step - loss: 0.2150 - accuracy: 0.9390\n",
            "Epoch 14/15\n",
            "469/469 [==============================] - 2s 4ms/step - loss: 0.2122 - accuracy: 0.9394\n",
            "Epoch 15/15\n",
            "469/469 [==============================] - 2s 4ms/step - loss: 0.2093 - accuracy: 0.9407\n"
          ],
          "name": "stdout"
        },
        {
          "output_type": "execute_result",
          "data": {
            "text/plain": [
              "<tensorflow.python.keras.callbacks.History at 0x7f46d0429f60>"
            ]
          },
          "metadata": {
            "tags": []
          },
          "execution_count": 18
        }
      ]
    },
    {
      "cell_type": "code",
      "metadata": {
        "id": "UKI2xE933HFV"
      },
      "source": [
        "\n",
        "#Создаем сеть на слое из 100 нейронов\n",
        "model_100 = Sequential()\n",
        "#полносвязный слой на 100 нейронов с relu-активацией\n",
        "model_100.add(Dense(100, input_dim=784, activation=\"relu\")) \n",
        "#полносвязный слой на 10 нейронов с softmax-активацией\n",
        "model_100.add(Dense(10, activation=\"softmax\")) "
      ],
      "execution_count": null,
      "outputs": []
    },
    {
      "cell_type": "code",
      "metadata": {
        "id": "1Lax15W93HbQ",
        "colab": {
          "base_uri": "https://localhost:8080/",
          "height": 238
        },
        "outputId": "6db3e863-1986-4a7d-d318-5ff31fb9aa4a"
      },
      "source": [
        "# Компиляция\n",
        "model_100.compile(loss=\"categorical_crossentropy\", optimizer=\"adam\", metrics=[\"accuracy\"]) \n",
        "# Структура модели\n",
        "print(model_100.summary()) "
      ],
      "execution_count": null,
      "outputs": [
        {
          "output_type": "stream",
          "text": [
            "Model: \"sequential_2\"\n",
            "_________________________________________________________________\n",
            "Layer (type)                 Output Shape              Param #   \n",
            "=================================================================\n",
            "dense_5 (Dense)              (None, 100)               78500     \n",
            "_________________________________________________________________\n",
            "dense_6 (Dense)              (None, 10)                1010      \n",
            "=================================================================\n",
            "Total params: 79,510\n",
            "Trainable params: 79,510\n",
            "Non-trainable params: 0\n",
            "_________________________________________________________________\n",
            "None\n"
          ],
          "name": "stdout"
        }
      ]
    },
    {
      "cell_type": "code",
      "metadata": {
        "id": "_MlZH9Z43GzT",
        "colab": {
          "base_uri": "https://localhost:8080/",
          "height": 544
        },
        "outputId": "6998bf94-840d-426f-cdf3-b02e46f7bdac"
      },
      "source": [
        "#Учим так же как в варианте 1\n",
        "model_100.fit(x_train, y_train, batch_size=128, epochs=15, verbose=1)"
      ],
      "execution_count": null,
      "outputs": [
        {
          "output_type": "stream",
          "text": [
            "Epoch 1/15\n",
            "469/469 [==============================] - 2s 3ms/step - loss: 0.3740 - accuracy: 0.8963\n",
            "Epoch 2/15\n",
            "469/469 [==============================] - 2s 3ms/step - loss: 0.1701 - accuracy: 0.9512\n",
            "Epoch 3/15\n",
            "469/469 [==============================] - 2s 3ms/step - loss: 0.1241 - accuracy: 0.9643\n",
            "Epoch 4/15\n",
            "469/469 [==============================] - 2s 3ms/step - loss: 0.0989 - accuracy: 0.9715\n",
            "Epoch 5/15\n",
            "469/469 [==============================] - 2s 3ms/step - loss: 0.0818 - accuracy: 0.9767\n",
            "Epoch 6/15\n",
            "469/469 [==============================] - 2s 3ms/step - loss: 0.0685 - accuracy: 0.9808\n",
            "Epoch 7/15\n",
            "469/469 [==============================] - 2s 3ms/step - loss: 0.0586 - accuracy: 0.9832\n",
            "Epoch 8/15\n",
            "469/469 [==============================] - 2s 3ms/step - loss: 0.0508 - accuracy: 0.9855\n",
            "Epoch 9/15\n",
            "469/469 [==============================] - 2s 3ms/step - loss: 0.0446 - accuracy: 0.9868\n",
            "Epoch 10/15\n",
            "469/469 [==============================] - 2s 4ms/step - loss: 0.0383 - accuracy: 0.9891\n",
            "Epoch 11/15\n",
            "469/469 [==============================] - 2s 4ms/step - loss: 0.0334 - accuracy: 0.9905\n",
            "Epoch 12/15\n",
            "469/469 [==============================] - 2s 4ms/step - loss: 0.0289 - accuracy: 0.9923\n",
            "Epoch 13/15\n",
            "469/469 [==============================] - 2s 4ms/step - loss: 0.0246 - accuracy: 0.9934\n",
            "Epoch 14/15\n",
            "469/469 [==============================] - 2s 4ms/step - loss: 0.0220 - accuracy: 0.9945\n",
            "Epoch 15/15\n",
            "469/469 [==============================] - 2s 4ms/step - loss: 0.0193 - accuracy: 0.9954\n"
          ],
          "name": "stdout"
        },
        {
          "output_type": "execute_result",
          "data": {
            "text/plain": [
              "<tensorflow.python.keras.callbacks.History at 0x7f46d0329208>"
            ]
          },
          "metadata": {
            "tags": []
          },
          "execution_count": 21
        }
      ]
    },
    {
      "cell_type": "code",
      "metadata": {
        "id": "usn6lra3wm56"
      },
      "source": [
        "\n",
        "\n",
        "#Создаем сеть на слое из 5000 нейронов\n",
        "model_5000 = Sequential()\n",
        "#полносвязный слой на 5000 нейронов с relu-активацией\n",
        "model_5000.add(Dense(5000, input_dim=784, activation=\"relu\")) \n",
        "#полносвязный слой на 10 нейронов с softmax-активацией\n",
        "model_5000.add(Dense(10, activation=\"softmax\")) "
      ],
      "execution_count": null,
      "outputs": []
    },
    {
      "cell_type": "code",
      "metadata": {
        "id": "GGud7vwUz39K",
        "colab": {
          "base_uri": "https://localhost:8080/",
          "height": 238
        },
        "outputId": "11ebe11a-09a2-46e0-f5fd-cc8d12c5bb6c"
      },
      "source": [
        "# Компиляция\n",
        "model_5000.compile(loss=\"categorical_crossentropy\", optimizer=\"adam\", metrics=[\"accuracy\"]) \n",
        "# Структура модели\n",
        "print(model_5000.summary()) "
      ],
      "execution_count": null,
      "outputs": [
        {
          "output_type": "stream",
          "text": [
            "Model: \"sequential_3\"\n",
            "_________________________________________________________________\n",
            "Layer (type)                 Output Shape              Param #   \n",
            "=================================================================\n",
            "dense_7 (Dense)              (None, 5000)              3925000   \n",
            "_________________________________________________________________\n",
            "dense_8 (Dense)              (None, 10)                50010     \n",
            "=================================================================\n",
            "Total params: 3,975,010\n",
            "Trainable params: 3,975,010\n",
            "Non-trainable params: 0\n",
            "_________________________________________________________________\n",
            "None\n"
          ],
          "name": "stdout"
        }
      ]
    },
    {
      "cell_type": "code",
      "metadata": {
        "id": "x7ZV_7Kp0ILA",
        "colab": {
          "base_uri": "https://localhost:8080/",
          "height": 544
        },
        "outputId": "9161c5c1-febd-4dae-f0a4-c1bf60032b52"
      },
      "source": [
        "#Учим так же как в варианте 1\n",
        "model_5000.fit(x_train, y_train, batch_size=128, epochs=15, verbose=1)"
      ],
      "execution_count": null,
      "outputs": [
        {
          "output_type": "stream",
          "text": [
            "Epoch 1/15\n",
            "469/469 [==============================] - 3s 6ms/step - loss: 0.1937 - accuracy: 0.9418\n",
            "Epoch 2/15\n",
            "469/469 [==============================] - 3s 6ms/step - loss: 0.0730 - accuracy: 0.9774\n",
            "Epoch 3/15\n",
            "469/469 [==============================] - 3s 6ms/step - loss: 0.0453 - accuracy: 0.9858\n",
            "Epoch 4/15\n",
            "469/469 [==============================] - 3s 6ms/step - loss: 0.0305 - accuracy: 0.9900\n",
            "Epoch 5/15\n",
            "469/469 [==============================] - 3s 6ms/step - loss: 0.0217 - accuracy: 0.9928\n",
            "Epoch 6/15\n",
            "469/469 [==============================] - 3s 6ms/step - loss: 0.0175 - accuracy: 0.9942\n",
            "Epoch 7/15\n",
            "469/469 [==============================] - 3s 6ms/step - loss: 0.0141 - accuracy: 0.9951\n",
            "Epoch 8/15\n",
            "469/469 [==============================] - 3s 6ms/step - loss: 0.0140 - accuracy: 0.9954\n",
            "Epoch 9/15\n",
            "469/469 [==============================] - 3s 6ms/step - loss: 0.0133 - accuracy: 0.9955\n",
            "Epoch 10/15\n",
            "469/469 [==============================] - 3s 6ms/step - loss: 0.0106 - accuracy: 0.9965\n",
            "Epoch 11/15\n",
            "469/469 [==============================] - 3s 6ms/step - loss: 0.0098 - accuracy: 0.9967\n",
            "Epoch 12/15\n",
            "469/469 [==============================] - 3s 6ms/step - loss: 0.0099 - accuracy: 0.9968\n",
            "Epoch 13/15\n",
            "469/469 [==============================] - 3s 6ms/step - loss: 0.0087 - accuracy: 0.9971\n",
            "Epoch 14/15\n",
            "469/469 [==============================] - 3s 6ms/step - loss: 0.0059 - accuracy: 0.9983\n",
            "Epoch 15/15\n",
            "469/469 [==============================] - 3s 6ms/step - loss: 0.0088 - accuracy: 0.9971\n"
          ],
          "name": "stdout"
        },
        {
          "output_type": "execute_result",
          "data": {
            "text/plain": [
              "<tensorflow.python.keras.callbacks.History at 0x7f46d0391a20>"
            ]
          },
          "metadata": {
            "tags": []
          },
          "execution_count": 24
        }
      ]
    },
    {
      "cell_type": "markdown",
      "metadata": {
        "id": "xEi7wfIe4N5k"
      },
      "source": [
        "Лучше всего научилась сеть из одного 5000 нейронного слоя. На втором месте сеть 800+400 из Варианта 1. На третьем - сеть из 100 нейронов и на последнем  - из 10.\n",
        "Первые три сети имеют точность выше 99% и все получились работоспособны.\n",
        "Последняя - 10 нейронная не выучилась более чем на 93%"
      ]
    },
    {
      "cell_type": "code",
      "metadata": {
        "id": "xaaenoey5L5x"
      },
      "source": [
        "#Меняем активационную функцию с relu на linear\n",
        "\n",
        "#Создаем сеть\n",
        "model_lin = Sequential()\n",
        "#полносвязный слой на 800 нейронов \n",
        "model_lin.add(Dense(800, input_dim=784, activation=\"linear\")) \n",
        "#полносвязный слой на 400 нейронов \n",
        "model_lin.add(Dense(400, activation=\"linear\")) \n",
        "#полносвязный слой на 10 нейронов с softmax-активацией\n",
        "model_lin.add(Dense(10, activation=\"softmax\")) "
      ],
      "execution_count": null,
      "outputs": []
    },
    {
      "cell_type": "code",
      "metadata": {
        "id": "fj3eQbyR7ZfI",
        "colab": {
          "base_uri": "https://localhost:8080/",
          "height": 272
        },
        "outputId": "3980aa26-4743-4596-faf3-46144daa1e53"
      },
      "source": [
        "# Компиляция\n",
        "model_lin.compile(loss=\"categorical_crossentropy\", optimizer=\"adam\", metrics=[\"accuracy\"]) \n",
        "# Структура модели\n",
        "print(model_lin.summary()) "
      ],
      "execution_count": null,
      "outputs": [
        {
          "output_type": "stream",
          "text": [
            "Model: \"sequential_4\"\n",
            "_________________________________________________________________\n",
            "Layer (type)                 Output Shape              Param #   \n",
            "=================================================================\n",
            "dense_9 (Dense)              (None, 800)               628000    \n",
            "_________________________________________________________________\n",
            "dense_10 (Dense)             (None, 400)               320400    \n",
            "_________________________________________________________________\n",
            "dense_11 (Dense)             (None, 10)                4010      \n",
            "=================================================================\n",
            "Total params: 952,410\n",
            "Trainable params: 952,410\n",
            "Non-trainable params: 0\n",
            "_________________________________________________________________\n",
            "None\n"
          ],
          "name": "stdout"
        }
      ]
    },
    {
      "cell_type": "code",
      "metadata": {
        "id": "_XEGjh7-7jFy",
        "colab": {
          "base_uri": "https://localhost:8080/",
          "height": 544
        },
        "outputId": "55f6f277-5435-4032-bd06-4bf7f35262e0"
      },
      "source": [
        "#Учим так же как в варианте 1\n",
        "model_lin.fit(x_train, y_train, batch_size=128, epochs=15, verbose=1)"
      ],
      "execution_count": null,
      "outputs": [
        {
          "output_type": "stream",
          "text": [
            "Epoch 1/15\n",
            "469/469 [==============================] - 2s 4ms/step - loss: 0.3959 - accuracy: 0.8866\n",
            "Epoch 2/15\n",
            "469/469 [==============================] - 2s 4ms/step - loss: 0.3280 - accuracy: 0.9070\n",
            "Epoch 3/15\n",
            "469/469 [==============================] - 2s 4ms/step - loss: 0.3132 - accuracy: 0.9114\n",
            "Epoch 4/15\n",
            "469/469 [==============================] - 2s 4ms/step - loss: 0.3018 - accuracy: 0.9150\n",
            "Epoch 5/15\n",
            "469/469 [==============================] - 2s 4ms/step - loss: 0.2937 - accuracy: 0.9173\n",
            "Epoch 6/15\n",
            "469/469 [==============================] - 2s 4ms/step - loss: 0.2914 - accuracy: 0.9173\n",
            "Epoch 7/15\n",
            "469/469 [==============================] - 2s 4ms/step - loss: 0.2886 - accuracy: 0.9175\n",
            "Epoch 8/15\n",
            "469/469 [==============================] - 2s 4ms/step - loss: 0.2827 - accuracy: 0.9206\n",
            "Epoch 9/15\n",
            "469/469 [==============================] - 2s 4ms/step - loss: 0.2803 - accuracy: 0.9211\n",
            "Epoch 10/15\n",
            "469/469 [==============================] - 2s 4ms/step - loss: 0.2783 - accuracy: 0.9218\n",
            "Epoch 11/15\n",
            "469/469 [==============================] - 2s 4ms/step - loss: 0.2746 - accuracy: 0.9226\n",
            "Epoch 12/15\n",
            "469/469 [==============================] - 2s 4ms/step - loss: 0.2741 - accuracy: 0.9231\n",
            "Epoch 13/15\n",
            "469/469 [==============================] - 2s 4ms/step - loss: 0.2714 - accuracy: 0.9236\n",
            "Epoch 14/15\n",
            "469/469 [==============================] - 2s 4ms/step - loss: 0.2680 - accuracy: 0.9243\n",
            "Epoch 15/15\n",
            "469/469 [==============================] - 2s 4ms/step - loss: 0.2696 - accuracy: 0.9246\n"
          ],
          "name": "stdout"
        },
        {
          "output_type": "execute_result",
          "data": {
            "text/plain": [
              "<tensorflow.python.keras.callbacks.History at 0x7f46d016bef0>"
            ]
          },
          "metadata": {
            "tags": []
          },
          "execution_count": 27
        }
      ]
    },
    {
      "cell_type": "markdown",
      "metadata": {
        "id": "S5d0oGJ976Sj"
      },
      "source": [
        "Не выучились выше 92 процентов"
      ]
    },
    {
      "cell_type": "code",
      "metadata": {
        "id": "O53NLMCy8ELg"
      },
      "source": [
        "#Поменяйте размеры batch_size: 1 10 100 Вся база (60000)\n",
        "\n",
        "#Повторим сеть как в варианте 1\n",
        "model_2 = Sequential()\n",
        "#полносвязный слой на 800 нейронов с relu-активацией\n",
        "model_2.add(Dense(800, input_dim=784, activation=\"relu\")) \n",
        "#полносвязный слой на 400 нейронов с relu-активацией\n",
        "model_2.add(Dense(400, activation=\"relu\")) \n",
        "#полносвязный слой на 10 нейронов с softmax-активацией\n",
        "model_2.add(Dense(10, activation=\"softmax\")) "
      ],
      "execution_count": null,
      "outputs": []
    },
    {
      "cell_type": "code",
      "metadata": {
        "id": "Y-dIuGOg9Srg",
        "colab": {
          "base_uri": "https://localhost:8080/",
          "height": 272
        },
        "outputId": "e656567f-92fe-4206-a4ea-f6d60a8558a0"
      },
      "source": [
        "# Компиляция\n",
        "model_2.compile(loss=\"categorical_crossentropy\", optimizer=\"adam\", metrics=[\"accuracy\"]) \n",
        "# Структура модели\n",
        "print(model_2.summary()) "
      ],
      "execution_count": null,
      "outputs": [
        {
          "output_type": "stream",
          "text": [
            "Model: \"sequential_5\"\n",
            "_________________________________________________________________\n",
            "Layer (type)                 Output Shape              Param #   \n",
            "=================================================================\n",
            "dense_12 (Dense)             (None, 800)               628000    \n",
            "_________________________________________________________________\n",
            "dense_13 (Dense)             (None, 400)               320400    \n",
            "_________________________________________________________________\n",
            "dense_14 (Dense)             (None, 10)                4010      \n",
            "=================================================================\n",
            "Total params: 952,410\n",
            "Trainable params: 952,410\n",
            "Non-trainable params: 0\n",
            "_________________________________________________________________\n",
            "None\n"
          ],
          "name": "stdout"
        }
      ]
    },
    {
      "cell_type": "code",
      "metadata": {
        "id": "8G_SJFlP9Voh",
        "colab": {
          "base_uri": "https://localhost:8080/",
          "height": 544
        },
        "outputId": "966647b7-7bf4-4fe4-ca04-b64465a74386"
      },
      "source": [
        "#Учим batch=1\n",
        "model_2.fit(x_train, y_train, batch_size=1, epochs=15, verbose=1)"
      ],
      "execution_count": null,
      "outputs": [
        {
          "output_type": "stream",
          "text": [
            "Epoch 1/15\n",
            "60000/60000 [==============================] - 116s 2ms/step - loss: 0.2828 - accuracy: 0.9263\n",
            "Epoch 2/15\n",
            "60000/60000 [==============================] - 118s 2ms/step - loss: 0.1942 - accuracy: 0.9570\n",
            "Epoch 3/15\n",
            "60000/60000 [==============================] - 116s 2ms/step - loss: 0.1706 - accuracy: 0.9639\n",
            "Epoch 4/15\n",
            "60000/60000 [==============================] - 118s 2ms/step - loss: 0.1587 - accuracy: 0.9678\n",
            "Epoch 5/15\n",
            "60000/60000 [==============================] - 117s 2ms/step - loss: 0.1487 - accuracy: 0.9703\n",
            "Epoch 6/15\n",
            "60000/60000 [==============================] - 117s 2ms/step - loss: 0.1398 - accuracy: 0.9734\n",
            "Epoch 7/15\n",
            "60000/60000 [==============================] - 118s 2ms/step - loss: 0.1323 - accuracy: 0.9750\n",
            "Epoch 8/15\n",
            "60000/60000 [==============================] - 117s 2ms/step - loss: 0.1357 - accuracy: 0.9763\n",
            "Epoch 9/15\n",
            "60000/60000 [==============================] - 116s 2ms/step - loss: 0.1246 - accuracy: 0.9772\n",
            "Epoch 10/15\n",
            "60000/60000 [==============================] - 116s 2ms/step - loss: 0.1419 - accuracy: 0.9768\n",
            "Epoch 11/15\n",
            "60000/60000 [==============================] - 115s 2ms/step - loss: 0.1256 - accuracy: 0.9771\n",
            "Epoch 12/15\n",
            "60000/60000 [==============================] - 117s 2ms/step - loss: 0.1337 - accuracy: 0.9775\n",
            "Epoch 13/15\n",
            "60000/60000 [==============================] - 113s 2ms/step - loss: 0.1410 - accuracy: 0.9785\n",
            "Epoch 14/15\n",
            "60000/60000 [==============================] - 113s 2ms/step - loss: 0.1275 - accuracy: 0.9787\n",
            "Epoch 15/15\n",
            "60000/60000 [==============================] - 115s 2ms/step - loss: 0.1507 - accuracy: 0.9776\n"
          ],
          "name": "stdout"
        },
        {
          "output_type": "execute_result",
          "data": {
            "text/plain": [
              "<tensorflow.python.keras.callbacks.History at 0x7f75904a85f8>"
            ]
          },
          "metadata": {
            "tags": []
          },
          "execution_count": 33
        }
      ]
    },
    {
      "cell_type": "code",
      "metadata": {
        "id": "IoZaQPQz9iZG",
        "colab": {
          "base_uri": "https://localhost:8080/",
          "height": 544
        },
        "outputId": "de53c88b-9ad3-43b1-cdbf-56a8fafa97c2"
      },
      "source": [
        "#Повторим сеть как в варианте 1\n",
        "model_2 = Sequential()\n",
        "#полносвязный слой на 800 нейронов с relu-активацией\n",
        "model_2.add(Dense(800, input_dim=784, activation=\"relu\")) \n",
        "#полносвязный слой на 400 нейронов с relu-активацией\n",
        "model_2.add(Dense(400, activation=\"relu\")) \n",
        "#полносвязный слой на 10 нейронов с softmax-активацией\n",
        "model_2.add(Dense(10, activation=\"softmax\")) \n",
        "\n",
        "# Компиляция\n",
        "model_2.compile(loss=\"categorical_crossentropy\", optimizer=\"adam\", metrics=[\"accuracy\"]) \n",
        "\n",
        "#Учим batch=10\n",
        "model_2.fit(x_train, y_train, batch_size=10, epochs=15, verbose=1)"
      ],
      "execution_count": null,
      "outputs": [
        {
          "output_type": "stream",
          "text": [
            "Epoch 1/15\n",
            "6000/6000 [==============================] - 21s 4ms/step - loss: 0.1892 - accuracy: 0.9430\n",
            "Epoch 2/15\n",
            "6000/6000 [==============================] - 22s 4ms/step - loss: 0.0932 - accuracy: 0.9726\n",
            "Epoch 3/15\n",
            "6000/6000 [==============================] - 22s 4ms/step - loss: 0.0673 - accuracy: 0.9798\n",
            "Epoch 4/15\n",
            "6000/6000 [==============================] - 22s 4ms/step - loss: 0.0538 - accuracy: 0.9839\n",
            "Epoch 5/15\n",
            "6000/6000 [==============================] - 22s 4ms/step - loss: 0.0468 - accuracy: 0.9865\n",
            "Epoch 6/15\n",
            "6000/6000 [==============================] - 22s 4ms/step - loss: 0.0420 - accuracy: 0.9880\n",
            "Epoch 7/15\n",
            "6000/6000 [==============================] - 21s 4ms/step - loss: 0.0373 - accuracy: 0.9898\n",
            "Epoch 8/15\n",
            "6000/6000 [==============================] - 21s 4ms/step - loss: 0.0346 - accuracy: 0.9904\n",
            "Epoch 9/15\n",
            "6000/6000 [==============================] - 22s 4ms/step - loss: 0.0343 - accuracy: 0.9911\n",
            "Epoch 10/15\n",
            "6000/6000 [==============================] - 21s 4ms/step - loss: 0.0304 - accuracy: 0.9921\n",
            "Epoch 11/15\n",
            "6000/6000 [==============================] - 21s 4ms/step - loss: 0.0331 - accuracy: 0.9923\n",
            "Epoch 12/15\n",
            "6000/6000 [==============================] - 21s 4ms/step - loss: 0.0272 - accuracy: 0.9930\n",
            "Epoch 13/15\n",
            "6000/6000 [==============================] - 21s 4ms/step - loss: 0.0321 - accuracy: 0.9926\n",
            "Epoch 14/15\n",
            "6000/6000 [==============================] - 21s 4ms/step - loss: 0.0271 - accuracy: 0.9942\n",
            "Epoch 15/15\n",
            "6000/6000 [==============================] - 21s 4ms/step - loss: 0.0273 - accuracy: 0.9940\n"
          ],
          "name": "stdout"
        },
        {
          "output_type": "execute_result",
          "data": {
            "text/plain": [
              "<tensorflow.python.keras.callbacks.History at 0x7f46d00215c0>"
            ]
          },
          "metadata": {
            "tags": []
          },
          "execution_count": 30
        }
      ]
    },
    {
      "cell_type": "code",
      "metadata": {
        "id": "Ls_puubH9m-Q",
        "colab": {
          "base_uri": "https://localhost:8080/",
          "height": 544
        },
        "outputId": "600b5596-1407-4072-c07e-c20b7c4f8ad0"
      },
      "source": [
        "#Повторим сеть как в варианте 1\n",
        "model_2 = Sequential()\n",
        "#полносвязный слой на 800 нейронов с relu-активацией\n",
        "model_2.add(Dense(800, input_dim=784, activation=\"relu\")) \n",
        "#полносвязный слой на 400 нейронов с relu-активацией\n",
        "model_2.add(Dense(400, activation=\"relu\")) \n",
        "#полносвязный слой на 10 нейронов с softmax-активацией\n",
        "model_2.add(Dense(10, activation=\"softmax\")) \n",
        "\n",
        "# Компиляция\n",
        "model_2.compile(loss=\"categorical_crossentropy\", optimizer=\"adam\", metrics=[\"accuracy\"]) \n",
        "\n",
        "#Учим batch=100\n",
        "model_2.fit(x_train, y_train, batch_size=100, epochs=15, verbose=1)"
      ],
      "execution_count": null,
      "outputs": [
        {
          "output_type": "stream",
          "text": [
            "Epoch 1/15\n",
            "600/600 [==============================] - 3s 4ms/step - loss: 0.1986 - accuracy: 0.9397\n",
            "Epoch 2/15\n",
            "600/600 [==============================] - 2s 4ms/step - loss: 0.0746 - accuracy: 0.9767\n",
            "Epoch 3/15\n",
            "600/600 [==============================] - 3s 4ms/step - loss: 0.0490 - accuracy: 0.9838\n",
            "Epoch 4/15\n",
            "600/600 [==============================] - 2s 4ms/step - loss: 0.0344 - accuracy: 0.9889\n",
            "Epoch 5/15\n",
            "600/600 [==============================] - 3s 4ms/step - loss: 0.0293 - accuracy: 0.9901\n",
            "Epoch 6/15\n",
            "600/600 [==============================] - 3s 4ms/step - loss: 0.0235 - accuracy: 0.9923\n",
            "Epoch 7/15\n",
            "600/600 [==============================] - 3s 4ms/step - loss: 0.0178 - accuracy: 0.9941\n",
            "Epoch 8/15\n",
            "600/600 [==============================] - 2s 4ms/step - loss: 0.0194 - accuracy: 0.9935\n",
            "Epoch 9/15\n",
            "600/600 [==============================] - 2s 4ms/step - loss: 0.0168 - accuracy: 0.9944\n",
            "Epoch 10/15\n",
            "600/600 [==============================] - 2s 4ms/step - loss: 0.0110 - accuracy: 0.9963\n",
            "Epoch 11/15\n",
            "600/600 [==============================] - 2s 4ms/step - loss: 0.0146 - accuracy: 0.9951\n",
            "Epoch 12/15\n",
            "600/600 [==============================] - 3s 4ms/step - loss: 0.0109 - accuracy: 0.9963\n",
            "Epoch 13/15\n",
            "600/600 [==============================] - 3s 4ms/step - loss: 0.0109 - accuracy: 0.9965\n",
            "Epoch 14/15\n",
            "600/600 [==============================] - 3s 4ms/step - loss: 0.0084 - accuracy: 0.9973\n",
            "Epoch 15/15\n",
            "600/600 [==============================] - 3s 5ms/step - loss: 0.0112 - accuracy: 0.9968\n"
          ],
          "name": "stdout"
        },
        {
          "output_type": "execute_result",
          "data": {
            "text/plain": [
              "<tensorflow.python.keras.callbacks.History at 0x7f467d757ef0>"
            ]
          },
          "metadata": {
            "tags": []
          },
          "execution_count": 31
        }
      ]
    },
    {
      "cell_type": "code",
      "metadata": {
        "id": "_Dpt7cnu9tqK",
        "colab": {
          "base_uri": "https://localhost:8080/",
          "height": 544
        },
        "outputId": "4f5287cf-96a5-463d-9046-41c2681fb414"
      },
      "source": [
        "#Повторим сеть как в варианте 1\n",
        "model_2 = Sequential()\n",
        "#полносвязный слой на 800 нейронов с relu-активацией\n",
        "model_2.add(Dense(800, input_dim=784, activation=\"relu\")) \n",
        "#полносвязный слой на 400 нейронов с relu-активацией\n",
        "model_2.add(Dense(400, activation=\"relu\")) \n",
        "#полносвязный слой на 10 нейронов с softmax-активацией\n",
        "model_2.add(Dense(10, activation=\"softmax\")) \n",
        "\n",
        "# Компиляция\n",
        "model_2.compile(loss=\"categorical_crossentropy\", optimizer=\"adam\", metrics=[\"accuracy\"]) \n",
        "\n",
        "#Учим batch=60000\n",
        "model_2.fit(x_train, y_train, batch_size=60000, epochs=15, verbose=1)"
      ],
      "execution_count": null,
      "outputs": [
        {
          "output_type": "stream",
          "text": [
            "Epoch 1/15\n",
            "1/1 [==============================] - 0s 2ms/step - loss: 2.3213 - accuracy: 0.1212\n",
            "Epoch 2/15\n",
            "1/1 [==============================] - 0s 170ms/step - loss: 1.9044 - accuracy: 0.5726\n",
            "Epoch 3/15\n",
            "1/1 [==============================] - 0s 155ms/step - loss: 1.5583 - accuracy: 0.7201\n",
            "Epoch 4/15\n",
            "1/1 [==============================] - 0s 146ms/step - loss: 1.2336 - accuracy: 0.7923\n",
            "Epoch 5/15\n",
            "1/1 [==============================] - 0s 152ms/step - loss: 0.9636 - accuracy: 0.8090\n",
            "Epoch 6/15\n",
            "1/1 [==============================] - 0s 151ms/step - loss: 0.7589 - accuracy: 0.8304\n",
            "Epoch 7/15\n",
            "1/1 [==============================] - 0s 138ms/step - loss: 0.6177 - accuracy: 0.8483\n",
            "Epoch 8/15\n",
            "1/1 [==============================] - 0s 147ms/step - loss: 0.5236 - accuracy: 0.8594\n",
            "Epoch 9/15\n",
            "1/1 [==============================] - 0s 149ms/step - loss: 0.4627 - accuracy: 0.8664\n",
            "Epoch 10/15\n",
            "1/1 [==============================] - 0s 152ms/step - loss: 0.4194 - accuracy: 0.8785\n",
            "Epoch 11/15\n",
            "1/1 [==============================] - 0s 152ms/step - loss: 0.3906 - accuracy: 0.8858\n",
            "Epoch 12/15\n",
            "1/1 [==============================] - 0s 152ms/step - loss: 0.3696 - accuracy: 0.8901\n",
            "Epoch 13/15\n",
            "1/1 [==============================] - 0s 150ms/step - loss: 0.3530 - accuracy: 0.8960\n",
            "Epoch 14/15\n",
            "1/1 [==============================] - 0s 157ms/step - loss: 0.3408 - accuracy: 0.9012\n",
            "Epoch 15/15\n",
            "1/1 [==============================] - 0s 157ms/step - loss: 0.3282 - accuracy: 0.9050\n"
          ],
          "name": "stdout"
        },
        {
          "output_type": "execute_result",
          "data": {
            "text/plain": [
              "<tensorflow.python.keras.callbacks.History at 0x7f467ce617f0>"
            ]
          },
          "metadata": {
            "tags": []
          },
          "execution_count": 32
        }
      ]
    },
    {
      "cell_type": "markdown",
      "metadata": {
        "id": "v9N82uqv-3Oe"
      },
      "source": [
        "\n",
        "[Таблица с результатами обучения](https://docs.google.com/spreadsheets/d/1LqBEzxrq8F0fzsIeJkCBf6uHE0225lnryOnygQV1fHM/edit?usp=sharing)"
      ]
    },
    {
      "cell_type": "code",
      "metadata": {
        "id": "DsDNqPoPGMjx",
        "colab": {
          "base_uri": "https://localhost:8080/",
          "height": 85
        },
        "outputId": "53590a8d-6dec-4bff-f6f7-74da7b727a45"
      },
      "source": [
        "#Распознаем туже цифру, что в Варианте 1\n",
        "prediction_2 = model_2.predict(x)\n",
        "\n",
        "print(prediction_2) #результат как массив\n",
        "\n",
        "prediction_2 = np.argmax(prediction_2)\n",
        "print('Распознали:', prediction_2) #результат как цифра\n",
        "\n",
        "print('Правильный ответ:', y_test_org[n_rec]) "
      ],
      "execution_count": null,
      "outputs": [
        {
          "output_type": "stream",
          "text": [
            "[[8.9184986e-03 2.3669557e-08 9.3189152e-03 2.7832741e-02 6.0461150e-11\n",
            "  9.5037979e-01 1.8754966e-03 9.6290698e-10 1.6746164e-03 2.8617435e-09]]\n",
            "Распознали: 5\n",
            "Правильный ответ: 5\n"
          ],
          "name": "stdout"
        }
      ]
    },
    {
      "cell_type": "markdown",
      "metadata": {
        "id": "uINmNXFfE2-L"
      },
      "source": [
        "#PRO#\n",
        "\n",
        "Распознайте рукописную цифру, созданную вами с помощью графического редактора (например, Paint).\n",
        "\n",
        "Последовательность шагов:\n",
        "1. В графическом редакторе рисуем произвольную цифру.\n",
        "2. Сохраняем документ и загружаем его в Collaboratory.\n",
        "3. С помощью функции image.load_img(‘2.png’, target_size=(28, 28), color_mode = ‘grayscale’) загружаем картинку в переменную.\n",
        "4.  С помощью функции image.img_to_array(img) преобразуем изображение в numpy-массив.\n",
        "5. Выполняем инверсию цветов, нормирование и решейп массива.\n",
        "6. Выполняем распознавание собственной рукописной цифры.\n",
        "\n",
        "Реализуйте тот же алгоритм для написанной на листе от руки цифры (для этого необходимо сделать дополнительную предобработку изображения).\n"
      ]
    },
    {
      "cell_type": "code",
      "metadata": {
        "id": "IhMVIXlUVpts",
        "colab": {
          "base_uri": "https://localhost:8080/",
          "height": 265
        },
        "outputId": "a23211f4-2e26-4690-a61d-ddfbecfeeaec"
      },
      "source": [
        "#Файл с рукописной цифрой 9.png создал 28х28 пикселов и сразу белым на черном фоне \n",
        "\n",
        "x_9 = image.load_img('9.png', target_size=(28,28), color_mode='grayscale')\n",
        "#print(type(x))\n",
        "\n",
        "plt.imshow(x_9.convert('RGB'))\n",
        "plt.show()"
      ],
      "execution_count": null,
      "outputs": [
        {
          "output_type": "display_data",
          "data": {
            "image/png": "[encoded data removed]",
            "text/plain": [
              "<Figure size 432x288 with 1 Axes>"
            ]
          },
          "metadata": {
            "tags": [],
            "needs_background": "light"
          }
        }
      ]
    },
    {
      "cell_type": "code",
      "metadata": {
        "id": "PFIkEdXlbxkF",
        "colab": {
          "base_uri": "https://localhost:8080/",
          "height": 51
        },
        "outputId": "dac65002-d2a6-442b-ea80-fadf5c0bed9f"
      },
      "source": [
        "#Переделываем в массив и делаем решейп\n",
        "\n",
        "x_9 = image.img_to_array(x_9)\n",
        "print(x_9.shape)\n",
        "\n",
        "x_9 = x_9.reshape(1,784)\n",
        "print(x_9.shape)"
      ],
      "execution_count": null,
      "outputs": [
        {
          "output_type": "stream",
          "text": [
            "(28, 28, 1)\n",
            "(1, 784)\n"
          ],
          "name": "stdout"
        }
      ]
    },
    {
      "cell_type": "code",
      "metadata": {
        "id": "qEHZzVXTfebH",
        "colab": {
          "base_uri": "https://localhost:8080/",
          "height": 51
        },
        "outputId": "2c7284ff-d514-494e-acfd-36be0678f80d"
      },
      "source": [
        "#и распознаем\n",
        "prediction_9 = model.predict(x_9)\n",
        "\n",
        "#print(type(prediction))\n",
        "print(prediction_9) #результат как массив\n",
        "\n",
        "prediction_9 = np.argmax(prediction_9)\n",
        "print('Распознали:', prediction_9) #результат как цифра\n",
        "\n"
      ],
      "execution_count": null,
      "outputs": [
        {
          "output_type": "stream",
          "text": [
            "[[0. 0. 0. 0. 0. 0. 0. 0. 0. 1.]]\n",
            "Распознали: 9\n"
          ],
          "name": "stdout"
        }
      ]
    },
    {
      "cell_type": "code",
      "metadata": {
        "id": "_YamiRMUhtse",
        "colab": {
          "base_uri": "https://localhost:8080/",
          "height": 265
        },
        "outputId": "6badf1ec-cfd2-460d-bb46-c737e9a1707b"
      },
      "source": [
        "#Повторим тоже самое с фото рукописной  цифры\n",
        "#Файл с рукописной цифрой 8.png сделан из фото.\n",
        "\n",
        "x_8 = image.load_img('8.png', target_size=(28,28), color_mode='grayscale')\n",
        "#print(type(x))\n",
        "\n",
        "plt.imshow(x_8.convert('RGB'))\n",
        "plt.show()"
      ],
      "execution_count": null,
      "outputs": [
        {
          "output_type": "display_data",
          "data": {
            "image/png": "[encoded data removed]",
            "text/plain": [
              "<Figure size 432x288 with 1 Axes>"
            ]
          },
          "metadata": {
            "tags": [],
            "needs_background": "light"
          }
        }
      ]
    },
    {
      "cell_type": "code",
      "metadata": {
        "id": "nISLjz4WrFxy",
        "colab": {
          "base_uri": "https://localhost:8080/",
          "height": 51
        },
        "outputId": "4598c525-6d3e-4b84-a425-4bf1a4301f0c"
      },
      "source": [
        "#Переделываем в массив и делаем решейп\n",
        "\n",
        "x_8 = image.img_to_array(x_8)\n",
        "print(x_8.shape)\n",
        "\n",
        "x_8 = x_8.reshape(1,784)\n",
        "print(x_8.shape)"
      ],
      "execution_count": null,
      "outputs": [
        {
          "output_type": "stream",
          "text": [
            "(28, 28, 1)\n",
            "(1, 784)\n"
          ],
          "name": "stdout"
        }
      ]
    },
    {
      "cell_type": "code",
      "metadata": {
        "id": "i2U75v9prP5x",
        "colab": {
          "base_uri": "https://localhost:8080/",
          "height": 51
        },
        "outputId": "930aae8b-6764-487a-84a7-01b41ba34f65"
      },
      "source": [
        "#и распознаем\n",
        "prediction_8 = model.predict(x_8)\n",
        "\n",
        "#print(type(prediction))\n",
        "print(prediction_8) #результат как массив\n",
        "\n",
        "prediction_8 = np.argmax(prediction_8)\n",
        "print('Распознали:', prediction_8) #результат как цифра"
      ],
      "execution_count": null,
      "outputs": [
        {
          "output_type": "stream",
          "text": [
            "[[0. 0. 0. 0. 0. 0. 0. 0. 1. 0.]]\n",
            "Распознали: 8\n"
          ],
          "name": "stdout"
        }
      ]
    },
    {
      "cell_type": "code",
      "metadata": {
        "id": "UHdAnzYpuBvG",
        "colab": {
          "base_uri": "https://localhost:8080/",
          "height": 265
        },
        "outputId": "2085be93-0360-461b-8e2c-bb7d9a3ddf7a"
      },
      "source": [
        "#Посмотрим цифру 7. Распознает ли 7 с черточкой.\n",
        "#Файл с рукописной цифрой 7.png сделан из фото.\n",
        "\n",
        "x_7 = image.load_img('7.png', target_size=(28,28), color_mode='grayscale')\n",
        "#print(type(x))\n",
        "\n",
        "plt.imshow(x_7.convert('RGB'))\n",
        "plt.show()"
      ],
      "execution_count": null,
      "outputs": [
        {
          "output_type": "display_data",
          "data": {
            "image/png": "[encoded data removed]",
            "text/plain": [
              "<Figure size 432x288 with 1 Axes>"
            ]
          },
          "metadata": {
            "tags": [],
            "needs_background": "light"
          }
        }
      ]
    },
    {
      "cell_type": "code",
      "metadata": {
        "id": "6seyc_seuXVa",
        "colab": {
          "base_uri": "https://localhost:8080/",
          "height": 51
        },
        "outputId": "2ac5816a-29e0-4c0a-e8d1-ed502cbdeac0"
      },
      "source": [
        "#Переделываем в массив и делаем решейп\n",
        "\n",
        "x_7 = image.img_to_array(x_7)\n",
        "print(x_7.shape)\n",
        "\n",
        "x_7 = x_7.reshape(1,784)\n",
        "print(x_7.shape)"
      ],
      "execution_count": null,
      "outputs": [
        {
          "output_type": "stream",
          "text": [
            "(28, 28, 1)\n",
            "(1, 784)\n"
          ],
          "name": "stdout"
        }
      ]
    },
    {
      "cell_type": "code",
      "metadata": {
        "id": "t2QYkcrvulBW",
        "colab": {
          "base_uri": "https://localhost:8080/",
          "height": 51
        },
        "outputId": "a220a75e-1e60-488b-be65-50c272b3cf79"
      },
      "source": [
        "#и распознаем\n",
        "prediction_7 = model.predict(x_7)\n",
        "\n",
        "#print(type(prediction))\n",
        "print(prediction_7) #результат как массив\n",
        "\n",
        "prediction_7 = np.argmax(prediction_7)\n",
        "print('Распознали:', prediction_7) #результат как цифра"
      ],
      "execution_count": null,
      "outputs": [
        {
          "output_type": "stream",
          "text": [
            "[[0. 0. 0. 0. 0. 0. 0. 1. 0. 0.]]\n",
            "Распознали: 7\n"
          ],
          "name": "stdout"
        }
      ]
    }
  ]
}