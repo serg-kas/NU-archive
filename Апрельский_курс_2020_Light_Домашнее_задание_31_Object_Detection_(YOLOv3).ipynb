{
  "nbformat": 4,
  "nbformat_minor": 0,
  "metadata": {
    "kernelspec": {
      "name": "python3",
      "display_name": "Python 3"
    },
    "language_info": {
      "codemirror_mode": {
        "name": "ipython",
        "version": 3
      },
      "file_extension": ".py",
      "mimetype": "text/x-python",
      "name": "python",
      "nbconvert_exporter": "python",
      "pygments_lexer": "ipython3",
      "version": "3.7.3"
    },
    "colab": {
      "name": "Апрельский курс-2020 Light. Домашнее задание 31. Object Detection (YOLOv3)",
      "provenance": [],
      "collapsed_sections": [
        "yOrkrzwSJOS4",
        "bgKmB2r7LC7f",
        "zmxUePEVLHP4",
        "znvVfhjLLhgT",
        "wWllAXbINuUW"
      ],
      "machine_shape": "hm",
      "include_colab_link": true
    },
    "accelerator": "GPU"
  },
  "cells": [
    {
      "cell_type": "markdown",
      "metadata": {
        "id": "view-in-github",
        "colab_type": "text"
      },
      "source": [
        "<a href=\"https://colab.research.google.com/github/serg-kas/NN-archive/blob/main/%D0%90%D0%BF%D1%80%D0%B5%D0%BB%D1%8C%D1%81%D0%BA%D0%B8%D0%B9_%D0%BA%D1%83%D1%80%D1%81_2020_Light_%D0%94%D0%BE%D0%BC%D0%B0%D1%88%D0%BD%D0%B5%D0%B5_%D0%B7%D0%B0%D0%B4%D0%B0%D0%BD%D0%B8%D0%B5_31_Object_Detection_(YOLOv3).ipynb\" target=\"_parent\"><img src=\"https://colab.research.google.com/assets/colab-badge.svg\" alt=\"Open In Colab\"/></a>"
      ]
    },
    {
      "cell_type": "markdown",
      "metadata": {
        "id": "74TjNAsea0Ki"
      },
      "source": [
        "# Задание Light\n",
        "\n",
        "Обернуть в функцию этапы распознавания изображения. На вход должно подаваться исходное изображение. На выходе должно быть исходное изображение со всеми найденными bounding_box.\n",
        "\n"
      ]
    },
    {
      "cell_type": "markdown",
      "metadata": {
        "id": "yu0EVoYONYQs"
      },
      "source": [
        "# Подключение библиотек и Google диска\n"
      ]
    },
    {
      "cell_type": "code",
      "metadata": {
        "id": "VOCiUkQugalw"
      },
      "source": [
        "from tensorflow.keras.layers import Input, Conv2D, BatchNormalization           # Стандартные слои Keras\n",
        "from tensorflow.keras.layers import ZeroPadding2D, Add, UpSampling2D            # Стандартные слои Keras\n",
        "from tensorflow.keras.layers import Concatenate, Lambda, LeakyReLU              # Стандартные слои Keras\n",
        "from tensorflow.keras.regularizers import l2                                    # Регуляризатор\n",
        "from tensorflow.keras.optimizers import Adam                                    # Оптимизатор\n",
        "from tensorflow.keras.models import Model                                       # Model\n",
        "import tensorflow as tf                                                         # TensorFlow\n",
        "import tensorflow.keras.backend as K                                            # бэкенд Keras\n",
        "\n",
        "import numpy as np                                                              # numpy массивы\n",
        "import pandas as pd                                                             # Пандас для работы с csv\n",
        "import math                                                                     # Импортируем модуль math\n",
        "import time                                                                     # модуль работы со временем\n",
        "\n",
        "from PIL import Image, ImageDraw, ImageFont                                     # Модули работы с изображениями\n",
        "from matplotlib.colors import rgb_to_hsv, hsv_to_rgb                            # Модули конвертации между RGB и HSV\n",
        "import matplotlib.pyplot as plt                                                 # графики\n",
        "\n",
        "import os                                                                       # Модуль работы с файловой системой\n",
        "from google.colab import files                                                  # Модуль работы с файловой системой google"
      ],
      "execution_count": null,
      "outputs": []
    },
    {
      "cell_type": "code",
      "metadata": {
        "id": "4In33Ggegal1",
        "colab": {
          "base_uri": "https://localhost:8080/"
        },
        "outputId": "53c39573-a765-49ff-9c9e-ab6de59070dc"
      },
      "source": [
        "from google.colab import drive # подключаем гугл драйв диск для загрузки файлов\n",
        "drive.mount('/content/drive')"
      ],
      "execution_count": null,
      "outputs": [
        {
          "output_type": "stream",
          "text": [
            "Mounted at /content/drive\n"
          ],
          "name": "stdout"
        }
      ]
    },
    {
      "cell_type": "markdown",
      "metadata": {
        "id": "IZreq_oggal3"
      },
      "source": [
        "# Глобальные параметры"
      ]
    },
    {
      "cell_type": "code",
      "metadata": {
        "id": "IN-T-GJjgal4"
      },
      "source": [
        "path = '/content/drive/My Drive/my_sample_data/Д.З.31/Самолеты/'           # Путь к директории на диске, где находятся изображения\n",
        "name_classes = ['Самолеты']                                                # Названия классов\n",
        "num_classes = len(name_classes)                                            # Количество классов\n",
        "input_shape = (416, 416)                                                   # Размерность входного изображения для модели YOLO\n",
        "\n",
        "# Массив используемых анкоров (в пикселях). Используетя по 3 анкора на каждый из 3 уровней сеток\n",
        "# данные значения коррелируются с размерностью входного изображения input_shape\n",
        "anchors = np.array([[10, 13], [16, 30], [33, 23], [30, 61], [62, 45], [59, 119], [116, 90], [156, 198], [373, 326]]) \n",
        "num_anchors = len(anchors)                                                 # Сохраняем количество анкоров"
      ],
      "execution_count": null,
      "outputs": []
    },
    {
      "cell_type": "markdown",
      "metadata": {
        "id": "Ljki1NyPgal7"
      },
      "source": [
        "# Создание модели"
      ]
    },
    {
      "cell_type": "markdown",
      "metadata": {
        "id": "f-N39vGCgal8"
      },
      "source": [
        "## Функции"
      ]
    },
    {
      "cell_type": "code",
      "metadata": {
        "id": "HoW5wqufgal9"
      },
      "source": [
        "'''\n",
        "    Функция создания полной модели\n",
        "        Входные параметры:       \n",
        "          input_shape - размерность входного изображения для модели YOLO\n",
        "          num_anchors - общее количество анкоров   \n",
        "          use_weights - использовать ли предобученные веса         \n",
        "          weights_path - путь к сохраненным весам модели  \n",
        "'''\n",
        "def create_model(\n",
        "        input_shape,\n",
        "        num_anchors,\n",
        "        use_weights = False, \n",
        "        weights_path = 'yolo.h5'        \n",
        "        ):\n",
        "    w, h = input_shape                      # Получаем ширину и высоту входного изображения\n",
        "    inputs = Input(shape = (w, h, 3))       # Создаем входной слой модели, добавляя размерность для глубины цвета\n",
        "    \n",
        "    # Создаем три входных слоя y_true с размерностями ((None, 13, 13, 3, 6), (None, 26, 26, 3, 6) и (None, 52, 52, 3, 6))\n",
        "    # 2 и 3 параметры (13, 13) указывают размерность сетки, на которую условно будет разбито исходное изображение\n",
        "    # каждый уровень сетки отвечает за обнаружение объектов различных размеров (13 - крупных, 26 - средних, 52 - мелких)\n",
        "    # 4 параметр - количество анкоров на каждый уровень сетки\n",
        "    # 5 параметр - 4 параметра описывающие параметры анкора (координаты центра, ширина и высота) + вероятность обнаружения объекта + OHE номер класса\n",
        "    y_true = [Input (shape = (w // 32, h // 32, num_anchors // 3, num_classes + 5))]            # Уровень сетки 13х13 (416/32)\n",
        "    y_true.append (Input (shape = (w // 16, h // 16, num_anchors // 3, num_classes + 5)))       # Уровень сетки 26х26 (416/26)\n",
        "    y_true.append (Input (shape = (w // 8, h // 8, num_anchors // 3, num_classes + 5)))         # Уровень сетки 52х52 (416/8)\n",
        "    \n",
        "    model_yolo = create_YOLOv3(inputs, num_anchors // 3)                                        # Создаем модель YOLOv3\n",
        "    print ('Создана модель YOLOv3. Количество классов: {}.'.format(num_classes))                # Выводим сообщение о создании модели\n",
        "    \n",
        "    # Если установлен флаг загрузки весов\n",
        "    if use_weights:\n",
        "        model_yolo.load_weights(weights_path, by_name = False, skip_mismatch = False)           # Загружаем предобученные веса\n",
        "        print ('Загружены веса из файла {}.'.format(weights_path))                              # Выводим сообщение о загруженных весах\n",
        "        \n",
        "    # Создаем выходной слой Lambda (выходом которого будет значение ошибки модели)\n",
        "    # На вход слоя подается:\n",
        "    #   - model_yolo.output (выход модели model_yolo (то есть то, что посчитала сеть))\n",
        "    #   - y_true (оригинальные данные из обучающей выборки)\n",
        "    outputs = Lambda(yolo_loss, output_shape = (1,), name = 'yolo_loss', arguments = {'num_anchors' : num_anchors}) ([*model_yolo.output, *y_true])\n",
        "    \n",
        "    return Model([inputs, *y_true], outputs)           # Возвращаем модель"
      ],
      "execution_count": null,
      "outputs": []
    },
    {
      "cell_type": "code",
      "metadata": {
        "id": "REn3aS4ogal_"
      },
      "source": [
        "'''\n",
        "Функция создания модели YOLOv3\n",
        "    Входные параметры:\n",
        "          inputs - Входной слой модели\n",
        "          num_sub_anchors - количество анкоров в каждом уровне сеток\n",
        "'''\n",
        "def create_YOLOv3(\n",
        "        inputs,\n",
        "        num_sub_anchors\n",
        "        ):\n",
        "    #--------------------\n",
        "    # Базовая часть модели YOLOv3\n",
        "    #--------------------\n",
        "    \n",
        "    # Состоит из Conv2D-слоев и Residual-блоков. Residual-блок - это блок использующий информацию из предыдущих слоев.\n",
        "    # С помощью слоя Add (Суммируется текущий слой и один из предыдущих), что позволяет избежать проблему потери информации\n",
        "    # Количество resedual блоков и архитектура сети взята из документации YOLOv3\n",
        "    x = ConvBL (inputs, 32, (3, 3))                 # Добавляем каскад из трех слоев (Conv2D, BatchNormalization и Leaky)\n",
        "    x = resblock (x, 64, 1)                         # Добавляем 1 resedual-блок с 64 нейронами\n",
        "    x = resblock (x, 128, 2)                        # Добавляем 2 resedual-блока с 128 нейронами\n",
        "    x = resblock (x, 256, 8)                        # Добавляем 8 resedual-блоков с 256 нейронами\n",
        "    x = resblock (x, 512, 8)                        # Добавляем 8 resedual-блоков с 512 нейронами\n",
        "    x = resblock (x, 1024, 4)                       # Добавляем 4 resedual-блоков с 1024 нейронами\n",
        "    base_model = Model(inputs, x)                   # Создаем базовую часть модели YOLOv3\n",
        "    \n",
        "    #--------------------\n",
        "    # Detection часть модели YOLOv3\n",
        "    #--------------------\n",
        "    \n",
        "    # Выделяем три выхода сети, соответсвующих различным уровням сетки\n",
        "    \n",
        "    \n",
        "    # 13 x 13 (обнаружение больших объектов)\n",
        "    x = ConvBL(base_model.output, 512, (1, 1))    \n",
        "    x = ConvBL(x, 1024, (3, 3))\n",
        "    x = ConvBL(x, 512, (1, 1))\n",
        "    x = ConvBL(x, 1024, (3, 3))\n",
        "    x = ConvBL(x, 512, (1, 1))\n",
        "    \n",
        "    # Выделяем первый выход модели, соответствующий размерности 13 х 13\n",
        "    y1 = ConvBL(x, 1024, (3,3))\n",
        "    y1 = Conv2D(num_sub_anchors * (num_classes + 5), (1, 1), padding = 'same', kernel_regularizer = l2(5e-4)) (y1)\n",
        "    \n",
        "    \n",
        "    # 26x26 (обнаружение средних объектов)\n",
        "    \n",
        "    # Размерность текущего выхода сети равна 13 х 13. Необходимо увеличить ее до 26 x 26 и\n",
        "    # объеденить со 152-ым слоем (размерностью 26 x 26)\n",
        "    x = ConvBL(x, 256, ( 1, 1)) \n",
        "    x = UpSampling2D(2) (x) # Увеличиваем размерность до 26 на 26, использую UpSampling\n",
        "    x = Concatenate()([x,base_model.layers[152].output])\n",
        "    \n",
        "    # Добавляем 5 блоков ConvBL\n",
        "    x = ConvBL(x, 256, (1, 1))  \n",
        "    x = ConvBL(x, 512, (3, 3))\n",
        "    x = ConvBL(x, 256, (1, 1))\n",
        "    x = ConvBL(x, 512, (3, 3))\n",
        "    x = ConvBL(x, 256, (1, 1))\n",
        "    \n",
        "    # Выделяем второй выход модели, соответствующий размерности 26 х 26\n",
        "    y2 = ConvBL(x, 512, (3, 3))\n",
        "    y2 = Conv2D(num_sub_anchors * (num_classes + 5), (1, 1), padding = 'same', kernel_regularizer = l2(5e-4)) (y2)\n",
        "    \n",
        "    # 52 x 52 (обнаружение маленьких объектов)\n",
        "    \n",
        "    # Размерность текущего выхода сети равна 26 х 26. Необходимо увеличить ее до 52 x 52 и\n",
        "    # объеденить со 92-ым слоем (размерностью 52 x 52)\n",
        "    x = ConvBL(x, 128, ( 1, 1)) \n",
        "    x = UpSampling2D(2) (x)                             # Увеличиваем размерность до 52 на 52, использую UpSampling\n",
        "    x = Concatenate()([x,base_model.layers[92].output])\n",
        "    \n",
        "    # Добавляем 5 блоков ConvBL\n",
        "    x = ConvBL(x, 128, (1, 1))  \n",
        "    x = ConvBL(x, 256, (3, 3))\n",
        "    x = ConvBL(x, 128, (1, 1))\n",
        "    x = ConvBL(x, 256, (3, 3))\n",
        "    x = ConvBL(x, 128, (1, 1))\n",
        "    \n",
        "    # Выделяем третий выход модели, соответствующий размерности 52 х 52\n",
        "    y3 = ConvBL(x, 256, (3, 3))\n",
        "    y3 = Conv2D(num_sub_anchors * (num_classes + 5), (1, 1), padding = 'same', kernel_regularizer = l2(5e-4)) (y3)\n",
        "    \n",
        "    return Model(inputs, [y1, y2, y3]) # Возвращаем модель"
      ],
      "execution_count": null,
      "outputs": []
    },
    {
      "cell_type": "code",
      "metadata": {
        "id": "NMmXjpxpgamB"
      },
      "source": [
        "''' Функция создания Residual блока.\n",
        "    Входные параметры:\n",
        "          inputs - Стартовый слой, к которому добавляется Res-блок\n",
        "          num_filters - количество нейронов\n",
        "          num_blocks  - количество блоков \n",
        " '''\n",
        "def resblock(\n",
        "        inputs,\n",
        "        num_filters,\n",
        "        num_blocks\n",
        "        ):\n",
        "    x = ZeroPadding2D(((1, 0), (1, 0)))(inputs)              # Увеличиваем размерность на один шаг влево и вверх\n",
        "    x = ConvBL(x, num_filters, (3, 3), strides=(2, 2))       # Добавляем блок ConvBL\n",
        "    for i in range(num_blocks):                             # Пробегаем в цикле num_blocks-раз (суммируя слои с помощью Add())\n",
        "        y = ConvBL(x, num_filters // 2, (1, 1))\n",
        "        y = ConvBL(y, num_filters, (3, 3))\n",
        "        x = Add() ([x, y])\n",
        "    return x # Возвращаем слой"
      ],
      "execution_count": null,
      "outputs": []
    },
    {
      "cell_type": "code",
      "metadata": {
        "id": "ferXVySNP_p_"
      },
      "source": [
        "''' Функция создания блока Conv2D, BatchNormalization, LeakyRelu\n",
        "    Входные параметры:\n",
        "          inputs - Стартовый слой, к которому добавляется Res-блок\n",
        "          args - массив неименованных параметров\n",
        "          kwargs  - массив именованных параметров\n",
        " '''\n",
        "def ConvBL(\n",
        "        inputs,\n",
        "        *args,\n",
        "        **kwargs\n",
        "        ): \n",
        "    new_kwargs = {'use_bias': False}                    # создаем новый массив именованных параметров, добавляя параметр use_bias\n",
        "    new_kwargs['kernel_regularizer'] = l2(5e-4)         # добавляем параметр kernel_regularizerpadding\n",
        "    new_kwargs['padding'] = 'valid' if kwargs.get('strides') == (2, 2) else 'same' # добавляем параметр  padding\n",
        "    new_kwargs.update(kwargs)                           # Добавляем уже имеющиеся в kwargs gfhfvtnhs\n",
        "    x = Conv2D(*args, **new_kwargs) (inputs)            # Добавляем Conv2D слой\n",
        "    x = BatchNormalization() (x)                        # Добавляем слой BatchNormalization\n",
        "    x = LeakyReLU(alpha=0.1) (x)                        # Добавляем слой LeakyRelu\n",
        "    return x"
      ],
      "execution_count": null,
      "outputs": []
    },
    {
      "cell_type": "code",
      "metadata": {
        "id": "U8yEGaxGQBxj"
      },
      "source": [
        "'''\n",
        "Функция подсчета ошибки.\n",
        "    Входные параметры:\n",
        "        inputs - Входные данные\n",
        "        num_anchors - общее количество анкоров                    \n",
        "'''\n",
        "def yolo_loss(\n",
        "      inputs,\n",
        "      num_anchors\n",
        "      ):\n",
        "    ignore_thresh = .5                                  # Порог вероятности обнаружения объекта\n",
        "    num_layers = num_anchors // 3                       # Подсчитываем количество анкоров на каждом уровне сетки\n",
        "    y_pred = inputs[:num_layers]                        # Из входных данных выцепляем посчитанные моделью значения\n",
        "    y_true = inputs[num_layers:]                        # Из входных данных выцепляем эталонные значения\n",
        "    anchor_mask = [[6, 7, 8], [3, 4, 5], [0, 1, 2]]     # Задаем маску анкоров для каждого уровня сеток\n",
        "   \n",
        "    \n",
        "    # Получаем размерность входного изображения ( (13 х 13) * 32 = (416 х 416)) и приводим к типу элемента y_true[0]\n",
        "    input_shape = K.cast(K.shape(y_pred[0])[1:3] * 32, K.dtype(y_true[0])) \n",
        "    \n",
        "    # Получаем двумерный массив, соответствующий размерностям сеток ((13, 13), (26, 26), (52, 52))\n",
        "    grid_shapes = [K.cast(K.shape(y_pred[l])[1:3], K.dtype(y_true[0])) for l in range(num_layers)]\n",
        "    \n",
        "    loss = 0 # Значение ошибки\n",
        "    \n",
        "    # Считываем количество элементов\n",
        "    m = K.shape(y_pred[0])[0] # Размер пакета\n",
        "    batch_size = K.cast(m, K.dtype(y_pred[0])) # Преобразуем к типу y_pred[0]\n",
        "    \n",
        "    for l in range(num_layers): # Пробегаем по всем трем уровням сеток\n",
        "        # Получаем маску для сетки l-го уровня по вероятности определения объекта (5-ый параметр в списке общих параметров). \n",
        "        # В массиве object_mask будут значения, которые соответствуют только вероятности обнаружения объекта\n",
        "        object_mask = y_true[l][..., 4:5]      # Вернется набор данных вида: ([0][0][0][0]...[1]...[0])\n",
        "        \n",
        "        # Получаем аналогичную выборку для сетки l-го уровня с OHE (где записана позиция нашего класса)\n",
        "        # В массиве true_class будут значения, которые соответсвуют только OHE представлению класса ядля данного уровня анкоров\n",
        "        true_class = y_true[l][..., 5:]        # Вернется набор данных вида: ([0][0][0][0]...[1]...[0])\n",
        "        \n",
        "        num_sub_anchors = len(anchors[anchor_mask[l]]) # Получаем количество анкоров для отдельного уровня сетки (3)\n",
        "        \n",
        "        # Решейпим анкоры отдельного уровня сетки и записываем в переменную anchors_tensor\n",
        "        anchors_tensor = K.reshape(K.constant(anchors[anchor_mask[l]]), [1, 1, 1, num_sub_anchors, 2])\n",
        "        \n",
        "        # Создаем двумерный массив grid со значениями [[[0, 0] , [0, 1] , [0, 2] , ... , [0, k]], \n",
        "        #                                             [[1, 0] , [1, 1] , [1, 2] , ... , [1 ,k]],\n",
        "        #                                             ...\n",
        "        #                                             [[k, 0] , [k, 1] , [k, 2] , ... , [k, k]]]\n",
        "        # где k - размерность сетки. Массив хранит индексы ячеек сетки\n",
        "        grid_shape = K.shape(y_pred[l])[1:3]          # Получаем ширину и высоту сетки\n",
        "        grid_y = K.tile(K.reshape(K.arange(0, stop=grid_shape[0]), [-1, 1, 1, 1]),[1, grid_shape[1], 1, 1]) # Создаем вертикальную линию\n",
        "        grid_x = K.tile(K.reshape(K.arange(0, stop=grid_shape[1]), [1, -1, 1, 1]),[grid_shape[0], 1, 1, 1]) # Создаем горизонтальную линию\n",
        "        grid = K.concatenate([grid_x, grid_y])        # Объединяем \n",
        "        grid = K.cast(grid, K.dtype(y_pred[l]))       # Приводим к типу y_pred[l]\n",
        "        \n",
        "        # Решейпим y_pred[l]\n",
        "        feats = K.reshape(y_pred[l], [-1, grid_shape[0], grid_shape[1], num_sub_anchors, num_classes + 5]) \n",
        "        \n",
        "        # Считаем ошибку в определении координат центра объекта\n",
        "        # Получаем координаты центра объекта из спредиктенного значения\n",
        "        pred_xy = (K.sigmoid(feats[..., :2]) + grid) / K.cast(grid_shape[::-1], K.dtype(feats)) \n",
        "        # Производим обратные вычисления для оригинальных значений из y_true для координат центра объекта\n",
        "        true_xy = y_true[l][..., :2] * grid_shapes[l][::-1] - grid   # Реальные координаты центра bounding_box\n",
        "        box_loss_scale = 2 - y_true[l][...,2:3] * y_true[l][...,3:4] # чем больше бокс, тем меньше ошибка\n",
        "        # binary_crossentropy для истинного значения и спредиктенного (obect_mask для подсчета только требуемого значения)\n",
        "        xy_loss = object_mask * box_loss_scale * K.binary_crossentropy(true_xy, feats[...,0:2], from_logits=True)\n",
        "\n",
        "        # Считаем ошибку в определении координат ширины и высоты\n",
        "        # Получаем значения ширины и высоты изображения из спредиктенного значения   \n",
        "        pred_wh = K.exp(feats[..., 2:4]) * anchors_tensor / K.cast(input_shape[::-1], K.dtype(feats)) \n",
        "        # Производим обратные вычесления для оригинальных значений из y_true для ширины и высоты объекта\n",
        "        true_wh = K.log(y_true[l][..., 2:4] / anchors[anchor_mask[l]] * input_shape[::-1]) \n",
        "        # Оставляем значение высоты и ширины только у тех элементов, где object_mask = 1\n",
        "        true_wh = K.switch(object_mask, true_wh, K.zeros_like(true_wh)) \n",
        "        # Считаем значение ошибки в определении высоты и ширины\n",
        "        wh_loss = object_mask * box_loss_scale * 0.5 * K.square(true_wh-feats[...,2:4])\n",
        "        \n",
        "        # Объединяем значения в один  массив\n",
        "        pred_box = K.concatenate([pred_xy, pred_wh]) \n",
        "        \n",
        "        # Считаем ошибку в определении обнаружения какого-либо класса\n",
        "        # Для этого вначале надо отсечь все найденные объекты, вероятность которых меньше установленного значения ignore_thresh\n",
        "        \n",
        "        # Определяем массив, который будет хранить данные о неподходящих значениях\n",
        "        ignore_mask = tf.TensorArray(K.dtype(y_true[0]), size=1, dynamic_size=True) \n",
        "        object_mask_bool = K.cast(object_mask, 'bool') # Приводим тип object_mask к типу 'bool'\n",
        "        \n",
        "        # Функция, определяющая данные, которые требуется игнорировать\n",
        "        # Пробегаем по всем элементам пакета (b<m)\n",
        "        # Получаем параметры реального bounding_box для текущей ячейки\n",
        "        # Считаем IoU реального и спредиктенного\n",
        "        # В зависимости от best_iou < ignore_thresh помечаем его как верно распознанный или неверено\n",
        "        def loop_body(\n",
        "                b,\n",
        "                ignore_mask\n",
        "                ):\n",
        "            # в true_box запишутся первыые 4 параметра (центр, высота и ширина объекта) того элемента, значение которого в object_mask_bool равно True\n",
        "            true_box = tf.boolean_mask(y_true[l][b,...,0:4], object_mask_bool[b,...,0]) \n",
        "            # Подсчитываем iou для спредиктенной ограничивающей рамки (pred_box) и оригинальной (true_box)\n",
        "            iou = calc_iou(pred_box[b], true_box) \n",
        "            # Находим лучшую ограничивающую рамку\n",
        "            best_iou = K.max(iou, axis=-1) \n",
        "            # Записываем в ignore_mask true или false в зависимости от (best_iou < ignore_thresh)\n",
        "            ignore_mask = ignore_mask.write(b, K.cast(best_iou < ignore_thresh, K.dtype(true_box))) \n",
        "            return b+1, ignore_mask       # Увеличиваем счетчик на еденицу и возвращаем ignore_mask\n",
        "        \n",
        "        # Пробегаем в цикле по всем элементам в пределах значения m (m = batch size)\n",
        "        _, ignore_mask = tf.while_loop(lambda b,*args: b<m, loop_body, [0, ignore_mask]) \n",
        "        ignore_mask = ignore_mask.stack() # Приводим ignore_mask к тензору\n",
        "        ignore_mask = K.expand_dims(ignore_mask, -1) # Добавляем еще одну размерность в конце ignore_mask\n",
        "                 \n",
        "        # Считаем значение ошибки\n",
        "        # 1 компонента - для значений, которые были верно спредиктены\n",
        "        # 2 компонентя - для значения, которые были неверно спредиктены\n",
        "        confidence_loss = (\n",
        "            object_mask * K.binary_crossentropy(object_mask, feats[...,4:5], from_logits=True) +\n",
        "            (1-object_mask) * K.binary_crossentropy(object_mask, feats[...,4:5], from_logits=True) * ignore_mask\n",
        "            )\n",
        "        \n",
        "        # Считаем ошибку в определении класса объекта\n",
        "        class_loss = object_mask * K.binary_crossentropy(true_class, feats[...,5:], from_logits=True)\n",
        "    \n",
        "        # Считаем суммарную ошибку\n",
        "        xy_loss = K.sum(xy_loss) / batch_size\n",
        "        wh_loss = K.sum(wh_loss) / batch_size\n",
        "        confidence_loss = K.sum(confidence_loss) / batch_size\n",
        "        class_loss = K.sum(class_loss) / batch_size\n",
        "        loss += xy_loss + wh_loss + confidence_loss + class_loss\n",
        "                \n",
        "    return loss # Возвращаем значение ошибки   "
      ],
      "execution_count": null,
      "outputs": []
    },
    {
      "cell_type": "code",
      "metadata": {
        "id": "-TyFcMEPgamI"
      },
      "source": [
        "'''\n",
        "    Функция подсчета IoU\n",
        "'''\n",
        "def calc_iou(input1, input2):\n",
        "    input1 = K.expand_dims(input1, -2)        # Добавляем одну размерность\n",
        "    xy1 = input1[..., :2]                     # Получаем координаты x,y центра \n",
        "    wh1 = input1[..., 2:4]                    # Получаем значения высоты и ширины\n",
        "    wh_half1 = wh1 / 2.                       # Делим значения высоты и ширины пополам\n",
        "    top_left1 = xy1 - wh_half1                # Получаем значение, соответствующее верхнему левому углу\n",
        "    right_bottom1 = xy1 + wh_half1            # Получаем значение, соотвествующее правому нижнему углу\n",
        "    \n",
        "    input2 = K.expand_dims(input2, 0)         # Добавляем одну размерность\n",
        "    xy2 = input2[..., :2]                     # Получаем координаты x,y центра \n",
        "    wh2 = input2[..., 2:4]                    # Получаем значения высоты и ширины\n",
        "    wh_half2 = wh2 / 2.                       # Делим значения высоты и ширины пополам\n",
        "    top_left2 = xy2 - wh_half2                # Получаем значение, соответствующее верхнему левому углу\n",
        "    right_bottom2 = xy2 + wh_half2            # Получаем значение, соотвествующее правому нижнему углу\n",
        "    \n",
        "    intersect_mins = K.maximum(top_left1, top_left2)                # Берем максимальные координаты из левых верхних углов\n",
        "    intersect_maxes = K.minimum(right_bottom1, right_bottom2)       # Берем Минимальные координаты координаты из правых нижних углов\n",
        "    intersect_wh = K.maximum(intersect_maxes - intersect_mins, 0.)  # Считаем ширину и высоту области пересечения\n",
        "    intersect_area = intersect_wh[..., 0] * intersect_wh[..., 1]    # Считаем площадь области пересечения\n",
        "    \n",
        "    area1 = wh1[..., 0] * wh1[..., 1]         # Считаем площадь первых элементов\n",
        "    area2 = wh2[..., 0] * wh2[..., 1]         # Считаем площадь вторых элементов\n",
        "    \n",
        "    return intersect_area / (area1 + area2 - intersect_area)        # Возвращаем IoU\n",
        "    "
      ],
      "execution_count": null,
      "outputs": []
    },
    {
      "cell_type": "markdown",
      "metadata": {
        "id": "tKIwIi0IgamL"
      },
      "source": [
        "## Основной код"
      ]
    },
    {
      "cell_type": "code",
      "metadata": {
        "id": "B7aVKn7HgamM",
        "colab": {
          "base_uri": "https://localhost:8080/"
        },
        "outputId": "a01e2627-0d55-4444-ae1e-b08ff2d616d0"
      },
      "source": [
        "# Создаем модель\n",
        "model_YOLO = create_model(input_shape, num_anchors, use_weights=True, weights_path=path +'weights/YOLOv3__el1000__opt0.0001__ep0_100.h5')"
      ],
      "execution_count": null,
      "outputs": [
        {
          "output_type": "stream",
          "text": [
            "Создана модель YOLOv3. Количество классов: 1.\n",
            "Загружены веса из файла /content/drive/My Drive/my_sample_data/Д.З.31/Самолеты/weights/YOLOv3__el1000__opt0.0001__ep0_100.h5.\n"
          ],
          "name": "stdout"
        }
      ]
    },
    {
      "cell_type": "code",
      "metadata": {
        "id": "fQGUZQLOgamO",
        "colab": {
          "base_uri": "https://localhost:8080/"
        },
        "outputId": "291e90ea-01ee-401c-c976-6b31214883c5"
      },
      "source": [
        "# Выводим входные размерности для модели\n",
        "model_YOLO.input"
      ],
      "execution_count": null,
      "outputs": [
        {
          "output_type": "execute_result",
          "data": {
            "text/plain": [
              "[<KerasTensor: shape=(None, 416, 416, 3) dtype=float32 (created by layer 'input_1')>,\n",
              " <KerasTensor: shape=(None, 13, 13, 3, 6) dtype=float32 (created by layer 'input_2')>,\n",
              " <KerasTensor: shape=(None, 26, 26, 3, 6) dtype=float32 (created by layer 'input_3')>,\n",
              " <KerasTensor: shape=(None, 52, 52, 3, 6) dtype=float32 (created by layer 'input_4')>]"
            ]
          },
          "metadata": {
            "tags": []
          },
          "execution_count": 11
        }
      ]
    },
    {
      "cell_type": "code",
      "metadata": {
        "id": "uVAHY-TkgamR",
        "colab": {
          "base_uri": "https://localhost:8080/"
        },
        "outputId": "97aa6815-9acd-480b-a780-69df219a2b30"
      },
      "source": [
        "# Выводим выходную размерность модели\n",
        "model_YOLO.output"
      ],
      "execution_count": null,
      "outputs": [
        {
          "output_type": "execute_result",
          "data": {
            "text/plain": [
              "<KerasTensor: shape=() dtype=float32 (created by layer 'yolo_loss')>"
            ]
          },
          "metadata": {
            "tags": []
          },
          "execution_count": 12
        }
      ]
    },
    {
      "cell_type": "code",
      "metadata": {
        "id": "jJkCT9nSgamT",
        "colab": {
          "base_uri": "https://localhost:8080/"
        },
        "outputId": "cb69dd56-0af0-4829-c223-73429b7ce935"
      },
      "source": [
        "# Выводим информацию о модели\n",
        "model_YOLO.summary()"
      ],
      "execution_count": null,
      "outputs": [
        {
          "output_type": "stream",
          "text": [
            "Model: \"model_2\"\n",
            "__________________________________________________________________________________________________\n",
            "Layer (type)                    Output Shape         Param #     Connected to                     \n",
            "==================================================================================================\n",
            "input_1 (InputLayer)            [(None, 416, 416, 3) 0                                            \n",
            "__________________________________________________________________________________________________\n",
            "conv2d (Conv2D)                 (None, 416, 416, 32) 864         input_1[0][0]                    \n",
            "__________________________________________________________________________________________________\n",
            "batch_normalization (BatchNorma (None, 416, 416, 32) 128         conv2d[0][0]                     \n",
            "__________________________________________________________________________________________________\n",
            "leaky_re_lu (LeakyReLU)         (None, 416, 416, 32) 0           batch_normalization[0][0]        \n",
            "__________________________________________________________________________________________________\n",
            "zero_padding2d (ZeroPadding2D)  (None, 417, 417, 32) 0           leaky_re_lu[0][0]                \n",
            "__________________________________________________________________________________________________\n",
            "conv2d_1 (Conv2D)               (None, 208, 208, 64) 18432       zero_padding2d[0][0]             \n",
            "__________________________________________________________________________________________________\n",
            "batch_normalization_1 (BatchNor (None, 208, 208, 64) 256         conv2d_1[0][0]                   \n",
            "__________________________________________________________________________________________________\n",
            "leaky_re_lu_1 (LeakyReLU)       (None, 208, 208, 64) 0           batch_normalization_1[0][0]      \n",
            "__________________________________________________________________________________________________\n",
            "conv2d_2 (Conv2D)               (None, 208, 208, 32) 2048        leaky_re_lu_1[0][0]              \n",
            "__________________________________________________________________________________________________\n",
            "batch_normalization_2 (BatchNor (None, 208, 208, 32) 128         conv2d_2[0][0]                   \n",
            "__________________________________________________________________________________________________\n",
            "leaky_re_lu_2 (LeakyReLU)       (None, 208, 208, 32) 0           batch_normalization_2[0][0]      \n",
            "__________________________________________________________________________________________________\n",
            "conv2d_3 (Conv2D)               (None, 208, 208, 64) 18432       leaky_re_lu_2[0][0]              \n",
            "__________________________________________________________________________________________________\n",
            "batch_normalization_3 (BatchNor (None, 208, 208, 64) 256         conv2d_3[0][0]                   \n",
            "__________________________________________________________________________________________________\n",
            "leaky_re_lu_3 (LeakyReLU)       (None, 208, 208, 64) 0           batch_normalization_3[0][0]      \n",
            "__________________________________________________________________________________________________\n",
            "add (Add)                       (None, 208, 208, 64) 0           leaky_re_lu_1[0][0]              \n",
            "                                                                 leaky_re_lu_3[0][0]              \n",
            "__________________________________________________________________________________________________\n",
            "zero_padding2d_1 (ZeroPadding2D (None, 209, 209, 64) 0           add[0][0]                        \n",
            "__________________________________________________________________________________________________\n",
            "conv2d_4 (Conv2D)               (None, 104, 104, 128 73728       zero_padding2d_1[0][0]           \n",
            "__________________________________________________________________________________________________\n",
            "batch_normalization_4 (BatchNor (None, 104, 104, 128 512         conv2d_4[0][0]                   \n",
            "__________________________________________________________________________________________________\n",
            "leaky_re_lu_4 (LeakyReLU)       (None, 104, 104, 128 0           batch_normalization_4[0][0]      \n",
            "__________________________________________________________________________________________________\n",
            "conv2d_5 (Conv2D)               (None, 104, 104, 64) 8192        leaky_re_lu_4[0][0]              \n",
            "__________________________________________________________________________________________________\n",
            "batch_normalization_5 (BatchNor (None, 104, 104, 64) 256         conv2d_5[0][0]                   \n",
            "__________________________________________________________________________________________________\n",
            "leaky_re_lu_5 (LeakyReLU)       (None, 104, 104, 64) 0           batch_normalization_5[0][0]      \n",
            "__________________________________________________________________________________________________\n",
            "conv2d_6 (Conv2D)               (None, 104, 104, 128 73728       leaky_re_lu_5[0][0]              \n",
            "__________________________________________________________________________________________________\n",
            "batch_normalization_6 (BatchNor (None, 104, 104, 128 512         conv2d_6[0][0]                   \n",
            "__________________________________________________________________________________________________\n",
            "leaky_re_lu_6 (LeakyReLU)       (None, 104, 104, 128 0           batch_normalization_6[0][0]      \n",
            "__________________________________________________________________________________________________\n",
            "add_1 (Add)                     (None, 104, 104, 128 0           leaky_re_lu_4[0][0]              \n",
            "                                                                 leaky_re_lu_6[0][0]              \n",
            "__________________________________________________________________________________________________\n",
            "conv2d_7 (Conv2D)               (None, 104, 104, 64) 8192        add_1[0][0]                      \n",
            "__________________________________________________________________________________________________\n",
            "batch_normalization_7 (BatchNor (None, 104, 104, 64) 256         conv2d_7[0][0]                   \n",
            "__________________________________________________________________________________________________\n",
            "leaky_re_lu_7 (LeakyReLU)       (None, 104, 104, 64) 0           batch_normalization_7[0][0]      \n",
            "__________________________________________________________________________________________________\n",
            "conv2d_8 (Conv2D)               (None, 104, 104, 128 73728       leaky_re_lu_7[0][0]              \n",
            "__________________________________________________________________________________________________\n",
            "batch_normalization_8 (BatchNor (None, 104, 104, 128 512         conv2d_8[0][0]                   \n",
            "__________________________________________________________________________________________________\n",
            "leaky_re_lu_8 (LeakyReLU)       (None, 104, 104, 128 0           batch_normalization_8[0][0]      \n",
            "__________________________________________________________________________________________________\n",
            "add_2 (Add)                     (None, 104, 104, 128 0           add_1[0][0]                      \n",
            "                                                                 leaky_re_lu_8[0][0]              \n",
            "__________________________________________________________________________________________________\n",
            "zero_padding2d_2 (ZeroPadding2D (None, 105, 105, 128 0           add_2[0][0]                      \n",
            "__________________________________________________________________________________________________\n",
            "conv2d_9 (Conv2D)               (None, 52, 52, 256)  294912      zero_padding2d_2[0][0]           \n",
            "__________________________________________________________________________________________________\n",
            "batch_normalization_9 (BatchNor (None, 52, 52, 256)  1024        conv2d_9[0][0]                   \n",
            "__________________________________________________________________________________________________\n",
            "leaky_re_lu_9 (LeakyReLU)       (None, 52, 52, 256)  0           batch_normalization_9[0][0]      \n",
            "__________________________________________________________________________________________________\n",
            "conv2d_10 (Conv2D)              (None, 52, 52, 128)  32768       leaky_re_lu_9[0][0]              \n",
            "__________________________________________________________________________________________________\n",
            "batch_normalization_10 (BatchNo (None, 52, 52, 128)  512         conv2d_10[0][0]                  \n",
            "__________________________________________________________________________________________________\n",
            "leaky_re_lu_10 (LeakyReLU)      (None, 52, 52, 128)  0           batch_normalization_10[0][0]     \n",
            "__________________________________________________________________________________________________\n",
            "conv2d_11 (Conv2D)              (None, 52, 52, 256)  294912      leaky_re_lu_10[0][0]             \n",
            "__________________________________________________________________________________________________\n",
            "batch_normalization_11 (BatchNo (None, 52, 52, 256)  1024        conv2d_11[0][0]                  \n",
            "__________________________________________________________________________________________________\n",
            "leaky_re_lu_11 (LeakyReLU)      (None, 52, 52, 256)  0           batch_normalization_11[0][0]     \n",
            "__________________________________________________________________________________________________\n",
            "add_3 (Add)                     (None, 52, 52, 256)  0           leaky_re_lu_9[0][0]              \n",
            "                                                                 leaky_re_lu_11[0][0]             \n",
            "__________________________________________________________________________________________________\n",
            "conv2d_12 (Conv2D)              (None, 52, 52, 128)  32768       add_3[0][0]                      \n",
            "__________________________________________________________________________________________________\n",
            "batch_normalization_12 (BatchNo (None, 52, 52, 128)  512         conv2d_12[0][0]                  \n",
            "__________________________________________________________________________________________________\n",
            "leaky_re_lu_12 (LeakyReLU)      (None, 52, 52, 128)  0           batch_normalization_12[0][0]     \n",
            "__________________________________________________________________________________________________\n",
            "conv2d_13 (Conv2D)              (None, 52, 52, 256)  294912      leaky_re_lu_12[0][0]             \n",
            "__________________________________________________________________________________________________\n",
            "batch_normalization_13 (BatchNo (None, 52, 52, 256)  1024        conv2d_13[0][0]                  \n",
            "__________________________________________________________________________________________________\n",
            "leaky_re_lu_13 (LeakyReLU)      (None, 52, 52, 256)  0           batch_normalization_13[0][0]     \n",
            "__________________________________________________________________________________________________\n",
            "add_4 (Add)                     (None, 52, 52, 256)  0           add_3[0][0]                      \n",
            "                                                                 leaky_re_lu_13[0][0]             \n",
            "__________________________________________________________________________________________________\n",
            "conv2d_14 (Conv2D)              (None, 52, 52, 128)  32768       add_4[0][0]                      \n",
            "__________________________________________________________________________________________________\n",
            "batch_normalization_14 (BatchNo (None, 52, 52, 128)  512         conv2d_14[0][0]                  \n",
            "__________________________________________________________________________________________________\n",
            "leaky_re_lu_14 (LeakyReLU)      (None, 52, 52, 128)  0           batch_normalization_14[0][0]     \n",
            "__________________________________________________________________________________________________\n",
            "conv2d_15 (Conv2D)              (None, 52, 52, 256)  294912      leaky_re_lu_14[0][0]             \n",
            "__________________________________________________________________________________________________\n",
            "batch_normalization_15 (BatchNo (None, 52, 52, 256)  1024        conv2d_15[0][0]                  \n",
            "__________________________________________________________________________________________________\n",
            "leaky_re_lu_15 (LeakyReLU)      (None, 52, 52, 256)  0           batch_normalization_15[0][0]     \n",
            "__________________________________________________________________________________________________\n",
            "add_5 (Add)                     (None, 52, 52, 256)  0           add_4[0][0]                      \n",
            "                                                                 leaky_re_lu_15[0][0]             \n",
            "__________________________________________________________________________________________________\n",
            "conv2d_16 (Conv2D)              (None, 52, 52, 128)  32768       add_5[0][0]                      \n",
            "__________________________________________________________________________________________________\n",
            "batch_normalization_16 (BatchNo (None, 52, 52, 128)  512         conv2d_16[0][0]                  \n",
            "__________________________________________________________________________________________________\n",
            "leaky_re_lu_16 (LeakyReLU)      (None, 52, 52, 128)  0           batch_normalization_16[0][0]     \n",
            "__________________________________________________________________________________________________\n",
            "conv2d_17 (Conv2D)              (None, 52, 52, 256)  294912      leaky_re_lu_16[0][0]             \n",
            "__________________________________________________________________________________________________\n",
            "batch_normalization_17 (BatchNo (None, 52, 52, 256)  1024        conv2d_17[0][0]                  \n",
            "__________________________________________________________________________________________________\n",
            "leaky_re_lu_17 (LeakyReLU)      (None, 52, 52, 256)  0           batch_normalization_17[0][0]     \n",
            "__________________________________________________________________________________________________\n",
            "add_6 (Add)                     (None, 52, 52, 256)  0           add_5[0][0]                      \n",
            "                                                                 leaky_re_lu_17[0][0]             \n",
            "__________________________________________________________________________________________________\n",
            "conv2d_18 (Conv2D)              (None, 52, 52, 128)  32768       add_6[0][0]                      \n",
            "__________________________________________________________________________________________________\n",
            "batch_normalization_18 (BatchNo (None, 52, 52, 128)  512         conv2d_18[0][0]                  \n",
            "__________________________________________________________________________________________________\n",
            "leaky_re_lu_18 (LeakyReLU)      (None, 52, 52, 128)  0           batch_normalization_18[0][0]     \n",
            "__________________________________________________________________________________________________\n",
            "conv2d_19 (Conv2D)              (None, 52, 52, 256)  294912      leaky_re_lu_18[0][0]             \n",
            "__________________________________________________________________________________________________\n",
            "batch_normalization_19 (BatchNo (None, 52, 52, 256)  1024        conv2d_19[0][0]                  \n",
            "__________________________________________________________________________________________________\n",
            "leaky_re_lu_19 (LeakyReLU)      (None, 52, 52, 256)  0           batch_normalization_19[0][0]     \n",
            "__________________________________________________________________________________________________\n",
            "add_7 (Add)                     (None, 52, 52, 256)  0           add_6[0][0]                      \n",
            "                                                                 leaky_re_lu_19[0][0]             \n",
            "__________________________________________________________________________________________________\n",
            "conv2d_20 (Conv2D)              (None, 52, 52, 128)  32768       add_7[0][0]                      \n",
            "__________________________________________________________________________________________________\n",
            "batch_normalization_20 (BatchNo (None, 52, 52, 128)  512         conv2d_20[0][0]                  \n",
            "__________________________________________________________________________________________________\n",
            "leaky_re_lu_20 (LeakyReLU)      (None, 52, 52, 128)  0           batch_normalization_20[0][0]     \n",
            "__________________________________________________________________________________________________\n",
            "conv2d_21 (Conv2D)              (None, 52, 52, 256)  294912      leaky_re_lu_20[0][0]             \n",
            "__________________________________________________________________________________________________\n",
            "batch_normalization_21 (BatchNo (None, 52, 52, 256)  1024        conv2d_21[0][0]                  \n",
            "__________________________________________________________________________________________________\n",
            "leaky_re_lu_21 (LeakyReLU)      (None, 52, 52, 256)  0           batch_normalization_21[0][0]     \n",
            "__________________________________________________________________________________________________\n",
            "add_8 (Add)                     (None, 52, 52, 256)  0           add_7[0][0]                      \n",
            "                                                                 leaky_re_lu_21[0][0]             \n",
            "__________________________________________________________________________________________________\n",
            "conv2d_22 (Conv2D)              (None, 52, 52, 128)  32768       add_8[0][0]                      \n",
            "__________________________________________________________________________________________________\n",
            "batch_normalization_22 (BatchNo (None, 52, 52, 128)  512         conv2d_22[0][0]                  \n",
            "__________________________________________________________________________________________________\n",
            "leaky_re_lu_22 (LeakyReLU)      (None, 52, 52, 128)  0           batch_normalization_22[0][0]     \n",
            "__________________________________________________________________________________________________\n",
            "conv2d_23 (Conv2D)              (None, 52, 52, 256)  294912      leaky_re_lu_22[0][0]             \n",
            "__________________________________________________________________________________________________\n",
            "batch_normalization_23 (BatchNo (None, 52, 52, 256)  1024        conv2d_23[0][0]                  \n",
            "__________________________________________________________________________________________________\n",
            "leaky_re_lu_23 (LeakyReLU)      (None, 52, 52, 256)  0           batch_normalization_23[0][0]     \n",
            "__________________________________________________________________________________________________\n",
            "add_9 (Add)                     (None, 52, 52, 256)  0           add_8[0][0]                      \n",
            "                                                                 leaky_re_lu_23[0][0]             \n",
            "__________________________________________________________________________________________________\n",
            "conv2d_24 (Conv2D)              (None, 52, 52, 128)  32768       add_9[0][0]                      \n",
            "__________________________________________________________________________________________________\n",
            "batch_normalization_24 (BatchNo (None, 52, 52, 128)  512         conv2d_24[0][0]                  \n",
            "__________________________________________________________________________________________________\n",
            "leaky_re_lu_24 (LeakyReLU)      (None, 52, 52, 128)  0           batch_normalization_24[0][0]     \n",
            "__________________________________________________________________________________________________\n",
            "conv2d_25 (Conv2D)              (None, 52, 52, 256)  294912      leaky_re_lu_24[0][0]             \n",
            "__________________________________________________________________________________________________\n",
            "batch_normalization_25 (BatchNo (None, 52, 52, 256)  1024        conv2d_25[0][0]                  \n",
            "__________________________________________________________________________________________________\n",
            "leaky_re_lu_25 (LeakyReLU)      (None, 52, 52, 256)  0           batch_normalization_25[0][0]     \n",
            "__________________________________________________________________________________________________\n",
            "add_10 (Add)                    (None, 52, 52, 256)  0           add_9[0][0]                      \n",
            "                                                                 leaky_re_lu_25[0][0]             \n",
            "__________________________________________________________________________________________________\n",
            "zero_padding2d_3 (ZeroPadding2D (None, 53, 53, 256)  0           add_10[0][0]                     \n",
            "__________________________________________________________________________________________________\n",
            "conv2d_26 (Conv2D)              (None, 26, 26, 512)  1179648     zero_padding2d_3[0][0]           \n",
            "__________________________________________________________________________________________________\n",
            "batch_normalization_26 (BatchNo (None, 26, 26, 512)  2048        conv2d_26[0][0]                  \n",
            "__________________________________________________________________________________________________\n",
            "leaky_re_lu_26 (LeakyReLU)      (None, 26, 26, 512)  0           batch_normalization_26[0][0]     \n",
            "__________________________________________________________________________________________________\n",
            "conv2d_27 (Conv2D)              (None, 26, 26, 256)  131072      leaky_re_lu_26[0][0]             \n",
            "__________________________________________________________________________________________________\n",
            "batch_normalization_27 (BatchNo (None, 26, 26, 256)  1024        conv2d_27[0][0]                  \n",
            "__________________________________________________________________________________________________\n",
            "leaky_re_lu_27 (LeakyReLU)      (None, 26, 26, 256)  0           batch_normalization_27[0][0]     \n",
            "__________________________________________________________________________________________________\n",
            "conv2d_28 (Conv2D)              (None, 26, 26, 512)  1179648     leaky_re_lu_27[0][0]             \n",
            "__________________________________________________________________________________________________\n",
            "batch_normalization_28 (BatchNo (None, 26, 26, 512)  2048        conv2d_28[0][0]                  \n",
            "__________________________________________________________________________________________________\n",
            "leaky_re_lu_28 (LeakyReLU)      (None, 26, 26, 512)  0           batch_normalization_28[0][0]     \n",
            "__________________________________________________________________________________________________\n",
            "add_11 (Add)                    (None, 26, 26, 512)  0           leaky_re_lu_26[0][0]             \n",
            "                                                                 leaky_re_lu_28[0][0]             \n",
            "__________________________________________________________________________________________________\n",
            "conv2d_29 (Conv2D)              (None, 26, 26, 256)  131072      add_11[0][0]                     \n",
            "__________________________________________________________________________________________________\n",
            "batch_normalization_29 (BatchNo (None, 26, 26, 256)  1024        conv2d_29[0][0]                  \n",
            "__________________________________________________________________________________________________\n",
            "leaky_re_lu_29 (LeakyReLU)      (None, 26, 26, 256)  0           batch_normalization_29[0][0]     \n",
            "__________________________________________________________________________________________________\n",
            "conv2d_30 (Conv2D)              (None, 26, 26, 512)  1179648     leaky_re_lu_29[0][0]             \n",
            "__________________________________________________________________________________________________\n",
            "batch_normalization_30 (BatchNo (None, 26, 26, 512)  2048        conv2d_30[0][0]                  \n",
            "__________________________________________________________________________________________________\n",
            "leaky_re_lu_30 (LeakyReLU)      (None, 26, 26, 512)  0           batch_normalization_30[0][0]     \n",
            "__________________________________________________________________________________________________\n",
            "add_12 (Add)                    (None, 26, 26, 512)  0           add_11[0][0]                     \n",
            "                                                                 leaky_re_lu_30[0][0]             \n",
            "__________________________________________________________________________________________________\n",
            "conv2d_31 (Conv2D)              (None, 26, 26, 256)  131072      add_12[0][0]                     \n",
            "__________________________________________________________________________________________________\n",
            "batch_normalization_31 (BatchNo (None, 26, 26, 256)  1024        conv2d_31[0][0]                  \n",
            "__________________________________________________________________________________________________\n",
            "leaky_re_lu_31 (LeakyReLU)      (None, 26, 26, 256)  0           batch_normalization_31[0][0]     \n",
            "__________________________________________________________________________________________________\n",
            "conv2d_32 (Conv2D)              (None, 26, 26, 512)  1179648     leaky_re_lu_31[0][0]             \n",
            "__________________________________________________________________________________________________\n",
            "batch_normalization_32 (BatchNo (None, 26, 26, 512)  2048        conv2d_32[0][0]                  \n",
            "__________________________________________________________________________________________________\n",
            "leaky_re_lu_32 (LeakyReLU)      (None, 26, 26, 512)  0           batch_normalization_32[0][0]     \n",
            "__________________________________________________________________________________________________\n",
            "add_13 (Add)                    (None, 26, 26, 512)  0           add_12[0][0]                     \n",
            "                                                                 leaky_re_lu_32[0][0]             \n",
            "__________________________________________________________________________________________________\n",
            "conv2d_33 (Conv2D)              (None, 26, 26, 256)  131072      add_13[0][0]                     \n",
            "__________________________________________________________________________________________________\n",
            "batch_normalization_33 (BatchNo (None, 26, 26, 256)  1024        conv2d_33[0][0]                  \n",
            "__________________________________________________________________________________________________\n",
            "leaky_re_lu_33 (LeakyReLU)      (None, 26, 26, 256)  0           batch_normalization_33[0][0]     \n",
            "__________________________________________________________________________________________________\n",
            "conv2d_34 (Conv2D)              (None, 26, 26, 512)  1179648     leaky_re_lu_33[0][0]             \n",
            "__________________________________________________________________________________________________\n",
            "batch_normalization_34 (BatchNo (None, 26, 26, 512)  2048        conv2d_34[0][0]                  \n",
            "__________________________________________________________________________________________________\n",
            "leaky_re_lu_34 (LeakyReLU)      (None, 26, 26, 512)  0           batch_normalization_34[0][0]     \n",
            "__________________________________________________________________________________________________\n",
            "add_14 (Add)                    (None, 26, 26, 512)  0           add_13[0][0]                     \n",
            "                                                                 leaky_re_lu_34[0][0]             \n",
            "__________________________________________________________________________________________________\n",
            "conv2d_35 (Conv2D)              (None, 26, 26, 256)  131072      add_14[0][0]                     \n",
            "__________________________________________________________________________________________________\n",
            "batch_normalization_35 (BatchNo (None, 26, 26, 256)  1024        conv2d_35[0][0]                  \n",
            "__________________________________________________________________________________________________\n",
            "leaky_re_lu_35 (LeakyReLU)      (None, 26, 26, 256)  0           batch_normalization_35[0][0]     \n",
            "__________________________________________________________________________________________________\n",
            "conv2d_36 (Conv2D)              (None, 26, 26, 512)  1179648     leaky_re_lu_35[0][0]             \n",
            "__________________________________________________________________________________________________\n",
            "batch_normalization_36 (BatchNo (None, 26, 26, 512)  2048        conv2d_36[0][0]                  \n",
            "__________________________________________________________________________________________________\n",
            "leaky_re_lu_36 (LeakyReLU)      (None, 26, 26, 512)  0           batch_normalization_36[0][0]     \n",
            "__________________________________________________________________________________________________\n",
            "add_15 (Add)                    (None, 26, 26, 512)  0           add_14[0][0]                     \n",
            "                                                                 leaky_re_lu_36[0][0]             \n",
            "__________________________________________________________________________________________________\n",
            "conv2d_37 (Conv2D)              (None, 26, 26, 256)  131072      add_15[0][0]                     \n",
            "__________________________________________________________________________________________________\n",
            "batch_normalization_37 (BatchNo (None, 26, 26, 256)  1024        conv2d_37[0][0]                  \n",
            "__________________________________________________________________________________________________\n",
            "leaky_re_lu_37 (LeakyReLU)      (None, 26, 26, 256)  0           batch_normalization_37[0][0]     \n",
            "__________________________________________________________________________________________________\n",
            "conv2d_38 (Conv2D)              (None, 26, 26, 512)  1179648     leaky_re_lu_37[0][0]             \n",
            "__________________________________________________________________________________________________\n",
            "batch_normalization_38 (BatchNo (None, 26, 26, 512)  2048        conv2d_38[0][0]                  \n",
            "__________________________________________________________________________________________________\n",
            "leaky_re_lu_38 (LeakyReLU)      (None, 26, 26, 512)  0           batch_normalization_38[0][0]     \n",
            "__________________________________________________________________________________________________\n",
            "add_16 (Add)                    (None, 26, 26, 512)  0           add_15[0][0]                     \n",
            "                                                                 leaky_re_lu_38[0][0]             \n",
            "__________________________________________________________________________________________________\n",
            "conv2d_39 (Conv2D)              (None, 26, 26, 256)  131072      add_16[0][0]                     \n",
            "__________________________________________________________________________________________________\n",
            "batch_normalization_39 (BatchNo (None, 26, 26, 256)  1024        conv2d_39[0][0]                  \n",
            "__________________________________________________________________________________________________\n",
            "leaky_re_lu_39 (LeakyReLU)      (None, 26, 26, 256)  0           batch_normalization_39[0][0]     \n",
            "__________________________________________________________________________________________________\n",
            "conv2d_40 (Conv2D)              (None, 26, 26, 512)  1179648     leaky_re_lu_39[0][0]             \n",
            "__________________________________________________________________________________________________\n",
            "batch_normalization_40 (BatchNo (None, 26, 26, 512)  2048        conv2d_40[0][0]                  \n",
            "__________________________________________________________________________________________________\n",
            "leaky_re_lu_40 (LeakyReLU)      (None, 26, 26, 512)  0           batch_normalization_40[0][0]     \n",
            "__________________________________________________________________________________________________\n",
            "add_17 (Add)                    (None, 26, 26, 512)  0           add_16[0][0]                     \n",
            "                                                                 leaky_re_lu_40[0][0]             \n",
            "__________________________________________________________________________________________________\n",
            "conv2d_41 (Conv2D)              (None, 26, 26, 256)  131072      add_17[0][0]                     \n",
            "__________________________________________________________________________________________________\n",
            "batch_normalization_41 (BatchNo (None, 26, 26, 256)  1024        conv2d_41[0][0]                  \n",
            "__________________________________________________________________________________________________\n",
            "leaky_re_lu_41 (LeakyReLU)      (None, 26, 26, 256)  0           batch_normalization_41[0][0]     \n",
            "__________________________________________________________________________________________________\n",
            "conv2d_42 (Conv2D)              (None, 26, 26, 512)  1179648     leaky_re_lu_41[0][0]             \n",
            "__________________________________________________________________________________________________\n",
            "batch_normalization_42 (BatchNo (None, 26, 26, 512)  2048        conv2d_42[0][0]                  \n",
            "__________________________________________________________________________________________________\n",
            "leaky_re_lu_42 (LeakyReLU)      (None, 26, 26, 512)  0           batch_normalization_42[0][0]     \n",
            "__________________________________________________________________________________________________\n",
            "add_18 (Add)                    (None, 26, 26, 512)  0           add_17[0][0]                     \n",
            "                                                                 leaky_re_lu_42[0][0]             \n",
            "__________________________________________________________________________________________________\n",
            "zero_padding2d_4 (ZeroPadding2D (None, 27, 27, 512)  0           add_18[0][0]                     \n",
            "__________________________________________________________________________________________________\n",
            "conv2d_43 (Conv2D)              (None, 13, 13, 1024) 4718592     zero_padding2d_4[0][0]           \n",
            "__________________________________________________________________________________________________\n",
            "batch_normalization_43 (BatchNo (None, 13, 13, 1024) 4096        conv2d_43[0][0]                  \n",
            "__________________________________________________________________________________________________\n",
            "leaky_re_lu_43 (LeakyReLU)      (None, 13, 13, 1024) 0           batch_normalization_43[0][0]     \n",
            "__________________________________________________________________________________________________\n",
            "conv2d_44 (Conv2D)              (None, 13, 13, 512)  524288      leaky_re_lu_43[0][0]             \n",
            "__________________________________________________________________________________________________\n",
            "batch_normalization_44 (BatchNo (None, 13, 13, 512)  2048        conv2d_44[0][0]                  \n",
            "__________________________________________________________________________________________________\n",
            "leaky_re_lu_44 (LeakyReLU)      (None, 13, 13, 512)  0           batch_normalization_44[0][0]     \n",
            "__________________________________________________________________________________________________\n",
            "conv2d_45 (Conv2D)              (None, 13, 13, 1024) 4718592     leaky_re_lu_44[0][0]             \n",
            "__________________________________________________________________________________________________\n",
            "batch_normalization_45 (BatchNo (None, 13, 13, 1024) 4096        conv2d_45[0][0]                  \n",
            "__________________________________________________________________________________________________\n",
            "leaky_re_lu_45 (LeakyReLU)      (None, 13, 13, 1024) 0           batch_normalization_45[0][0]     \n",
            "__________________________________________________________________________________________________\n",
            "add_19 (Add)                    (None, 13, 13, 1024) 0           leaky_re_lu_43[0][0]             \n",
            "                                                                 leaky_re_lu_45[0][0]             \n",
            "__________________________________________________________________________________________________\n",
            "conv2d_46 (Conv2D)              (None, 13, 13, 512)  524288      add_19[0][0]                     \n",
            "__________________________________________________________________________________________________\n",
            "batch_normalization_46 (BatchNo (None, 13, 13, 512)  2048        conv2d_46[0][0]                  \n",
            "__________________________________________________________________________________________________\n",
            "leaky_re_lu_46 (LeakyReLU)      (None, 13, 13, 512)  0           batch_normalization_46[0][0]     \n",
            "__________________________________________________________________________________________________\n",
            "conv2d_47 (Conv2D)              (None, 13, 13, 1024) 4718592     leaky_re_lu_46[0][0]             \n",
            "__________________________________________________________________________________________________\n",
            "batch_normalization_47 (BatchNo (None, 13, 13, 1024) 4096        conv2d_47[0][0]                  \n",
            "__________________________________________________________________________________________________\n",
            "leaky_re_lu_47 (LeakyReLU)      (None, 13, 13, 1024) 0           batch_normalization_47[0][0]     \n",
            "__________________________________________________________________________________________________\n",
            "add_20 (Add)                    (None, 13, 13, 1024) 0           add_19[0][0]                     \n",
            "                                                                 leaky_re_lu_47[0][0]             \n",
            "__________________________________________________________________________________________________\n",
            "conv2d_48 (Conv2D)              (None, 13, 13, 512)  524288      add_20[0][0]                     \n",
            "__________________________________________________________________________________________________\n",
            "batch_normalization_48 (BatchNo (None, 13, 13, 512)  2048        conv2d_48[0][0]                  \n",
            "__________________________________________________________________________________________________\n",
            "leaky_re_lu_48 (LeakyReLU)      (None, 13, 13, 512)  0           batch_normalization_48[0][0]     \n",
            "__________________________________________________________________________________________________\n",
            "conv2d_49 (Conv2D)              (None, 13, 13, 1024) 4718592     leaky_re_lu_48[0][0]             \n",
            "__________________________________________________________________________________________________\n",
            "batch_normalization_49 (BatchNo (None, 13, 13, 1024) 4096        conv2d_49[0][0]                  \n",
            "__________________________________________________________________________________________________\n",
            "leaky_re_lu_49 (LeakyReLU)      (None, 13, 13, 1024) 0           batch_normalization_49[0][0]     \n",
            "__________________________________________________________________________________________________\n",
            "add_21 (Add)                    (None, 13, 13, 1024) 0           add_20[0][0]                     \n",
            "                                                                 leaky_re_lu_49[0][0]             \n",
            "__________________________________________________________________________________________________\n",
            "conv2d_50 (Conv2D)              (None, 13, 13, 512)  524288      add_21[0][0]                     \n",
            "__________________________________________________________________________________________________\n",
            "batch_normalization_50 (BatchNo (None, 13, 13, 512)  2048        conv2d_50[0][0]                  \n",
            "__________________________________________________________________________________________________\n",
            "leaky_re_lu_50 (LeakyReLU)      (None, 13, 13, 512)  0           batch_normalization_50[0][0]     \n",
            "__________________________________________________________________________________________________\n",
            "conv2d_51 (Conv2D)              (None, 13, 13, 1024) 4718592     leaky_re_lu_50[0][0]             \n",
            "__________________________________________________________________________________________________\n",
            "batch_normalization_51 (BatchNo (None, 13, 13, 1024) 4096        conv2d_51[0][0]                  \n",
            "__________________________________________________________________________________________________\n",
            "leaky_re_lu_51 (LeakyReLU)      (None, 13, 13, 1024) 0           batch_normalization_51[0][0]     \n",
            "__________________________________________________________________________________________________\n",
            "add_22 (Add)                    (None, 13, 13, 1024) 0           add_21[0][0]                     \n",
            "                                                                 leaky_re_lu_51[0][0]             \n",
            "__________________________________________________________________________________________________\n",
            "conv2d_52 (Conv2D)              (None, 13, 13, 512)  524288      add_22[0][0]                     \n",
            "__________________________________________________________________________________________________\n",
            "batch_normalization_52 (BatchNo (None, 13, 13, 512)  2048        conv2d_52[0][0]                  \n",
            "__________________________________________________________________________________________________\n",
            "leaky_re_lu_52 (LeakyReLU)      (None, 13, 13, 512)  0           batch_normalization_52[0][0]     \n",
            "__________________________________________________________________________________________________\n",
            "conv2d_53 (Conv2D)              (None, 13, 13, 1024) 4718592     leaky_re_lu_52[0][0]             \n",
            "__________________________________________________________________________________________________\n",
            "batch_normalization_53 (BatchNo (None, 13, 13, 1024) 4096        conv2d_53[0][0]                  \n",
            "__________________________________________________________________________________________________\n",
            "leaky_re_lu_53 (LeakyReLU)      (None, 13, 13, 1024) 0           batch_normalization_53[0][0]     \n",
            "__________________________________________________________________________________________________\n",
            "conv2d_54 (Conv2D)              (None, 13, 13, 512)  524288      leaky_re_lu_53[0][0]             \n",
            "__________________________________________________________________________________________________\n",
            "batch_normalization_54 (BatchNo (None, 13, 13, 512)  2048        conv2d_54[0][0]                  \n",
            "__________________________________________________________________________________________________\n",
            "leaky_re_lu_54 (LeakyReLU)      (None, 13, 13, 512)  0           batch_normalization_54[0][0]     \n",
            "__________________________________________________________________________________________________\n",
            "conv2d_55 (Conv2D)              (None, 13, 13, 1024) 4718592     leaky_re_lu_54[0][0]             \n",
            "__________________________________________________________________________________________________\n",
            "batch_normalization_55 (BatchNo (None, 13, 13, 1024) 4096        conv2d_55[0][0]                  \n",
            "__________________________________________________________________________________________________\n",
            "leaky_re_lu_55 (LeakyReLU)      (None, 13, 13, 1024) 0           batch_normalization_55[0][0]     \n",
            "__________________________________________________________________________________________________\n",
            "conv2d_56 (Conv2D)              (None, 13, 13, 512)  524288      leaky_re_lu_55[0][0]             \n",
            "__________________________________________________________________________________________________\n",
            "batch_normalization_56 (BatchNo (None, 13, 13, 512)  2048        conv2d_56[0][0]                  \n",
            "__________________________________________________________________________________________________\n",
            "leaky_re_lu_56 (LeakyReLU)      (None, 13, 13, 512)  0           batch_normalization_56[0][0]     \n",
            "__________________________________________________________________________________________________\n",
            "conv2d_59 (Conv2D)              (None, 13, 13, 256)  131072      leaky_re_lu_56[0][0]             \n",
            "__________________________________________________________________________________________________\n",
            "batch_normalization_58 (BatchNo (None, 13, 13, 256)  1024        conv2d_59[0][0]                  \n",
            "__________________________________________________________________________________________________\n",
            "leaky_re_lu_58 (LeakyReLU)      (None, 13, 13, 256)  0           batch_normalization_58[0][0]     \n",
            "__________________________________________________________________________________________________\n",
            "up_sampling2d (UpSampling2D)    (None, 26, 26, 256)  0           leaky_re_lu_58[0][0]             \n",
            "__________________________________________________________________________________________________\n",
            "concatenate (Concatenate)       (None, 26, 26, 768)  0           up_sampling2d[0][0]              \n",
            "                                                                 add_18[0][0]                     \n",
            "__________________________________________________________________________________________________\n",
            "conv2d_60 (Conv2D)              (None, 26, 26, 256)  196608      concatenate[0][0]                \n",
            "__________________________________________________________________________________________________\n",
            "batch_normalization_59 (BatchNo (None, 26, 26, 256)  1024        conv2d_60[0][0]                  \n",
            "__________________________________________________________________________________________________\n",
            "leaky_re_lu_59 (LeakyReLU)      (None, 26, 26, 256)  0           batch_normalization_59[0][0]     \n",
            "__________________________________________________________________________________________________\n",
            "conv2d_61 (Conv2D)              (None, 26, 26, 512)  1179648     leaky_re_lu_59[0][0]             \n",
            "__________________________________________________________________________________________________\n",
            "batch_normalization_60 (BatchNo (None, 26, 26, 512)  2048        conv2d_61[0][0]                  \n",
            "__________________________________________________________________________________________________\n",
            "leaky_re_lu_60 (LeakyReLU)      (None, 26, 26, 512)  0           batch_normalization_60[0][0]     \n",
            "__________________________________________________________________________________________________\n",
            "conv2d_62 (Conv2D)              (None, 26, 26, 256)  131072      leaky_re_lu_60[0][0]             \n",
            "__________________________________________________________________________________________________\n",
            "batch_normalization_61 (BatchNo (None, 26, 26, 256)  1024        conv2d_62[0][0]                  \n",
            "__________________________________________________________________________________________________\n",
            "leaky_re_lu_61 (LeakyReLU)      (None, 26, 26, 256)  0           batch_normalization_61[0][0]     \n",
            "__________________________________________________________________________________________________\n",
            "conv2d_63 (Conv2D)              (None, 26, 26, 512)  1179648     leaky_re_lu_61[0][0]             \n",
            "__________________________________________________________________________________________________\n",
            "batch_normalization_62 (BatchNo (None, 26, 26, 512)  2048        conv2d_63[0][0]                  \n",
            "__________________________________________________________________________________________________\n",
            "leaky_re_lu_62 (LeakyReLU)      (None, 26, 26, 512)  0           batch_normalization_62[0][0]     \n",
            "__________________________________________________________________________________________________\n",
            "conv2d_64 (Conv2D)              (None, 26, 26, 256)  131072      leaky_re_lu_62[0][0]             \n",
            "__________________________________________________________________________________________________\n",
            "batch_normalization_63 (BatchNo (None, 26, 26, 256)  1024        conv2d_64[0][0]                  \n",
            "__________________________________________________________________________________________________\n",
            "leaky_re_lu_63 (LeakyReLU)      (None, 26, 26, 256)  0           batch_normalization_63[0][0]     \n",
            "__________________________________________________________________________________________________\n",
            "conv2d_67 (Conv2D)              (None, 26, 26, 128)  32768       leaky_re_lu_63[0][0]             \n",
            "__________________________________________________________________________________________________\n",
            "batch_normalization_65 (BatchNo (None, 26, 26, 128)  512         conv2d_67[0][0]                  \n",
            "__________________________________________________________________________________________________\n",
            "leaky_re_lu_65 (LeakyReLU)      (None, 26, 26, 128)  0           batch_normalization_65[0][0]     \n",
            "__________________________________________________________________________________________________\n",
            "up_sampling2d_1 (UpSampling2D)  (None, 52, 52, 128)  0           leaky_re_lu_65[0][0]             \n",
            "__________________________________________________________________________________________________\n",
            "concatenate_1 (Concatenate)     (None, 52, 52, 384)  0           up_sampling2d_1[0][0]            \n",
            "                                                                 add_10[0][0]                     \n",
            "__________________________________________________________________________________________________\n",
            "conv2d_68 (Conv2D)              (None, 52, 52, 128)  49152       concatenate_1[0][0]              \n",
            "__________________________________________________________________________________________________\n",
            "batch_normalization_66 (BatchNo (None, 52, 52, 128)  512         conv2d_68[0][0]                  \n",
            "__________________________________________________________________________________________________\n",
            "leaky_re_lu_66 (LeakyReLU)      (None, 52, 52, 128)  0           batch_normalization_66[0][0]     \n",
            "__________________________________________________________________________________________________\n",
            "conv2d_69 (Conv2D)              (None, 52, 52, 256)  294912      leaky_re_lu_66[0][0]             \n",
            "__________________________________________________________________________________________________\n",
            "batch_normalization_67 (BatchNo (None, 52, 52, 256)  1024        conv2d_69[0][0]                  \n",
            "__________________________________________________________________________________________________\n",
            "leaky_re_lu_67 (LeakyReLU)      (None, 52, 52, 256)  0           batch_normalization_67[0][0]     \n",
            "__________________________________________________________________________________________________\n",
            "conv2d_70 (Conv2D)              (None, 52, 52, 128)  32768       leaky_re_lu_67[0][0]             \n",
            "__________________________________________________________________________________________________\n",
            "batch_normalization_68 (BatchNo (None, 52, 52, 128)  512         conv2d_70[0][0]                  \n",
            "__________________________________________________________________________________________________\n",
            "leaky_re_lu_68 (LeakyReLU)      (None, 52, 52, 128)  0           batch_normalization_68[0][0]     \n",
            "__________________________________________________________________________________________________\n",
            "conv2d_71 (Conv2D)              (None, 52, 52, 256)  294912      leaky_re_lu_68[0][0]             \n",
            "__________________________________________________________________________________________________\n",
            "batch_normalization_69 (BatchNo (None, 52, 52, 256)  1024        conv2d_71[0][0]                  \n",
            "__________________________________________________________________________________________________\n",
            "leaky_re_lu_69 (LeakyReLU)      (None, 52, 52, 256)  0           batch_normalization_69[0][0]     \n",
            "__________________________________________________________________________________________________\n",
            "conv2d_72 (Conv2D)              (None, 52, 52, 128)  32768       leaky_re_lu_69[0][0]             \n",
            "__________________________________________________________________________________________________\n",
            "batch_normalization_70 (BatchNo (None, 52, 52, 128)  512         conv2d_72[0][0]                  \n",
            "__________________________________________________________________________________________________\n",
            "leaky_re_lu_70 (LeakyReLU)      (None, 52, 52, 128)  0           batch_normalization_70[0][0]     \n",
            "__________________________________________________________________________________________________\n",
            "conv2d_57 (Conv2D)              (None, 13, 13, 1024) 4718592     leaky_re_lu_56[0][0]             \n",
            "__________________________________________________________________________________________________\n",
            "conv2d_65 (Conv2D)              (None, 26, 26, 512)  1179648     leaky_re_lu_63[0][0]             \n",
            "__________________________________________________________________________________________________\n",
            "conv2d_73 (Conv2D)              (None, 52, 52, 256)  294912      leaky_re_lu_70[0][0]             \n",
            "__________________________________________________________________________________________________\n",
            "batch_normalization_57 (BatchNo (None, 13, 13, 1024) 4096        conv2d_57[0][0]                  \n",
            "__________________________________________________________________________________________________\n",
            "batch_normalization_64 (BatchNo (None, 26, 26, 512)  2048        conv2d_65[0][0]                  \n",
            "__________________________________________________________________________________________________\n",
            "batch_normalization_71 (BatchNo (None, 52, 52, 256)  1024        conv2d_73[0][0]                  \n",
            "__________________________________________________________________________________________________\n",
            "leaky_re_lu_57 (LeakyReLU)      (None, 13, 13, 1024) 0           batch_normalization_57[0][0]     \n",
            "__________________________________________________________________________________________________\n",
            "leaky_re_lu_64 (LeakyReLU)      (None, 26, 26, 512)  0           batch_normalization_64[0][0]     \n",
            "__________________________________________________________________________________________________\n",
            "leaky_re_lu_71 (LeakyReLU)      (None, 52, 52, 256)  0           batch_normalization_71[0][0]     \n",
            "__________________________________________________________________________________________________\n",
            "conv2d_58 (Conv2D)              (None, 13, 13, 18)   18450       leaky_re_lu_57[0][0]             \n",
            "__________________________________________________________________________________________________\n",
            "conv2d_66 (Conv2D)              (None, 26, 26, 18)   9234        leaky_re_lu_64[0][0]             \n",
            "__________________________________________________________________________________________________\n",
            "conv2d_74 (Conv2D)              (None, 52, 52, 18)   4626        leaky_re_lu_71[0][0]             \n",
            "__________________________________________________________________________________________________\n",
            "input_2 (InputLayer)            [(None, 13, 13, 3, 6 0                                            \n",
            "__________________________________________________________________________________________________\n",
            "input_3 (InputLayer)            [(None, 26, 26, 3, 6 0                                            \n",
            "__________________________________________________________________________________________________\n",
            "input_4 (InputLayer)            [(None, 52, 52, 3, 6 0                                            \n",
            "__________________________________________________________________________________________________\n",
            "yolo_loss (Lambda)              ()                   0           conv2d_58[0][0]                  \n",
            "                                                                 conv2d_66[0][0]                  \n",
            "                                                                 conv2d_74[0][0]                  \n",
            "                                                                 input_2[0][0]                    \n",
            "                                                                 input_3[0][0]                    \n",
            "                                                                 input_4[0][0]                    \n",
            "==================================================================================================\n",
            "Total params: 61,576,342\n",
            "Trainable params: 61,523,734\n",
            "Non-trainable params: 52,608\n",
            "__________________________________________________________________________________________________\n"
          ],
          "name": "stdout"
        }
      ]
    },
    {
      "cell_type": "markdown",
      "metadata": {
        "id": "wym7SQJ0gang"
      },
      "source": [
        "# Обнаружение объектов"
      ]
    },
    {
      "cell_type": "markdown",
      "metadata": {
        "id": "-hSRyWGu1fU3"
      },
      "source": [
        "**Готовим функцию, которая будет получать на вход путь к картинке и возвращать путь к обработанному (распознанному) изображению. Также передаем в функцию путь к весам модели**"
      ]
    },
    {
      "cell_type": "code",
      "metadata": {
        "id": "-4KHMTDf3eoC"
      },
      "source": [
        "def predict_YOLO(img_path = '', new_img_path ='new_image.jpg', model_weight = '' ):\n",
        "\n",
        "  # Выходим если нечего обрабатывать\n",
        "  if img_path == '':\n",
        "    print('Вы не дали картинку для обработки.')\n",
        "    return\n",
        "\n",
        "  # Выходим если нечего обрабатывать\n",
        "  if model_weight == '':\n",
        "    print('Нет данных для загрузки весов модели.')\n",
        "    return\n",
        "\n",
        "  # Файл с весами модели\n",
        "  #model_weight = path + 'weights/YOLOv3__el1000__opt0.00001__ep0_100.h5'\n",
        "  # Создаем модель\n",
        "  model_YOLO = create_YOLOv3(Input(shape=(416, 416, 3)), 9//3) \n",
        "  # Загружаем посчитанные веса модели\n",
        "  model_YOLO.load_weights(model_weight) \n",
        "  print ('{} загружены.'.format(model_weight))\n",
        "\n",
        "  # Создаем набор цветов для ограничивающих рамок\n",
        "  import colorsys \n",
        "  hsv_tuples = [(x / len(name_classes), 1., 1.) for x in range(len(name_classes))]\n",
        "  colors = list(map(lambda x: colorsys.hsv_to_rgb(*x), hsv_tuples))\n",
        "  colors = list(map(lambda x:(int(x[0]*255), int(x[1]*255), int(x[2]*255)), colors))\n",
        "  np.random.seed(43)\n",
        "  np.random.shuffle(colors)\n",
        "  np.random.seed(None)\n",
        "\n",
        "  # Берем изображение по заданному пути\n",
        "  image = Image.open(img_path) \n",
        "  #plt.imshow(image)\n",
        "\n",
        "  # Изменяем размер картинки под input_shape\n",
        "  iw, ih = image.size\n",
        "  w, h = (416, 416)\n",
        "  scale = min(w / iw, h / ih)\n",
        "  nw = int(iw * scale)\n",
        "  nh = int(ih * scale)\n",
        "  image_for_predict = image.resize((nw, nh), Image.BICUBIC)\n",
        "  new_image = Image.new('RGB', (416,416), (128, 128, 128))\n",
        "  new_image.paste(image_for_predict, ((w - nw) // 2, (h - nh) // 2))\n",
        "  image_for_predict = new_image \n",
        "  image_for_predict = np.array(image_for_predict) / 255.\n",
        "  #plt.imshow(image_for_predict)\n",
        "  image_for_predict = image_for_predict.reshape(1, 416, 416, 3)\n",
        "  #print (image_for_predict.shape)\n",
        "\n",
        "  # Получаем предикт\n",
        "  predict = model_YOLO.predict(image_for_predict)\n",
        "  num_layers = len(predict)                              # Получаем количество сеток\n",
        "  anchor_mask = [[6,7,8], [3,4,5], [0,1,2]]              # Задаем маски для 3 уровней анкоров\n",
        "  input_shape = np.array(predict[0].shape[1:3]) * 32     # Получаем размер выходного изображения\n",
        "  image_shape = np.array([image.size[1], image.size[0]]) # Сохраняем размер оригинального изображения\n",
        "  #print(input_shape)\n",
        "  #print(image_shape)\n",
        "\n",
        "  level_anchor = 0                                       # Укажем уровень сетки\n",
        "  num_anchors = len(anchors[anchor_mask[level_anchor]])  # Получаем количество анкоров\n",
        "  anchors_tensor = np.reshape(anchors[anchor_mask[level_anchor]], (1,1,1,num_anchors,2)) # Выбираем анкоры для нашего уровня сетки и решейпим\n",
        "  #print(anchors_tensor.shape)\n",
        "  #print(anchors_tensor)\n",
        "\n",
        "  grid_shape = predict[level_anchor].shape[1:3]          # Получим размерность сетки\n",
        "  grid = []                                              # Массив для финальной сетки\n",
        "  grid_row = []                                          # Массив для столбца\n",
        "  for i in range(grid_shape[0]):                         # По всем строкам\n",
        "    for j in range(grid_shape[1]):                       # По всем столбцам\n",
        "      grid_row.append([j , i])                           # Создаем элемент [j, i]\n",
        "    grid.append(grid_row)                                # Добавляем столбец в финальную сетку\n",
        "    grid_row = []                                        # Обнуляем данные для столбца\n",
        "  grid = np.array(grid)                                  # Переводим в numpy\n",
        "  grid = np.expand_dims(grid, axis=2)                    # Добавляем размерность\n",
        "  #print(grid.shape)                                     \n",
        "\n",
        "  # Решейпим предикт\n",
        "  feats = np.reshape(predict[level_anchor], (-1, grid_shape[0], grid_shape[1], num_anchors, num_classes+5))\n",
        "  #print(feats.shape)\n",
        "\n",
        "  # Функция расчета сигмоиды для вектора\n",
        "  def sigmoid(x):           # На вход подаем массив данных\n",
        "    return 1/(1+np.exp(-x)) # Возвращаем сигмоиду для всех элементов массива\n",
        "\n",
        "  # Получаем параметры бокса\n",
        "  # Координаты центра bounding box\n",
        "  xy_param = feats[..., :2] # Выцепляем 0 и 1 параметры из предикта (соответствуют параметрам смещения центра анкора)\n",
        "  box_xy = (sigmoid(xy_param) + grid)/grid_shape[::-1] # Получаем координаты центра bounding box\n",
        "\n",
        "  # Высота и ширна bounding box\n",
        "  wh_param = feats[..., 2:4] # Выцепляем 2 и 3 параметры из предикта (соответствуют праметрам изменения высоты и ширины анкора)\n",
        "  box_wh = np.exp(wh_param) * anchors_tensor / input_shape[::-1] # Получаем высоту и ширину bounding box\n",
        "\n",
        "  # Вероятность наличия объекта в анкоре\n",
        "  conf_param = feats[..., 4:5] # Выцепляем 4 параметр из предикта (соответствуют вероятности обнаружения объекта)\n",
        "  box_confidence = sigmoid(conf_param) # Получаем вероятность наличия объекта в bounding box\n",
        "\n",
        "  # Класс объекта\n",
        "  class_param = feats[...,5:] # Выцепляем 5+ параметры из предикта (соответствуют вероятностям классов объектов)\n",
        "  box_class_probs = sigmoid(class_param) # Получаем вероятности классов объектов\n",
        "  #print(box_xy.shape)\n",
        "  #print(box_wh.shape)\n",
        "  #print(box_confidence.shape)\n",
        "  #print(box_class_probs.shape)\n",
        "\n",
        "  # Корректируем ограничивающие рамки (Размер изображения на выходе 416х416)\n",
        "  # И найденные параметры соответствуют именно этой размерности\n",
        "  # Необходимо найти координаты bounding box для рамерности исходного изображения\n",
        "  box_yx = box_xy[..., ::-1].copy()\n",
        "  box_hw = box_wh[..., ::-1].copy()\n",
        "\n",
        "  new_shape = np.round(image_shape * np.min(input_shape/image_shape)) # Находим размерность пропорциональную исходной с одной из сторон 416\n",
        "  offset = (input_shape-new_shape)/2./input_shape # Смотрим на сколько надо сместить в относительных координатах\n",
        "  scale = input_shape/new_shape  # Находим коэфициент масштабирования\n",
        "  box_yx = (box_yx - offset) * scale # Смещаем по координатам\n",
        "  box_hw *= scale # Масштабируем ширину и высоту\n",
        "\n",
        "  box_mins = box_yx - (box_hw / 2.) # Получаем левые верхние координаты (от середины отнимаем половину ширины и высоты)\n",
        "  box_maxes = box_yx + (box_hw / 2.) # Получаем правые нижнние координаты (к середине прибавляем половину ширины и высоты)\n",
        "  _boxes =  np.concatenate([\n",
        "      box_mins[..., 0:1], # yMin\n",
        "      box_mins[..., 1:2], # xMin\n",
        "      box_maxes[..., 0:1], # yMax\n",
        "      box_maxes[..., 1:2]  # xMax\n",
        "  ], axis=-1)\n",
        "  #print(new_shape)\n",
        "  #print(offset)\n",
        "  #print(scale)\n",
        "  #print(_boxes.shape)\n",
        "  #print()\n",
        "  #print(_boxes[0][6][7][1])\n",
        "  #print(image_shape)\n",
        "  _boxes *= np.concatenate([image_shape, image_shape]) # Переводим из относительных координат в абсолютные\n",
        "  \n",
        "  # Получаем выходные параметры\n",
        "  _boxes_reshape = np.reshape(_boxes, (-1, 4))                     # Решейпим все боксы в один массив\n",
        "  _box_scores = box_confidence * box_class_probs         # Получаем вероятность каждого класса (умноженную на веоятность наличия объекта)\n",
        "  _box_scores_reshape = np.reshape(_box_scores, (-1, num_classes)) # Решейпим в один массив\n",
        "  #print(_boxes_reshape.shape)\n",
        "  #print(_box_scores_reshape.shape)\n",
        "  #print(_boxes_reshape[256])\n",
        "  #print(_box_scores_reshape[256]) # Вероятность того, что объект 0-го класса\n",
        "\n",
        "  # Берем все объекты, обнаруженные с вероятностью больше 0.7\n",
        "  mask = _box_scores_reshape >= 0.7 \n",
        "  #print(np.where(mask == True))\n",
        "\n",
        "  _boxes_out = _boxes_reshape[mask[:,0]]\n",
        "  _scores_out = _box_scores_reshape[:, 0][mask[:,0]] \n",
        "  classes_out = np.ones_like(_scores_out,'int32') * 0\n",
        "  #print(_boxes_out)\n",
        "  #print(_scores_out)\n",
        "  #print (classes_out)\n",
        "\n",
        "  font = ImageFont.truetype(font=path + 'font.otf',\n",
        "                      size=np.floor(3e-2 * image.size[1] + 0.5).astype('int32'))\n",
        "  thickness = (image.size[0] + image.size[1]) // 300\n",
        "  \n",
        "\n",
        "  # Non-maximum Suppression\n",
        "  def non_max_suppression_fast(boxes, scores, overlapThresh):\t\n",
        "    if len(boxes) == 0:        # Если нет ни одного бокса\n",
        "      return []\n",
        "\n",
        "    pick = [] # Индексы возвращаемых боксов\n",
        "  \n",
        "    x1 = boxes[:,0] # координаты x левыъ верхних углов\n",
        "    y1 = boxes[:,1] \n",
        "    x2 = boxes[:,2]\n",
        "    y2 = boxes[:,3]\n",
        "  \n",
        "    area = (x2 - x1 + 1) * (y2 - y1 + 1)\n",
        "    idxs = np.argsort(scores)\n",
        "  \n",
        "    while len(idxs) > 0:\n",
        "      last = len(idxs) - 1\n",
        "      i = idxs[last]\n",
        "      pick.append(i)\n",
        "    \n",
        "      xx1 = np.maximum(x1[i], x1[idxs[:last]])\n",
        "      yy1 = np.maximum(y1[i], y1[idxs[:last]])\n",
        "      xx2 = np.minimum(x2[i], x2[idxs[:last]])\n",
        "      yy2 = np.minimum(y2[i], y2[idxs[:last]])\n",
        "    \n",
        "      w = np.maximum(0, xx2 - xx1 + 1)\n",
        "      h = np.maximum(0, yy2 - yy1 + 1)\n",
        "    \n",
        "      overlap = (w * h) / area[idxs[:last]]\n",
        "      idxs = np.delete(idxs, np.concatenate(([last],\n",
        "                                             np.where(overlap > overlapThresh)[0])))\n",
        "  \n",
        "    return boxes[pick].astype(\"int\"), scores[pick]\n",
        "\n",
        "  new_boxes, new_scores = non_max_suppression_fast(_boxes_out, _scores_out, 0.15)\n",
        "  new_classes = np.ones_like(new_scores,'int32') * 0\n",
        "  #print(new_boxes)\n",
        "\n",
        "  image_pred = image.copy()\n",
        "  for i, c in reversed(list(enumerate(new_classes))):\n",
        "    draw = ImageDraw.Draw(image_pred)\n",
        "    predicted_class = name_classes[c]\n",
        "    box = new_boxes[i]\n",
        "    score = new_scores[i]\n",
        "\n",
        "    label = '{} {:.2f}'.format(predicted_class, score)\n",
        "    label_size = draw.textsize(label, font)\n",
        "\n",
        "    top, left, bottom, right = box\n",
        "    top = max(0, np.floor(top + 0.5).astype('int32'))\n",
        "    left = max(0, np.floor(left + 0.5).astype('int32'))\n",
        "    bottom = min(image.size[1], np.floor(bottom + 0.5).astype('int32'))\n",
        "    right = min(image.size[0], np.floor(right + 0.5).astype('int32'))\n",
        "    #print(label, (left, top), (right, bottom))\n",
        "\n",
        "    if top - label_size[1] >= 0:\n",
        "        text_origin = np.array([left, top - label_size[1]])\n",
        "    else:\n",
        "        text_origin = np.array([left, top + 1])\n",
        "  \n",
        "    for i in range(thickness):\n",
        "        draw.rectangle(\n",
        "            [left + i, top + i, right - i, bottom - i],\n",
        "            outline=colors[c])\n",
        "    draw.rectangle(\n",
        "        [tuple(text_origin), tuple(text_origin + label_size)],\n",
        "        fill=colors[c])\n",
        "    draw.text(text_origin, label, fill=(0, 0, 0), font=font)\n",
        "    del draw\n",
        "  image_pred.save(new_img_path)\n",
        "  #plt.imshow(image_pred)\n",
        "\n",
        "  return new_img_path"
      ],
      "execution_count": null,
      "outputs": []
    },
    {
      "cell_type": "code",
      "metadata": {
        "colab": {
          "base_uri": "https://localhost:8080/",
          "height": 332
        },
        "id": "XyssIuRR4IZR",
        "outputId": "045a2145-49a8-4643-fd5a-68794730d09e"
      },
      "source": [
        "# Берем картинку из тестовой папки и подаем в функцию\n",
        "model_weight = path + 'weights/YOLOv3__el1000__opt0.00001__ep0_100.h5'\n",
        "new_img_path = predict_YOLO(path+'test/plane2.jpg', 'first_plane.jpg', model_weight )\n",
        "new_img = Image.open(new_img_path)\n",
        "plt.imshow(new_img)"
      ],
      "execution_count": null,
      "outputs": [
        {
          "output_type": "stream",
          "text": [
            "/content/drive/My Drive/my_sample_data/Д.З.31/Самолеты/weights/YOLOv3__el1000__opt0.00001__ep0_100.h5 загружены.\n",
            "WARNING:tensorflow:5 out of the last 5 calls to <function Model.make_predict_function.<locals>.predict_function at 0x7f9f27193950> triggered tf.function retracing. Tracing is expensive and the excessive number of tracings could be due to (1) creating @tf.function repeatedly in a loop, (2) passing tensors with different shapes, (3) passing Python objects instead of tensors. For (1), please define your @tf.function outside of the loop. For (2), @tf.function has experimental_relax_shapes=True option that relaxes argument shapes that can avoid unnecessary retracing. For (3), please refer to https://www.tensorflow.org/guide/function#controlling_retracing and https://www.tensorflow.org/api_docs/python/tf/function for  more details.\n"
          ],
          "name": "stdout"
        },
        {
          "output_type": "execute_result",
          "data": {
            "text/plain": [
              "<matplotlib.image.AxesImage at 0x7fa13af2bf98>"
            ]
          },
          "metadata": {
            "tags": []
          },
          "execution_count": 68
        },
        {
          "output_type": "display_data",
          "data": {
            "image/png": "[encoded data removed]",
            "text/plain": [
              "<Figure size 432x288 with 1 Axes>"
            ]
          },
          "metadata": {
            "tags": [],
            "needs_background": "light"
          }
        }
      ]
    },
    {
      "cell_type": "code",
      "metadata": {
        "colab": {
          "base_uri": "https://localhost:8080/",
          "height": 338
        },
        "id": "-mLD8f3rK4Fh",
        "outputId": "ddf17e07-b6be-46ef-b6c1-913a362d7b1a"
      },
      "source": [
        "# Берем картинку из тестовой папки и подаем в функцию\n",
        "model_weight = path + 'weights/YOLOv3__el1000__opt0.00001__ep0_100.h5'\n",
        "new_img_path = predict_YOLO(path+'test/plane3.jpg', 'second_plane.jpg', model_weight)\n",
        "new_img = Image.open(new_img_path)\n",
        "plt.imshow(new_img)"
      ],
      "execution_count": null,
      "outputs": [
        {
          "output_type": "stream",
          "text": [
            "/content/drive/My Drive/my_sample_data/Д.З.31/Самолеты/weights/YOLOv3__el1000__opt0.00001__ep0_100.h5 загружены.\n",
            "WARNING:tensorflow:6 out of the last 6 calls to <function Model.make_predict_function.<locals>.predict_function at 0x7f9f23771ea0> triggered tf.function retracing. Tracing is expensive and the excessive number of tracings could be due to (1) creating @tf.function repeatedly in a loop, (2) passing tensors with different shapes, (3) passing Python objects instead of tensors. For (1), please define your @tf.function outside of the loop. For (2), @tf.function has experimental_relax_shapes=True option that relaxes argument shapes that can avoid unnecessary retracing. For (3), please refer to https://www.tensorflow.org/guide/function#controlling_retracing and https://www.tensorflow.org/api_docs/python/tf/function for  more details.\n"
          ],
          "name": "stdout"
        },
        {
          "output_type": "execute_result",
          "data": {
            "text/plain": [
              "<matplotlib.image.AxesImage at 0x7f9f26f35c50>"
            ]
          },
          "metadata": {
            "tags": []
          },
          "execution_count": 69
        },
        {
          "output_type": "display_data",
          "data": {
            "image/png": "[encoded data removed]",
            "text/plain": [
              "<Figure size 432x288 with 1 Axes>"
            ]
          },
          "metadata": {
            "tags": [],
            "needs_background": "light"
          }
        }
      ]
    },
    {
      "cell_type": "markdown",
      "metadata": {
        "id": "qvttSghvbv7K"
      },
      "source": [
        "\n",
        "# Задание Pro\n",
        "\n",
        "Проверить гипотезу.\n",
        "1. Необходимо провести обучение модели (YOLOv3 или RetinaNet) на уменьшенной выборке (взять неполную базу самолетов из 1000 элементов, а 50-100 элементов). Проанализировать изменение ошибки и оценить насколько эти данные коррелируются с ошибкой на полной базе. Оценить на сколько снизилось время обучения.\n",
        "2. В случае успешного подтверждения теории (то есть падение ошибки на уменьшенной базе соответствует падению ошибки на полной базе): добиться минимального значения ошибки на неполной базе. Провести обучение сети на измененных данных для полной базы (200-300 эпох) и проверить результаты.\n"
      ]
    },
    {
      "cell_type": "markdown",
      "metadata": {
        "id": "W2mOkB0xgamW"
      },
      "source": [
        "# Обучение модели на уменьшенной базе"
      ]
    },
    {
      "cell_type": "markdown",
      "metadata": {
        "id": "jwU31QlrganK"
      },
      "source": [
        "## Функции"
      ]
    },
    {
      "cell_type": "code",
      "metadata": {
        "id": "Qpbdu7K2ganK"
      },
      "source": [
        "# Функция генерации данных\n",
        "def data_generator(annotation_lines, batch_size, anchors, input_shape):\n",
        "    n = len(annotation_lines)                                 # Получаем количество элементов в словаре аннотаций\n",
        "    i = 0                                                     # Задаем начальный индекс\n",
        "    while True:\n",
        "        image_data = []                                       # Массив для хранения изображений 416х416\n",
        "        box_data = []                                         # Массив для хранения bounding_box данных\n",
        "        for b in range(batch_size):                           # Пробегаем по всему batch_size\n",
        "            if i==0:                                          # Если первая итерация цикла\n",
        "                np.random.shuffle(annotation_lines)           # Перемешиваем элементы\n",
        "            image, box = augmentation(annotation_lines[i])    # Делаем аугментацию картинок и ограничивающих рамок\n",
        "            image_data.append(image)                          # Добавляем полученную картинку в результирующий массив \n",
        "            box_data.append(box)                              # Добавляем полученную ограничивающую рамку в массив bounfing_box\n",
        "            i = (i+1) % n                                     # Обновляем значение индека (не превышая общего количества элементов)\n",
        "        image_data = np.array(image_data)                     # Преобразуем в numpy\n",
        "        box_data = np.array(box_data)                         # Преобразуем в numpy\n",
        "        y_true = get_y(box_data, anchors, input_shape)        # По значению ограничивающей рамки получаем y_true        \n",
        "        yield [image_data, *y_true], np.zeros(batch_size)     # Возвращаем порцию данных для обучения"
      ],
      "execution_count": null,
      "outputs": []
    },
    {
      "cell_type": "code",
      "metadata": {
        "id": "ufj5mD2KganM"
      },
      "source": [
        "# Случайная аугментация изображения\n",
        "def augmentation(data):\n",
        "    # Словарь с параметрами аугментации\n",
        "    params = {\n",
        "        'jitter' : .3,\n",
        "        'hue'    : .1,\n",
        "        'sat'    : 1.5,\n",
        "        'val'    : 1.5\n",
        "    }\n",
        "    \n",
        "    data = data.split()                                       # Сплитим входную строку словаря\n",
        "    image = Image.open(path + data[0])                        # Открываем изображение самолета\n",
        "    width_i, height_i = image.size                            # Получаем ширину и высоту оригинального изображения\n",
        "    widht_shape, height_shape = input_shape[:2]               # Получаем ширину и высоту входного изображения для модели RetinaNet\n",
        "    \n",
        "    # Получаем координаты ограничивающей рамки\n",
        "    box = np.array([np.array(list(map(lambda x: int(float(x)),box.split(',')))) for box in data[1:]])\n",
        "    \n",
        "    # Случайным образом масштабируем изображение\n",
        "    new_ar = widht_shape / height_shape * rand(1 - params['jitter'], 1 + params['jitter']) / rand(1 - params['jitter'], 1 + params['jitter'])\n",
        "    scale = rand(.65, 2) \n",
        "    if new_ar < 1:        \n",
        "        nh = int(scale * height_shape)\n",
        "        nw = int(nh * new_ar)\n",
        "    else:\n",
        "        nw = int(scale * widht_shape)\n",
        "        nh = int(nw / new_ar)\n",
        "    image = image.resize((nw, nh), Image.BICUBIC)\n",
        "    \n",
        "    # Преобразуем картинку к input_shape и размещаем случайным образом\n",
        "    dx = int(rand(0, widht_shape - nw))\n",
        "    dy = int(rand(0, height_shape - nh))\n",
        "    new_image = Image.new('RGB', (widht_shape, height_shape), (128,128,128))\n",
        "    new_image.paste(image, (dx, dy))\n",
        "    image = new_image\n",
        "    \n",
        "    # С вероятностью 50% отображаем по горизонтале\n",
        "    flip = rand() < .5\n",
        "    if flip:\n",
        "        image = image.transpose(Image.FLIP_LEFT_RIGHT)\n",
        "    \n",
        "    # Случайным образом меняем освещенность, экспозицию, гамму изображения\n",
        "    hue1 = rand(-params['hue'], params['hue'])\n",
        "    sat1 = rand(1, params['sat']) if rand() < .5 else 1 / rand(1, params['sat'])\n",
        "    val1 = rand(1, params['val']) if rand() < .5 else 1 / rand(1, params['val'])\n",
        "    x = rgb_to_hsv(np.array(image) / 255.)\n",
        "    x[..., 0] += hue1\n",
        "    x[..., 0][x[..., 0] > 1] -= 1\n",
        "    x[..., 0][x[..., 0] < 0] += 1\n",
        "    x[..., 1] *= sat1\n",
        "    x[..., 2] *= val1\n",
        "    x[x > 1] = 1\n",
        "    x[x < 0] = 0\n",
        "    image_data = hsv_to_rgb(x) # Получаем окончательный массив\n",
        "    \n",
        "    max_boxes = 4 # Устанавливаем максимальное количество рамок на изображении\n",
        "    # Корректируем параметры ограничивающей рамки в соответсвии с проведенными выше преобразованиями\n",
        "    box_data = np.zeros((max_boxes,5)) # Создаем массив из нулей размерностью (max_boxes, 5) \n",
        "    if len(box)>0:                \n",
        "        # Ресайзим и перемещаем\n",
        "        box[:, [0,2]] = box[:, [0,2]] * nw/width_i + dx\n",
        "        box[:, [1,3]] = box[:, [1,3]] * nh/height_i + dy\n",
        "        # Отражаем по горизонтале\n",
        "        if flip: box[:, [0,2]] = widht_shape - box[:, [2,0]]\n",
        "        box[:, 0:2][box[:, 0:2]<0] = 0\n",
        "        # Ограничиваем, если вышли за пределы input_shape\n",
        "        box[:, 2][box[:, 2] > widht_shape] = widht_shape\n",
        "        box[:, 3][box[:, 3] > height_shape] = height_shape\n",
        "        # Считаем высоту и ширину рамок и оставляем только те, значения которых больше 1\n",
        "        box_w = box[:, 2] - box[:, 0]                           # xRight - xLeft\n",
        "        box_h = box[:, 3] - box[:, 1]                           # yBottom - yTop\n",
        "        box = box[np.logical_and(box_w > 1, box_h > 1)]\n",
        "        if len(box) > max_boxes:                                # Оставляем только max_boxes рамок\n",
        "            box = box[:max_boxes]\n",
        "        box_data[:len(box)] = box                               # Записываем данные в box_data\n",
        "    \n",
        "    # Возвращаем изменные изображение и ограничивающую рамку\n",
        "    return image_data, box_data # Возвращаем аугментированные изображение и bounding_box"
      ],
      "execution_count": null,
      "outputs": []
    },
    {
      "cell_type": "code",
      "metadata": {
        "id": "p7R9zKNzganO"
      },
      "source": [
        "# Функция подсчета y\n",
        "def get_y(true_boxes, anchors, input_shape):\n",
        "    num_layers = len(anchors) // 3                                # Получаем количество анкоров для каждого уровня сеток\n",
        "    anchor_mask = [[6,7,8], [3,4,5], [0,1,2]]                     # Задаем маску анкоров для каждого уровня\n",
        "\n",
        "    true_boxes = np.array(true_boxes, dtype='float32')            # Преобразуем bounding_box в numpy\n",
        "    input_shape = np.array(input_shape, dtype='int32')            # Преобразуем input_shape в numpy\n",
        "    boxes_xy = (true_boxes[..., 0:2] + true_boxes[..., 2:4]) // 2 # Получаем координаты центра bounding_box (xRight+xLeft / 2)\n",
        "    boxes_wh = true_boxes[..., 2:4] - true_boxes[..., 0:2]        # Получаем ширину и высоту bounding_box (xRight - xLeft)\n",
        "    true_boxes[..., 0:2] = boxes_xy / input_shape[::-1]           # Получаем координаты центра bounding_box в относительных координатах\n",
        "    true_boxes[..., 2:4] = boxes_wh / input_shape[::-1]           # Получаем высоту и ширину bounding_box В относительных значениях\n",
        "\n",
        "    m = true_boxes.shape[0]                                       # Получаем количество элементов в batch_size\n",
        "    # Создаем список из трех элементов ([13, 13], [26, 26], [52, 52])\n",
        "    grid_shapes = [input_shape//{0:32, 1:16, 2:8}[l] for l in range(num_layers)] \n",
        "\n",
        "    # Создаем 0-вые списки для y_true\n",
        "    # y_true[0].shape = (None, 13, 13, 3, 6)\n",
        "    # y_true[1].shape = (None, 26, 26, 3, 6)\n",
        "    # y_true[2].shape = (None, 52, 52, 3, 6)\n",
        "    y_true = [np.zeros((m,grid_shapes[l][0],grid_shapes[l][1],len(anchor_mask[l]),5+num_classes),\n",
        "        dtype='float32') for l in range(num_layers)]\n",
        "\n",
        "    # Добавляем размерность\n",
        "    anchors = np.expand_dims(anchors, 0)  \n",
        "\n",
        "    # Параметры для IoU\n",
        "    anchor_maxes = anchors / 2. \n",
        "    anchor_mins = -anchor_maxes\n",
        "    valid_mask = boxes_wh[..., 0] > 0\n",
        "\n",
        "    for b in range(m):\n",
        "        wh = boxes_wh[b, valid_mask[b]]                            # Получаем ширину и высоту текущего bounding_box\n",
        "        if len(wh)==0: continue                                    # Выходим если она нулевая\n",
        "        wh = np.expand_dims(wh, -2)                                # Добавляем размерность\n",
        "        \n",
        "        # Параметры для IoU\n",
        "        box_maxes = wh / 2.\n",
        "        box_mins = -box_maxes\n",
        "        \n",
        "        intersect_mins = np.maximum(box_mins, anchor_mins) \n",
        "        intersect_maxes = np.minimum(box_maxes, anchor_maxes)\n",
        "        intersect_wh = np.maximum(intersect_maxes - intersect_mins, 0.)\n",
        "        intersect_area = intersect_wh[..., 0] * intersect_wh[..., 1]\n",
        "        box_area = wh[..., 0] * wh[..., 1]\n",
        "        anchor_area = anchors[..., 0] * anchors[..., 1]\n",
        "        iou = intersect_area / (box_area + anchor_area - intersect_area)\n",
        "\n",
        "        best_anchor = np.argmax(iou, axis=-1)                      # Находим лучшее значение iou для всех анкоров \n",
        "\n",
        "        for t, n in enumerate(best_anchor): \n",
        "            for l in range(num_layers):\n",
        "                if n in anchor_mask[l]:\n",
        "                    i = np.floor(true_boxes[b,t,0] * grid_shapes[l][1]).astype('int32')\n",
        "                    j = np.floor(true_boxes[b,t,1] * grid_shapes[l][0]).astype('int32')\n",
        "                    k = anchor_mask[l].index(n)\n",
        "                    c = true_boxes[b,t, 4].astype('int32')\n",
        "                    y_true[l][b, j, i, k, 0:4] = true_boxes[b,t, 0:4]\n",
        "                    y_true[l][b, j, i, k, 4] = 1\n",
        "                    y_true[l][b, j, i, k, 5+c] = 1\n",
        "    return y_true"
      ],
      "execution_count": null,
      "outputs": []
    },
    {
      "cell_type": "code",
      "metadata": {
        "id": "NHpXYsP2ganQ"
      },
      "source": [
        "# Получение координат ограничивающей рамки\n",
        "def getXY(image):\n",
        "    image_red = np.array(image)[:,:,0]                # Считываем красный канал изображения\n",
        "    indexes = np.where(image_red > 20)                # Получаем индексы пискселей красного цвета\n",
        "    \n",
        "    # Возвращаем координаты ограничивающей рамки [Xmin, Ymin, Xmax, Ymax]\n",
        "    return [min(indexes[1]), min(indexes[0]), max(indexes[1]), max(indexes[0]) ]\n",
        "\n",
        "# Создание словаря {Имя файла: параметры файла}\n",
        "def get_dict(n_max = 1000):                           # СКОЛЬКО ФАЙЛОВ ИСПОЛЬЗОВАТЬ МАКСИМАЛЬНО\n",
        "    n_curr = 0                                        # СЧИТАЕМ СКОЛЬКО ФАЙЛОВ ВЗЯЛИ\n",
        "    dictionary = {}                                   # Создаем пустой словарь\n",
        "    files = os.listdir(path + 'Segment/')             # Получаем список файлов\n",
        "    class_id = 0                                      # Задаем параметр номера класса (у нас всего один класс \"Самолет\")\n",
        "    for f in files:\n",
        "        if n_curr >= n_max:                           # ВЫХОДИМ ЕСЛИ ВЗЯЛИ ДОСТАТОЧНОЕ КОЛИЧЕСТВО ФАЙЛОВ\n",
        "          break\n",
        "\n",
        "        image = Image.open(path + 'Segment/'+f)       # Открываем сегментированное изображение\n",
        "        xy = getXY(image)                             # Получаем координаты ограничивающей рамки\n",
        "        key = f                                       # Получаем ключ словаря (имя файла)\n",
        "\n",
        "        n_curr += 1                                   # ДОБАВЛЯЕМ СЧЕТЧИК\n",
        "\n",
        "        # Записываем значение в словарь\n",
        "        dictionary[key] = 'Самолеты/'+key+' ' +str (xy[0]) +',' + str(xy[1])+','+str(xy[2])+','+str(xy[3])+','+str(class_id)\n",
        "\n",
        "    print ('Завершена обработка класса: ', name_classes[0]) # Выводим сообщение о заврешении обработки\n",
        "        \n",
        "    return dictionary # Возвращаем словарь\n",
        "\n",
        "def rand(a=0, b=1):\n",
        "    return np.random.rand()*(b-a) + a"
      ],
      "execution_count": null,
      "outputs": []
    },
    {
      "cell_type": "markdown",
      "metadata": {
        "id": "Q6C9nvnWganT"
      },
      "source": [
        "## Подготовка данных"
      ]
    },
    {
      "cell_type": "markdown",
      "metadata": {
        "id": "93y3bVYIm1ns"
      },
      "source": [
        "**Функция подготовки словаря аннотаций теперь получает параметр сколько файлов брать максимально**"
      ]
    },
    {
      "cell_type": "code",
      "metadata": {
        "id": "MAKicDp8ganU",
        "colab": {
          "base_uri": "https://localhost:8080/"
        },
        "outputId": "2e84cc88-7e3a-44d7-8d8f-d8ea73845383"
      },
      "source": [
        "# Создаем словарь аннотаций (Формат: Имя_файла Xmin,Ymin,Xmax,Ymax,class_id)\n",
        "startTime = time.time()        # Засекаем время старта процесса создания словаря\n",
        "dictionary = get_dict(77)      # Вызываем функцию создания словаря\n",
        "\n",
        "# Выводим сообщение о создании словаря и время, потраченное на создание словаря\n",
        "print ('Словарь аннотаций создан! Время создания словаря:'+str(round(time.time() - startTime)) +'сек')"
      ],
      "execution_count": null,
      "outputs": [
        {
          "output_type": "stream",
          "text": [
            "Завершена обработка класса:  Самолеты\n",
            "Словарь аннотаций создан! Время создания словаря:39сек\n"
          ],
          "name": "stdout"
        }
      ]
    },
    {
      "cell_type": "code",
      "metadata": {
        "id": "zCT38c88ganW",
        "colab": {
          "base_uri": "https://localhost:8080/"
        },
        "outputId": "6ad9f155-f900-44ca-f23d-62d671f6aa37"
      },
      "source": [
        "print ('Количество изображений:', len(dictionary))     # Отображаем количество элементов в словаре"
      ],
      "execution_count": null,
      "outputs": [
        {
          "output_type": "stream",
          "text": [
            "Количество изображений: 77\n"
          ],
          "name": "stdout"
        }
      ]
    },
    {
      "cell_type": "code",
      "metadata": {
        "id": "w23JQdj1ganY",
        "colab": {
          "base_uri": "https://localhost:8080/"
        },
        "outputId": "ab764945-e492-47fd-94cf-eadb12e1923c"
      },
      "source": [
        "dictionary_np = np.array(list(dictionary.values()))    #Создаем numpy массив из значений словаря\n",
        "\n",
        "# Выведем информацию из словаря и из его numpy представления\n",
        "print (dictionary['airplane_2.jpg'])\n",
        "print(dictionary_np[0])"
      ],
      "execution_count": null,
      "outputs": [
        {
          "output_type": "stream",
          "text": [
            "Самолеты/airplane_2.jpg 210,266,1715,742,0\n",
            "Самолеты/airplane_1.jpg 253,336,1653,666,0\n"
          ],
          "name": "stdout"
        }
      ]
    },
    {
      "cell_type": "code",
      "metadata": {
        "id": "j__S7kFpgana",
        "colab": {
          "base_uri": "https://localhost:8080/"
        },
        "outputId": "92e6d3a2-25e8-4a95-db46-e01804305bb7"
      },
      "source": [
        "val_split = 0.1                           # Коэфициент разделения на обучающую и проверочную выборку\n",
        "\n",
        "# Перемешаем значения в массиве\n",
        "np.random.seed(17)\n",
        "np.random.shuffle(dictionary_np)\n",
        "np.random.seed(None)\n",
        "\n",
        "num_val = int(len(dictionary_np) * val_split)  # Количество элементов проверочной выборки\n",
        "num_train = len(dictionary_np) - num_val       # Количество элементов обучающей выборки\n",
        "print (num_val)\n",
        "print (num_train)"
      ],
      "execution_count": null,
      "outputs": [
        {
          "output_type": "stream",
          "text": [
            "7\n",
            "70\n"
          ],
          "name": "stdout"
        }
      ]
    },
    {
      "cell_type": "markdown",
      "metadata": {
        "id": "jiBXZ2x7MV-_"
      },
      "source": [
        "## Обучение с различными шагами\n"
      ]
    },
    {
      "cell_type": "code",
      "metadata": {
        "id": "I2SXQDY88Hme"
      },
      "source": [
        "# ПОТРЕБУЕТСЯ ДРУГОЙ ПУТЬ ДЛЯ СОХРАНЕНИЯ РЕЗУЛЬТАТОВ ОБУЧЕНИЯ\n",
        "NEW_path = '/content/drive/My Drive/my_sample_data/Д.З.31/Pro100/'  "
      ],
      "execution_count": null,
      "outputs": []
    },
    {
      "cell_type": "markdown",
      "metadata": {
        "id": "PnDylf6OAZNV"
      },
      "source": [
        "### lr_value = 1e-3"
      ]
    },
    {
      "cell_type": "markdown",
      "metadata": {
        "id": "iCISLXJLHL8g"
      },
      "source": [
        "#### Первые 100 эпох"
      ]
    },
    {
      "cell_type": "code",
      "metadata": {
        "id": "tl_ya7cdganb"
      },
      "source": [
        "lr_value = 1e-3 # Задаем размер шага обучения\n",
        "\n",
        "# Компилируем модель\n",
        "model_YOLO.compile(optimizer=Adam(lr=lr_value), loss={'yolo_loss': lambda y_true, y_pred: y_pred})"
      ],
      "execution_count": null,
      "outputs": []
    },
    {
      "cell_type": "code",
      "metadata": {
        "id": "KGu6xrv639qS",
        "colab": {
          "base_uri": "https://localhost:8080/"
        },
        "outputId": "9a50939c-ff51-4fe6-afd7-82bac1784e21"
      },
      "source": [
        "startTime = time.time()          # Засекаем время начала процесса обучения\n",
        "batch_size = 8                   # Задаем размер пакета\n",
        "model_filename = NEW_path +'weights/YOLO/YOLOv3__el1000__opt0.001__ep0_100.h5' # Указываем имя файла для сохранения модели\n",
        "# Запускаем процесс обучения на 100 эпохах\n",
        "history = model_YOLO.fit_generator(data_generator(dictionary_np[:num_train], batch_size, anchors, input_shape),\n",
        "                    steps_per_epoch = max (1, num_train//batch_size),\n",
        "                    validation_data = data_generator(dictionary_np[num_train:], batch_size, anchors, input_shape),\n",
        "                    validation_steps = max (1, num_val//batch_size),\n",
        "                    epochs = 100,\n",
        "                    verbose = 1,\n",
        "                    initial_epoch = 0\n",
        "                    )\n",
        "\n",
        "# Сохраним веса модели\n",
        "model_YOLO.save_weights(model_filename)\n",
        "\n",
        "# Сохраним значения ошибок в csv\n",
        "loss = np.array(history.history['loss'])                   # Получаем значения ошибки на обучающей выборке\n",
        "val_loss = np.array(history.history['val_loss'])           # Получаем значения ошибки на проверочной выборке\n",
        "pd.DataFrame(loss).to_csv(NEW_path+'csv/YOLO/loss__el1000_opt0.001__ep0_100.csv')        # Сохраняем обучающую выборку\n",
        "pd.DataFrame(val_loss).to_csv(NEW_path+'csv/YOLO/valloss__el1000_opt0.001__ep0_100.csv') # Сохраняем проверочную выборку\n",
        "\n",
        "print ('Время обработки: '+ str(round(time.time() - startTime)) + 'сек') # Отображаем время, потраченное на процесс обучения"
      ],
      "execution_count": null,
      "outputs": [
        {
          "output_type": "stream",
          "text": [
            "/usr/local/lib/python3.6/dist-packages/tensorflow/python/keras/engine/training.py:1844: UserWarning: `Model.fit_generator` is deprecated and will be removed in a future version. Please use `Model.fit`, which supports generators.\n",
            "  warnings.warn('`Model.fit_generator` is deprecated and '\n"
          ],
          "name": "stderr"
        },
        {
          "output_type": "stream",
          "text": [
            "Epoch 1/100\n",
            "8/8 [==============================] - 45s 4s/step - loss: 3.0215 - val_loss: 18.4192\n",
            "Epoch 2/100\n",
            "8/8 [==============================] - 8s 1s/step - loss: 3.0702 - val_loss: 510.9526\n",
            "Epoch 3/100\n",
            "8/8 [==============================] - 8s 1s/step - loss: 3.2746 - val_loss: 681.4598\n",
            "Epoch 4/100\n",
            "8/8 [==============================] - 8s 1s/step - loss: 2.8334 - val_loss: 51.2222\n",
            "Epoch 5/100\n",
            "8/8 [==============================] - 8s 1s/step - loss: 3.1913 - val_loss: 40.4699\n",
            "Epoch 6/100\n",
            "8/8 [==============================] - 9s 1s/step - loss: 3.2439 - val_loss: 124.1878\n",
            "Epoch 7/100\n",
            "8/8 [==============================] - 8s 1s/step - loss: 3.5329 - val_loss: 26.6081\n",
            "Epoch 8/100\n",
            "8/8 [==============================] - 8s 1s/step - loss: 2.8145 - val_loss: 19.3806\n",
            "Epoch 9/100\n",
            "8/8 [==============================] - 8s 1s/step - loss: 2.5553 - val_loss: 11.2993\n",
            "Epoch 10/100\n",
            "8/8 [==============================] - 8s 1s/step - loss: 2.8099 - val_loss: 22.6427\n",
            "Epoch 11/100\n",
            "8/8 [==============================] - 8s 1s/step - loss: 2.5585 - val_loss: 13.5289\n",
            "Epoch 12/100\n",
            "8/8 [==============================] - 8s 1s/step - loss: 2.3957 - val_loss: 5.2984\n",
            "Epoch 13/100\n",
            "8/8 [==============================] - 8s 1s/step - loss: 2.6245 - val_loss: 4.4741\n",
            "Epoch 14/100\n",
            "8/8 [==============================] - 8s 1s/step - loss: 2.6302 - val_loss: 4.5372\n",
            "Epoch 15/100\n",
            "8/8 [==============================] - 8s 1s/step - loss: 2.7319 - val_loss: 7.4920\n",
            "Epoch 16/100\n",
            "8/8 [==============================] - 8s 1s/step - loss: 2.7746 - val_loss: 7.6285\n",
            "Epoch 17/100\n",
            "8/8 [==============================] - 8s 1s/step - loss: 2.6671 - val_loss: 14.6282\n",
            "Epoch 18/100\n",
            "8/8 [==============================] - 8s 1s/step - loss: 2.8390 - val_loss: 15.0259\n",
            "Epoch 19/100\n",
            "8/8 [==============================] - 8s 1s/step - loss: 2.5947 - val_loss: 6.1495\n",
            "Epoch 20/100\n",
            "8/8 [==============================] - 8s 1s/step - loss: 2.8104 - val_loss: 3.4766\n",
            "Epoch 21/100\n",
            "8/8 [==============================] - 8s 1s/step - loss: 2.8746 - val_loss: 11.7194\n",
            "Epoch 22/100\n",
            "8/8 [==============================] - 8s 1s/step - loss: 2.6706 - val_loss: 3.1733\n",
            "Epoch 23/100\n",
            "8/8 [==============================] - 8s 1s/step - loss: 2.8496 - val_loss: 12.6097\n",
            "Epoch 24/100\n",
            "8/8 [==============================] - 8s 1s/step - loss: 3.0883 - val_loss: 9.0208\n",
            "Epoch 25/100\n",
            "8/8 [==============================] - 9s 1s/step - loss: 3.1701 - val_loss: 5.5114\n",
            "Epoch 26/100\n",
            "8/8 [==============================] - 9s 1s/step - loss: 3.1511 - val_loss: 4.5155\n",
            "Epoch 27/100\n",
            "8/8 [==============================] - 8s 1s/step - loss: 3.6206 - val_loss: 18.8790\n",
            "Epoch 28/100\n",
            "8/8 [==============================] - 8s 1s/step - loss: 3.0670 - val_loss: 8.0466\n",
            "Epoch 29/100\n",
            "8/8 [==============================] - 8s 1s/step - loss: 3.0556 - val_loss: 5.2778\n",
            "Epoch 30/100\n",
            "8/8 [==============================] - 8s 1s/step - loss: 2.9981 - val_loss: 4.5317\n",
            "Epoch 31/100\n",
            "8/8 [==============================] - 8s 1s/step - loss: 3.2099 - val_loss: 3.4871\n",
            "Epoch 32/100\n",
            "8/8 [==============================] - 8s 1s/step - loss: 3.0481 - val_loss: 4.5910\n",
            "Epoch 33/100\n",
            "8/8 [==============================] - 8s 1s/step - loss: 3.1488 - val_loss: 7.4522\n",
            "Epoch 34/100\n",
            "8/8 [==============================] - 8s 1s/step - loss: 3.0639 - val_loss: 8.0689\n",
            "Epoch 35/100\n",
            "8/8 [==============================] - 8s 1s/step - loss: 3.1752 - val_loss: 8.5070\n",
            "Epoch 36/100\n",
            "8/8 [==============================] - 8s 1s/step - loss: 3.0205 - val_loss: 3.1423\n",
            "Epoch 37/100\n",
            "8/8 [==============================] - 8s 1s/step - loss: 2.8820 - val_loss: 4.3442\n",
            "Epoch 38/100\n",
            "8/8 [==============================] - 8s 1s/step - loss: 3.0928 - val_loss: 3.7431\n",
            "Epoch 39/100\n",
            "8/8 [==============================] - 8s 1s/step - loss: 3.1254 - val_loss: 4.0632\n",
            "Epoch 40/100\n",
            "8/8 [==============================] - 8s 1s/step - loss: 2.7541 - val_loss: 3.6444\n",
            "Epoch 41/100\n",
            "8/8 [==============================] - 8s 1s/step - loss: 2.9743 - val_loss: 7.3884\n",
            "Epoch 42/100\n",
            "8/8 [==============================] - 8s 1s/step - loss: 2.8483 - val_loss: 4.0653\n",
            "Epoch 43/100\n",
            "8/8 [==============================] - 8s 1s/step - loss: 2.8895 - val_loss: 3.2572\n",
            "Epoch 44/100\n",
            "8/8 [==============================] - 8s 1s/step - loss: 2.8225 - val_loss: 3.8710\n",
            "Epoch 45/100\n",
            "8/8 [==============================] - 8s 1s/step - loss: 3.0095 - val_loss: 5.5614\n",
            "Epoch 46/100\n",
            "8/8 [==============================] - 9s 1s/step - loss: 2.9609 - val_loss: 3.8574\n",
            "Epoch 47/100\n",
            "8/8 [==============================] - 8s 1s/step - loss: 2.8340 - val_loss: 5.8263\n",
            "Epoch 48/100\n",
            "8/8 [==============================] - 8s 1s/step - loss: 3.0497 - val_loss: 3.7874\n",
            "Epoch 49/100\n",
            "8/8 [==============================] - 8s 1s/step - loss: 2.7479 - val_loss: 3.4423\n",
            "Epoch 50/100\n",
            "8/8 [==============================] - 8s 1s/step - loss: 2.8291 - val_loss: 6.6512\n",
            "Epoch 51/100\n",
            "8/8 [==============================] - 8s 1s/step - loss: 2.9070 - val_loss: 4.5338\n",
            "Epoch 52/100\n",
            "8/8 [==============================] - 8s 1s/step - loss: 2.7676 - val_loss: 2.8752\n",
            "Epoch 53/100\n",
            "8/8 [==============================] - 8s 1s/step - loss: 2.6813 - val_loss: 7.9456\n",
            "Epoch 54/100\n",
            "8/8 [==============================] - 8s 1s/step - loss: 3.0763 - val_loss: 3.5624\n",
            "Epoch 55/100\n",
            "8/8 [==============================] - 8s 1s/step - loss: 2.7057 - val_loss: 3.8280\n",
            "Epoch 56/100\n",
            "8/8 [==============================] - 8s 1s/step - loss: 2.7012 - val_loss: 3.4205\n",
            "Epoch 57/100\n",
            "8/8 [==============================] - 8s 1s/step - loss: 2.7674 - val_loss: 2.7997\n",
            "Epoch 58/100\n",
            "8/8 [==============================] - 8s 1s/step - loss: 2.7773 - val_loss: 4.8193\n",
            "Epoch 59/100\n",
            "8/8 [==============================] - 8s 1s/step - loss: 3.3951 - val_loss: 4.2653\n",
            "Epoch 60/100\n",
            "8/8 [==============================] - 8s 1s/step - loss: 3.5479 - val_loss: 5.4738\n",
            "Epoch 61/100\n",
            "8/8 [==============================] - 8s 1s/step - loss: 2.8151 - val_loss: 3.3584\n",
            "Epoch 62/100\n",
            "8/8 [==============================] - 8s 1s/step - loss: 3.3109 - val_loss: 4.5726\n",
            "Epoch 63/100\n",
            "8/8 [==============================] - 8s 1s/step - loss: 2.7971 - val_loss: 4.7022\n",
            "Epoch 64/100\n",
            "8/8 [==============================] - 8s 1s/step - loss: 3.1948 - val_loss: 6.7336\n",
            "Epoch 65/100\n",
            "8/8 [==============================] - 8s 1s/step - loss: 3.0266 - val_loss: 7.0194\n",
            "Epoch 66/100\n",
            "8/8 [==============================] - 8s 1s/step - loss: 2.8106 - val_loss: 3.4840\n",
            "Epoch 67/100\n",
            "8/8 [==============================] - 8s 1s/step - loss: 2.7853 - val_loss: 5.1386\n",
            "Epoch 68/100\n",
            "8/8 [==============================] - 8s 1s/step - loss: 2.7788 - val_loss: 3.8610\n",
            "Epoch 69/100\n",
            "8/8 [==============================] - 8s 1s/step - loss: 2.6638 - val_loss: 3.8483\n",
            "Epoch 70/100\n",
            "8/8 [==============================] - 8s 1s/step - loss: 2.7664 - val_loss: 7.7748\n",
            "Epoch 71/100\n",
            "8/8 [==============================] - 8s 1s/step - loss: 2.9667 - val_loss: 3.1581\n",
            "Epoch 72/100\n",
            "8/8 [==============================] - 8s 1s/step - loss: 3.2152 - val_loss: 8.1589\n",
            "Epoch 73/100\n",
            "8/8 [==============================] - 8s 1s/step - loss: 2.8702 - val_loss: 6.7500\n",
            "Epoch 74/100\n",
            "8/8 [==============================] - 8s 1s/step - loss: 2.9496 - val_loss: 3.9134\n",
            "Epoch 75/100\n",
            "8/8 [==============================] - 8s 1s/step - loss: 2.8311 - val_loss: 6.6684\n",
            "Epoch 76/100\n",
            "8/8 [==============================] - 8s 1s/step - loss: 2.6856 - val_loss: 3.1744\n",
            "Epoch 77/100\n",
            "8/8 [==============================] - 8s 1s/step - loss: 2.6925 - val_loss: 4.6524\n",
            "Epoch 78/100\n",
            "8/8 [==============================] - 8s 1s/step - loss: 2.6694 - val_loss: 11.4591\n",
            "Epoch 79/100\n",
            "8/8 [==============================] - 8s 1s/step - loss: 2.9614 - val_loss: 6.4377\n",
            "Epoch 80/100\n",
            "8/8 [==============================] - 8s 1s/step - loss: 2.5362 - val_loss: 2.5351\n",
            "Epoch 81/100\n",
            "8/8 [==============================] - 8s 1s/step - loss: 2.7047 - val_loss: 3.9711\n",
            "Epoch 82/100\n",
            "8/8 [==============================] - 8s 1s/step - loss: 2.6417 - val_loss: 3.1982\n",
            "Epoch 83/100\n",
            "8/8 [==============================] - 8s 1s/step - loss: 2.7351 - val_loss: 3.7842\n",
            "Epoch 84/100\n",
            "8/8 [==============================] - 8s 1s/step - loss: 2.7708 - val_loss: 4.4667\n",
            "Epoch 85/100\n",
            "8/8 [==============================] - 8s 1s/step - loss: 2.7812 - val_loss: 4.2233\n",
            "Epoch 86/100\n",
            "8/8 [==============================] - 8s 1s/step - loss: 3.4066 - val_loss: 10.0408\n",
            "Epoch 87/100\n",
            "8/8 [==============================] - 8s 1s/step - loss: 3.0141 - val_loss: 8.6065\n",
            "Epoch 88/100\n",
            "8/8 [==============================] - 8s 1s/step - loss: 2.6507 - val_loss: 6.3205\n",
            "Epoch 89/100\n",
            "8/8 [==============================] - 8s 1s/step - loss: 2.9976 - val_loss: 7.2942\n",
            "Epoch 90/100\n",
            "8/8 [==============================] - 8s 1s/step - loss: 2.8241 - val_loss: 8.6960\n",
            "Epoch 91/100\n",
            "8/8 [==============================] - 8s 1s/step - loss: 2.6653 - val_loss: 16.6413\n",
            "Epoch 92/100\n",
            "8/8 [==============================] - 8s 1s/step - loss: 2.7777 - val_loss: 782.8157\n",
            "Epoch 93/100\n",
            "8/8 [==============================] - 8s 1s/step - loss: 2.9657 - val_loss: 84.9807\n",
            "Epoch 94/100\n",
            "8/8 [==============================] - 8s 1s/step - loss: 3.1484 - val_loss: 4.4216\n",
            "Epoch 95/100\n",
            "8/8 [==============================] - 8s 1s/step - loss: 3.5321 - val_loss: 5.5272\n",
            "Epoch 96/100\n",
            "8/8 [==============================] - 8s 1s/step - loss: 2.9283 - val_loss: 3.4356\n",
            "Epoch 97/100\n",
            "8/8 [==============================] - 8s 1s/step - loss: 2.7120 - val_loss: 5.5219\n",
            "Epoch 98/100\n",
            "8/8 [==============================] - 8s 1s/step - loss: 2.7797 - val_loss: 5.9333\n",
            "Epoch 99/100\n",
            "8/8 [==============================] - 8s 1s/step - loss: 2.8248 - val_loss: 7.9950\n",
            "Epoch 100/100\n",
            "8/8 [==============================] - 8s 1s/step - loss: 2.8139 - val_loss: 4.8238\n",
            "Время обработки: 875сек\n"
          ],
          "name": "stdout"
        }
      ]
    },
    {
      "cell_type": "markdown",
      "metadata": {
        "id": "w8tTa2n45odS"
      },
      "source": [
        "**Прирост скорости обучения виден сразу. 8 секунд вместо 118 на эпоху; 100 эпох закончены за 875 секунд вместо 12500 секунд. Быстрее в 14 раз**\n",
        "\n",
        "**Учим дальше и сохраняем результаты.**"
      ]
    },
    {
      "cell_type": "markdown",
      "metadata": {
        "id": "Qw1kKNQwI8B6"
      },
      "source": [
        "#### Еще 100 эпох на текущем шаге"
      ]
    },
    {
      "cell_type": "code",
      "metadata": {
        "id": "B10r5C0dJdsJ",
        "colab": {
          "base_uri": "https://localhost:8080/"
        },
        "outputId": "1360a896-4190-43ba-dc92-0084072a40e6"
      },
      "source": [
        "#\n",
        "# Если была перезагрузка сессии colab, то создаем модель, загружаем веса и  компилируем\n",
        "#\n",
        "model_weight =  NEW_path +'weights/YOLO/YOLOv3__el1000__opt0.001__ep0_100.h5' # Указываем файл с весами модели\n",
        "model_YOLO = create_model(input_shape, num_anchors, use_weights=True, weights_path=model_weight)\n",
        "lr_value = 1e-3 # Задаем размер шага обучения\n",
        "\n",
        "# Компилируем модель\n",
        "model_YOLO.compile(optimizer=Adam(lr=lr_value), loss={'yolo_loss':lambda y_true, y_pred: y_pred})"
      ],
      "execution_count": null,
      "outputs": [
        {
          "output_type": "stream",
          "text": [
            "Создана модель YOLOv3. Количество классов: 1.\n",
            "Загружены веса из файла /content/drive/My Drive/my_sample_data/Д.З.31/Pro100/weights/YOLO/YOLOv3__el1000__opt0.001__ep0_100.h5.\n"
          ],
          "name": "stdout"
        }
      ]
    },
    {
      "cell_type": "code",
      "metadata": {
        "id": "59F-KTvwI_VH",
        "colab": {
          "base_uri": "https://localhost:8080/"
        },
        "outputId": "ac3e93da-41ba-49fc-ab57-8ca409e4d941"
      },
      "source": [
        "startTime = time.time() # Засекаем время начала процесса обучения\n",
        "batch_size = 8 #Задаем размер пакета\n",
        "model_filename = NEW_path +'weights/YOLO/YOLOv3__el1000__opt0.001__ep100_200.h5' # Указываем имя файла для сохранения модели\n",
        "\n",
        "# Запускаем процесс обучения еще на 100 эпохах\n",
        "history = model_YOLO.fit_generator(data_generator(dictionary_np[:num_train], batch_size, anchors, input_shape),\n",
        "                    steps_per_epoch = max (1, num_train//batch_size),\n",
        "                    validation_data = data_generator(dictionary_np[num_train:], batch_size, anchors, input_shape),\n",
        "                    validation_steps = max (1, num_val//batch_size),\n",
        "                    epochs = 200,\n",
        "                    verbose = 1,\n",
        "                    initial_epoch = 100\n",
        "                    )\n",
        "\n",
        "# Сохраним веса модели\n",
        "model_YOLO.save_weights(model_filename)\n",
        "\n",
        "# Сохраним значения ошибок в csv\n",
        "loss = np.array(history.history['loss']) # Получаем значения ошибки на обучающей выборке\n",
        "val_loss = np.array(history.history['val_loss']) # Получаем значения ошибки на проверочной выборке\n",
        "pd.DataFrame(loss).to_csv(NEW_path+'csv/YOLO/loss__el1000_opt0.001__ep100_200.csv') # Сохраняем обучающую выборку\n",
        "pd.DataFrame(val_loss).to_csv(NEW_path+'csv/YOLO/valloss__el1000_opt0.001__ep100_200.csv') # Сохраняем проверочную выборку\n",
        "\n",
        "print ('Время обработки: '+ str(round(time.time() - startTime)) + 'сек') # Отображаем время, потраченное на процесс обучения"
      ],
      "execution_count": null,
      "outputs": [
        {
          "output_type": "stream",
          "text": [
            "/usr/local/lib/python3.6/dist-packages/tensorflow/python/keras/engine/training.py:1844: UserWarning: `Model.fit_generator` is deprecated and will be removed in a future version. Please use `Model.fit`, which supports generators.\n",
            "  warnings.warn('`Model.fit_generator` is deprecated and '\n"
          ],
          "name": "stderr"
        },
        {
          "output_type": "stream",
          "text": [
            "Epoch 101/200\n",
            "8/8 [==============================] - 20s 1s/step - loss: 2.7762 - val_loss: 8.7694\n",
            "Epoch 102/200\n",
            "8/8 [==============================] - 8s 1s/step - loss: 2.8540 - val_loss: 12.0035\n",
            "Epoch 103/200\n",
            "8/8 [==============================] - 8s 1s/step - loss: 2.8467 - val_loss: 5.1656\n",
            "Epoch 104/200\n",
            "8/8 [==============================] - 8s 1s/step - loss: 2.8658 - val_loss: 3.3139\n",
            "Epoch 105/200\n",
            "8/8 [==============================] - 8s 1s/step - loss: 2.8191 - val_loss: 10.1834\n",
            "Epoch 106/200\n",
            "8/8 [==============================] - 8s 1s/step - loss: 2.7905 - val_loss: 5.7286\n",
            "Epoch 107/200\n",
            "8/8 [==============================] - 8s 1s/step - loss: 2.6455 - val_loss: 6.3423\n",
            "Epoch 108/200\n",
            "8/8 [==============================] - 8s 1s/step - loss: 3.0807 - val_loss: 3.4610\n",
            "Epoch 109/200\n",
            "8/8 [==============================] - 8s 1s/step - loss: 3.0896 - val_loss: 11.0037\n",
            "Epoch 110/200\n",
            "8/8 [==============================] - 8s 1s/step - loss: 3.2800 - val_loss: 9.9627\n",
            "Epoch 111/200\n",
            "8/8 [==============================] - 8s 1s/step - loss: 3.4742 - val_loss: 6.0675\n",
            "Epoch 112/200\n",
            "8/8 [==============================] - 8s 1s/step - loss: 3.1609 - val_loss: 3.2965\n",
            "Epoch 113/200\n",
            "8/8 [==============================] - 8s 1s/step - loss: 2.7905 - val_loss: 2.8230\n",
            "Epoch 114/200\n",
            "8/8 [==============================] - 8s 1s/step - loss: 2.9737 - val_loss: 10.4108\n",
            "Epoch 115/200\n",
            "8/8 [==============================] - 8s 1s/step - loss: 3.0187 - val_loss: 11.7636\n",
            "Epoch 116/200\n",
            "8/8 [==============================] - 8s 1s/step - loss: 3.1582 - val_loss: 4.3924\n",
            "Epoch 117/200\n",
            "8/8 [==============================] - 8s 1s/step - loss: 3.1143 - val_loss: 2.8623\n",
            "Epoch 118/200\n",
            "8/8 [==============================] - 8s 1s/step - loss: 2.9671 - val_loss: 4.3886\n",
            "Epoch 119/200\n",
            "8/8 [==============================] - 8s 1s/step - loss: 2.8034 - val_loss: 6.8086\n",
            "Epoch 120/200\n",
            "8/8 [==============================] - 8s 1s/step - loss: 2.8923 - val_loss: 4.9570\n",
            "Epoch 121/200\n",
            "8/8 [==============================] - 8s 1s/step - loss: 2.7144 - val_loss: 10.2415\n",
            "Epoch 122/200\n",
            "8/8 [==============================] - 8s 1s/step - loss: 2.9259 - val_loss: 2.9274\n",
            "Epoch 123/200\n",
            "8/8 [==============================] - 8s 1s/step - loss: 2.5646 - val_loss: 3.6248\n",
            "Epoch 124/200\n",
            "8/8 [==============================] - 8s 1s/step - loss: 2.7097 - val_loss: 5.2273\n",
            "Epoch 125/200\n",
            "8/8 [==============================] - 8s 1s/step - loss: 2.8533 - val_loss: 4.5520\n",
            "Epoch 126/200\n",
            "8/8 [==============================] - 8s 1s/step - loss: 2.6946 - val_loss: 4.3822\n",
            "Epoch 127/200\n",
            "8/8 [==============================] - 8s 1s/step - loss: 2.6486 - val_loss: 3.2446\n",
            "Epoch 128/200\n",
            "8/8 [==============================] - 8s 1s/step - loss: 2.8097 - val_loss: 3.3993\n",
            "Epoch 129/200\n",
            "8/8 [==============================] - 8s 1s/step - loss: 2.6365 - val_loss: 4.8660\n",
            "Epoch 130/200\n",
            "8/8 [==============================] - 8s 1s/step - loss: 2.7263 - val_loss: 2.6625\n",
            "Epoch 131/200\n",
            "8/8 [==============================] - 8s 1s/step - loss: 2.6540 - val_loss: 3.7400\n",
            "Epoch 132/200\n",
            "8/8 [==============================] - 8s 1s/step - loss: 2.6049 - val_loss: 3.6775\n",
            "Epoch 133/200\n",
            "8/8 [==============================] - 8s 1s/step - loss: 2.4452 - val_loss: 5.0568\n",
            "Epoch 134/200\n",
            "8/8 [==============================] - 8s 1s/step - loss: 2.4935 - val_loss: 2.8289\n",
            "Epoch 135/200\n",
            "8/8 [==============================] - 8s 1s/step - loss: 2.7980 - val_loss: 2.8912\n",
            "Epoch 136/200\n",
            "8/8 [==============================] - 8s 1s/step - loss: 2.4415 - val_loss: 3.4766\n",
            "Epoch 137/200\n",
            "8/8 [==============================] - 8s 1s/step - loss: 2.6341 - val_loss: 4.9387\n",
            "Epoch 138/200\n",
            "8/8 [==============================] - 8s 1s/step - loss: 2.6427 - val_loss: 4.5904\n",
            "Epoch 139/200\n",
            "8/8 [==============================] - 8s 1s/step - loss: 3.1515 - val_loss: 4.1448\n",
            "Epoch 140/200\n",
            "8/8 [==============================] - 8s 1s/step - loss: 2.4504 - val_loss: 2.9992\n",
            "Epoch 141/200\n",
            "8/8 [==============================] - 8s 1s/step - loss: 2.5049 - val_loss: 3.2271\n",
            "Epoch 142/200\n",
            "8/8 [==============================] - 8s 1s/step - loss: 2.6401 - val_loss: 4.2284\n",
            "Epoch 143/200\n",
            "8/8 [==============================] - 8s 1s/step - loss: 2.5841 - val_loss: 3.7285\n",
            "Epoch 144/200\n",
            "8/8 [==============================] - 8s 1s/step - loss: 3.0366 - val_loss: 5.6901\n",
            "Epoch 145/200\n",
            "8/8 [==============================] - 8s 1s/step - loss: 2.8218 - val_loss: 6.1207\n",
            "Epoch 146/200\n",
            "8/8 [==============================] - 8s 1s/step - loss: 2.8945 - val_loss: 6.1994\n",
            "Epoch 147/200\n",
            "8/8 [==============================] - 8s 1s/step - loss: 2.8013 - val_loss: 5.3328\n",
            "Epoch 148/200\n",
            "8/8 [==============================] - 8s 1s/step - loss: 3.1066 - val_loss: 9.1745\n",
            "Epoch 149/200\n",
            "8/8 [==============================] - 8s 1s/step - loss: 2.9090 - val_loss: 28.5722\n",
            "Epoch 150/200\n",
            "8/8 [==============================] - 8s 1s/step - loss: 2.8347 - val_loss: 15.1267\n",
            "Epoch 151/200\n",
            "8/8 [==============================] - 8s 1s/step - loss: 2.6896 - val_loss: 5.8512\n",
            "Epoch 152/200\n",
            "8/8 [==============================] - 8s 1s/step - loss: 2.7735 - val_loss: 3.2728\n",
            "Epoch 153/200\n",
            "8/8 [==============================] - 8s 1s/step - loss: 2.5754 - val_loss: 3.5907\n",
            "Epoch 154/200\n",
            "8/8 [==============================] - 8s 1s/step - loss: 2.6005 - val_loss: 3.0257\n",
            "Epoch 155/200\n",
            "8/8 [==============================] - 9s 1s/step - loss: 2.4390 - val_loss: 4.0029\n",
            "Epoch 156/200\n",
            "8/8 [==============================] - 8s 1s/step - loss: 2.3765 - val_loss: 4.0627\n",
            "Epoch 157/200\n",
            "8/8 [==============================] - 8s 1s/step - loss: 2.5826 - val_loss: 3.1838\n",
            "Epoch 158/200\n",
            "8/8 [==============================] - 8s 1s/step - loss: 2.4222 - val_loss: 4.5202\n",
            "Epoch 159/200\n",
            "8/8 [==============================] - 8s 1s/step - loss: 2.7238 - val_loss: 5.8685\n",
            "Epoch 160/200\n",
            "8/8 [==============================] - 8s 1s/step - loss: 2.7236 - val_loss: 3.4160\n",
            "Epoch 161/200\n",
            "8/8 [==============================] - 8s 1s/step - loss: 2.9522 - val_loss: 3.3532\n",
            "Epoch 162/200\n",
            "8/8 [==============================] - 8s 1s/step - loss: 2.4277 - val_loss: 2.8739\n",
            "Epoch 163/200\n",
            "8/8 [==============================] - 8s 1s/step - loss: 2.8120 - val_loss: 4.7981\n",
            "Epoch 164/200\n",
            "8/8 [==============================] - 8s 1s/step - loss: 2.9356 - val_loss: 3.6755\n",
            "Epoch 165/200\n",
            "8/8 [==============================] - 8s 1s/step - loss: 2.5666 - val_loss: 3.4995\n",
            "Epoch 166/200\n",
            "8/8 [==============================] - 8s 1s/step - loss: 2.7704 - val_loss: 4.9615\n",
            "Epoch 167/200\n",
            "8/8 [==============================] - 8s 1s/step - loss: 2.4381 - val_loss: 3.5032\n",
            "Epoch 168/200\n",
            "8/8 [==============================] - 8s 1s/step - loss: 2.5467 - val_loss: 4.9655\n",
            "Epoch 169/200\n",
            "8/8 [==============================] - 8s 1s/step - loss: 2.5200 - val_loss: 5.0042\n",
            "Epoch 170/200\n",
            "8/8 [==============================] - 8s 1s/step - loss: 2.6769 - val_loss: 2.6911\n",
            "Epoch 171/200\n",
            "8/8 [==============================] - 8s 1s/step - loss: 2.6260 - val_loss: 2.6983\n",
            "Epoch 172/200\n",
            "8/8 [==============================] - 8s 1s/step - loss: 2.4717 - val_loss: 3.6007\n",
            "Epoch 173/200\n",
            "8/8 [==============================] - 8s 1s/step - loss: 2.5829 - val_loss: 4.2423\n",
            "Epoch 174/200\n",
            "8/8 [==============================] - 8s 1s/step - loss: 2.5247 - val_loss: 5.1419\n",
            "Epoch 175/200\n",
            "8/8 [==============================] - 8s 1s/step - loss: 2.3189 - val_loss: 3.6360\n",
            "Epoch 176/200\n",
            "8/8 [==============================] - 8s 1s/step - loss: 3.3573 - val_loss: 3.7708\n",
            "Epoch 177/200\n",
            "8/8 [==============================] - 9s 1s/step - loss: 2.7866 - val_loss: 2.8747\n",
            "Epoch 178/200\n",
            "8/8 [==============================] - 8s 1s/step - loss: 2.8281 - val_loss: 3.6362\n",
            "Epoch 179/200\n",
            "8/8 [==============================] - 8s 1s/step - loss: 2.8469 - val_loss: 5.4361\n",
            "Epoch 180/200\n",
            "8/8 [==============================] - 8s 1s/step - loss: 2.7557 - val_loss: 2.5501\n",
            "Epoch 181/200\n",
            "8/8 [==============================] - 8s 1s/step - loss: 2.5681 - val_loss: 2.9785\n",
            "Epoch 182/200\n",
            "8/8 [==============================] - 8s 1s/step - loss: 2.5453 - val_loss: 4.4019\n",
            "Epoch 183/200\n",
            "8/8 [==============================] - 8s 1s/step - loss: 2.5340 - val_loss: 3.6532\n",
            "Epoch 184/200\n",
            "8/8 [==============================] - 8s 1s/step - loss: 3.5044 - val_loss: 7.0260\n",
            "Epoch 185/200\n",
            "8/8 [==============================] - 8s 1s/step - loss: 3.1415 - val_loss: 26.4009\n",
            "Epoch 186/200\n",
            "8/8 [==============================] - 8s 1s/step - loss: 2.7975 - val_loss: 12.5990\n",
            "Epoch 187/200\n",
            "8/8 [==============================] - 8s 1s/step - loss: 2.9574 - val_loss: 19.2794\n",
            "Epoch 188/200\n",
            "8/8 [==============================] - 8s 1s/step - loss: 2.8474 - val_loss: 11.9559\n",
            "Epoch 189/200\n",
            "8/8 [==============================] - 8s 1s/step - loss: 2.6996 - val_loss: 22.0354\n",
            "Epoch 190/200\n",
            "8/8 [==============================] - 8s 1s/step - loss: 2.6963 - val_loss: 35.1439\n",
            "Epoch 191/200\n",
            "8/8 [==============================] - 8s 1s/step - loss: 2.7472 - val_loss: 5.0126\n",
            "Epoch 192/200\n",
            "8/8 [==============================] - 8s 1s/step - loss: 3.1635 - val_loss: 7.5945\n",
            "Epoch 193/200\n",
            "8/8 [==============================] - 8s 1s/step - loss: 2.9833 - val_loss: 8.6979\n",
            "Epoch 194/200\n",
            "8/8 [==============================] - 8s 1s/step - loss: 2.7232 - val_loss: 4.5053\n",
            "Epoch 195/200\n",
            "8/8 [==============================] - 8s 1s/step - loss: 2.7219 - val_loss: 7.2428\n",
            "Epoch 196/200\n",
            "8/8 [==============================] - 8s 1s/step - loss: 2.6353 - val_loss: 5.5120\n",
            "Epoch 197/200\n",
            "8/8 [==============================] - 8s 1s/step - loss: 2.7709 - val_loss: 14.4872\n",
            "Epoch 198/200\n",
            "8/8 [==============================] - 8s 1s/step - loss: 2.9885 - val_loss: 9.4180\n",
            "Epoch 199/200\n",
            "8/8 [==============================] - 8s 1s/step - loss: 3.0718 - val_loss: 5.5077\n",
            "Epoch 200/200\n",
            "8/8 [==============================] - 8s 1s/step - loss: 2.9376 - val_loss: 5.0760\n",
            "Время обработки: 841сек\n"
          ],
          "name": "stdout"
        }
      ]
    },
    {
      "cell_type": "markdown",
      "metadata": {
        "id": "yOrkrzwSJOS4"
      },
      "source": [
        "### lr_value = 1e-4"
      ]
    },
    {
      "cell_type": "markdown",
      "metadata": {
        "id": "bgKmB2r7LC7f"
      },
      "source": [
        "#### Первые 100 эпох"
      ]
    },
    {
      "cell_type": "code",
      "metadata": {
        "id": "wCBljK7ZJRRX",
        "colab": {
          "base_uri": "https://localhost:8080/"
        },
        "outputId": "9da2c516-aa91-46a4-96e5-b890db24bb5b"
      },
      "source": [
        "#\n",
        "# Если была перезагрузка сессии colab, то создаем модель, загружаем веса и  компилируем\n",
        "#\n",
        "\n",
        "model_weight =  NEW_path +'weights/YOLO/YOLOv3__el1000__opt0.001__ep100_200.h5' # Указываем файл с весами модели\n",
        "model_YOLO = create_model(input_shape, num_anchors, use_weights=True, weights_path=model_weight)\n",
        "model_YOLO.load_weights(model_weight) # Загружаем посчитанные веса модели\n",
        "lr_value = 1e-4 # Задаем размер шага обучения\n",
        "\n",
        "# Компилируем модель\n",
        "model_YOLO.compile(optimizer=Adam(lr=lr_value), loss={'yolo_loss':lambda y_true, y_pred: y_pred})"
      ],
      "execution_count": null,
      "outputs": [
        {
          "output_type": "stream",
          "text": [
            "Создана модель YOLOv3. Количество классов: 1.\n",
            "Загружены веса из файла /content/drive/My Drive/my_sample_data/Д.З.31/Pro100/weights/YOLO/YOLOv3__el1000__opt0.001__ep100_200.h5.\n"
          ],
          "name": "stdout"
        }
      ]
    },
    {
      "cell_type": "code",
      "metadata": {
        "id": "5mGqyhXiKyGT",
        "colab": {
          "base_uri": "https://localhost:8080/"
        },
        "outputId": "75424366-3f35-4f37-afa6-0bb236a1c941"
      },
      "source": [
        "startTime = time.time() # Засекаем время начала процесса обучения\n",
        "batch_size = 8 #Задаем размер пакета\n",
        "model_filename = NEW_path +'weights/YOLO/YOLOv3__el1000__opt0.0001__ep0_100.h5' # Указываем имя файла для сохранения модели\n",
        "\n",
        "# Запускаем процесс обучения на 100 эпохах\n",
        "history = model_YOLO.fit_generator(data_generator(dictionary_np[:num_train], batch_size, anchors, input_shape),\n",
        "                    steps_per_epoch = max (1, num_train//batch_size),\n",
        "                    validation_data = data_generator(dictionary_np[num_train:], batch_size, anchors, input_shape),\n",
        "                    validation_steps = max (1, num_val//batch_size),\n",
        "                    epochs = 100,\n",
        "                    verbose = 1,\n",
        "                    initial_epoch = 0\n",
        "                    )\n",
        "\n",
        "# Сохраним веса модели\n",
        "model_YOLO.save_weights(model_filename)\n",
        "\n",
        "# Сохраним значения ошибок в csv\n",
        "loss = np.array(history.history['loss']) # Получаем значения ошибки на обучающей выборке\n",
        "val_loss = np.array(history.history['val_loss']) # Получаем значения ошибки на проверочной выборке\n",
        "pd.DataFrame(loss).to_csv(NEW_path+'csv/YOLO/loss__el1000_opt0.0001__ep0_100.csv') # Сохраняем обучающую выборку\n",
        "pd.DataFrame(val_loss).to_csv(NEW_path+'csv/YOLO/valloss__el1000_opt0.0001__ep0_100.csv') # Сохраняем проверочную выборку\n",
        "\n",
        "print ('Время обработки: '+ str(round(time.time() - startTime)) + 'сек') # Отображаем время, потраченное на процесс обучения"
      ],
      "execution_count": null,
      "outputs": [
        {
          "output_type": "stream",
          "text": [
            "/usr/local/lib/python3.6/dist-packages/tensorflow/python/keras/engine/training.py:1844: UserWarning: `Model.fit_generator` is deprecated and will be removed in a future version. Please use `Model.fit`, which supports generators.\n",
            "  warnings.warn('`Model.fit_generator` is deprecated and '\n"
          ],
          "name": "stderr"
        },
        {
          "output_type": "stream",
          "text": [
            "Epoch 1/100\n",
            "8/8 [==============================] - 20s 1s/step - loss: 3.0716 - val_loss: 5.9649\n",
            "Epoch 2/100\n",
            "8/8 [==============================] - 8s 1s/step - loss: 2.6554 - val_loss: 5.6375\n",
            "Epoch 3/100\n",
            "8/8 [==============================] - 8s 1s/step - loss: 2.7129 - val_loss: 4.8173\n",
            "Epoch 4/100\n",
            "8/8 [==============================] - 8s 1s/step - loss: 2.6108 - val_loss: 4.7508\n",
            "Epoch 5/100\n",
            "8/8 [==============================] - 8s 1s/step - loss: 2.6847 - val_loss: 4.9284\n",
            "Epoch 6/100\n",
            "8/8 [==============================] - 8s 1s/step - loss: 2.4896 - val_loss: 3.6180\n",
            "Epoch 7/100\n",
            "8/8 [==============================] - 8s 1s/step - loss: 2.6208 - val_loss: 2.6534\n",
            "Epoch 8/100\n",
            "8/8 [==============================] - 8s 1s/step - loss: 2.5336 - val_loss: 2.5163\n",
            "Epoch 9/100\n",
            "8/8 [==============================] - 8s 1s/step - loss: 2.4286 - val_loss: 2.7835\n",
            "Epoch 10/100\n",
            "8/8 [==============================] - 8s 1s/step - loss: 2.5417 - val_loss: 2.6165\n",
            "Epoch 11/100\n",
            "8/8 [==============================] - 8s 1s/step - loss: 2.5585 - val_loss: 2.6401\n",
            "Epoch 12/100\n",
            "8/8 [==============================] - 8s 1s/step - loss: 2.5642 - val_loss: 3.3175\n",
            "Epoch 13/100\n",
            "8/8 [==============================] - 8s 1s/step - loss: 2.5517 - val_loss: 3.9576\n",
            "Epoch 14/100\n",
            "8/8 [==============================] - 8s 1s/step - loss: 2.5011 - val_loss: 2.8067\n",
            "Epoch 15/100\n",
            "8/8 [==============================] - 8s 1s/step - loss: 2.3727 - val_loss: 2.9928\n",
            "Epoch 16/100\n",
            "8/8 [==============================] - 8s 1s/step - loss: 2.3225 - val_loss: 2.4341\n",
            "Epoch 17/100\n",
            "8/8 [==============================] - 8s 1s/step - loss: 2.5614 - val_loss: 2.7831\n",
            "Epoch 18/100\n",
            "8/8 [==============================] - 8s 1s/step - loss: 2.4428 - val_loss: 3.6395\n",
            "Epoch 19/100\n",
            "8/8 [==============================] - 8s 1s/step - loss: 2.5368 - val_loss: 2.5223\n",
            "Epoch 20/100\n",
            "8/8 [==============================] - 8s 1s/step - loss: 2.5086 - val_loss: 2.7212\n",
            "Epoch 21/100\n",
            "8/8 [==============================] - 8s 1s/step - loss: 2.5688 - val_loss: 3.4360\n",
            "Epoch 22/100\n",
            "8/8 [==============================] - 8s 1s/step - loss: 2.3411 - val_loss: 3.8997\n",
            "Epoch 23/100\n",
            "8/8 [==============================] - 8s 1s/step - loss: 2.3617 - val_loss: 3.7071\n",
            "Epoch 24/100\n",
            "8/8 [==============================] - 8s 1s/step - loss: 2.4912 - val_loss: 3.3547\n",
            "Epoch 25/100\n",
            "8/8 [==============================] - 8s 1s/step - loss: 2.4753 - val_loss: 3.2778\n",
            "Epoch 26/100\n",
            "8/8 [==============================] - 8s 1s/step - loss: 2.3948 - val_loss: 2.7117\n",
            "Epoch 27/100\n",
            "8/8 [==============================] - 8s 1s/step - loss: 2.3960 - val_loss: 3.1874\n",
            "Epoch 28/100\n",
            "8/8 [==============================] - 8s 1s/step - loss: 2.4756 - val_loss: 2.5446\n",
            "Epoch 29/100\n",
            "8/8 [==============================] - 8s 1s/step - loss: 2.3693 - val_loss: 3.3291\n",
            "Epoch 30/100\n",
            "8/8 [==============================] - 8s 1s/step - loss: 2.5438 - val_loss: 3.0681\n",
            "Epoch 31/100\n",
            "8/8 [==============================] - 8s 1s/step - loss: 2.3020 - val_loss: 4.0987\n",
            "Epoch 32/100\n",
            "8/8 [==============================] - 8s 1s/step - loss: 2.3816 - val_loss: 2.6383\n",
            "Epoch 33/100\n",
            "8/8 [==============================] - 8s 1s/step - loss: 2.4447 - val_loss: 2.7851\n",
            "Epoch 34/100\n",
            "8/8 [==============================] - 8s 1s/step - loss: 2.5794 - val_loss: 3.2661\n",
            "Epoch 35/100\n",
            "8/8 [==============================] - 8s 1s/step - loss: 2.4832 - val_loss: 3.2761\n",
            "Epoch 36/100\n",
            "8/8 [==============================] - 8s 1s/step - loss: 2.4551 - val_loss: 2.6939\n",
            "Epoch 37/100\n",
            "8/8 [==============================] - 8s 1s/step - loss: 2.6967 - val_loss: 2.7875\n",
            "Epoch 38/100\n",
            "8/8 [==============================] - 8s 1s/step - loss: 2.4429 - val_loss: 4.0499\n",
            "Epoch 39/100\n",
            "8/8 [==============================] - 8s 1s/step - loss: 2.4366 - val_loss: 2.7147\n",
            "Epoch 40/100\n",
            "8/8 [==============================] - 8s 1s/step - loss: 2.4595 - val_loss: 2.6110\n",
            "Epoch 41/100\n",
            "8/8 [==============================] - 8s 1s/step - loss: 2.5244 - val_loss: 5.6154\n",
            "Epoch 42/100\n",
            "8/8 [==============================] - 8s 1s/step - loss: 2.3401 - val_loss: 2.5705\n",
            "Epoch 43/100\n",
            "8/8 [==============================] - 8s 1s/step - loss: 2.3788 - val_loss: 2.5162\n",
            "Epoch 44/100\n",
            "8/8 [==============================] - 8s 1s/step - loss: 2.3602 - val_loss: 3.2428\n",
            "Epoch 45/100\n",
            "8/8 [==============================] - 8s 1s/step - loss: 2.4154 - val_loss: 3.2832\n",
            "Epoch 46/100\n",
            "8/8 [==============================] - 8s 1s/step - loss: 2.2725 - val_loss: 4.8244\n",
            "Epoch 47/100\n",
            "8/8 [==============================] - 8s 1s/step - loss: 2.2395 - val_loss: 3.1177\n",
            "Epoch 48/100\n",
            "8/8 [==============================] - 8s 1s/step - loss: 2.2985 - val_loss: 2.5837\n",
            "Epoch 49/100\n",
            "8/8 [==============================] - 8s 1s/step - loss: 2.4353 - val_loss: 2.6550\n",
            "Epoch 50/100\n",
            "8/8 [==============================] - 8s 1s/step - loss: 2.3709 - val_loss: 3.4489\n",
            "Epoch 51/100\n",
            "8/8 [==============================] - 8s 1s/step - loss: 2.2051 - val_loss: 3.9857\n",
            "Epoch 52/100\n",
            "8/8 [==============================] - 8s 1s/step - loss: 2.3586 - val_loss: 3.2192\n",
            "Epoch 53/100\n",
            "8/8 [==============================] - 8s 1s/step - loss: 2.3047 - val_loss: 3.0816\n",
            "Epoch 54/100\n",
            "8/8 [==============================] - 8s 1s/step - loss: 2.3209 - val_loss: 2.8726\n",
            "Epoch 55/100\n",
            "8/8 [==============================] - 8s 1s/step - loss: 2.2100 - val_loss: 2.7124\n",
            "Epoch 56/100\n",
            "8/8 [==============================] - 8s 1s/step - loss: 2.5345 - val_loss: 2.7173\n",
            "Epoch 57/100\n",
            "8/8 [==============================] - 8s 1s/step - loss: 2.3479 - val_loss: 2.8820\n",
            "Epoch 58/100\n",
            "8/8 [==============================] - 8s 1s/step - loss: 2.3526 - val_loss: 3.8291\n",
            "Epoch 59/100\n",
            "8/8 [==============================] - 8s 1s/step - loss: 2.5569 - val_loss: 5.3138\n",
            "Epoch 60/100\n",
            "8/8 [==============================] - 8s 1s/step - loss: 2.4028 - val_loss: 3.5810\n",
            "Epoch 61/100\n",
            "8/8 [==============================] - 8s 1s/step - loss: 2.3135 - val_loss: 3.8515\n",
            "Epoch 62/100\n",
            "8/8 [==============================] - 8s 1s/step - loss: 2.3388 - val_loss: 2.9353\n",
            "Epoch 63/100\n",
            "8/8 [==============================] - 8s 1s/step - loss: 2.4663 - val_loss: 2.7391\n",
            "Epoch 64/100\n",
            "8/8 [==============================] - 8s 1s/step - loss: 2.3219 - val_loss: 2.6495\n",
            "Epoch 65/100\n",
            "8/8 [==============================] - 8s 1s/step - loss: 2.1501 - val_loss: 2.6405\n",
            "Epoch 66/100\n",
            "8/8 [==============================] - 8s 1s/step - loss: 2.2344 - val_loss: 3.7280\n",
            "Epoch 67/100\n",
            "8/8 [==============================] - 8s 1s/step - loss: 2.2362 - val_loss: 3.5095\n",
            "Epoch 68/100\n",
            "8/8 [==============================] - 8s 1s/step - loss: 2.2539 - val_loss: 4.0947\n",
            "Epoch 69/100\n",
            "8/8 [==============================] - 8s 1s/step - loss: 2.4360 - val_loss: 3.2439\n",
            "Epoch 70/100\n",
            "8/8 [==============================] - 8s 1s/step - loss: 2.2973 - val_loss: 2.4140\n",
            "Epoch 71/100\n",
            "8/8 [==============================] - 8s 1s/step - loss: 2.3059 - val_loss: 2.4629\n",
            "Epoch 72/100\n",
            "8/8 [==============================] - 8s 1s/step - loss: 2.3710 - val_loss: 2.7822\n",
            "Epoch 73/100\n",
            "8/8 [==============================] - 8s 1s/step - loss: 2.2827 - val_loss: 3.3850\n",
            "Epoch 74/100\n",
            "8/8 [==============================] - 8s 1s/step - loss: 2.2971 - val_loss: 2.6313\n",
            "Epoch 75/100\n",
            "8/8 [==============================] - 8s 1s/step - loss: 2.3998 - val_loss: 2.2510\n",
            "Epoch 76/100\n",
            "8/8 [==============================] - 8s 1s/step - loss: 2.7083 - val_loss: 2.6441\n",
            "Epoch 77/100\n",
            "8/8 [==============================] - 8s 1s/step - loss: 2.3014 - val_loss: 3.3359\n",
            "Epoch 78/100\n",
            "8/8 [==============================] - 8s 1s/step - loss: 2.2789 - val_loss: 5.0382\n",
            "Epoch 79/100\n",
            "8/8 [==============================] - 8s 1s/step - loss: 2.6472 - val_loss: 2.5827\n",
            "Epoch 80/100\n",
            "8/8 [==============================] - 8s 1s/step - loss: 2.3311 - val_loss: 3.4964\n",
            "Epoch 81/100\n",
            "8/8 [==============================] - 8s 1s/step - loss: 2.3188 - val_loss: 147.7507\n",
            "Epoch 82/100\n",
            "8/8 [==============================] - 8s 1s/step - loss: 2.3457 - val_loss: 3.0097\n",
            "Epoch 83/100\n",
            "8/8 [==============================] - 8s 1s/step - loss: 2.2948 - val_loss: 2.4158\n",
            "Epoch 84/100\n",
            "8/8 [==============================] - 8s 1s/step - loss: 2.2172 - val_loss: 3.2602\n",
            "Epoch 85/100\n",
            "8/8 [==============================] - 8s 1s/step - loss: 2.2200 - val_loss: 3.5477\n",
            "Epoch 86/100\n",
            "8/8 [==============================] - 8s 1s/step - loss: 2.2623 - val_loss: 3.4482\n",
            "Epoch 87/100\n",
            "8/8 [==============================] - 8s 1s/step - loss: 2.2805 - val_loss: 4.0379\n",
            "Epoch 88/100\n",
            "8/8 [==============================] - 8s 1s/step - loss: 2.2979 - val_loss: 2.1897\n",
            "Epoch 89/100\n",
            "8/8 [==============================] - 8s 1s/step - loss: 2.3075 - val_loss: 2.4043\n",
            "Epoch 90/100\n",
            "8/8 [==============================] - 8s 1s/step - loss: 2.2231 - val_loss: 2.5783\n",
            "Epoch 91/100\n",
            "8/8 [==============================] - 8s 1s/step - loss: 2.2268 - val_loss: 6.2451\n",
            "Epoch 92/100\n",
            "8/8 [==============================] - 8s 1s/step - loss: 2.2802 - val_loss: 2.9430\n",
            "Epoch 93/100\n",
            "8/8 [==============================] - 8s 1s/step - loss: 2.3042 - val_loss: 3.3035\n",
            "Epoch 94/100\n",
            "8/8 [==============================] - 8s 1s/step - loss: 2.2836 - val_loss: 2.5860\n",
            "Epoch 95/100\n",
            "8/8 [==============================] - 8s 1s/step - loss: 2.1833 - val_loss: 3.6999\n",
            "Epoch 96/100\n",
            "8/8 [==============================] - 8s 1s/step - loss: 2.3582 - val_loss: 2.8781\n",
            "Epoch 97/100\n",
            "8/8 [==============================] - 8s 1s/step - loss: 2.2449 - val_loss: 2.1648\n",
            "Epoch 98/100\n",
            "8/8 [==============================] - 8s 1s/step - loss: 2.2008 - val_loss: 2.1433\n",
            "Epoch 99/100\n",
            "8/8 [==============================] - 8s 1s/step - loss: 2.4062 - val_loss: 3.4497\n",
            "Epoch 100/100\n",
            "8/8 [==============================] - 8s 1s/step - loss: 2.3780 - val_loss: 2.2092\n",
            "Время обработки: 830сек\n"
          ],
          "name": "stdout"
        }
      ]
    },
    {
      "cell_type": "markdown",
      "metadata": {
        "id": "zmxUePEVLHP4"
      },
      "source": [
        "#### Еще 100 эпох"
      ]
    },
    {
      "cell_type": "code",
      "metadata": {
        "id": "pWOvzrNULKgm",
        "colab": {
          "base_uri": "https://localhost:8080/"
        },
        "outputId": "6ed9987d-4ced-479d-ee62-67e20daaecc3"
      },
      "source": [
        "#\n",
        "# Если была перезагрузка сессии colab, то создаем модель, загружаем веса и  компилируем\n",
        "#\n",
        "model_weight =  NEW_path +'weights/YOLO/YOLOv3__el1000__opt0.0001__ep0_100.h5' # Указываем файл с весами модели\n",
        "model_YOLO = create_model(input_shape, num_anchors, use_weights=True, weights_path=model_weight)\n",
        "model_YOLO.load_weights(model_weight) # Загружаем посчитанные веса модели\n",
        "lr_value = 1e-4 # Задаем размер шага обучения\n",
        "\n",
        "# Компилируем модель\n",
        "model_YOLO.compile(optimizer=Adam(lr=lr_value), loss={'yolo_loss':lambda y_true, y_pred: y_pred})"
      ],
      "execution_count": null,
      "outputs": [
        {
          "output_type": "stream",
          "text": [
            "Создана модель YOLOv3. Количество классов: 1.\n",
            "Загружены веса из файла /content/drive/My Drive/my_sample_data/Д.З.31/Pro100/weights/YOLO/YOLOv3__el1000__opt0.0001__ep0_100.h5.\n"
          ],
          "name": "stdout"
        }
      ]
    },
    {
      "cell_type": "code",
      "metadata": {
        "id": "OQetxFFgLVYp",
        "colab": {
          "base_uri": "https://localhost:8080/"
        },
        "outputId": "620ff01e-d7bc-471b-e0a3-70d0dbd2f3fe"
      },
      "source": [
        "startTime = time.time() # Засекаем время начала процесса обучения\n",
        "batch_size = 8 #Задаем размер пакета\n",
        "model_filename = NEW_path +'weights/YOLO/YOLOv3__el1000__opt0.0001__ep100_200.h5' # Указываем имя файла для сохранения модели\n",
        "\n",
        "# Запускаем процесс обучения еще на 100 эпохах\n",
        "history = model_YOLO.fit_generator(data_generator(dictionary_np[:num_train], batch_size, anchors, input_shape),\n",
        "                    steps_per_epoch = max (1, num_train//batch_size),\n",
        "                    validation_data = data_generator(dictionary_np[num_train:], batch_size, anchors, input_shape),\n",
        "                    validation_steps = max (1, num_val//batch_size),\n",
        "                    epochs = 200,\n",
        "                    verbose = 1,\n",
        "                    initial_epoch = 100\n",
        "                    )\n",
        "\n",
        "# Сохраним веса модели\n",
        "model_YOLO.save_weights(model_filename)\n",
        "\n",
        "# Сохраним значения ошибок в csv\n",
        "loss = np.array(history.history['loss']) # Получаем значения ошибки на обучающей выборке\n",
        "val_loss = np.array(history.history['val_loss']) # Получаем значения ошибки на проверочной выборке\n",
        "pd.DataFrame(loss).to_csv(NEW_path+'csv/YOLO/loss__el1000_opt0.0001__ep100_200.csv') # Сохраняем обучающую выборку\n",
        "pd.DataFrame(val_loss).to_csv(NEW_path+'csv/YOLO/valloss__el1000_opt0.0001__ep100_200.csv') # Сохраняем проверочную выборку\n",
        "\n",
        "print ('Время обработки: '+ str(round(time.time() - startTime)) + 'сек') # Отображаем время, потраченное на процесс обучения"
      ],
      "execution_count": null,
      "outputs": [
        {
          "output_type": "stream",
          "text": [
            "/usr/local/lib/python3.6/dist-packages/tensorflow/python/keras/engine/training.py:1844: UserWarning: `Model.fit_generator` is deprecated and will be removed in a future version. Please use `Model.fit`, which supports generators.\n",
            "  warnings.warn('`Model.fit_generator` is deprecated and '\n"
          ],
          "name": "stderr"
        },
        {
          "output_type": "stream",
          "text": [
            "Epoch 101/200\n",
            "8/8 [==============================] - 19s 1s/step - loss: 33.3205 - val_loss: 3.2366\n",
            "Epoch 102/200\n",
            "8/8 [==============================] - 8s 1s/step - loss: 3.2828 - val_loss: 3.4107\n",
            "Epoch 103/200\n",
            "8/8 [==============================] - 8s 1s/step - loss: 2.4832 - val_loss: 3.1916\n",
            "Epoch 104/200\n",
            "8/8 [==============================] - 8s 1s/step - loss: 2.2897 - val_loss: 3.1217\n",
            "Epoch 105/200\n",
            "8/8 [==============================] - 8s 1s/step - loss: 2.1945 - val_loss: 2.8432\n",
            "Epoch 106/200\n",
            "8/8 [==============================] - 8s 1s/step - loss: 2.1651 - val_loss: 5.3971\n",
            "Epoch 107/200\n",
            "8/8 [==============================] - 8s 1s/step - loss: 2.2610 - val_loss: 2.4606\n",
            "Epoch 108/200\n",
            "8/8 [==============================] - 8s 1s/step - loss: 2.3458 - val_loss: 2.5712\n",
            "Epoch 109/200\n",
            "8/8 [==============================] - 8s 1s/step - loss: 2.2835 - val_loss: 3.4266\n",
            "Epoch 110/200\n",
            "8/8 [==============================] - 8s 1s/step - loss: 2.3902 - val_loss: 2.5431\n",
            "Epoch 111/200\n",
            "8/8 [==============================] - 8s 1s/step - loss: 2.4047 - val_loss: 2.1564\n",
            "Epoch 112/200\n",
            "8/8 [==============================] - 8s 1s/step - loss: 2.4129 - val_loss: 4.3684\n",
            "Epoch 113/200\n",
            "8/8 [==============================] - 8s 1s/step - loss: 2.4067 - val_loss: 3.4694\n",
            "Epoch 114/200\n",
            "8/8 [==============================] - 8s 1s/step - loss: 2.3084 - val_loss: 2.6384\n",
            "Epoch 115/200\n",
            "8/8 [==============================] - 9s 1s/step - loss: 2.2473 - val_loss: 3.9039\n",
            "Epoch 116/200\n",
            "8/8 [==============================] - 8s 1s/step - loss: 2.2027 - val_loss: 2.3067\n",
            "Epoch 117/200\n",
            "8/8 [==============================] - 8s 1s/step - loss: 2.2793 - val_loss: 3.1890\n",
            "Epoch 118/200\n",
            "8/8 [==============================] - 8s 1s/step - loss: 2.4874 - val_loss: 3.7814\n",
            "Epoch 119/200\n",
            "8/8 [==============================] - 8s 1s/step - loss: 2.2609 - val_loss: 2.7678\n",
            "Epoch 120/200\n",
            "8/8 [==============================] - 8s 1s/step - loss: 2.2459 - val_loss: 4.2175\n",
            "Epoch 121/200\n",
            "8/8 [==============================] - 8s 1s/step - loss: 2.2801 - val_loss: 3.6336\n",
            "Epoch 122/200\n",
            "8/8 [==============================] - 8s 1s/step - loss: 2.3566 - val_loss: 2.4961\n",
            "Epoch 123/200\n",
            "8/8 [==============================] - 8s 1s/step - loss: 2.3544 - val_loss: 3.5943\n",
            "Epoch 124/200\n",
            "8/8 [==============================] - 8s 1s/step - loss: 2.5397 - val_loss: 4.4189\n",
            "Epoch 125/200\n",
            "8/8 [==============================] - 8s 1s/step - loss: 2.2811 - val_loss: 3.3520\n",
            "Epoch 126/200\n",
            "8/8 [==============================] - 8s 1s/step - loss: 2.3356 - val_loss: 3.6976\n",
            "Epoch 127/200\n",
            "8/8 [==============================] - 8s 1s/step - loss: 2.2345 - val_loss: 2.6541\n",
            "Epoch 128/200\n",
            "8/8 [==============================] - 8s 1s/step - loss: 2.3491 - val_loss: 2.8980\n",
            "Epoch 129/200\n",
            "8/8 [==============================] - 8s 1s/step - loss: 2.2468 - val_loss: 2.5832\n",
            "Epoch 130/200\n",
            "8/8 [==============================] - 8s 1s/step - loss: 2.2476 - val_loss: 2.9975\n",
            "Epoch 131/200\n",
            "8/8 [==============================] - 8s 1s/step - loss: 2.1490 - val_loss: 2.3659\n",
            "Epoch 132/200\n",
            "8/8 [==============================] - 8s 1s/step - loss: 2.1380 - val_loss: 4.0202\n",
            "Epoch 133/200\n",
            "8/8 [==============================] - 8s 1s/step - loss: 2.2146 - val_loss: 3.3979\n",
            "Epoch 134/200\n",
            "8/8 [==============================] - 8s 1s/step - loss: 2.2452 - val_loss: 2.4136\n",
            "Epoch 135/200\n",
            "8/8 [==============================] - 8s 1s/step - loss: 2.2736 - val_loss: 2.8438\n",
            "Epoch 136/200\n",
            "8/8 [==============================] - 8s 1s/step - loss: 2.3187 - val_loss: 2.1845\n",
            "Epoch 137/200\n",
            "8/8 [==============================] - 8s 1s/step - loss: 2.2319 - val_loss: 2.1872\n",
            "Epoch 138/200\n",
            "8/8 [==============================] - 8s 1s/step - loss: 2.2279 - val_loss: 2.3865\n",
            "Epoch 139/200\n",
            "8/8 [==============================] - 8s 1s/step - loss: 2.3722 - val_loss: 2.8620\n",
            "Epoch 140/200\n",
            "8/8 [==============================] - 8s 1s/step - loss: 2.2010 - val_loss: 3.0754\n",
            "Epoch 141/200\n",
            "8/8 [==============================] - 8s 1s/step - loss: 2.2949 - val_loss: 2.4575\n",
            "Epoch 142/200\n",
            "8/8 [==============================] - 8s 1s/step - loss: 2.4664 - val_loss: 2.9606\n",
            "Epoch 143/200\n",
            "8/8 [==============================] - 8s 1s/step - loss: 2.1168 - val_loss: 2.4688\n",
            "Epoch 144/200\n",
            "8/8 [==============================] - 8s 1s/step - loss: 2.1392 - val_loss: 3.5790\n",
            "Epoch 145/200\n",
            "8/8 [==============================] - 8s 1s/step - loss: 2.1657 - val_loss: 2.9910\n",
            "Epoch 146/200\n",
            "8/8 [==============================] - 8s 1s/step - loss: 2.1692 - val_loss: 3.1663\n",
            "Epoch 147/200\n",
            "8/8 [==============================] - 8s 1s/step - loss: 2.2020 - val_loss: 2.5634\n",
            "Epoch 148/200\n",
            "8/8 [==============================] - 8s 1s/step - loss: 2.2716 - val_loss: 4.2583\n",
            "Epoch 149/200\n",
            "8/8 [==============================] - 8s 1s/step - loss: 2.2410 - val_loss: 2.4084\n",
            "Epoch 150/200\n",
            "8/8 [==============================] - 8s 1s/step - loss: 2.2592 - val_loss: 2.3309\n",
            "Epoch 151/200\n",
            "8/8 [==============================] - 8s 1s/step - loss: 2.2088 - val_loss: 2.1865\n",
            "Epoch 152/200\n",
            "8/8 [==============================] - 8s 1s/step - loss: 2.3743 - val_loss: 2.5957\n",
            "Epoch 153/200\n",
            "8/8 [==============================] - 8s 1s/step - loss: 2.1978 - val_loss: 3.9508\n",
            "Epoch 154/200\n",
            "8/8 [==============================] - 8s 1s/step - loss: 2.0896 - val_loss: 2.4855\n",
            "Epoch 155/200\n",
            "8/8 [==============================] - 8s 1s/step - loss: 2.1370 - val_loss: 3.9798\n",
            "Epoch 156/200\n",
            "8/8 [==============================] - 8s 1s/step - loss: 2.2127 - val_loss: 1.9766\n",
            "Epoch 157/200\n",
            "8/8 [==============================] - 8s 1s/step - loss: 2.3028 - val_loss: 4.8120\n",
            "Epoch 158/200\n",
            "8/8 [==============================] - 8s 1s/step - loss: 2.2617 - val_loss: 4.9573\n",
            "Epoch 159/200\n",
            "8/8 [==============================] - 8s 1s/step - loss: 2.2683 - val_loss: 3.3444\n",
            "Epoch 160/200\n",
            "8/8 [==============================] - 8s 1s/step - loss: 2.1629 - val_loss: 4.4392\n",
            "Epoch 161/200\n",
            "8/8 [==============================] - 8s 1s/step - loss: 2.2823 - val_loss: 2.8937\n",
            "Epoch 162/200\n",
            "8/8 [==============================] - 8s 1s/step - loss: 2.1801 - val_loss: 4.3001\n",
            "Epoch 163/200\n",
            "8/8 [==============================] - 8s 1s/step - loss: 2.0898 - val_loss: 2.1404\n",
            "Epoch 164/200\n",
            "8/8 [==============================] - 8s 1s/step - loss: 2.1906 - val_loss: 3.2905\n",
            "Epoch 165/200\n",
            "8/8 [==============================] - 8s 1s/step - loss: 2.3892 - val_loss: 2.4523\n",
            "Epoch 166/200\n",
            "8/8 [==============================] - 8s 1s/step - loss: 2.2159 - val_loss: 3.1686\n",
            "Epoch 167/200\n",
            "8/8 [==============================] - 8s 1s/step - loss: 2.2444 - val_loss: 2.2344\n",
            "Epoch 168/200\n",
            "8/8 [==============================] - 8s 1s/step - loss: 2.2647 - val_loss: 2.5105\n",
            "Epoch 169/200\n",
            "8/8 [==============================] - 8s 1s/step - loss: 2.3610 - val_loss: 2.5580\n",
            "Epoch 170/200\n",
            "8/8 [==============================] - 8s 1s/step - loss: 2.3654 - val_loss: 2.1656\n",
            "Epoch 171/200\n",
            "8/8 [==============================] - 8s 1s/step - loss: 2.1723 - val_loss: 2.7943\n",
            "Epoch 172/200\n",
            "8/8 [==============================] - 8s 1s/step - loss: 2.1881 - val_loss: 2.4114\n",
            "Epoch 173/200\n",
            "8/8 [==============================] - 8s 1s/step - loss: 2.2887 - val_loss: 3.0612\n",
            "Epoch 174/200\n",
            "8/8 [==============================] - 8s 1s/step - loss: 2.2479 - val_loss: 3.7114\n",
            "Epoch 175/200\n",
            "8/8 [==============================] - 8s 1s/step - loss: 2.2387 - val_loss: 3.4688\n",
            "Epoch 176/200\n",
            "8/8 [==============================] - 8s 1s/step - loss: 2.3330 - val_loss: 2.2374\n",
            "Epoch 177/200\n",
            "8/8 [==============================] - 8s 1s/step - loss: 2.2000 - val_loss: 2.3218\n",
            "Epoch 178/200\n",
            "8/8 [==============================] - 8s 1s/step - loss: 2.2688 - val_loss: 2.8806\n",
            "Epoch 179/200\n",
            "8/8 [==============================] - 8s 1s/step - loss: 2.2455 - val_loss: 3.3224\n",
            "Epoch 180/200\n",
            "8/8 [==============================] - 8s 1s/step - loss: 2.2775 - val_loss: 5.4732\n",
            "Epoch 181/200\n",
            "8/8 [==============================] - 9s 1s/step - loss: 2.2122 - val_loss: 3.7358\n",
            "Epoch 182/200\n",
            "8/8 [==============================] - 8s 1s/step - loss: 2.4829 - val_loss: 2.5060\n",
            "Epoch 183/200\n",
            "8/8 [==============================] - 8s 1s/step - loss: 2.1261 - val_loss: 2.7243\n",
            "Epoch 184/200\n",
            "8/8 [==============================] - 8s 1s/step - loss: 2.0867 - val_loss: 2.4605\n",
            "Epoch 185/200\n",
            "8/8 [==============================] - 8s 1s/step - loss: 2.3116 - val_loss: 2.9171\n",
            "Epoch 186/200\n",
            "8/8 [==============================] - 8s 1s/step - loss: 2.0975 - val_loss: 2.4047\n",
            "Epoch 187/200\n",
            "8/8 [==============================] - 8s 1s/step - loss: 2.3078 - val_loss: 2.7674\n",
            "Epoch 188/200\n",
            "8/8 [==============================] - 8s 1s/step - loss: 2.1768 - val_loss: 3.6291\n",
            "Epoch 189/200\n",
            "8/8 [==============================] - 8s 1s/step - loss: 2.2647 - val_loss: 2.4638\n",
            "Epoch 190/200\n",
            "8/8 [==============================] - 9s 1s/step - loss: 2.2768 - val_loss: 4.8952\n",
            "Epoch 191/200\n",
            "8/8 [==============================] - 8s 1s/step - loss: 2.2550 - val_loss: 3.0689\n",
            "Epoch 192/200\n",
            "8/8 [==============================] - 8s 1s/step - loss: 2.1645 - val_loss: 3.5955\n",
            "Epoch 193/200\n",
            "8/8 [==============================] - 8s 1s/step - loss: 2.3544 - val_loss: 2.2038\n",
            "Epoch 194/200\n",
            "8/8 [==============================] - 8s 1s/step - loss: 2.0778 - val_loss: 3.1884\n",
            "Epoch 195/200\n",
            "8/8 [==============================] - 8s 1s/step - loss: 2.2040 - val_loss: 4.9003\n",
            "Epoch 196/200\n",
            "8/8 [==============================] - 8s 1s/step - loss: 2.3632 - val_loss: 2.4600\n",
            "Epoch 197/200\n",
            "8/8 [==============================] - 8s 1s/step - loss: 2.0993 - val_loss: 2.5054\n",
            "Epoch 198/200\n",
            "8/8 [==============================] - 8s 1s/step - loss: 2.1938 - val_loss: 4.6814\n",
            "Epoch 199/200\n",
            "8/8 [==============================] - 8s 1s/step - loss: 2.1471 - val_loss: 2.2843\n",
            "Epoch 200/200\n",
            "8/8 [==============================] - 8s 1s/step - loss: 2.1762 - val_loss: 2.2958\n",
            "Время обработки: 838сек\n"
          ],
          "name": "stdout"
        }
      ]
    },
    {
      "cell_type": "markdown",
      "metadata": {
        "id": "BdgTOp_WLlEW"
      },
      "source": [
        "### lr_value = 1e-5"
      ]
    },
    {
      "cell_type": "markdown",
      "metadata": {
        "id": "znvVfhjLLhgT"
      },
      "source": [
        "#### Первые 100 эпох"
      ]
    },
    {
      "cell_type": "code",
      "metadata": {
        "id": "bJmtVnm1Lpkl",
        "colab": {
          "base_uri": "https://localhost:8080/"
        },
        "outputId": "98d7fc7c-a135-4443-e7ac-4be1dd0ab3e0"
      },
      "source": [
        "#\n",
        "# Если была перезагрузка сессии colab, то создаем модель, загружаем веса и  компилируем\n",
        "#\n",
        "model_weight =  NEW_path +'weights/YOLO/YOLOv3__el1000__opt0.0001__ep100_200.h5' # Указываем файл с весами модели\n",
        "model_YOLO = create_model(input_shape, num_anchors, use_weights=True, weights_path=model_weight)\n",
        "model_YOLO.load_weights(model_weight) # Загружаем посчитанные веса модели\n",
        "print ('{} загружены.'.format(model_weight))\n",
        "lr_value = 1e-5 # Задаем размер шага обучения\n",
        "\n",
        "# Компилируем модель\n",
        "model_YOLO.compile(optimizer=Adam(lr=lr_value), loss={'yolo_loss':lambda y_true, y_pred: y_pred})"
      ],
      "execution_count": null,
      "outputs": [
        {
          "output_type": "stream",
          "text": [
            "Создана модель YOLOv3. Количество классов: 1.\n",
            "Загружены веса из файла /content/drive/My Drive/my_sample_data/Д.З.31/Pro100/weights/YOLO/YOLOv3__el1000__opt0.0001__ep100_200.h5.\n",
            "/content/drive/My Drive/my_sample_data/Д.З.31/Pro100/weights/YOLO/YOLOv3__el1000__opt0.0001__ep100_200.h5 загружены.\n"
          ],
          "name": "stdout"
        }
      ]
    },
    {
      "cell_type": "code",
      "metadata": {
        "id": "sCfK5o6yL1mt",
        "colab": {
          "base_uri": "https://localhost:8080/"
        },
        "outputId": "fa04b227-41ae-4106-d12f-a5b28eacf3d0"
      },
      "source": [
        "startTime = time.time() # Засекаем время начала процесса обучения\n",
        "batch_size = 8 #Задаем размер пакета\n",
        "model_filename = NEW_path +'weights/YOLO/YOLOv3__el1000__opt0.00001__ep0_100.h5' # Указываем имя файла для сохранения модели\n",
        "\n",
        "# Запускаем процесс обучения на 100 эпохах\n",
        "history = model_YOLO.fit_generator(data_generator(dictionary_np[:num_train], batch_size, anchors, input_shape),\n",
        "                    steps_per_epoch = max (1, num_train//batch_size),\n",
        "                    validation_data = data_generator(dictionary_np[num_train:], batch_size, anchors, input_shape),\n",
        "                    validation_steps = max (1, num_val//batch_size),\n",
        "                    epochs = 100,\n",
        "                    verbose = 1,\n",
        "                    initial_epoch = 0\n",
        "                    )\n",
        "\n",
        "# Сохраним веса модели\n",
        "model_YOLO.save_weights(model_filename)\n",
        "\n",
        "# Сохраним значения ошибок в csv\n",
        "loss = np.array(history.history['loss']) # Получаем значения ошибки на обучающей выборке\n",
        "val_loss = np.array(history.history['val_loss']) # Получаем значения ошибки на проверочной выборке\n",
        "pd.DataFrame(loss).to_csv(NEW_path+'csv/YOLO/loss__el1000_opt0.00001__ep0_100.csv') # Сохраняем обучающую выборку\n",
        "pd.DataFrame(val_loss).to_csv(NEW_path+'csv/YOLO/valloss__el1000_opt0.00001__ep0_100.csv') # Сохраняем проверочную выборку\n",
        "\n",
        "print ('Время обработки: '+ str(round(time.time() - startTime)) + 'сек') # Отображаем время, потраченное на процесс обучения"
      ],
      "execution_count": null,
      "outputs": [
        {
          "output_type": "stream",
          "text": [
            "/usr/local/lib/python3.6/dist-packages/tensorflow/python/keras/engine/training.py:1844: UserWarning: `Model.fit_generator` is deprecated and will be removed in a future version. Please use `Model.fit`, which supports generators.\n",
            "  warnings.warn('`Model.fit_generator` is deprecated and '\n"
          ],
          "name": "stderr"
        },
        {
          "output_type": "stream",
          "text": [
            "Epoch 1/100\n",
            "8/8 [==============================] - 20s 1s/step - loss: 2.8647 - val_loss: 2.8339\n",
            "Epoch 2/100\n",
            "8/8 [==============================] - 8s 1s/step - loss: 2.2255 - val_loss: 2.3479\n",
            "Epoch 3/100\n",
            "8/8 [==============================] - 8s 1s/step - loss: 2.3794 - val_loss: 4.2326\n",
            "Epoch 4/100\n",
            "8/8 [==============================] - 8s 1s/step - loss: 2.1352 - val_loss: 2.5111\n",
            "Epoch 5/100\n",
            "8/8 [==============================] - 8s 1s/step - loss: 2.1640 - val_loss: 2.9572\n",
            "Epoch 6/100\n",
            "8/8 [==============================] - 8s 1s/step - loss: 2.2331 - val_loss: 2.6346\n",
            "Epoch 7/100\n",
            "8/8 [==============================] - 8s 1s/step - loss: 2.3074 - val_loss: 2.8088\n",
            "Epoch 8/100\n",
            "8/8 [==============================] - 8s 1s/step - loss: 2.1216 - val_loss: 4.1448\n",
            "Epoch 9/100\n",
            "8/8 [==============================] - 8s 1s/step - loss: 2.1996 - val_loss: 2.8863\n",
            "Epoch 10/100\n",
            "8/8 [==============================] - 8s 1s/step - loss: 2.1745 - val_loss: 2.4516\n",
            "Epoch 11/100\n",
            "8/8 [==============================] - 8s 1s/step - loss: 2.1721 - val_loss: 2.1693\n",
            "Epoch 12/100\n",
            "8/8 [==============================] - 8s 1s/step - loss: 2.1895 - val_loss: 2.5168\n",
            "Epoch 13/100\n",
            "8/8 [==============================] - 8s 1s/step - loss: 2.3109 - val_loss: 3.9612\n",
            "Epoch 14/100\n",
            "8/8 [==============================] - 8s 1s/step - loss: 2.0870 - val_loss: 2.4576\n",
            "Epoch 15/100\n",
            "8/8 [==============================] - 8s 1s/step - loss: 2.7132 - val_loss: 3.2679\n",
            "Epoch 16/100\n",
            "8/8 [==============================] - 8s 1s/step - loss: 2.3053 - val_loss: 2.5814\n",
            "Epoch 17/100\n",
            "8/8 [==============================] - 8s 1s/step - loss: 2.2271 - val_loss: 3.3975\n",
            "Epoch 18/100\n",
            "8/8 [==============================] - 8s 1s/step - loss: 2.2368 - val_loss: 2.6531\n",
            "Epoch 19/100\n",
            "8/8 [==============================] - 8s 1s/step - loss: 2.1284 - val_loss: 2.6044\n",
            "Epoch 20/100\n",
            "8/8 [==============================] - 8s 1s/step - loss: 2.2900 - val_loss: 4.3651\n",
            "Epoch 21/100\n",
            "8/8 [==============================] - 8s 1s/step - loss: 2.1628 - val_loss: 4.1719\n",
            "Epoch 22/100\n",
            "8/8 [==============================] - 8s 1s/step - loss: 2.2477 - val_loss: 2.4824\n",
            "Epoch 23/100\n",
            "8/8 [==============================] - 8s 1s/step - loss: 2.1180 - val_loss: 2.1851\n",
            "Epoch 24/100\n",
            "8/8 [==============================] - 8s 1s/step - loss: 2.2020 - val_loss: 3.5446\n",
            "Epoch 25/100\n",
            "8/8 [==============================] - 8s 1s/step - loss: 2.1936 - val_loss: 2.3584\n",
            "Epoch 26/100\n",
            "8/8 [==============================] - 8s 1s/step - loss: 2.3551 - val_loss: 3.4214\n",
            "Epoch 27/100\n",
            "8/8 [==============================] - 8s 1s/step - loss: 2.1933 - val_loss: 2.5756\n",
            "Epoch 28/100\n",
            "8/8 [==============================] - 8s 1s/step - loss: 2.1578 - val_loss: 4.0637\n",
            "Epoch 29/100\n",
            "8/8 [==============================] - 8s 1s/step - loss: 2.1420 - val_loss: 3.0449\n",
            "Epoch 30/100\n",
            "8/8 [==============================] - 8s 1s/step - loss: 2.1513 - val_loss: 2.3504\n",
            "Epoch 31/100\n",
            "8/8 [==============================] - 8s 1s/step - loss: 2.1679 - val_loss: 3.4367\n",
            "Epoch 32/100\n",
            "8/8 [==============================] - 8s 1s/step - loss: 2.2677 - val_loss: 3.1789\n",
            "Epoch 33/100\n",
            "8/8 [==============================] - 8s 1s/step - loss: 2.1202 - val_loss: 2.2273\n",
            "Epoch 34/100\n",
            "8/8 [==============================] - 8s 1s/step - loss: 2.1236 - val_loss: 3.1262\n",
            "Epoch 35/100\n",
            "8/8 [==============================] - 8s 1s/step - loss: 2.1478 - val_loss: 4.8279\n",
            "Epoch 36/100\n",
            "8/8 [==============================] - 8s 1s/step - loss: 1.9940 - val_loss: 2.6647\n",
            "Epoch 37/100\n",
            "8/8 [==============================] - 8s 1s/step - loss: 2.1635 - val_loss: 5.5725\n",
            "Epoch 38/100\n",
            "8/8 [==============================] - 8s 1s/step - loss: 2.0452 - val_loss: 2.3210\n",
            "Epoch 39/100\n",
            "8/8 [==============================] - 8s 1s/step - loss: 2.1838 - val_loss: 2.4294\n",
            "Epoch 40/100\n",
            "8/8 [==============================] - 9s 1s/step - loss: 2.2680 - val_loss: 2.1767\n",
            "Epoch 41/100\n",
            "8/8 [==============================] - 8s 1s/step - loss: 2.1629 - val_loss: 2.1676\n",
            "Epoch 42/100\n",
            "8/8 [==============================] - 8s 1s/step - loss: 2.1549 - val_loss: 2.8626\n",
            "Epoch 43/100\n",
            "8/8 [==============================] - 8s 1s/step - loss: 2.3149 - val_loss: 3.3299\n",
            "Epoch 44/100\n",
            "8/8 [==============================] - 8s 1s/step - loss: 2.1466 - val_loss: 4.5685\n",
            "Epoch 45/100\n",
            "8/8 [==============================] - 8s 1s/step - loss: 2.2585 - val_loss: 3.1005\n",
            "Epoch 46/100\n",
            "8/8 [==============================] - 8s 1s/step - loss: 2.1666 - val_loss: 4.8821\n",
            "Epoch 47/100\n",
            "8/8 [==============================] - 8s 1s/step - loss: 2.3356 - val_loss: 2.4491\n",
            "Epoch 48/100\n",
            "8/8 [==============================] - 8s 1s/step - loss: 2.3388 - val_loss: 2.7214\n",
            "Epoch 49/100\n",
            "8/8 [==============================] - 8s 1s/step - loss: 2.2466 - val_loss: 3.1363\n",
            "Epoch 50/100\n",
            "8/8 [==============================] - 8s 1s/step - loss: 2.1182 - val_loss: 3.3480\n",
            "Epoch 51/100\n",
            "8/8 [==============================] - 8s 1s/step - loss: 2.1336 - val_loss: 2.1949\n",
            "Epoch 52/100\n",
            "8/8 [==============================] - 8s 1s/step - loss: 2.1569 - val_loss: 3.7243\n",
            "Epoch 53/100\n",
            "8/8 [==============================] - 8s 1s/step - loss: 2.2478 - val_loss: 3.2739\n",
            "Epoch 54/100\n",
            "8/8 [==============================] - 8s 1s/step - loss: 2.2686 - val_loss: 2.4956\n",
            "Epoch 55/100\n",
            "8/8 [==============================] - 9s 1s/step - loss: 2.1670 - val_loss: 3.7553\n",
            "Epoch 56/100\n",
            "8/8 [==============================] - 8s 1s/step - loss: 2.2813 - val_loss: 4.2338\n",
            "Epoch 57/100\n",
            "8/8 [==============================] - 8s 1s/step - loss: 2.2166 - val_loss: 2.6648\n",
            "Epoch 58/100\n",
            "8/8 [==============================] - 8s 1s/step - loss: 2.0655 - val_loss: 3.2292\n",
            "Epoch 59/100\n",
            "8/8 [==============================] - 8s 1s/step - loss: 2.1968 - val_loss: 3.1637\n",
            "Epoch 60/100\n",
            "8/8 [==============================] - 8s 1s/step - loss: 2.1050 - val_loss: 2.1552\n",
            "Epoch 61/100\n",
            "8/8 [==============================] - 8s 1s/step - loss: 2.1392 - val_loss: 2.2845\n",
            "Epoch 62/100\n",
            "8/8 [==============================] - 8s 1s/step - loss: 2.1326 - val_loss: 5.0124\n",
            "Epoch 63/100\n",
            "8/8 [==============================] - 8s 1s/step - loss: 2.1569 - val_loss: 2.9102\n",
            "Epoch 64/100\n",
            "8/8 [==============================] - 8s 1s/step - loss: 2.5074 - val_loss: 4.4795\n",
            "Epoch 65/100\n",
            "8/8 [==============================] - 8s 1s/step - loss: 2.1960 - val_loss: 2.3532\n",
            "Epoch 66/100\n",
            "8/8 [==============================] - 8s 1s/step - loss: 2.3144 - val_loss: 3.1692\n",
            "Epoch 67/100\n",
            "8/8 [==============================] - 8s 1s/step - loss: 2.1596 - val_loss: 3.6694\n",
            "Epoch 68/100\n",
            "8/8 [==============================] - 8s 1s/step - loss: 2.2057 - val_loss: 3.3655\n",
            "Epoch 69/100\n",
            "8/8 [==============================] - 8s 1s/step - loss: 2.1631 - val_loss: 4.9420\n",
            "Epoch 70/100\n",
            "8/8 [==============================] - 8s 1s/step - loss: 2.1884 - val_loss: 3.4344\n",
            "Epoch 71/100\n",
            "8/8 [==============================] - 8s 1s/step - loss: 2.2156 - val_loss: 2.6864\n",
            "Epoch 72/100\n",
            "8/8 [==============================] - 8s 1s/step - loss: 2.1437 - val_loss: 3.3262\n",
            "Epoch 73/100\n",
            "8/8 [==============================] - 8s 1s/step - loss: 2.1747 - val_loss: 2.2741\n",
            "Epoch 74/100\n",
            "8/8 [==============================] - 8s 1s/step - loss: 2.1018 - val_loss: 3.2298\n",
            "Epoch 75/100\n",
            "8/8 [==============================] - 8s 1s/step - loss: 2.2063 - val_loss: 3.2072\n",
            "Epoch 76/100\n",
            "8/8 [==============================] - 8s 1s/step - loss: 2.1564 - val_loss: 3.7241\n",
            "Epoch 77/100\n",
            "8/8 [==============================] - 8s 1s/step - loss: 2.0567 - val_loss: 3.7700\n",
            "Epoch 78/100\n",
            "8/8 [==============================] - 8s 1s/step - loss: 2.2329 - val_loss: 3.1924\n",
            "Epoch 79/100\n",
            "8/8 [==============================] - 8s 1s/step - loss: 2.2543 - val_loss: 3.6860\n",
            "Epoch 80/100\n",
            "8/8 [==============================] - 8s 1s/step - loss: 2.1644 - val_loss: 2.2040\n",
            "Epoch 81/100\n",
            "8/8 [==============================] - 8s 1s/step - loss: 2.2411 - val_loss: 4.0443\n",
            "Epoch 82/100\n",
            "8/8 [==============================] - 8s 1s/step - loss: 2.2020 - val_loss: 4.1716\n",
            "Epoch 83/100\n",
            "8/8 [==============================] - 8s 1s/step - loss: 2.3480 - val_loss: 3.7114\n",
            "Epoch 84/100\n",
            "8/8 [==============================] - 8s 1s/step - loss: 2.2498 - val_loss: 3.2129\n",
            "Epoch 85/100\n",
            "8/8 [==============================] - 8s 1s/step - loss: 2.3122 - val_loss: 2.6335\n",
            "Epoch 86/100\n",
            "8/8 [==============================] - 8s 1s/step - loss: 2.3203 - val_loss: 4.1186\n",
            "Epoch 87/100\n",
            "8/8 [==============================] - 8s 1s/step - loss: 2.2056 - val_loss: 3.5058\n",
            "Epoch 88/100\n",
            "8/8 [==============================] - 8s 1s/step - loss: 2.2075 - val_loss: 2.9912\n",
            "Epoch 89/100\n",
            "8/8 [==============================] - 8s 1s/step - loss: 2.1981 - val_loss: 1.9823\n",
            "Epoch 90/100\n",
            "8/8 [==============================] - 8s 1s/step - loss: 2.3097 - val_loss: 2.4190\n",
            "Epoch 91/100\n",
            "8/8 [==============================] - 8s 1s/step - loss: 2.4134 - val_loss: 2.5658\n",
            "Epoch 92/100\n",
            "8/8 [==============================] - 8s 1s/step - loss: 2.2605 - val_loss: 2.6341\n",
            "Epoch 93/100\n",
            "8/8 [==============================] - 8s 1s/step - loss: 2.2025 - val_loss: 2.5059\n",
            "Epoch 94/100\n",
            "8/8 [==============================] - 8s 1s/step - loss: 2.2261 - val_loss: 3.2940\n",
            "Epoch 95/100\n",
            "8/8 [==============================] - 8s 1s/step - loss: 2.0934 - val_loss: 3.7978\n",
            "Epoch 96/100\n",
            "8/8 [==============================] - 8s 1s/step - loss: 2.1615 - val_loss: 2.9674\n",
            "Epoch 97/100\n",
            "8/8 [==============================] - 8s 1s/step - loss: 2.1535 - val_loss: 2.2997\n",
            "Epoch 98/100\n",
            "8/8 [==============================] - 8s 1s/step - loss: 2.0813 - val_loss: 2.2107\n",
            "Epoch 99/100\n",
            "8/8 [==============================] - 8s 1s/step - loss: 2.3145 - val_loss: 3.3925\n",
            "Epoch 100/100\n",
            "8/8 [==============================] - 8s 1s/step - loss: 2.3944 - val_loss: 2.1684\n",
            "Время обработки: 842сек\n"
          ],
          "name": "stdout"
        }
      ]
    },
    {
      "cell_type": "markdown",
      "metadata": {
        "id": "nX-cK9BgMJ-u"
      },
      "source": [
        "### Графики"
      ]
    },
    {
      "cell_type": "markdown",
      "metadata": {
        "id": "wWllAXbINuUW"
      },
      "source": [
        "#### Первые 100 эпох"
      ]
    },
    {
      "cell_type": "code",
      "metadata": {
        "colab": {
          "base_uri": "https://localhost:8080/",
          "height": 347
        },
        "id": "hBm1ytUeKp6f",
        "outputId": "50df9ad8-4d0f-4198-8b5f-1a0a67ea71db"
      },
      "source": [
        "# Первые 100 эпох\n",
        "loss1_new = pd.read_csv(NEW_path+'csv/YOLO/loss__el1000_opt0.001__ep0_100.csv')\n",
        "values_new = loss1_new.values[:, 1]\n",
        "plt.plot(values_new[10:100], \n",
        "         label='Loss на обучающем наборе 70')\n",
        "\n",
        "loss1 = pd.read_csv(path+'csv/YOLO/loss__el1000_opt0.001__ep0_100.csv')\n",
        "values = loss1.values[:, 1]\n",
        "plt.plot(values[10:100], \n",
        "         label='Loss на обучающем наборе 1000')\n",
        "\n",
        "plt.xlabel('Эпоха обучения')\n",
        "plt.ylabel('Ошибка')\n",
        "plt.legend()\n",
        "plt.show()\n",
        "\n",
        "print ('min 70:', values_new.min())\n",
        "print ('last 70:', values_new[-1])\n",
        "\n",
        "print ('min 1000:', values.min())\n",
        "print ('last 1000:', values[-1])"
      ],
      "execution_count": null,
      "outputs": [
        {
          "output_type": "display_data",
          "data": {
            "image/png": "[encoded data removed]",
            "text/plain": [
              "<Figure size 432x288 with 1 Axes>"
            ]
          },
          "metadata": {
            "tags": [],
            "needs_background": "light"
          }
        },
        {
          "output_type": "stream",
          "text": [
            "min 70: 2.489996910095215\n",
            "last 70: 3.038881540298462\n",
            "min 1000: 4.887869922178132\n",
            "last 1000: 20.03816760437829\n"
          ],
          "name": "stdout"
        }
      ]
    },
    {
      "cell_type": "markdown",
      "metadata": {
        "id": "Y1CMUJttNxBK"
      },
      "source": [
        "#### 200 эпох"
      ]
    },
    {
      "cell_type": "code",
      "metadata": {
        "colab": {
          "base_uri": "https://localhost:8080/",
          "height": 347
        },
        "id": "tUM3-E7vQiFS",
        "outputId": "e0c25201-0bdc-4327-e0cc-616280438661"
      },
      "source": [
        "# 200 эпох\n",
        "loss2_new = pd.read_csv(NEW_path+'csv/YOLO/loss__el1000_opt0.001__ep100_200.csv')\n",
        "values2_new = loss2_new.values[:, 1]\n",
        "full_loss_new = np.concatenate((values_new, values2_new))\n",
        "plt.plot(full_loss_new[10:], \n",
        "         label='Loss на обучающем наборе 70')\n",
        "\n",
        "loss2 = pd.read_csv(path+'csv/YOLO/loss__el1000_opt0.001__ep100_200.csv')\n",
        "values2 = loss2.values[:, 1]\n",
        "full_loss = np.concatenate((values, values2))\n",
        "plt.plot(full_loss[10:], \n",
        "         label='Loss на обучающем наборе 1000')\n",
        "\n",
        "plt.xlabel('Эпоха обучения')\n",
        "plt.ylabel('Ошибка')\n",
        "plt.legend()\n",
        "plt.show()\n",
        "\n",
        "print ('min 70:', full_loss_new.min())\n",
        "print ('last 70:', full_loss_new[-1])\n",
        "\n",
        "print ('min 1000:', full_loss.min())\n",
        "print ('last 1000:', full_loss[-1])"
      ],
      "execution_count": null,
      "outputs": [
        {
          "output_type": "display_data",
          "data": {
            "image/png": "[encoded data removed]",
            "text/plain": [
              "<Figure size 432x288 with 1 Axes>"
            ]
          },
          "metadata": {
            "tags": [],
            "needs_background": "light"
          }
        },
        {
          "output_type": "stream",
          "text": [
            "min 70: 2.359023094177246\n",
            "last 70: 2.913099765777588\n",
            "min 1000: 3.6010584277766093\n",
            "last 1000: 4.074403245534215\n"
          ],
          "name": "stdout"
        }
      ]
    },
    {
      "cell_type": "markdown",
      "metadata": {
        "id": "9Os9NgQGN0lx"
      },
      "source": [
        "#### 300 эпох"
      ]
    },
    {
      "cell_type": "code",
      "metadata": {
        "id": "wZNGihEI9Slj",
        "colab": {
          "base_uri": "https://localhost:8080/",
          "height": 347
        },
        "outputId": "82311b06-8921-40f7-90dc-ccd61b9af0d1"
      },
      "source": [
        "# 300 эпох\n",
        "loss3_new = pd.read_csv(NEW_path+'csv/YOLO/loss__el1000_opt0.0001__ep0_100.csv')\n",
        "values3_new = loss3_new.values[:, 1]\n",
        "full_loss_new = np.concatenate((full_loss_new, values3_new))\n",
        "plt.plot(full_loss_new[10:], \n",
        "         label='Loss на обучающем наборе 70')\n",
        "\n",
        "\n",
        "loss3 = pd.read_csv(path+'csv/YOLO/loss__el1000_opt0.0001__ep0_100.csv')\n",
        "values3 = loss3.values[:, 1]\n",
        "full_loss = np.concatenate((full_loss, values3))\n",
        "plt.plot(full_loss[10:], \n",
        "         label='Loss на обучающем наборе 1000')\n",
        "\n",
        "\n",
        "plt.xlabel('Эпоха обучения')\n",
        "plt.ylabel('Ошибка')\n",
        "plt.legend()\n",
        "plt.show()\n",
        "\n",
        "print ('min 70:', full_loss_new.min())\n",
        "print ('last 70:', full_loss_new[-1])\n",
        "\n",
        "print ('min 1000:', full_loss.min())\n",
        "print ('last 1000:', full_loss[-1])"
      ],
      "execution_count": null,
      "outputs": [
        {
          "output_type": "display_data",
          "data": {
            "image/png": "[encoded data removed]",
            "text/plain": [
              "<Figure size 432x288 with 1 Axes>"
            ]
          },
          "metadata": {
            "tags": [],
            "needs_background": "light"
          }
        },
        {
          "output_type": "stream",
          "text": [
            "min 70: 2.1892216205596924\n",
            "last 70: 2.3955187797546387\n",
            "min 1000: 2.618721180728504\n",
            "last 1000: 2.7780272683926994\n"
          ],
          "name": "stdout"
        }
      ]
    },
    {
      "cell_type": "markdown",
      "metadata": {
        "id": "R4RFGluPOAVq"
      },
      "source": [
        "#### 400 эпох"
      ]
    },
    {
      "cell_type": "code",
      "metadata": {
        "id": "kwH9Yh1oODxe",
        "colab": {
          "base_uri": "https://localhost:8080/",
          "height": 347
        },
        "outputId": "b609f429-1aac-4417-ed74-c1b7893307e7"
      },
      "source": [
        "# 400 эпох\n",
        "loss4_new = pd.read_csv(NEW_path+'csv/YOLO/loss__el1000_opt0.0001__ep100_200.csv')\n",
        "values4_new = loss4_new.values[:, 1]\n",
        "full_loss_new = np.concatenate((full_loss_new, values4_new))\n",
        "plt.plot(full_loss_new[10:], \n",
        "         label='Loss на обучающем наборе 70')\n",
        "\n",
        "loss4 = pd.read_csv(path+'csv/YOLO/loss__el1000_opt0.0001__ep100_200.csv')\n",
        "values4 = loss4.values[:, 1]\n",
        "full_loss = np.concatenate((full_loss, values4))\n",
        "plt.plot(full_loss[10:], \n",
        "         label='Loss на обучающем наборе 1000')\n",
        "\n",
        "plt.xlabel('Эпоха обучения')\n",
        "plt.ylabel('Ошибка')\n",
        "plt.legend()\n",
        "plt.show()\n",
        "\n",
        "print ('min 70:', full_loss_new.min())\n",
        "print ('last 70:', full_loss_new[-1])\n",
        "\n",
        "print ('min 1000:', full_loss.min())\n",
        "print ('last 1000:', full_loss[-1])"
      ],
      "execution_count": null,
      "outputs": [
        {
          "output_type": "display_data",
          "data": {
            "image/png": "[encoded data removed]",
            "text/plain": [
              "<Figure size 432x288 with 1 Axes>"
            ]
          },
          "metadata": {
            "tags": [],
            "needs_background": "light"
          }
        },
        {
          "output_type": "stream",
          "text": [
            "min 70: 2.1013169288635254\n",
            "last 70: 2.1559705734252934\n",
            "min 1000: 2.480011485517025\n",
            "last 1000: 2.5748181151492253\n"
          ],
          "name": "stdout"
        }
      ]
    },
    {
      "cell_type": "markdown",
      "metadata": {
        "id": "9n3SkCUmOvqL"
      },
      "source": [
        "#### 500 эпох"
      ]
    },
    {
      "cell_type": "code",
      "metadata": {
        "id": "bdCEi65BOxfa",
        "colab": {
          "base_uri": "https://localhost:8080/",
          "height": 347
        },
        "outputId": "4e96dec0-825a-4957-c1cf-bfec9047c27d"
      },
      "source": [
        "# 500 эпох\n",
        "loss5_new = pd.read_csv(NEW_path+'csv/YOLO/loss__el1000_opt0.00001__ep0_100.csv')\n",
        "values5_new = loss5_new.values[:, 1]\n",
        "full_loss_new = np.concatenate((full_loss_new, values5_new))\n",
        "plt.plot(full_loss_new[10:], \n",
        "         label='Loss на обучающем наборе 70')\n",
        "\n",
        "loss5 = pd.read_csv(path+'csv/YOLO/loss__el1000_opt0.00001__ep0_100.csv')\n",
        "values5 = loss5.values[:, 1]\n",
        "full_loss = np.concatenate((full_loss, values5))\n",
        "plt.plot(full_loss[10:], \n",
        "         label='Loss на обучающем наборе 1000')\n",
        "\n",
        "plt.xlabel('Эпоха обучения')\n",
        "plt.ylabel('Ошибка')\n",
        "plt.legend()\n",
        "plt.show()\n",
        "\n",
        "print ('min 70:', full_loss_new.min())\n",
        "print ('last 70:', full_loss_new[-1])\n",
        "\n",
        "print ('min 1000:', full_loss.min())\n",
        "print ('last 1000:', full_loss[-1])"
      ],
      "execution_count": null,
      "outputs": [
        {
          "output_type": "display_data",
          "data": {
            "image/png": "[encoded data removed]",
            "text/plain": [
              "<Figure size 432x288 with 1 Axes>"
            ]
          },
          "metadata": {
            "tags": [],
            "needs_background": "light"
          }
        },
        {
          "output_type": "stream",
          "text": [
            "min 70: 2.0350904464721684\n",
            "last 70: 2.3333606719970703\n",
            "min 1000: 2.3316804777298654\n",
            "last 1000: 2.345724961587361\n"
          ],
          "name": "stdout"
        }
      ]
    },
    {
      "cell_type": "markdown",
      "metadata": {
        "id": "XJBra5NFy8sx"
      },
      "source": [
        "### **От 200 эпох мы видим что графики идут вместе (не считая выбросов)**"
      ]
    },
    {
      "cell_type": "code",
      "metadata": {
        "colab": {
          "base_uri": "https://localhost:8080/",
          "height": 347
        },
        "id": "Qcy5Z3c6y5FE",
        "outputId": "8b66051f-da29-4801-dc8b-8e8f59606eb9"
      },
      "source": [
        "# От 200 эпох\n",
        "plt.plot(np.arange(200, 500), full_loss_new[200:], \n",
        "         label='Loss на обучающем наборе 70')\n",
        "\n",
        "plt.plot(np.arange(200, 500), full_loss[200:], \n",
        "         label='Loss на обучающем наборе 1000')\n",
        "\n",
        "plt.xlabel('Эпоха обучения')\n",
        "plt.ylabel('Ошибка')\n",
        "plt.legend()\n",
        "plt.show()\n",
        "\n",
        "print ('min 70:', full_loss_new[200:].min())\n",
        "print ('last 70:', full_loss_new[-1])\n",
        "\n",
        "print ('min 1000:', full_loss[200:].min())\n",
        "print ('last 1000:', full_loss[-1])"
      ],
      "execution_count": null,
      "outputs": [
        {
          "output_type": "display_data",
          "data": {
            "image/png": "[encoded data removed]",
            "text/plain": [
              "<Figure size 432x288 with 1 Axes>"
            ]
          },
          "metadata": {
            "tags": [],
            "needs_background": "light"
          }
        },
        {
          "output_type": "stream",
          "text": [
            "min 70: 2.0350904464721684\n",
            "last 70: 2.3333606719970703\n",
            "min 1000: 2.3316804777298654\n",
            "last 1000: 2.345724961587361\n"
          ],
          "name": "stdout"
        }
      ]
    },
    {
      "cell_type": "markdown",
      "metadata": {
        "id": "hkmT3TCTxxME"
      },
      "source": [
        "**На этом задание Pro закончено. По существу вопроса можно сказать что с укороченной выборкой работать можно. Это дает возможность быстро проверять гипотезы. У нас получилось, что после 200 эпох графики ошибок на полной и укороченной выборке идут практически вместе. По времени двести эпох на короткой выборке обойдутся примерно в 30 минут (вместо ок.7 часов).**"
      ]
    },
    {
      "cell_type": "markdown",
      "metadata": {
        "id": "RFlgbr6zsNo7"
      },
      "source": [
        "**Ниже посмотрим как распознает картинку модель обученная на коротком наборе.**"
      ]
    },
    {
      "cell_type": "code",
      "metadata": {
        "colab": {
          "base_uri": "https://localhost:8080/"
        },
        "id": "8Lhf7vJWp4fw",
        "outputId": "3b1b98e2-ef61-46c8-cf15-381a1b33ed37"
      },
      "source": [
        "# Набор 70\n",
        "val_loss1_new = pd.read_csv(NEW_path+'csv/YOLO/valloss__el1000_opt0.001__ep0_100.csv').values[:,1]\n",
        "val_loss2_new = pd.read_csv(NEW_path+'csv/YOLO/valloss__el1000_opt0.001__ep100_200.csv').values[:,1]\n",
        "val_loss3_new = pd.read_csv(NEW_path+'csv/YOLO/valloss__el1000_opt0.0001__ep0_100.csv').values[:,1]\n",
        "val_loss4_new = pd.read_csv(NEW_path+'csv/YOLO/valloss__el1000_opt0.0001__ep100_200.csv').values[:,1]\n",
        "val_loss5_new = pd.read_csv(NEW_path+'csv/YOLO/valloss__el1000_opt0.00001__ep0_100.csv').values[:,1]\n",
        "print ('Ошибки на последней эпохе каждого шага:')\n",
        "print ('100 эпох:', str(round(val_loss1_new[-1], 4)))\n",
        "print ('210 эпох:', str(round(val_loss2_new[-1], 4)))\n",
        "print ('300 эпох:', str(round(val_loss3_new[-1], 4)))\n",
        "print ('400 эпох:', str(round(val_loss4_new[-1], 4)))\n",
        "print ('500 эпох:', str(round(val_loss5_new[-1], 4)))"
      ],
      "execution_count": null,
      "outputs": [
        {
          "output_type": "stream",
          "text": [
            "Ошибки на последней эпохе каждого шага:\n",
            "100 эпох: 4.8238\n",
            "210 эпох: 5.076\n",
            "300 эпох: 2.2092\n",
            "400 эпох: 2.2958\n",
            "500 эпох: 2.1684\n"
          ],
          "name": "stdout"
        }
      ]
    },
    {
      "cell_type": "code",
      "metadata": {
        "id": "KdRLib1SUqKV",
        "colab": {
          "base_uri": "https://localhost:8080/"
        },
        "outputId": "7aa5b700-0e97-4294-ddcc-f23022343e51"
      },
      "source": [
        "# Набор 1000\n",
        "val_loss1 = pd.read_csv(path+'csv/YOLO/valloss__el1000_opt0.001__ep0_100.csv').values[:,1]\n",
        "val_loss2 = pd.read_csv(path+'csv/YOLO/valloss__el1000_opt0.001__ep100_200.csv').values[:,1]\n",
        "val_loss3 = pd.read_csv(path+'csv/YOLO/valloss__el1000_opt0.0001__ep0_100.csv').values[:,1]\n",
        "val_loss4= pd.read_csv(path+'csv/YOLO/valloss__el1000_opt0.0001__ep100_200.csv').values[:,1]\n",
        "val_loss5= pd.read_csv(path+'csv/YOLO/valloss__el1000_opt0.00001__ep0_100.csv').values[:,1]\n",
        "print ('Ошибки на последней эпохе каждого шага:')\n",
        "print ('100 эпох:', str(round(val_loss1[-1], 4)))\n",
        "print ('210 эпох:', str(round(val_loss2[-1], 4)))\n",
        "print ('300 эпох:', str(round(val_loss3[-1], 4)))\n",
        "print ('400 эпох:', str(round(val_loss4[-1], 4)))\n",
        "print ('500 эпох:', str(round(val_loss5[-1], 4)))"
      ],
      "execution_count": null,
      "outputs": [
        {
          "output_type": "stream",
          "text": [
            "Ошибки на последней эпохе каждого шага:\n",
            "100 эпох: 324649682.6667\n",
            "210 эпох: 5.4149\n",
            "300 эпох: 2.8133\n",
            "400 эпох: 2.53\n",
            "500 эпох: 2.591\n"
          ],
          "name": "stdout"
        }
      ]
    },
    {
      "cell_type": "code",
      "metadata": {
        "colab": {
          "base_uri": "https://localhost:8080/",
          "height": 332
        },
        "id": "zbelX2RhqXnl",
        "outputId": "55c0c826-219b-4417-eb03-10a69b8755d7"
      },
      "source": [
        "# Берем картинку из тестовой папки и подаем в функцию\n",
        "model_weight = NEW_path +'weights/YOLO/YOLOv3__el1000__opt0.00001__ep0_100.h5'\n",
        "new_img_path = predict_YOLO(path+'test/plane2.jpg', 'first_plane_new.jpg', model_weight)\n",
        "new_img = Image.open(new_img_path)\n",
        "plt.imshow(new_img)"
      ],
      "execution_count": null,
      "outputs": [
        {
          "output_type": "stream",
          "text": [
            "/content/drive/My Drive/my_sample_data/Д.З.31/Pro100/weights/YOLO/YOLOv3__el1000__opt0.00001__ep0_100.h5 загружены.\n",
            "WARNING:tensorflow:8 out of the last 8 calls to <function Model.make_predict_function.<locals>.predict_function at 0x7fa13a1ae730> triggered tf.function retracing. Tracing is expensive and the excessive number of tracings could be due to (1) creating @tf.function repeatedly in a loop, (2) passing tensors with different shapes, (3) passing Python objects instead of tensors. For (1), please define your @tf.function outside of the loop. For (2), @tf.function has experimental_relax_shapes=True option that relaxes argument shapes that can avoid unnecessary retracing. For (3), please refer to https://www.tensorflow.org/guide/function#controlling_retracing and https://www.tensorflow.org/api_docs/python/tf/function for  more details.\n"
          ],
          "name": "stdout"
        },
        {
          "output_type": "execute_result",
          "data": {
            "text/plain": [
              "<matplotlib.image.AxesImage at 0x7fa13ac942b0>"
            ]
          },
          "metadata": {
            "tags": []
          },
          "execution_count": 73
        },
        {
          "output_type": "display_data",
          "data": {
            "image/png": "[encoded data removed]",
            "text/plain": [
              "<Figure size 432x288 with 1 Axes>"
            ]
          },
          "metadata": {
            "tags": [],
            "needs_background": "light"
          }
        }
      ]
    },
    {
      "cell_type": "code",
      "metadata": {
        "colab": {
          "base_uri": "https://localhost:8080/",
          "height": 338
        },
        "id": "tJPunsxxxZlo",
        "outputId": "75d61239-a178-47d3-8b65-b889fc7e1423"
      },
      "source": [
        "# Берем картинку из тестовой папки и подаем в функцию\n",
        "model_weight = NEW_path +'weights/YOLO/YOLOv3__el1000__opt0.00001__ep0_100.h5'\n",
        "new_img_path = predict_YOLO(path+'test/plane3.jpg', 'first_plane_new.jpg', model_weight)\n",
        "new_img = Image.open(new_img_path)\n",
        "plt.imshow(new_img)"
      ],
      "execution_count": null,
      "outputs": [
        {
          "output_type": "stream",
          "text": [
            "/content/drive/My Drive/my_sample_data/Д.З.31/Pro100/weights/YOLO/YOLOv3__el1000__opt0.00001__ep0_100.h5 загружены.\n",
            "WARNING:tensorflow:9 out of the last 9 calls to <function Model.make_predict_function.<locals>.predict_function at 0x7fa15c091bf8> triggered tf.function retracing. Tracing is expensive and the excessive number of tracings could be due to (1) creating @tf.function repeatedly in a loop, (2) passing tensors with different shapes, (3) passing Python objects instead of tensors. For (1), please define your @tf.function outside of the loop. For (2), @tf.function has experimental_relax_shapes=True option that relaxes argument shapes that can avoid unnecessary retracing. For (3), please refer to https://www.tensorflow.org/guide/function#controlling_retracing and https://www.tensorflow.org/api_docs/python/tf/function for  more details.\n"
          ],
          "name": "stdout"
        },
        {
          "output_type": "execute_result",
          "data": {
            "text/plain": [
              "<matplotlib.image.AxesImage at 0x7fa13ba0e978>"
            ]
          },
          "metadata": {
            "tags": []
          },
          "execution_count": 74
        },
        {
          "output_type": "display_data",
          "data": {
            "image/png": "[encoded data removed]",
            "text/plain": [
              "<Figure size 432x288 with 1 Axes>"
            ]
          },
          "metadata": {
            "tags": [],
            "needs_background": "light"
          }
        }
      ]
    },
    {
      "cell_type": "markdown",
      "metadata": {
        "id": "WYAKsgOk4zFb"
      },
      "source": [
        "**Модель, обученная на укороченном наборе данных, на тестовых данных работает предсказуемо хуже несмотря на низкую ошибку при обучении.**"
      ]
    }
  ]
}