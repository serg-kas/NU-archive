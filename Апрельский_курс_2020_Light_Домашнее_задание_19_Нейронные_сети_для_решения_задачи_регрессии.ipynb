{
  "nbformat": 4,
  "nbformat_minor": 0,
  "metadata": {
    "colab": {
      "name": "Апрельский курс-2020 Light. Домашнее задание 19. Нейронные сети для решения задачи регрессии",
      "provenance": [],
      "collapsed_sections": [],
      "include_colab_link": true
    },
    "kernelspec": {
      "name": "python3",
      "display_name": "Python 3"
    },
    "accelerator": "GPU"
  },
  "cells": [
    {
      "cell_type": "markdown",
      "metadata": {
        "id": "view-in-github",
        "colab_type": "text"
      },
      "source": [
        "<a href=\"https://colab.research.google.com/github/serg-kas/NN-archive/blob/main/%D0%90%D0%BF%D1%80%D0%B5%D0%BB%D1%8C%D1%81%D0%BA%D0%B8%D0%B9_%D0%BA%D1%83%D1%80%D1%81_2020_Light_%D0%94%D0%BE%D0%BC%D0%B0%D1%88%D0%BD%D0%B5%D0%B5_%D0%B7%D0%B0%D0%B4%D0%B0%D0%BD%D0%B8%D0%B5_19_%D0%9D%D0%B5%D0%B9%D1%80%D0%BE%D0%BD%D0%BD%D1%8B%D0%B5_%D1%81%D0%B5%D1%82%D0%B8_%D0%B4%D0%BB%D1%8F_%D1%80%D0%B5%D1%88%D0%B5%D0%BD%D0%B8%D1%8F_%D0%B7%D0%B0%D0%B4%D0%B0%D1%87%D0%B8_%D1%80%D0%B5%D0%B3%D1%80%D0%B5%D1%81%D1%81%D0%B8%D0%B8.ipynb\" target=\"_parent\"><img src=\"https://colab.research.google.com/assets/colab-badge.svg\" alt=\"Open In Colab\"/></a>"
      ]
    },
    {
      "cell_type": "markdown",
      "metadata": {
        "id": "t-BOnGKo8WOw"
      },
      "source": [
        "##Light задание##\n",
        "Используя шаблон ноутбука (для базы квартир), требуется:\n",
        "\n",
        "1. Загрузить xTrain на числовых данных\n",
        "2. Загрузить xTrainС из \"Примечаний\" (тексты)\n",
        "3. Создать словарь\n",
        "4. Превратить xTrainC в формат bag of words (2000 самых популярных слов)\n",
        "5. Сделать нормирование данных\n",
        "6. Написать нейронную сеть"
      ]
    },
    {
      "cell_type": "markdown",
      "metadata": {
        "id": "Uz8sA8GWAnqC"
      },
      "source": [
        "##Импорт библиотек##"
      ]
    },
    {
      "cell_type": "code",
      "metadata": {
        "id": "-qC3DSCJbGBf"
      },
      "source": [
        "import numpy as np\n",
        "import pandas as pd\n",
        "\n",
        "from tensorflow.keras import utils\n",
        "from tensorflow.keras.preprocessing.sequence import pad_sequences\n",
        "from sklearn.preprocessing import StandardScaler\n",
        "\n",
        "from keras.optimizers import Adam\n",
        "from keras.models import Sequential, Model\n",
        "from keras.layers import concatenate, Input, Dense, Dropout, BatchNormalization, Flatten, Conv1D, Conv2D\n",
        "from tensorflow.keras.callbacks import LambdaCallback # подключаем колбэки\n",
        "from tensorflow.keras.callbacks import Callback\n",
        "from tensorflow.keras.callbacks import LearningRateScheduler\n",
        "\n",
        "from google.colab import files\n",
        "\n",
        "import matplotlib.pyplot as plt\n",
        "%matplotlib inline\n",
        "\n",
        "import datetime\n",
        "import time\n",
        "\n",
        "from IPython.display import clear_output\n",
        "\n",
        "\n"
      ],
      "execution_count": null,
      "outputs": []
    },
    {
      "cell_type": "code",
      "metadata": {
        "id": "Xvth-8_b9fzG",
        "colab": {
          "base_uri": "https://localhost:8080/",
          "height": 34
        },
        "outputId": "9663d9b7-a0e2-42bf-ffb7-9f2d1b3c679d"
      },
      "source": [
        "# Подключаем google drive\n",
        "from google.colab import drive # Подключаем диск\n",
        "drive.mount('/content/drive')"
      ],
      "execution_count": null,
      "outputs": [
        {
          "output_type": "stream",
          "text": [
            "Drive already mounted at /content/drive; to attempt to forcibly remount, call drive.mount(\"/content/drive\", force_remount=True).\n"
          ],
          "name": "stdout"
        }
      ]
    },
    {
      "cell_type": "code",
      "metadata": {
        "id": "gV7qn6kY81at",
        "colab": {
          "base_uri": "https://localhost:8080/",
          "height": 374
        },
        "outputId": "72a234d2-9a57-48c9-b02c-a736fc2ace11"
      },
      "source": [
        "# и загружаем данные в data frame\n",
        "df = pd.read_csv('/content/drive/My Drive/my_sample_data/Д.З.19/moscow.csv', sep=\";\") \n",
        "\n",
        "df = df.iloc[::2,:] #Выбираем нечётные строки, в чётных строках в исходном фрейме пустые строки для комментариев\n",
        "data = df.values #Вытаскиваем данные в numpy array\n",
        "\n",
        "print(df.iloc[:,:6].head(20)) #Показываем пример данных (первые 6 колонок)"
      ],
      "execution_count": null,
      "outputs": [
        {
          "output_type": "stream",
          "text": [
            "   Комнат        Метро / ЖД станции От станции        Дом Балкон Санузел\n",
            "0       1               Шелепиха м.        12п    35/37 М    NaN       2\n",
            "2       1        Пятницкое шоссе м.        30т    11/14 П      Л       Р\n",
            "4       1              Планерная м.         5т    11/22 П      Б       С\n",
            "6       1            Шаболовская м.        12п     8/12 ?      Б       Р\n",
            "8       1           Бабушкинская м.        15п     4/14 П    NaN       С\n",
            "10      1               Шелепиха м.        15п     9/36 К    NaN     NaN\n",
            "12      1    Улица Дмитриевского м.         2п     7/16 П      Л       Р\n",
            "14      1  Бульвар Рокоссовского м.         2п      2/5 К      Б       С\n",
            "16      1           Марьина Роща м.        10п     7/14 П     2Б     NaN\n",
            "18      1                Марьино м.        20п  10/24 М-К    NaN       -\n",
            "20      1                Марьино м.         5т      5/5 П      Б       С\n",
            "22      1              Печатники м.         5т     2/12 П      -       С\n",
            "24      1      Красногвардейская м.         3п    20/30 М      Б       С\n",
            "26      1      Красногвардейская м.         3п    12/30 М      Б       С\n",
            "28      1      Красногвардейская м.         3п    16/30 М      -       С\n",
            "30      1         Площадь Ильича м.         8п     1/10 М      -       С\n",
            "32      1      Красногвардейская м.         3п     2/30 М      -       С\n",
            "34      1      Красногвардейская м.         3п     2/30 М      -       С\n",
            "36      1         Площадь Ильича м.         8п     8/28 М      Б      2С\n",
            "38      1         Площадь Ильича м.         8п    10/28 М      Б       С\n"
          ],
          "name": "stdout"
        }
      ]
    },
    {
      "cell_type": "code",
      "metadata": {
        "id": "m9n8K1K8o44h",
        "colab": {
          "base_uri": "https://localhost:8080/",
          "height": 85
        },
        "outputId": "39729b52-01fb-41de-ec13-eb52c82c93c4"
      },
      "source": [
        "print(df.columns) #Показываем имена колонок данных\n",
        "\n",
        "#В xTrain - база числовых значени\n",
        "#Комнат\n",
        "#Метро / ЖД станции\n",
        "#От станции\n",
        "#Дом\n",
        "#Балкон\n",
        "#Санузел\n",
        "#Площадь\n",
        "\n",
        "#В xTrainC - база текстов о квартирах\n",
        "#Примечание\n",
        "\n",
        "#В yTrain\n",
        "#Цена, руб.\n",
        "\n",
        "#Остальные колонки игнорируем"
      ],
      "execution_count": null,
      "outputs": [
        {
          "output_type": "stream",
          "text": [
            "Index(['Комнат', 'Метро / ЖД станции', 'От станции', 'Дом', 'Балкон',\n",
            "       'Санузел', 'Площадь', 'Цена, руб.', 'ГРМ', 'Бонус агенту', 'Дата',\n",
            "       'Кол-во дней в экспозиции', 'Источник', 'Примечание'],\n",
            "      dtype='object')\n"
          ],
          "name": "stdout"
        }
      ]
    },
    {
      "cell_type": "markdown",
      "metadata": {
        "id": "ll3mX7U9qaa5"
      },
      "source": [
        "#Функции парсинга"
      ]
    },
    {
      "cell_type": "code",
      "metadata": {
        "id": "ToAb13lvrd8p"
      },
      "source": [
        "#Во всех функциях дальше\n",
        "#d - описание квартиры, одна строка из data1\n",
        "\n",
        "\n",
        "#Вычисляем количество комнат\n",
        "#maxRoomCount - максимальное число комнат в квартире\n",
        "def getRoomsCount(d, maxRoomCount):\n",
        "  roomsCountStr = d[0] #Получаем строку с числом комнат\n",
        "\n",
        "  roomsCount = 0\n",
        "  try:\n",
        "    roomsCount = int(roomsCountStr) #Пробуем превратить строку в число\n",
        "    if (roomsCount > maxRoomCount): \n",
        "      roomsCount = maxRoomCount #Если число комнат больше максимального, то присваиваем максимальное\n",
        "  except: #Если не получается превратить строку в число\n",
        "    if (roomsCountStr == roomsCountStr): #Проверяем строку на nan (сравнение с самим собой)\n",
        "      if (\"Ст\" in roomsCountStr): #ЕСть строка = \"Ст\", значит это Студия\n",
        "        roomsCount = maxRoomCount + 1\n",
        "\n",
        "  return roomsCount\n",
        "\n",
        "#Превращаем число комнат в категорию\n",
        "def getRoomsCountCategory(d, maxRoomCount):\n",
        "  roomsCount = getRoomsCount(d, maxRoomCount) #Получаем число комнат\n",
        "  roomsCount = utils.to_categorical(roomsCount, maxRoomCount+2) #Превращаем в категорию\n",
        "  #maxRoomCount+2 потому что 0 зарезервирован на неопознаное число комнат, а maxRoomCount+1 на \"Студию\"\n",
        "  return roomsCount\n",
        "\n",
        "#Получаем индекс станции метро\n",
        "#allMetroNames - все уникальные названия метро в базе\n",
        "def getMetro(d, allMetroNames):\n",
        "  metroStr = d[1] #Получаем строку метро\n",
        "  metro = 0\n",
        "  \n",
        "  if (metroStr in allMetroNames): #Если находим метро во всех названиях\n",
        "    metro = allMetroNames.index(metroStr)+1 #Присваиваем индекс\n",
        "    #+1 так как 0 зарезервирован на неопознанное метро\n",
        "    \n",
        "  return metro\n",
        "\n",
        "#Получаем тип метро\n",
        "#0 - внутри кольца\n",
        "#1 - кольцо\n",
        "#2 - 1-3 станции от конца\n",
        "#3 - 4-8 станций от кольца\n",
        "#4 - больше 8 станций от кольца\n",
        "def getMetroType(d):\n",
        "  metroTypeStr = d[1] #Получаем строку метро\n",
        "  metroTypeClasses = 5 #Число классов метро\n",
        "  metroType = metroTypeClasses - 1 #Изначально считаем последний класс\n",
        "  \n",
        "  #Метро внутри кольца\n",
        "  metroNamesInsideCircle = [\"Площадь Революции\", \"Арбатская\", \"Смоленская\", \"Красные Ворота\", \"Чистые пруды\", \"Лубянка\", \"Охотный Ряд\", \"Библиотека имени Ленина\", \"Кропоткинская\", \"Сухаревская\", \"Тургеневская\", \"Китай-город\", \"Третьяковская\", \"Трубная\", \"Сретенский бульвар\", \"Цветной бульвар\", \"Чеховская\", \"Боровицкая\", \"Полянка\", \"Маяковская\", \"Тверская\", \"Театральная\", \"Новокузнецкая\", \"Пушкинская\", \"Кузнецкий Мост\", \"Китай-город\", \"Александровский сад\"]\n",
        "  #Метро на кольце\n",
        "  metroNamesCircle = [\"Киевская\", \"Парк Культуры\", \"Октябрьская\", \"Добрынинская\", \"Павелецкая\", \"Таганская\", \"Курская\", \"Комсомольская\", \"Проспект Мира\", \"Новослободская\", \"Белорусская\", \"Краснопресненская\"]\n",
        "  #Метро 1-3 станции от кольца\n",
        "  metroNames13FromCircle = [\"Бауманская\", \"Электрозаводская\", \"Семёновская\", \"Площадь Ильича\", \"Авиамоторная\", \"Шоссе Энтузиастов\", \"Римская\", \"Крестьянская Застава\", \"Дубровка\", \"Пролетарская\", \"Волгоградский проспект\", \"Текстильщики\", \"Автозаводская\", \"Технопарк\", \"Коломенская\", \"Тульская\", \"Нагатинская\", \"Нагорная\", \"Шаболовская\", \"Ленинский проспект\", \"Академическая\", \"Фрунзенская\", \"Спортивная\", \"Воробьёвы горы\", \"Студенческая\", \"Кутузовская\", \"Фили\", \"Парк Победы\", \"Выставочная\", \"Международная\", \"Улица 1905 года\", \"Беговая\", \"Полежаевская\", \"Динамо\", \"Аэропорт\", \"Сокол\", \"Деловой центр\", \"Шелепиха\", \"Хорошёвская\", \"ЦСКА\", \"Петровский парк\", \"Савёловская\", \"Дмитровская\", \"Тимирязевская\", \"Достоевская\", \"Марьина Роща\", \"Бутырская\", \"Фонвизинская\", \"Рижская\", \"Алексеевская\", \"ВДНХ\", \"Красносельская\", \"Сокольники\", \"Преображенская площадь\"]\n",
        "  #Метро 4-8 станций от кольа\n",
        "  metroNames48FromCircle = [\"Партизанская\", \"Измайловская\", \"Первомайская\", \"Щёлковская\", \"Новокосино\", \"Новогиреево\", \"Перово\", \"Кузьминки\", \"Рязанский проспект\", \"Выхино\", \"Лермонтовский проспект\", \"Жулебино\", \"Партизанская\", \"Измайловская\", \"Первомайская\", \"Щёлковская\", \"Новокосино\", \"Новогиреево\", \"Перово\", \"Кузьминки\", \"Рязанский проспект\", \"Выхино\", \"Лермонтовский проспект\", \"Жулебино\", \"Улица Дмитриевского\", \"Кожуховская\", \"Печатники\", \"Волжская\", \"Люблино\", \"Братиславская\", \"Коломенская\", \"Каширская\", \"Кантемировская\", \"Царицыно\", \"Орехово\", \"Севастопольская\", \"Чертановская\", \"Южная\", \"Пражская\", \"Варшавская\", \"Профсоюзная\", \"Новые Черёмушки\", \"Калужская\", \"Беляево\", \"Коньково\", \"Университет\", \"Багратионовская\", \"Филёвский парк\", \"Пионерская\", \"Кунцевская\", \"Молодёжная\", \"Октябрьское Поле\", \"Щукинская\", \"Спартак\", \"Тушинская\", \"Сходненская\", \"Войковская\", \"Водный стадион\", \"Речной вокзал\", \"Беломорская\", \"Ховрино\", \"Петровско-Разумовская\", \"Владыкино\", \"Отрадное\", \"Бибирево\", \"Алтуфьево\", \"Фонвизинская\", \"Окружная\", \"Верхние Лихоборы\", \"Селигерская\", \"ВДНХ\", \"Ботанический сад\", \"Свиблово\", \"Бабушкинская\", \"Медведково\", \"Преображенская площадь\", \"Черкизовская\", \"Бульвар Рокоссовского\"]\n",
        "  \n",
        "  #Проверяем, в какую категорию попадает наша станция\n",
        "  if (metroTypeStr in metroNamesInsideCircle):\n",
        "    metroType = 0\n",
        "  if (metroTypeStr in metroNamesCircle):\n",
        "    metroType = 1\n",
        "  if (metroTypeStr in metroNames13FromCircle):\n",
        "    metroType = 2\n",
        "  if (metroTypeStr in metroNames48FromCircle):\n",
        "    metroType = 3\n",
        "  \n",
        "  #Превращаем результат в категорию\n",
        "  metroType = utils.to_categorical(metroType, metroTypeClasses)\n",
        "  return metroType\n",
        "\n",
        "\n",
        "#Вычисляем растояние до метро\n",
        "def getMetroDistance(d):\n",
        "  metroDistanceStr = d[2] #Получаем строку\n",
        "  \n",
        "  metroDistance = 0 #Расстояние до метро\n",
        "  metroDistanceType = 0 #Тип расстояния - пешком или на транспорте\n",
        "  \n",
        "  #ЕСли строка не равна nan  \n",
        "  if (metroDistanceStr == metroDistanceStr):\n",
        "    if (len(metroDistanceStr) > 0):\n",
        "      #Определяем тип расстояния\n",
        "      if (metroDistanceStr[-1] == \"п\"):\n",
        "        metroDistanceType = 1 #Пешком\n",
        "      elif (metroDistanceStr[-1] == \"т\"):\n",
        "        metroDistanceType = 2 #На транспорте\n",
        "\n",
        "      #Выбрасываем последний символ, чтобы осталось только число\n",
        "      metroDistanceStr = metroDistanceStr[:-1]\n",
        "      try:\n",
        "        #Разделяем дистанции на категории\n",
        "        metroDistance = int(metroDistanceStr)\n",
        "        if (metroDistance < 3):\n",
        "          metroDistance = 1\n",
        "        elif (metroDistance < 6):\n",
        "          metroDistance = 2\n",
        "        elif (metroDistance < 10):\n",
        "          metroDistance = 3\n",
        "        elif (metroDistance < 15):\n",
        "          metroDistance = 4\n",
        "        elif (metroDistance < 20):\n",
        "          metroDistance = 5\n",
        "        else:\n",
        "          metroDistance = 6\n",
        "      except: #Если в строке не число, то категория 0\n",
        "        metroDistance = 0\n",
        "  \n",
        "  #Число классов дистанции\n",
        "  metroDistanceClasses = 7\n",
        "  \n",
        "  #У нас 7 категорий дистанции по расстоянию\n",
        "  #И 3 типа дистанции - неопознанный, пешком и транспортом\n",
        "  #Мы создадим вектор длины 3*7 = 21\n",
        "  #Будем преобразовывать индекс расстояния 0-6 в 0-20\n",
        "  #Для типа \"Пешком\" - ничего не меняем\n",
        "  if (metroDistanceType == 2):\n",
        "    metroDistance += metroDistanceClasses #Для типа \"Транспортом\" добавляем 7\n",
        "  if (metroDistanceType == 0):\n",
        "    metroDistance += 2*metroDistanceClasses #Для неопознанного типа добавляем 14\n",
        "    \n",
        "  #Превращаем в категории\n",
        "  metroDistance = utils.to_categorical(metroDistance, 3*metroDistanceClasses)\n",
        "  return metroDistance\n",
        "\n",
        "#Получаем 4 данных\n",
        "#- этаж квартиры\n",
        "#- этажность дома\n",
        "#- индикатор, что последний этаж\n",
        "#- тип дома\n",
        "def getHouseTypeAndFloor(d):\n",
        "  try:\n",
        "    houseStr = d[3] #Получаем строку типа дома и этажей\n",
        "  except:\n",
        "    houseStr = \"\"\n",
        "  \n",
        "  houseType = 0 #Тип дома\n",
        "  floor = 0 #Этаж квартиры\n",
        "  floors = 0 #Этажность дома\n",
        "  isLastFloor = 0 #Индикатор последнего этажа\n",
        "  \n",
        "  #Проверяем строку на nan\n",
        "  if (houseStr == houseStr):\n",
        "    if (len(houseStr) > 1):\n",
        "    \n",
        "      try:\n",
        "        slashIndex = houseStr.index(\"/\") #Ищем разделитель /\n",
        "      except:\n",
        "        print(houseStr)\n",
        "\n",
        "      try:\n",
        "        spaceIndex = houseStr.index(\" \") #Ищем разделитель \" \"\n",
        "      except:\n",
        "        print(houseStr)\n",
        "\n",
        "      #Вытаскиваем строки\n",
        "      floorStr = houseStr[:slashIndex] #Строка этажа\n",
        "      floorsStr = houseStr[slashIndex+1:spaceIndex] #Строка этажности дома\n",
        "      houseTypeStr = houseStr[spaceIndex+1:] #Строка типа дома\n",
        "\n",
        "      #Выбираем категорию этажа\n",
        "      try:\n",
        "        floor = int(floorStr) #Превращаем строку в число\n",
        "        floorSave = floor\n",
        "        if (floorSave < 5):\n",
        "          floor = 2\n",
        "        if (floorSave < 10):\n",
        "          floor = 3\n",
        "        if (floorSave < 20):\n",
        "          floor = 4\n",
        "        if (floorSave >= 20):\n",
        "          floor = 5\n",
        "        if (floorSave == 1): #Первый этаж выделяем в отдельную категорию\n",
        "          floor = 1 \n",
        "\n",
        "        if (floor == floors): #Если этаж последний, включаем индикатор последнего этажа\n",
        "          isLastFloor = 1 \n",
        "      except:\n",
        "        floor = 0 #Если строка не парсится в число, то категория этажа = 0 (отдельная)\n",
        "\n",
        "      #Выбираем категорию этажности дома\n",
        "      try:\n",
        "        floors = int(floorsStr) #Превращаем строку в число\n",
        "        floorsSave = floors\n",
        "        if (floorsSave < 5):\n",
        "          floors = 1\n",
        "        if (floorsSave < 10):\n",
        "          floors = 2\n",
        "        if (floorsSave < 20):\n",
        "          floors = 3\n",
        "        if (floorsSave >= 20):\n",
        "          floors = 4\n",
        "      except:\n",
        "        floors = 0 #Если строка не парсится в число, то категория этажности = 0 (отдельная)\n",
        "\n",
        "      #Определяем категорию типа дома\n",
        "      if (len(houseTypeStr) > 0):\n",
        "        if (\"М\" in houseTypeStr): \n",
        "          houseType = 1\n",
        "        if (\"К\" in houseTypeStr): \n",
        "          houseType = 2\n",
        "        if (\"П\" in houseTypeStr): \n",
        "          houseType = 3\n",
        "        if (\"Б\" in houseTypeStr): \n",
        "          houseType = 4\n",
        "        if (\"?\" in houseTypeStr): \n",
        "          houseType = 5\n",
        "        if (\"-\" in houseTypeStr): \n",
        "          houseType = 6\n",
        "    \n",
        "    #Превращаем все категории в one hot encoding\n",
        "    floor = utils.to_categorical(floor, 6)\n",
        "    floors = utils.to_categorical(floors, 5)\n",
        "    houseType = utils.to_categorical(houseType, 7)\n",
        "    \n",
        "    \n",
        "  return floor, floors, isLastFloor, houseType\n",
        "\n",
        "\n",
        "#Вычисляем тип балкона\n",
        "def getBalcony(d):\n",
        "  balconyStr = d[4] #Полуаем строку\n",
        "  #Выписываем все варианты балконов в базе\n",
        "  balconyVariants = ['Л', 'Б', '2Б', '-', '2Б2Л', 'БЛ', '3Б', '2Л', 'Эрк', 'Б2Л', 'ЭркЛ', '3Л', '4Л', '*Л', '*Б']\n",
        "  #Проверяем на nan\n",
        "  if (balconyStr == balconyStr):\n",
        "    balcony = balconyVariants.index(balconyStr)+1 #Находим индекс строки балкона во всех строках\n",
        "  else:\n",
        "    balcony = 0 #Индекс 0 выделяем на строку nan\n",
        "  \n",
        "  #Превращаем в one hot encoding\n",
        "  balcony = utils.to_categorical(balcony, 16)\n",
        "  \n",
        "  return balcony\n",
        "\n",
        "#Определяем тип санузла\n",
        "def getWC(d):\n",
        "  wcStr = d[5] #Получаем строку\n",
        "  #Выписываем все варианты санузлов в базе\n",
        "  wcVariants = ['2', 'Р', 'С', '-', '2С', '+', '4Р', '2Р', '3С', '4С', '4', '3', '3Р']\n",
        "  #Проверяем на nan\n",
        "  if (wcStr == wcStr):\n",
        "    wc = wcVariants.index(wcStr)+1 #Находим индекс строки санузла во всех строках\n",
        "  else:\n",
        "    wc = 0 #Индекс 0 выделяем на строку nan\n",
        "  \n",
        "  #Превращаем в one hot encoding\n",
        "  wc = utils.to_categorical(wc, 14)\n",
        "  \n",
        "  return wc\n",
        "\n",
        "#Определяем площадь\n",
        "def getArea(d):\n",
        "  areaStr = d[6] #Полулачем строку площади\n",
        "  \n",
        "  if (\"/\" in areaStr):\n",
        "    slashIndex = areaStr.index(\"/\") #Находим разделитель /\n",
        "    try:\n",
        "      area = float(areaStr[:slashIndex]) #Берём число до разделителя и превращаем в число\n",
        "    except:\n",
        "      area = 0 #Если не получается, возвращаем 0\n",
        "  else:\n",
        "    area = 0 #Или если нет разделителя, возвращаем 0\n",
        "    \n",
        "  return area\n",
        "\n",
        "#Полуаем цену\n",
        "def getCost(d):\n",
        "  costStr = d[7] #Загружаем строку\n",
        "  \n",
        "  try:\n",
        "    cost = float(costStr) #Пробуем превратить в число\n",
        "  except:\n",
        "    cost = 0 #Если не получается, возвращаем 0\n",
        "  \n",
        "  return cost\n",
        "\n",
        "#Получаем комментарий\n",
        "def getComment(d):\n",
        "  commentStr = d[-1] #Возвращаем данные из последней колонки\n",
        "  \n",
        "  return commentStr\n",
        "\n",
        "#Объединяем все числовые параметры вместе\n",
        "def getAllParameters(d, allMetroNames):\n",
        "  #Загружаем все данные по отдельности\n",
        "  roomsCountType = getRoomsCountCategory(d, 30)\n",
        "  metro = getMetro(d, allMetroNames)\n",
        "  metroType = getMetroType(d)\n",
        "  metroDistance = getMetroDistance(d)\n",
        "  floor, floors, isLastFloor, houseType = getHouseTypeAndFloor(d)\n",
        "  balcony = getBalcony(d)\n",
        "  wc = getWC(d)\n",
        "  area = getArea(d)\n",
        "\n",
        "  #Объединяем в один лист\n",
        "  out = list(roomsCountType)\n",
        "  out.append(metro)\n",
        "  out.extend(metroType)\n",
        "  out.extend(metroDistance)\n",
        "  out.extend(floor)\n",
        "  out.extend(floors)\n",
        "  out.append(isLastFloor)\n",
        "  out.extend(houseType)\n",
        "  out.extend(balcony)\n",
        "  out.extend(wc)\n",
        "  out.append(area)\n",
        "  \n",
        "  return out\n",
        "\n",
        "#Генерируем обучающаюу выборку - xTrain\n",
        "def getXTrain(data):\n",
        "  \n",
        "  #Получаем строку во всеми вариантами метро\n",
        "  allMertroNames = list(df[\"Метро / ЖД станции\"].unique())\n",
        "  \n",
        "  #Превращаем все строки в data1 в векторы параметров и записываем в xTrain\n",
        "  xTrain = [getAllParameters(d, allMertroNames) for d in data]\n",
        "  xTrain = np.array(xTrain)\n",
        "  \n",
        "  return xTrain\n",
        "\n",
        "#Генерируем обучающую выборку - yTrain\n",
        "def getYTrain(data):\n",
        "  \n",
        "  #Загружаем лист всех цен квартир по всем строкам data1\n",
        "  costList = [getCost(d) for d in data] \n",
        "  yTrain = np.array(costList)\n",
        "  \n",
        "  return yTrain"
      ],
      "execution_count": null,
      "outputs": []
    },
    {
      "cell_type": "markdown",
      "metadata": {
        "id": "jy3YXNx8ROWZ"
      },
      "source": [
        "##Формируем обучающую выборку"
      ]
    },
    {
      "cell_type": "code",
      "metadata": {
        "id": "oE5oOMiHbkKO",
        "colab": {
          "base_uri": "https://localhost:8080/",
          "height": 51
        },
        "outputId": "7eb411e1-5d77-4a98-c264-614386926929"
      },
      "source": [
        "# Начинаем предобработку (чистку)\n",
        "\n",
        "oneRoomMask = [getRoomsCount(d, 30) == 1 for d in data] #Делаем маску однокомнатных квартир, принцип (getRoomsCount(d, 30) == 1)\n",
        "data1 = data[oneRoomMask] #В data1 оставляем только однокомнатные квартиры\n",
        "\n",
        "#НЕ ХВАТАЕТ ОЗУ\n",
        "#data1 = data\n",
        "\n",
        "\n",
        "print(data.shape)\n",
        "print(data1.shape)"
      ],
      "execution_count": null,
      "outputs": [
        {
          "output_type": "stream",
          "text": [
            "(126268, 14)\n",
            "(62504, 14)\n"
          ],
          "name": "stdout"
        }
      ]
    },
    {
      "cell_type": "code",
      "metadata": {
        "id": "OuKYW_4bRb_P",
        "colab": {
          "base_uri": "https://localhost:8080/",
          "height": 51
        },
        "outputId": "77a683fb-1863-4958-f1e7-fe38993a6fa9"
      },
      "source": [
        "xTrain = getXTrain(data1)\n",
        "yTrain = getYTrain(data1)\n",
        "\n",
        "print(xTrain.shape)\n",
        "print(yTrain.shape)"
      ],
      "execution_count": null,
      "outputs": [
        {
          "output_type": "stream",
          "text": [
            "(62504, 109)\n",
            "(62504,)\n"
          ],
          "name": "stdout"
        }
      ]
    },
    {
      "cell_type": "markdown",
      "metadata": {
        "id": "TVZIF639CbE7"
      },
      "source": [
        "##Парсинг текста"
      ]
    },
    {
      "cell_type": "code",
      "metadata": {
        "id": "vUhVOsf1Cdfd"
      },
      "source": [
        "###########################\n",
        "# Очистка текста и превращение в набор слов\n",
        "##########################\n",
        "def text2Words(text):\n",
        "\n",
        "  #Удаляем лишние символы\n",
        "  text = text.replace(\".\", \"\")\n",
        "  text = text.replace(\"—\", \"\")\n",
        "  text = text.replace(\",\", \"\")\n",
        "  text = text.replace(\"!\", \"\")\n",
        "  text = text.replace(\"?\", \"\")\n",
        "  text = text.replace(\"…\", \"\")\n",
        "  text = text.lower() #Переводим в нижний регистр\n",
        "  \n",
        "  \n",
        "  words = [] #Тут будут все слов\n",
        "  currWord = \"\" #Тут будет накапливаться текущее слово, между двумя пробелами\n",
        "  \n",
        "  #идём по всем символам\n",
        "  for symbol in text:\n",
        "    \n",
        "    if (symbol != \"\\ufeff\"): #Игнорируем системынй символ в начале строки\n",
        "      if (symbol != \" \"): #Если символ не пробел\n",
        "        currWord += symbol #То добавляем вимвол в текущее слово\n",
        "      else: #Если символ пробел\n",
        "        if (currWord != \"\"): \n",
        "          words.append(currWord) #Добавляем тккущее слово в список слов\n",
        "          currWord = \"\" #И обнуляем текущее слово\n",
        "\n",
        "  #Добавляем финальное слово, если оно не пустое\n",
        "  #Если не сделать, то потеряем финальное слово, потому что текст чаще всего заканчивается на не пробел\n",
        "  if (currWord != \"\"):\n",
        "        words.append(currWord)\n",
        "  \n",
        "  return words\n",
        "\n",
        "\n",
        "###########################\n",
        "# Создание словаря - все слова, упорядоченные по частоте появления\n",
        "##########################\n",
        "def createVocabulary(allWords):\n",
        "  \n",
        "  #Создаём словарь, в котором будут слова и количество их поялвений во всём текста\n",
        "  #Ключи - все наши слова\n",
        "  #Количество появлений пока везде 0\n",
        "  wCount = dict.fromkeys(allWords, 0)\n",
        "\n",
        "  #Проходим по всем словам\n",
        "  for word in allWords:\n",
        "    wCount[word] += 1 #И увеличиаем количество появлений текущего слова на 1\n",
        "\n",
        "  #Выцепляем лист из словаря\n",
        "  wordsList = list(wCount.items())\n",
        "  #И сортируем по частоте появления\n",
        "  wordsList.sort(key = lambda i:i[1], reverse=1)\n",
        "  #key = lambda i:i[1] - говорит, что сортировать надо по частоте появления\n",
        "  #В i[0] у нас слово, в i[1] - частота появления\n",
        "  #reverse=1 говорить сортироваться по убыванию\n",
        "\n",
        "  sortedWords = [] #Тут будет лист всех отсортированных слов\n",
        "\n",
        "  #Проходим по всем словам в отсортированном списке\n",
        "  for word in wordsList:\n",
        "    sortedWords.append(word[0]) #Докидываем слово в лист отсортированных слов\n",
        "\n",
        "  #Это словарь слово - индекс\n",
        "  #Изначально заполнен всеми словами\n",
        "  #У всех индекс 0\n",
        "  wordIndexes = dict.fromkeys(allWords, 0)\n",
        "  #Проходим по всем словам\n",
        "  for word in wordIndexes.keys():\n",
        "    wordIndexes[word] = sortedWords.index(word)+1 #Ставим индекс = индекс слова в отсортированном листе слов + 1\n",
        "    #+1 потому, что индекс 0 резервируем под неопознанные слова\n",
        "\n",
        "  return wordIndexes\n",
        "\n",
        "\n",
        "###########################\n",
        "# Преобразования листа слов в лист индексов\n",
        "##########################\n",
        "def words2Indexes(words, vocabulary, maxWordsCount):\n",
        "  wordsIndexes = []\n",
        "  \n",
        "  #Идём по всем словая\n",
        "  for word in words:\n",
        "    \n",
        "    wordIndex = 0 #Тут будет индекс слова, изначально 0 - слово неопознано\n",
        "    wordInVocabulary = word in vocabulary #Проверяем, есть ли слово в словаре\n",
        "    \n",
        "    #Если слово есть в словаре\n",
        "    if (wordInVocabulary):\n",
        "      index = vocabulary[word] #Индекс = индексу слова в словаре\n",
        "      if (index < maxWordsCount): #Если индекс ниже maxWordsCount - черты отсечения слов\n",
        "        wordIndex = index #То записываем индекс\n",
        "      #Иначе останется значение 0\n",
        "        \n",
        "    wordsIndexes.append(wordIndex)\n",
        "    \n",
        "  return wordsIndexes\n",
        "\n",
        "\n",
        "###########################\n",
        "# Преобразование одного короткого вектора в вектор из 0 и 1\n",
        "# По принципу words bag\n",
        "##########################\n",
        "def changeXTo01(trainVector, wordsCount):\n",
        "  #Создаём вектор длины wordsCount с нулями\n",
        "  out = np.zeros(wordsCount)\n",
        "  \n",
        "  #Идём по всем индексам в строке\n",
        "  for x in trainVector:\n",
        "    out[x] = 1 #В позицию нужного индекса ставим 1\n",
        "    \n",
        "  return out\n",
        "\n",
        "\n",
        "###########################\n",
        "# Преобразование выборки (обучающей или проверочной) к виду 0 и 1\n",
        "# По принципу words bag\n",
        "##########################\n",
        "def changeSetTo01(trainSet, wordsCount):\n",
        "  out = []\n",
        "  \n",
        "  #Проходим по всем векторам в наборе\n",
        "  for x in trainSet:\n",
        "    out.append(changeXTo01(x, wordsCount)) #Добавляем в итоговый набор текущий вектор, преобразованный в bag of words\n",
        "    \n",
        "  return np.array(out)\n",
        "\n",
        "\n",
        "###########################\n",
        "# Формируем обучающую выборку из примечаний к квартирам\n",
        "# Пока в виде слов\n",
        "##########################\n",
        "def getXTrainComments(data):\n",
        "  xTrainComments = [] #Тут будет обучающся выборка\n",
        "  allTextComments = \"\" #Тут будуте все тексты вместе для словаря\n",
        "  \n",
        "  #Идём по всем строкам квартир в базе\n",
        "  for d in data:\n",
        "    currText = getComment(d) #Вытаскиваем примечание к квартире\n",
        "    try: \n",
        "      if (currText == currText): #Проверяем на nan\n",
        "        allTextComments += currText + \" \" #Добавляем текст в общий текст для словаря\n",
        "    except:\n",
        "      currText = \"Нет комментария\" #Если не получается, то делаем стандартный текст \"Нет комментария\"\n",
        "    xTrainComments.append(currText) #Добавляем примечание новой строкой в обучающую выборку\n",
        "  \n",
        "  xTrainComments = np.array(xTrainComments)\n",
        "  \n",
        "  return (xTrainComments, allTextComments)\n",
        "\n",
        "###########################\n",
        "# Формируем обучающую выборку из примечаний к квартирам\n",
        "# Теперь в виде индексов\n",
        "##########################\n",
        "def changeSetToIndexes(xTrainComments, vocabulary, maxWordsCount):\n",
        "  xTrainCommentsIndexes = [] #Тут будет итоговый xTrain примечаний в виде индексов\n",
        "  \n",
        "  #Идём по всем текстам\n",
        "  for text in xTrainComments:\n",
        "    currWords = text2Words(text) #Разбиваем текст на слова\n",
        "    currIndexes = words2Indexes(currWords, vocabulary, maxWordsCount) #Превращаем в лист индексов\n",
        "    currIndexes = np.array(currIndexes)\n",
        "    xTrainCommentsIndexes.append(currIndexes) #Добавляем в xTrain\n",
        "  \n",
        "  xTrainCommentsIndexes = np.array(xTrainCommentsIndexes)\n",
        "  xTrainCommentsIndexes = changeSetTo01(xTrainCommentsIndexes, maxWordsCount) #Превращаем в формат bag of words\n",
        "  return xTrainCommentsIndexes\n",
        "\n",
        "###########################\n",
        "# Формируем обучающую выборку из примечаний к квартирам\n",
        "# Теперь в виде индексов\n",
        "# И с приведением к стандартной длине всех векторов - cropLen\n",
        "##########################\n",
        "def changeSetToIndexesCrop(xTrainComments, vocabulary, maxWordsCount, cropLen):\n",
        "  xTrainCommentsIndexes = [] #Тут будет итоговый xTrain примечаний в виде индексов\n",
        "  \n",
        "  #Идём по всем текстам\n",
        "  for text in xTrainComments:\n",
        "    currWords = text2Words(text) #Разбиваем текст на слова\n",
        "    currIndexes = words2Indexes(currWords, vocabulary, maxWordsCount) #Превращаем в лист индексов\n",
        "    currIndexes = np.array(currIndexes)\n",
        "    xTrainCommentsIndexes.append(currIndexes) #Добавляем в xTrain\n",
        "  \n",
        "  xTrainCommentsIndexes = np.array(xTrainCommentsIndexes)\n",
        "  xTrainCommentsIndexes = pad_sequences(xTrainCommentsIndexes, maxlen=cropLen) #Приводим все вектора к стандартной длине\n",
        "  return xTrainCommentsIndexes"
      ],
      "execution_count": null,
      "outputs": []
    },
    {
      "cell_type": "markdown",
      "metadata": {
        "id": "sQgYwsq-SN02"
      },
      "source": [
        "##Формируем обучающую выборку по текстам"
      ]
    },
    {
      "cell_type": "code",
      "metadata": {
        "id": "9CF4U8dqRfOA"
      },
      "source": [
        "xTrainC, allTextComments = getXTrainComments(data1) #Создаём обучающую выборку по текстам и большой текст для словаря\n",
        "allWords = text2Words(allTextComments) #Собираем полный текст в слова\n",
        "allWords = allWords[::10] #Берём 10% слов (иначе словарь слишком долго формируется)\n",
        "vocabulary = createVocabulary(allWords) #Создаём словарь\n",
        "xTrainC01 = changeSetToIndexes(xTrainC, vocabulary, 2000) #Преобразеум xTrain в bag of words"
      ],
      "execution_count": null,
      "outputs": []
    },
    {
      "cell_type": "code",
      "metadata": {
        "id": "zitqaYojSm5t",
        "colab": {
          "base_uri": "https://localhost:8080/",
          "height": 68
        },
        "outputId": "49540a87-e05a-4ee7-9917-b09c4d6e25f5"
      },
      "source": [
        "#Выводим размеры обучающей выборки\n",
        "#Чтобы проверить, что мы всё правильно собрали\n",
        "print(xTrain.shape)\n",
        "print(xTrainC01.shape)\n",
        "print(yTrain.shape)"
      ],
      "execution_count": null,
      "outputs": [
        {
          "output_type": "stream",
          "text": [
            "(62504, 109)\n",
            "(62504, 2000)\n",
            "(62504,)\n"
          ],
          "name": "stdout"
        }
      ]
    },
    {
      "cell_type": "markdown",
      "metadata": {
        "id": "VY-hiT16S-z0"
      },
      "source": [
        "##Нормировка данных"
      ]
    },
    {
      "cell_type": "code",
      "metadata": {
        "id": "RN9grqXkTFS5",
        "colab": {
          "base_uri": "https://localhost:8080/",
          "height": 493
        },
        "outputId": "becebdf8-173c-4e8f-b50e-0a1c2670d638"
      },
      "source": [
        "#Нормируем размер квартиры в xTrain\n",
        "xScaler = StandardScaler() #Создаём нормировщик нормальным распределением\n",
        "xScaler.fit(xTrain[:,-1].reshape(-1, 1)) #Обучаем его на площадях квартир (последня колонка в xTrain)\n",
        "xTrainScaled = xTrain.copy()\n",
        "xTrainScaled[:,-1] = xScaler.transform(xTrain[:,-1].reshape(-1, 1)).flatten() #Нормируем данные нормировщиком\n",
        "\n",
        "#Выводим размер и два примера для сравнения\n",
        "#Не нормированных данных и нормированных\n",
        "print(xTrainScaled.shape)\n",
        "print(xTrain[0])\n",
        "print(xTrainScaled[0])"
      ],
      "execution_count": null,
      "outputs": [
        {
          "output_type": "stream",
          "text": [
            "(62504, 109)\n",
            "[ 0.   1.   0.   0.   0.   0.   0.   0.   0.   0.   0.   0.   0.   0.\n",
            "  0.   0.   0.   0.   0.   0.   0.   0.   0.   0.   0.   0.   0.   0.\n",
            "  0.   0.   0.   0.   1.   0.   0.   0.   0.   1.   0.   0.   0.   0.\n",
            "  1.   0.   0.   0.   0.   0.   0.   0.   0.   0.   0.   0.   0.   0.\n",
            "  0.   0.   0.   0.   0.   0.   0.   0.   1.   0.   0.   0.   0.   1.\n",
            "  0.   0.   1.   0.   0.   0.   0.   0.   1.   0.   0.   0.   0.   0.\n",
            "  0.   0.   0.   0.   0.   0.   0.   0.   0.   0.   0.   1.   0.   0.\n",
            "  0.   0.   0.   0.   0.   0.   0.   0.   0.   0.  64.1]\n",
            "[0.         1.         0.         0.         0.         0.\n",
            " 0.         0.         0.         0.         0.         0.\n",
            " 0.         0.         0.         0.         0.         0.\n",
            " 0.         0.         0.         0.         0.         0.\n",
            " 0.         0.         0.         0.         0.         0.\n",
            " 0.         0.         1.         0.         0.         0.\n",
            " 0.         1.         0.         0.         0.         0.\n",
            " 1.         0.         0.         0.         0.         0.\n",
            " 0.         0.         0.         0.         0.         0.\n",
            " 0.         0.         0.         0.         0.         0.\n",
            " 0.         0.         0.         0.         1.         0.\n",
            " 0.         0.         0.         1.         0.         0.\n",
            " 1.         0.         0.         0.         0.         0.\n",
            " 1.         0.         0.         0.         0.         0.\n",
            " 0.         0.         0.         0.         0.         0.\n",
            " 0.         0.         0.         0.         0.         1.\n",
            " 0.         0.         0.         0.         0.         0.\n",
            " 0.         0.         0.         0.         0.         0.\n",
            " 1.28438086]\n"
          ],
          "name": "stdout"
        }
      ]
    },
    {
      "cell_type": "code",
      "metadata": {
        "id": "VNAO0iZ2TMY1",
        "colab": {
          "base_uri": "https://localhost:8080/",
          "height": 102
        },
        "outputId": "514b2d97-82d9-4823-cd39-92ba4e206332"
      },
      "source": [
        "#Нормируем выход сети - цену квартиры\n",
        "yScaler = StandardScaler() #Делаем нормальный нормировщик\n",
        "yScaler.fit(yTrain.reshape(-1, 1)) #Обучаем на ценах квартир\n",
        "yTrainScaled = yScaler.transform(yTrain.reshape(-1, 1)) #Нормируем цены квартир\n",
        "\n",
        "#Выводим размер и два примера для сравнения\n",
        "#Не нормированных данных и нормированных\n",
        "print(yTrainScaled.shape)\n",
        "print(yTrain[0])\n",
        "print(yTrainScaled[0])\n",
        "\n",
        "print(min(yTrain), max(yTrain))\n",
        "print(min(yTrainScaled), max(yTrainScaled))"
      ],
      "execution_count": null,
      "outputs": [
        {
          "output_type": "stream",
          "text": [
            "(62504, 1)\n",
            "19500000.0\n",
            "[0.45013]\n",
            "1500000.0 3000000015.0\n",
            "[-0.3458729] [132.25494456]\n"
          ],
          "name": "stdout"
        }
      ]
    },
    {
      "cell_type": "markdown",
      "metadata": {
        "id": "FOxuXmfjUB3Q"
      },
      "source": [
        "##Формируем проверочную выборку"
      ]
    },
    {
      "cell_type": "code",
      "metadata": {
        "id": "c4pXf0nvUHIR"
      },
      "source": [
        "splitVal = 0.2 #Процент, который выделяем в проверочную выборку\n",
        "valMask = np.random.sample(xTrainScaled.shape[0]) < splitVal #Создаём маску True-False для создания проверочной выборки"
      ],
      "execution_count": null,
      "outputs": []
    },
    {
      "cell_type": "code",
      "metadata": {
        "id": "okw2jWoxUd8U"
      },
      "source": [
        "#сохраним готовые массивы\n",
        "np.save('/content/drive/My Drive/my_sample_data/Д.З.19/xTrainScaled',xTrainScaled)\n",
        "np.save('/content/drive/My Drive/my_sample_data/Д.З.19/xTrainC01',xTrainC01)\n",
        "np.save('/content/drive/My Drive/my_sample_data/Д.З.19/yTrainScaled',yTrainScaled)"
      ],
      "execution_count": null,
      "outputs": []
    },
    {
      "cell_type": "markdown",
      "metadata": {
        "id": "exPtGmwmWAKp"
      },
      "source": [
        "##Нейронная сеть"
      ]
    },
    {
      "cell_type": "code",
      "metadata": {
        "id": "De5_0UYgWDAL"
      },
      "source": [
        "def on_epoch_end(epoch, logs):\n",
        "  pred = model.predict([xTrainScaled[valMask], xTrainC01[valMask]]) #Получаем выход сети на проверочно выборке\n",
        "  predUnscaled = yScaler.inverse_transform(pred).flatten() #Делаем обратное нормирование выхода к изначальным величинам цен квартир\n",
        "  yTrainUnscaled = yScaler.inverse_transform(yTrainScaled[valMask]).flatten() #Делаем такое же обратное нормирование yTrain к базовым ценам\n",
        "  delta = predUnscaled - yTrainUnscaled #Считаем разность предсказания и правильных цен\n",
        "  absDelta = abs(delta) #Берём модуль отклонения\n",
        "  print(\"Эпоха\", epoch, \"модуль ошибки\", round(sum(absDelta) / (1e+6 * len(absDelta)),3)) #Выводим усреднённую ошибку в миллионах рублей\n",
        "\n",
        "# Коллбэки\n",
        "pltMae = LambdaCallback(on_epoch_end=on_epoch_end)"
      ],
      "execution_count": null,
      "outputs": []
    },
    {
      "cell_type": "code",
      "metadata": {
        "id": "yTqsbif4WgTH",
        "colab": {
          "base_uri": "https://localhost:8080/",
          "height": 1000
        },
        "outputId": "c153854b-c189-42d7-8272-00974f6fbdea"
      },
      "source": [
        "#Простая Dense сеть\n",
        "input1 = Input((xTrainScaled.shape[1],))\n",
        "input2 = Input((xTrainC01.shape[1],))\n",
        "\n",
        "x1 = Dense(10, activation=\"relu\")(input1)\n",
        "x2 = Dense(250, activation=\"relu\")(input2)\n",
        "\n",
        "x = concatenate([x1, x2])\n",
        "\n",
        "x = Dense(100, activation='relu')(x)\n",
        "x = Dense(10, activation='relu')(x)\n",
        "x = Dense(1, activation='linear')(x)\n",
        "\n",
        "model = Model((input1, input2), x)\n",
        "\n",
        "model.compile(optimizer=Adam(lr=1e-3), loss='mse')\n",
        "history = model.fit([xTrainScaled[~valMask], xTrainC01[~valMask]], \n",
        "                    yTrainScaled[~valMask], \n",
        "                    epochs=20, \n",
        "                    validation_data=([xTrainScaled[valMask], xTrainC01[valMask]], \n",
        "                    yTrainScaled[valMask]), \n",
        "                    verbose=0,\n",
        "                    callbacks=[pltMae])\n",
        "\n",
        "print()\n",
        "print('Меняем шаг обучения на 1e-4')\n",
        "model.compile(optimizer=Adam(lr=1e-4), loss='mse')\n",
        "history = model.fit([xTrainScaled[~valMask], xTrainC01[~valMask]], \n",
        "                    yTrainScaled[~valMask], \n",
        "                    epochs=40, \n",
        "                    validation_data=([xTrainScaled[valMask], xTrainC01[valMask]], \n",
        "                    yTrainScaled[valMask]), \n",
        "                    verbose=0,\n",
        "                    callbacks=[pltMae])\n",
        "\n",
        "print()\n",
        "print('Меняем шаг обучения на 1e-5')\n",
        "model.compile(optimizer=Adam(lr=1e-5), loss='mse')\n",
        "history = model.fit([xTrainScaled[~valMask], xTrainC01[~valMask]], \n",
        "                    yTrainScaled[~valMask], \n",
        "                    epochs=40, \n",
        "                    validation_data=([xTrainScaled[valMask], xTrainC01[valMask]], \n",
        "                    yTrainScaled[valMask]), \n",
        "                    verbose=0,\n",
        "                    callbacks=[pltMae])\n",
        "\n",
        "#print()\n",
        "#print('Меняем шаг обучения на 1e-6')\n",
        "#model.compile(optimizer=Adam(lr=1e-6), loss='mse')\n",
        "#history = model.fit([xTrainScaled[~valMask], xTrainC01[~valMask]], \n",
        "#                    yTrainScaled[~valMask], \n",
        "#                    epochs=40, \n",
        "#                    validation_data=([xTrainScaled[valMask], xTrainC01[valMask]], \n",
        "#                    yTrainScaled[valMask]), \n",
        "#                    verbose=0,\n",
        "#                    callbacks=[pltMae])\n",
        "\n",
        "#print()\n",
        "#print('Меняем шаг обучения на 1e-7')\n",
        "#model.compile(optimizer=Adam(lr=1e-7), loss='mse')\n",
        "#history = model.fit([xTrainScaled[~valMask], xTrainC01[~valMask]], \n",
        "#                    yTrainScaled[~valMask], \n",
        "#                    epochs=40, \n",
        "#                    validation_data=([xTrainScaled[valMask], xTrainC01[valMask]], \n",
        "#                    yTrainScaled[valMask]), \n",
        "#                    verbose=0,\n",
        "#                    callbacks=[pltMae])\n",
        "\n",
        "\n",
        "\n",
        "\n",
        "#Проверяем результаты\n",
        "pred = model.predict([xTrainScaled[valMask], xTrainC01[valMask]]) #Полуаем выход сети на проверочной выборке\n",
        "predUnscaled = yScaler.inverse_transform(pred).flatten() #Делаем обратное нормирование выхода к изначальным величинам цен квартир\n",
        "yTrainUnscaled = yScaler.inverse_transform(yTrainScaled[valMask]).flatten() #Делаем такое же обратное нормирование yTrain к базовым ценам\n",
        "delta = predUnscaled - yTrainUnscaled #Считаем разность предсказания и правильных цен\n",
        "absDelta = abs(delta) #Берём модуль отклонения\n",
        "print(\"Модуль ошибки\", sum(absDelta) / (1e+6 * len(absDelta))) #Выводим усреднённую ошибку в миллионах рублей\n",
        "\n",
        "#ВЫводим графики ошибки\n",
        "plt.plot(history.history['loss'], \n",
        "         label='Средняя абсолютная ошибка на обучающем наборе')\n",
        "plt.plot(history.history['val_loss'], \n",
        "         label='Средняя абсолютная ошибка на проверочном наборе')\n",
        "plt.xlabel('Эпоха обучения')\n",
        "plt.ylabel('Средняя абсолютная ошибка')\n",
        "plt.legend()\n",
        "plt.show()"
      ],
      "execution_count": null,
      "outputs": [
        {
          "output_type": "stream",
          "text": [
            "Эпоха 0 модуль ошибки 1.749\n",
            "Эпоха 1 модуль ошибки 3.701\n",
            "Эпоха 2 модуль ошибки 1.435\n",
            "Эпоха 3 модуль ошибки 1.288\n",
            "Эпоха 4 модуль ошибки 1.709\n",
            "Эпоха 5 модуль ошибки 1.199\n",
            "Эпоха 6 модуль ошибки 1.132\n",
            "Эпоха 7 модуль ошибки 1.264\n",
            "Эпоха 8 модуль ошибки 1.215\n",
            "Эпоха 9 модуль ошибки 1.067\n",
            "Эпоха 10 модуль ошибки 1.298\n",
            "Эпоха 11 модуль ошибки 1.185\n",
            "Эпоха 12 модуль ошибки 1.667\n",
            "Эпоха 13 модуль ошибки 1.098\n",
            "Эпоха 14 модуль ошибки 1.205\n",
            "Эпоха 15 модуль ошибки 1.128\n",
            "Эпоха 16 модуль ошибки 1.212\n",
            "Эпоха 17 модуль ошибки 1.1\n",
            "Эпоха 18 модуль ошибки 1.05\n",
            "Эпоха 19 модуль ошибки 1.524\n",
            "\n",
            "Меняем шаг обучения на 1e-4\n",
            "Эпоха 0 модуль ошибки 0.98\n",
            "Эпоха 1 модуль ошибки 0.95\n",
            "Эпоха 2 модуль ошибки 0.976\n",
            "Эпоха 3 модуль ошибки 0.933\n",
            "Эпоха 4 модуль ошибки 0.921\n",
            "Эпоха 5 модуль ошибки 0.917\n",
            "Эпоха 6 модуль ошибки 0.932\n",
            "Эпоха 7 модуль ошибки 0.921\n",
            "Эпоха 8 модуль ошибки 0.913\n",
            "Эпоха 9 модуль ошибки 0.908\n",
            "Эпоха 10 модуль ошибки 0.911\n",
            "Эпоха 11 модуль ошибки 0.908\n",
            "Эпоха 12 модуль ошибки 0.916\n",
            "Эпоха 13 модуль ошибки 0.913\n",
            "Эпоха 14 модуль ошибки 0.91\n",
            "Эпоха 15 модуль ошибки 0.904\n",
            "Эпоха 16 модуль ошибки 0.93\n",
            "Эпоха 17 модуль ошибки 0.947\n",
            "Эпоха 18 модуль ошибки 0.903\n",
            "Эпоха 19 модуль ошибки 0.927\n",
            "Эпоха 20 модуль ошибки 0.898\n",
            "Эпоха 21 модуль ошибки 0.899\n",
            "Эпоха 22 модуль ошибки 0.893\n",
            "Эпоха 23 модуль ошибки 0.91\n",
            "Эпоха 24 модуль ошибки 0.893\n",
            "Эпоха 25 модуль ошибки 0.906\n",
            "Эпоха 26 модуль ошибки 0.896\n",
            "Эпоха 27 модуль ошибки 0.902\n",
            "Эпоха 28 модуль ошибки 0.895\n",
            "Эпоха 29 модуль ошибки 0.892\n",
            "Эпоха 30 модуль ошибки 0.921\n",
            "Эпоха 31 модуль ошибки 0.899\n",
            "Эпоха 32 модуль ошибки 0.898\n",
            "Эпоха 33 модуль ошибки 0.897\n",
            "Эпоха 34 модуль ошибки 0.904\n",
            "Эпоха 35 модуль ошибки 0.907\n",
            "Эпоха 36 модуль ошибки 0.888\n",
            "Эпоха 37 модуль ошибки 0.894\n",
            "Эпоха 38 модуль ошибки 0.892\n",
            "Эпоха 39 модуль ошибки 0.895\n",
            "\n",
            "Меняем шаг обучения на 1e-5\n",
            "Эпоха 0 модуль ошибки 0.883\n",
            "Эпоха 1 модуль ошибки 0.882\n",
            "Эпоха 2 модуль ошибки 0.881\n",
            "Эпоха 3 модуль ошибки 0.882\n",
            "Эпоха 4 модуль ошибки 0.88\n",
            "Эпоха 5 модуль ошибки 0.882\n",
            "Эпоха 6 модуль ошибки 0.881\n",
            "Эпоха 7 модуль ошибки 0.88\n",
            "Эпоха 8 модуль ошибки 0.881\n",
            "Эпоха 9 модуль ошибки 0.884\n",
            "Эпоха 10 модуль ошибки 0.88\n",
            "Эпоха 11 модуль ошибки 0.881\n",
            "Эпоха 12 модуль ошибки 0.884\n",
            "Эпоха 13 модуль ошибки 0.881\n",
            "Эпоха 14 модуль ошибки 0.887\n",
            "Эпоха 15 модуль ошибки 0.889\n",
            "Эпоха 16 модуль ошибки 0.879\n",
            "Эпоха 17 модуль ошибки 0.884\n",
            "Эпоха 18 модуль ошибки 0.88\n",
            "Эпоха 19 модуль ошибки 0.881\n",
            "Эпоха 20 модуль ошибки 0.881\n",
            "Эпоха 21 модуль ошибки 0.881\n",
            "Эпоха 22 модуль ошибки 0.88\n",
            "Эпоха 23 модуль ошибки 0.881\n",
            "Эпоха 24 модуль ошибки 0.879\n",
            "Эпоха 25 модуль ошибки 0.881\n",
            "Эпоха 26 модуль ошибки 0.88\n",
            "Эпоха 27 модуль ошибки 0.881\n",
            "Эпоха 28 модуль ошибки 0.879\n",
            "Эпоха 29 модуль ошибки 0.88\n",
            "Эпоха 30 модуль ошибки 0.879\n",
            "Эпоха 31 модуль ошибки 0.881\n",
            "Эпоха 32 модуль ошибки 0.879\n",
            "Эпоха 33 модуль ошибки 0.88\n",
            "Эпоха 34 модуль ошибки 0.883\n",
            "Эпоха 35 модуль ошибки 0.882\n",
            "Эпоха 36 модуль ошибки 0.881\n",
            "Эпоха 37 модуль ошибки 0.881\n",
            "Эпоха 38 модуль ошибки 0.88\n",
            "Эпоха 39 модуль ошибки 0.882\n",
            "Модуль ошибки 0.8816271552097675\n"
          ],
          "name": "stdout"
        },
        {
          "output_type": "display_data",
          "data": {
            "image/png": "[encoded data removed]",
            "text/plain": [
              "<Figure size 432x288 with 1 Axes>"
            ]
          },
          "metadata": {
            "tags": [],
            "needs_background": "light"
          }
        }
      ]
    },
    {
      "cell_type": "markdown",
      "metadata": {
        "id": "n1VmRR8PshA7"
      },
      "source": [
        "**В задаче Light фактически повторили нейронку с вебинара на основе шаблона с готовыми функциями парсинга и подготовки данных.\n",
        "Пытался я запустить нейронку со всеми данными, но из-за нехватки памяти запускал как в вебинаре  - только по однушкам.** \n",
        "\n",
        "**Далее в задании Pro будем делать собственную функцию callback**\n",
        "\n",
        "\n"
      ]
    },
    {
      "cell_type": "markdown",
      "metadata": {
        "id": "frrviBs1-gcH"
      },
      "source": [
        "##PRO задание. Вариант 3##\n",
        "\n",
        "В одной из баз - hh или **квартиры**, сделайте callback, который будет выводить на каждой эпохе:\n",
        "\n",
        "1. Текущую mae\n",
        "2. График mae по всем эпохам на обучающей и проверочная выборках\n",
        "3. Текущий scatter\n",
        "4. Текущую гистограмму ошибок\n",
        "5. Время обучения на эпохе, время обучения суммарное и сколько времени остаётся до конца обучения\n",
        "6. Изменял бы шаг обучения, если начинается “пила” или mae выходит на плато\n",
        "7. Сохраняет в .h5 сеть с лучшей точностью\n",
        "\n",
        "*желательно использовать clear_output и verbose=0\n",
        "\n",
        "**callback должен быть самописный, нельзя использовать готовые"
      ]
    },
    {
      "cell_type": "code",
      "metadata": {
        "id": "xPCUv5aDKcB-",
        "colab": {
          "base_uri": "https://localhost:8080/",
          "height": 68
        },
        "outputId": "21ba4f82-12da-4355-88ed-6fadd45dba3a"
      },
      "source": [
        "#загрузим готовые массивы, подготовленные в Light с диска\n",
        "#xTrainScaled = np.load('/content/drive/My Drive/my_sample_data/Д.З.19/xTrainScaled.npy')\n",
        "#xTrainC01 = np.load('/content/drive/My Drive/my_sample_data/Д.З.19/xTrainC01.npy')\n",
        "#yTrainScaled = np.load('/content/drive/My Drive/my_sample_data/Д.З.19/yTrainScaled.npy')\n",
        "\n",
        "#print(xTrainScaled.shape)\n",
        "#print(xTrainC01.shape)\n",
        "#print(yTrainScaled.shape)"
      ],
      "execution_count": null,
      "outputs": [
        {
          "output_type": "stream",
          "text": [
            "(62504, 109)\n",
            "(62504, 2000)\n",
            "(62504, 1)\n"
          ],
          "name": "stdout"
        }
      ]
    },
    {
      "cell_type": "markdown",
      "metadata": {
        "id": "tAXC3kFgN1z3"
      },
      "source": [
        "##Callback"
      ]
    },
    {
      "cell_type": "code",
      "metadata": {
        "id": "4VzHP3mHcph_"
      },
      "source": [
        "###################################################\n",
        "# Колбэк отображающий информацию о времени обучения\n",
        "###################################################\n",
        "class Times_Monitor(Callback):\n",
        "  \n",
        "  def __init__(self):\n",
        "    #Запоминаем стартовое время начала работы\n",
        "    self.start_datetime = datetime.datetime.now()\n",
        "    #print(self.start_datetime)\n",
        "\n",
        "\n",
        "  def on_epoch_begin(self, epoch, logs={}):\n",
        "    self.epoch_time_start = time.time()  #запоминаем время начала эпохи\n",
        "    #print(self.epoch_time_start)\n",
        "\n",
        "  def on_epoch_end(self, epoch, logs=None):\n",
        "    #print(logs)\n",
        "    \n",
        "    # Время обучения на эпохе, время обучения суммарное и сколько времени остаётся до конца обучения\n",
        "    current_datetime = datetime.datetime.now()\n",
        "    diff = current_datetime - self.start_datetime  \n",
        "    avg_time_per_epoch = (diff / (epoch + 1))\n",
        "    left_epochs = (self.params['epochs'] - (epoch + 1))\n",
        "    left_time = avg_time_per_epoch * left_epochs\n",
        "\n",
        "    clear_output()\n",
        "    print('Эпоха: {:>3.0f}'.format(epoch), \\\n",
        "          '  Прошло со старта,сек: {:>5.2f}'.format(diff.total_seconds()), \\\n",
        "          '  Среднее время на эпоху,сек: {:>5.2f}'.format(avg_time_per_epoch.total_seconds()), \\\n",
        "          '  Осталось эпох: {:>3.0f}'.format(left_epochs), \\\n",
        "          '  Осталось,сек: {:>5.2f}'.format(left_time.total_seconds()))\n",
        "    print('')\n",
        "\n",
        "\n",
        "######################################################################\n",
        "# Колбэк выводящий текущую mae, рисующий графики, и сохраняющий модель\n",
        "######################################################################\n",
        "class MAE_etc(Callback):\n",
        "\n",
        "  def __init__(self): \n",
        "    self.mae_list = []\n",
        "    self.val_mae_list = []\n",
        "\n",
        "  @staticmethod\n",
        "  def get_mae(train_or_validation):\n",
        "    if (train_or_validation):\n",
        "      mask = ~valMask\n",
        "    else:\n",
        "      mask = valMask\n",
        "    pred =  model.predict([xTrainScaled[mask], xTrainC01[mask]])             #Получаем выход сети на выборке\n",
        "    predUnscaled = yScaler.inverse_transform(pred).flatten()                 #Делаем обратное нормирование выхода\n",
        "    yTrainUnscaled = yScaler.inverse_transform(yTrainScaled[mask]).flatten() #Делаем такое же обратное нормирование yTrain\n",
        "    delta = predUnscaled - yTrainUnscaled                                    #Считаем разность предсказания и правильных цен\n",
        "    absDelta = abs(delta)                                                    #Берём модуль отклонения\n",
        "    mae = sum(absDelta) / (1e+6 * len(absDelta))\n",
        "    return mae  \n",
        " \n",
        "  def plot_mae(self):\n",
        "    plt.plot(self.mae_list, label='Средняя абсолютная ошибка на обучающем наборе')\n",
        "    plt.plot(self.val_mae_list, label='Средняя абсолютная ошибка на проверочном наборе')\n",
        "    plt.xlabel('Эпоха обучения')\n",
        "    plt.ylabel('Средняя абсолютная ошибка')\n",
        "    plt.legend()\n",
        "    plt.show()\n",
        "\n",
        "  @staticmethod\n",
        "  def plot_scatter_and_hist(train_or_validation):\n",
        "    if (train_or_validation):\n",
        "      mask = ~valMask\n",
        "    else:\n",
        "      mask = valMask    \n",
        "    pred = model.predict([xTrainScaled[mask], xTrainC01[mask]]) #Полуаем выход сети на проверочно выборке\n",
        "    predUnscaled = yScaler.inverse_transform(pred).flatten()    #Делаем обратное нормирование выхода\n",
        "    yTrainUnscaled = yScaler.inverse_transform(yTrainScaled[mask]).flatten() #Делаем такое же обратное нормирование yTrain \n",
        "    delta = predUnscaled - yTrainUnscaled #Считаем разность предсказания и правильных цен\n",
        "    absDelta = abs(delta) #Берём модуль отклонения\n",
        "    \n",
        "    plt.scatter(yTrainUnscaled[yTrainUnscaled<5e+7], predUnscaled[yTrainUnscaled<5e+7])\n",
        "    plt.xlabel('Правильные значение')\n",
        "    plt.ylabel('Предсказания')\n",
        "    plt.axis('equal')\n",
        "    plt.xlim(plt.xlim())\n",
        "    plt.ylim(plt.ylim())\n",
        "    plt.plot([-1e+8, 1e+9], [-1e+8, 1e+9])\n",
        "    plt.show()\n",
        "    \n",
        "    normalized_delta=abs(pred-yTrainScaled[valMask])\n",
        "    bins_norm=[0.01*i for i in range(20)] #Разбиваем значения ошибок на 20 интервалов длиной 0.01\n",
        "    plt.hist(normalized_delta.flatten(), bins = bins_norm)\n",
        "    plt.xlabel(\"Значение ошибки\")\n",
        "    plt.ylabel(\"Количество\")\n",
        "    plt.show()\n",
        "\n",
        "\n",
        "  def save_best_model(self):\n",
        "    if (len(self.val_mae_list) < 2):\n",
        "      model.save('best_net.h5')\n",
        "    else:\n",
        "      if (self.val_mae_list[-1] < np.array(self.val_mae_list[:-1]).min()):\n",
        "        model.save('best_net.h5')\n",
        "        print('Лучшая точность, сохраняем нейронку')\n",
        "\n",
        "\n",
        "  def on_epoch_end(self, epoch, logs):\n",
        "    mae = self.get_mae(1)\n",
        "    val_mae = self.get_mae(0)\n",
        "\n",
        "    self.mae_list.append(mae)\n",
        "    self.val_mae_list.append(val_mae)\n",
        "\n",
        "    curr_val_mae_list.append(mae)\n",
        "  \n",
        "    #clear_output()\n",
        "    \n",
        "    #Выводим усреднённую ошибку в миллионах рублей\n",
        "    print('Модуль ошибки на обучающей выборке: ', round(mae,2), \\\n",
        "          '  Модуль ошибки на проверочной выборке: ', round(val_mae,2))       \n",
        "    print('')\n",
        "\n",
        "    #рисуем графики\n",
        "    self.plot_scatter_and_hist(0)\n",
        "    self.plot_mae()\n",
        "\n",
        "    #и сохраняем модель\n",
        "    self.save_best_model()\n",
        "\n",
        "\n",
        "\n",
        "##########################################################\n",
        "# Функция изменения шага обучения\n",
        "\n",
        "a = [0.001]\n",
        "curr_val_mae_list = []\n",
        "\n",
        "def scheduler(epoch):\n",
        "\n",
        "  std = np.array(curr_val_mae_list[-5:]).std()\n",
        "  print(\"Среднеквадратичное отклонение\", round(std,4))\n",
        "  v = 0.001\n",
        "  if len(curr_val_mae_list) < 5:\n",
        "    return v\n",
        "  if (std > 0.2):\n",
        "    print(\"Пила, понижаем скорость\")\n",
        "    v=0.0001\n",
        "    a.append(0.0001)\n",
        "    return v\n",
        "  if (std < 0.002):\n",
        "    print(\"Плато, повышаем скорость\")\n",
        "    v = 0.01\n",
        "    a.append(0.01)\n",
        "    return v\n",
        "  else: return a[-1]\n",
        "\n",
        "\n",
        "Callback_LR = LearningRateScheduler(scheduler)\n",
        "\n",
        "  "
      ],
      "execution_count": null,
      "outputs": []
    },
    {
      "cell_type": "code",
      "metadata": {
        "id": "PGGwspTFNH4W"
      },
      "source": [
        "#Простая Dense сеть \n",
        "\n",
        "all_epohs = 20\n",
        "Lrate = 1e-3\n",
        "\n",
        "\n",
        "input1 = Input((xTrainScaled.shape[1],))\n",
        "input2 = Input((xTrainC01.shape[1],))\n",
        "\n",
        "x1 = Dense(10, activation=\"relu\")(input1)\n",
        "x2 = Dense(25, activation=\"relu\")(input2)\n",
        "\n",
        "x = concatenate([x1, x2])\n",
        "\n",
        "x = Dense(20, activation='relu')(x)\n",
        "#x = Dense(10, activation='relu')(x)\n",
        "x = Dense(1, activation='linear')(x)\n",
        "\n",
        "model = Model((input1, input2), x)"
      ],
      "execution_count": null,
      "outputs": []
    },
    {
      "cell_type": "code",
      "metadata": {
        "id": "oiJz1WnONty7",
        "colab": {
          "base_uri": "https://localhost:8080/",
          "height": 903
        },
        "outputId": "1727dc36-d771-4686-b807-4d3d4f386b6d"
      },
      "source": [
        "#Компилируем модель и запускаем обучение\n",
        "\n",
        "\n",
        "model.compile(optimizer=Adam(learning_rate=Lrate), loss='mse')\n",
        "history = model.fit([xTrainScaled[~valMask], xTrainC01[~valMask]], \n",
        "                    yTrainScaled[~valMask], \n",
        "                    epochs=all_epohs, \n",
        "                    validation_data=([xTrainScaled[valMask], xTrainC01[valMask]], \n",
        "                    yTrainScaled[valMask]), \n",
        "                    verbose=0,\n",
        "                    callbacks=[Times_Monitor(), MAE_etc(), Callback_LR]\n",
        "                    )\n",
        "\n",
        "\n"
      ],
      "execution_count": null,
      "outputs": [
        {
          "output_type": "stream",
          "text": [
            "Эпоха:  19   Прошло со старта,сек: 141.95   Среднее время на эпоху,сек:  7.10   Осталось эпох:   0   Осталось,сек:  0.00\n",
            "\n",
            "Модуль ошибки на обучающей выборке:  1.16   Модуль ошибки на проверочной выборке:  1.48\n",
            "\n"
          ],
          "name": "stdout"
        },
        {
          "output_type": "display_data",
          "data": {
            "image/png": "[encoded data removed]",
            "text/plain": [
              "<Figure size 432x288 with 1 Axes>"
            ]
          },
          "metadata": {
            "tags": [],
            "needs_background": "light"
          }
        },
        {
          "output_type": "display_data",
          "data": {
            "image/png": "[encoded data removed]",
            "text/plain": [
              "<Figure size 432x288 with 1 Axes>"
            ]
          },
          "metadata": {
            "tags": [],
            "needs_background": "light"
          }
        },
        {
          "output_type": "display_data",
          "data": {
            "image/png": "[encoded data removed]",
            "text/plain": [
              "<Figure size 432x288 with 1 Axes>"
            ]
          },
          "metadata": {
            "tags": [],
            "needs_background": "light"
          }
        },
        {
          "output_type": "stream",
          "text": [
            "Лучшая точность, сохраняем нейронку\n"
          ],
          "name": "stdout"
        }
      ]
    },
    {
      "cell_type": "markdown",
      "metadata": {
        "id": "aUv-ICjGbLiD"
      },
      "source": [
        "**Сделал через класс keras.callbacks.Callback. Разделил функционал на три колбэка.**"
      ]
    }
  ]
}