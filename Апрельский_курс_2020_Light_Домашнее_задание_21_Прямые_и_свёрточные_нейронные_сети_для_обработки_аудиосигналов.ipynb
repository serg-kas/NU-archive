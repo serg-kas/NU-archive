{
  "nbformat": 4,
  "nbformat_minor": 0,
  "metadata": {
    "accelerator": "GPU",
    "colab": {
      "name": "Апрельский курс-2020 Light. Домашнее задание 21. Прямые и свёрточные нейронные сети для обработки аудиосигналов",
      "provenance": [],
      "collapsed_sections": [],
      "include_colab_link": true
    },
    "kernelspec": {
      "display_name": "Python 3",
      "name": "python3"
    }
  },
  "cells": [
    {
      "cell_type": "markdown",
      "metadata": {
        "id": "view-in-github",
        "colab_type": "text"
      },
      "source": [
        "<a href=\"https://colab.research.google.com/github/serg-kas/NN-archive/blob/main/%D0%90%D0%BF%D1%80%D0%B5%D0%BB%D1%8C%D1%81%D0%BA%D0%B8%D0%B9_%D0%BA%D1%83%D1%80%D1%81_2020_Light_%D0%94%D0%BE%D0%BC%D0%B0%D1%88%D0%BD%D0%B5%D0%B5_%D0%B7%D0%B0%D0%B4%D0%B0%D0%BD%D0%B8%D0%B5_21_%D0%9F%D1%80%D1%8F%D0%BC%D1%8B%D0%B5_%D0%B8_%D1%81%D0%B2%D1%91%D1%80%D1%82%D0%BE%D1%87%D0%BD%D1%8B%D0%B5_%D0%BD%D0%B5%D0%B9%D1%80%D0%BE%D0%BD%D0%BD%D1%8B%D0%B5_%D1%81%D0%B5%D1%82%D0%B8_%D0%B4%D0%BB%D1%8F_%D0%BE%D0%B1%D1%80%D0%B0%D0%B1%D0%BE%D1%82%D0%BA%D0%B8_%D0%B0%D1%83%D0%B4%D0%B8%D0%BE%D1%81%D0%B8%D0%B3%D0%BD%D0%B0%D0%BB%D0%BE%D0%B2.ipynb\" target=\"_parent\"><img src=\"https://colab.research.google.com/assets/colab-badge.svg\" alt=\"Open In Colab\"/></a>"
      ]
    },
    {
      "cell_type": "markdown",
      "metadata": {
        "id": "2IAUhu3ecRU_"
      },
      "source": [
        "##Light задание. \n",
        "\n",
        "**Вариант 1**\n",
        "\n",
        "Использую шаблон ноутбука, напишите загрузку данных и распознавание стилей музыки с помощью Dense сети. Можно подсматривать в исходный ноутбук с занятия, но желательно писать код своими руками\n",
        "\n"
      ]
    },
    {
      "cell_type": "code",
      "metadata": {
        "id": "xWiCMHe2LPU4"
      },
      "source": [
        "#Подключаем библиотеки\n",
        "\n",
        "import numpy as np #Numpy массивы\n",
        "\n",
        "import librosa #Параметризация аудио\n",
        "\n",
        "from tensorflow.keras import utils #Для to_categorical\n",
        "from tensorflow.keras.optimizers import Adam, RMSprop #Оптимизаторы\n",
        "from tensorflow.keras.models import Sequential, Model #Два формата модели keras\n",
        "from tensorflow.keras.layers import concatenate, Input, Dense, Dropout, BatchNormalization, Flatten, Conv1D, Conv2D, MaxPooling2D, LSTM #Базовые слои\n",
        "\n",
        "from sklearn.model_selection import train_test_split #Разбиение на обучающую и проверочную выборку\n",
        "from sklearn.preprocessing import LabelEncoder, StandardScaler, MinMaxScaler #Для нормировки данных\n",
        "\n",
        "import matplotlib.pyplot as plt #Отображение графиков\n",
        "#Отрисовка графиков в ячейках collab\n",
        "%matplotlib inline\n",
        "\n",
        "from google.colab import files #Загрузка файлов\n",
        "import os #Работа с папками и файлами\n",
        "import zipfile #Для разархивации базы\n",
        "\n",
        "import time #Для подсчёта времени на обработку одного жанра\n",
        "\n",
        "#Отключаем предупреждения\n",
        "#import warnings\n",
        "#warnings.filterwarnings('ignore')"
      ],
      "execution_count": null,
      "outputs": []
    },
    {
      "cell_type": "code",
      "metadata": {
        "id": "RDvFcj3CjnxG",
        "outputId": "600862e6-bbba-40db-90d0-13a43f92a803",
        "colab": {
          "base_uri": "https://localhost:8080/",
          "height": 34
        }
      },
      "source": [
        "#Подключаем Google drive\n",
        "from google.colab import drive\n",
        "drive.mount('/content/drive')"
      ],
      "execution_count": null,
      "outputs": [
        {
          "output_type": "stream",
          "text": [
            "Drive already mounted at /content/drive; to attempt to forcibly remount, call drive.mount(\"/content/drive\", force_remount=True).\n"
          ],
          "name": "stdout"
        }
      ]
    },
    {
      "cell_type": "code",
      "metadata": {
        "id": "h_YQFujuobE5",
        "outputId": "af33b1d4-7d7e-4e16-d709-74d63d6908e5",
        "colab": {
          "base_uri": "https://localhost:8080/",
          "height": 51
        }
      },
      "source": [
        "#Разархивируем архив с базой\n",
        "z = zipfile.ZipFile('/content/drive/My Drive/my_sample_data/Д.З.21/genres.zip', 'r')\n",
        "z.extractall()\n",
        "\n",
        "#Задаём названия жанров\n",
        "#В архиве названия папок совпадают с названиями жанров\n",
        "genres = 'blues classical country disco hiphop jazz metal pop reggae rock'.split()\n",
        "print('Список жанров', genres)\n",
        "\n",
        "#Проверяем выгруженные папки\n",
        "!ls genres \n",
        "#!ls genres/blues"
      ],
      "execution_count": null,
      "outputs": [
        {
          "output_type": "stream",
          "text": [
            "Список жанров ['blues', 'classical', 'country', 'disco', 'hiphop', 'jazz', 'metal', 'pop', 'reggae', 'rock']\n",
            "blues  classical  country  disco  hiphop  jazz\tmetal  pop  reggae  rock\n"
          ],
          "name": "stdout"
        }
      ]
    },
    {
      "cell_type": "code",
      "metadata": {
        "id": "wfQ-PnDJMyVf"
      },
      "source": [
        "#Функция параметризации аудио\n",
        "def get_features(y, sr):\n",
        "  #Получаем различные параметры аудио\n",
        "  chroma_stft = np.mean(librosa.feature.chroma_stft(y=y, sr=sr)) #Частота цветности\n",
        "  #chroma_stft = librosa.feature.chroma_stft(y=y, sr=sr) \n",
        "  rmse = np.mean(librosa.feature.rmse(y=y)) #Среднеквадратичная амплитуда\n",
        "  spec_cent = np.mean(librosa.feature.spectral_centroid(y=y, sr=sr)) #Спектральный центроид\n",
        "  spec_bw = np.mean(librosa.feature.spectral_bandwidth(y=y, sr=sr)) #Спектральная ширина\n",
        "  rolloff = np.mean(librosa.feature.spectral_rolloff(y=y, sr=sr)) #Спектральный спад частоты\n",
        "  zcr = np.mean(librosa.feature.zero_crossing_rate(y)) #Пересечения нуля\n",
        "  mfcc = librosa.feature.mfcc(y=y, sr=sr) #Мел кепстральные коэффициенты\n",
        "  \n",
        "  #Добавляем все параметры в один список\n",
        "  out = []\n",
        "  out.append(chroma_stft)\n",
        "  out.append(rmse)\n",
        "  out.append(spec_cent)\n",
        "  out.append(spec_bw)\n",
        "  out.append(rolloff)\n",
        "  out.append(zcr)\n",
        "  \n",
        "  #По одному добавляем все Мел коэффициенты\n",
        "  for e in mfcc:\n",
        "    out.append(np.mean(e))\n",
        "\n",
        "  #добавляем среднее всех Частот цветности (12 значений)\n",
        "  #for e in chroma_stft:\n",
        "  #  out.append(np.mean(e))\n",
        "  \n",
        "  \n",
        "  #Возвращаем получившийся список\n",
        "  return out"
      ],
      "execution_count": null,
      "outputs": []
    },
    {
      "cell_type": "code",
      "metadata": {
        "id": "1vkodOL2M20p",
        "outputId": "c222aacf-0712-4f75-ab43-6c7e2373322e",
        "colab": {
          "base_uri": "https://localhost:8080/",
          "height": 357
        }
      },
      "source": [
        "#Формируем обучающую выборку\n",
        "\n",
        "#Создаём пустые листы\n",
        "X_train = []\n",
        "Y_train = []\n",
        "\n",
        "#Запоминаем время старта формирования выборки\n",
        "curr_time = time.time()\n",
        "\n",
        "#Проходим по всем жарнам\n",
        "for i in range(len(genres)):\n",
        "  g = genres[i] #Берём текущий жанр\n",
        "  print('Готовим ', g)\n",
        "  #Проходим по файлам папки, соответствующей текущему жанру\n",
        "  for filename in os.listdir(f'./genres/{g}'):\n",
        "    #Получаем имя песни\n",
        "    songname = f'./genres/{g}/{filename}'\n",
        "    #Загружаем в y аудиосигнал\n",
        "    #Используем первые 30 секунд аудио\n",
        "    y, sr = librosa.load(songname, mono=True, duration=30)\n",
        "    #Превращаем сигнал в параметризованные данные\n",
        "    out = get_features(y, sr)\n",
        "    \n",
        "    #Добавляем строку в X_train\n",
        "    X_train.append(out)\n",
        "    #Добавляем в Y_train номер жанра в формате ohe\n",
        "    Y_train.append(utils.to_categorical(i, len(genres)))\n",
        "\n",
        "  #Выводим информацию о готовности обработки базы\n",
        "  print(\"Жанр \", g, \" готов -> \", round(time.time() - curr_time), \"c\", sep=\"\")\n",
        "  curr_time = time.time()\n",
        "\n",
        "#Превращаем обучающую выборку на numpy массивы\n",
        "X_train = np.array(X_train)\n",
        "Y_train = np.array(Y_train)"
      ],
      "execution_count": null,
      "outputs": [
        {
          "output_type": "stream",
          "text": [
            "Готовим  blues\n",
            "Жанр blues готов -> 116c\n",
            "Готовим  classical\n",
            "Жанр classical готов -> 117c\n",
            "Готовим  country\n",
            "Жанр country готов -> 117c\n",
            "Готовим  disco\n",
            "Жанр disco готов -> 117c\n",
            "Готовим  hiphop\n",
            "Жанр hiphop готов -> 116c\n",
            "Готовим  jazz\n",
            "Жанр jazz готов -> 116c\n",
            "Готовим  metal\n",
            "Жанр metal готов -> 116c\n",
            "Готовим  pop\n",
            "Жанр pop готов -> 116c\n",
            "Готовим  reggae\n",
            "Жанр reggae готов -> 117c\n",
            "Готовим  rock\n",
            "Жанр rock готов -> 116c\n"
          ],
          "name": "stdout"
        }
      ]
    },
    {
      "cell_type": "code",
      "metadata": {
        "id": "3BgXpxnbw-kL"
      },
      "source": [
        "#Перейдем от ohe к нумерованной катергории Y_train\n",
        "y_train_class = np.argmax(Y_train, axis=1)\n",
        "#print(y_train_class)"
      ],
      "execution_count": null,
      "outputs": []
    },
    {
      "cell_type": "code",
      "metadata": {
        "id": "HgbJoLLDxSzV",
        "outputId": "61161a61-529f-4719-f70c-2a3aa11c5fc1",
        "colab": {
          "base_uri": "https://localhost:8080/",
          "height": 68
        }
      },
      "source": [
        "#Выводим размеры выборки\n",
        "print(X_train.shape)\n",
        "print(Y_train.shape)\n",
        "print(y_train_class.shape)"
      ],
      "execution_count": null,
      "outputs": [
        {
          "output_type": "stream",
          "text": [
            "(1000, 26)\n",
            "(1000, 10)\n",
            "(1000,)\n"
          ],
          "name": "stdout"
        }
      ]
    },
    {
      "cell_type": "code",
      "metadata": {
        "id": "umKQhhghuzZh"
      },
      "source": [
        "#сохраним готовые массивы\n",
        "#np.save('/content/drive/My Drive/my_sample_data/Д.З.21/X_train1', X_train)\n",
        "#np.save('/content/drive/My Drive/my_sample_data/Д.З.21/Y_train1', Y_train)\n",
        "#np.save('/content/drive/My Drive/my_sample_data/Д.З.21/y_train_class1', y_train_class)"
      ],
      "execution_count": null,
      "outputs": []
    },
    {
      "cell_type": "code",
      "metadata": {
        "id": "w-4XqRjrx0u6",
        "outputId": "f09b2360-615d-4f65-ae81-524cb8152b4f",
        "colab": {
          "base_uri": "https://localhost:8080/",
          "height": 68
        }
      },
      "source": [
        "#СКАЧАТЬ ГОТОВЫЕ ДАННЫЕ МОЖНО ТУТ\n",
        "X_train = np.load('/content/drive/My Drive/my_sample_data/Д.З.21/X_train1.npy')\n",
        "Y_train = np.load('/content/drive/My Drive/my_sample_data/Д.З.21/Y_train1.npy')\n",
        "y_train_class = np.load('/content/drive/My Drive/my_sample_data/Д.З.21/y_train_class1.npy')\n",
        "\n",
        "print(X_train.shape)\n",
        "print(Y_train.shape)\n",
        "print(y_train_class.shape)\n",
        "\n",
        "genres = ['blues', 'classical', 'country', 'disco', 'hiphop', 'jazz', 'metal', 'pop', 'reggae', 'rock']\n"
      ],
      "execution_count": null,
      "outputs": [
        {
          "output_type": "stream",
          "text": [
            "(1000, 26)\n",
            "(1000, 10)\n",
            "(1000,)\n"
          ],
          "name": "stdout"
        }
      ]
    },
    {
      "cell_type": "code",
      "metadata": {
        "id": "QtrmNMJf0x6M"
      },
      "source": [
        "#Создаём scaler экземпляр класса StandardScaler() для нормировки данных\n",
        "scaler = StandardScaler()\n",
        "#scaler = MinMaxScaler() \n",
        "#Номируем X_train\n",
        "X_train = scaler.fit_transform(X_train)"
      ],
      "execution_count": null,
      "outputs": []
    },
    {
      "cell_type": "code",
      "metadata": {
        "id": "XZAkSd2L0zvh",
        "outputId": "6592974d-79e9-40a3-e6e8-211dab9872d2",
        "colab": {
          "base_uri": "https://localhost:8080/",
          "height": 102
        }
      },
      "source": [
        "#Проверяем, что X_train нормировался\n",
        "print(X_train[0])"
      ],
      "execution_count": null,
      "outputs": [
        {
          "output_type": "stream",
          "text": [
            "[-1.06268812 -0.21870783  0.23653476 -0.06246315  0.27472304  0.51427612\n",
            "  0.23027605 -0.11004258 -0.49304669  0.70345379 -3.08208182  0.85447998\n",
            " -2.79811788 -0.19318686 -1.30463353 -0.20428536 -2.04903546  0.34584874\n",
            " -2.35684907 -0.37866986 -1.72007026 -1.32743392 -1.41636317 -0.66117584\n",
            "  0.14933772 -0.74753698]\n"
          ],
          "name": "stdout"
        }
      ]
    },
    {
      "cell_type": "code",
      "metadata": {
        "id": "wHqMmjna04rN"
      },
      "source": [
        "#Разделяем выборку на обучающую и проверочную\n",
        "#Для проверочной используем 10% примеров\n",
        "#Так как база маленькая\n",
        "X_train, X_test, y_train, y_test = train_test_split(X_train, y_train_class, test_size=0.1)"
      ],
      "execution_count": null,
      "outputs": []
    },
    {
      "cell_type": "code",
      "metadata": {
        "id": "GUPG4QJt0_y0",
        "outputId": "43fdb1c9-ac06-4b50-b99f-4709a9b8a01d",
        "colab": {
          "base_uri": "https://localhost:8080/",
          "height": 85
        }
      },
      "source": [
        "#Выводим размеры обучающей и проверочной выборки для проверки\n",
        "print(X_train.shape)\n",
        "print(y_train.shape)\n",
        "print(X_test.shape)\n",
        "print(y_test.shape)"
      ],
      "execution_count": null,
      "outputs": [
        {
          "output_type": "stream",
          "text": [
            "(900, 26)\n",
            "(900,)\n",
            "(100, 26)\n",
            "(100,)\n"
          ],
          "name": "stdout"
        }
      ]
    },
    {
      "cell_type": "code",
      "metadata": {
        "id": "8x5mQC0w1Wjs",
        "outputId": "04536169-c6af-4584-b2c8-37ca8f5d98bc",
        "colab": {
          "base_uri": "https://localhost:8080/",
          "height": 1000
        }
      },
      "source": [
        "\n",
        "#Создаём полносвязанную сеть \n",
        "model = Sequential()\n",
        "model.add(Dense(256, activation='elu', input_shape=(X_train.shape[1],)))\n",
        "model.add(Dense(128, activation='elu'))\n",
        "model.add(Dense(64, activation='elu'))\n",
        "model.add(Dense(32, activation='elu'))\n",
        "#В конце количество нейронов равно количеству классов и softmax\n",
        "model.add(Dense(len(genres), activation='softmax'))\n",
        "\n",
        "#Компилируем сеть\n",
        "model.compile(optimizer=RMSprop(lr=1e-4),\n",
        "              loss='sparse_categorical_crossentropy',\n",
        "              metrics=['accuracy'])\n",
        "\n",
        "#Обучаем\n",
        "history = model.fit(X_train,\n",
        "                    y_train,\n",
        "                    epochs=200,\n",
        "                    batch_size=20,\n",
        "                    validation_data=(X_test, y_test))\n",
        "\n",
        "#Выводим график точности распознавания на обучающей и проверочной выборках\n",
        "plt.plot(history.history[\"accuracy\"])\n",
        "plt.plot(history.history[\"val_accuracy\"])\n",
        "plt.show()"
      ],
      "execution_count": null,
      "outputs": [
        {
          "output_type": "stream",
          "text": [
            "Epoch 1/200\n",
            "45/45 [==============================] - 0s 7ms/step - loss: 2.1257 - accuracy: 0.2389 - val_loss: 1.7981 - val_accuracy: 0.3700\n",
            "Epoch 2/200\n",
            "45/45 [==============================] - 0s 4ms/step - loss: 1.8011 - accuracy: 0.3722 - val_loss: 1.5789 - val_accuracy: 0.4400\n",
            "Epoch 3/200\n",
            "45/45 [==============================] - 0s 4ms/step - loss: 1.6520 - accuracy: 0.3878 - val_loss: 1.4639 - val_accuracy: 0.4800\n",
            "Epoch 4/200\n",
            "45/45 [==============================] - 0s 4ms/step - loss: 1.5557 - accuracy: 0.4278 - val_loss: 1.3864 - val_accuracy: 0.4900\n",
            "Epoch 5/200\n",
            "45/45 [==============================] - 0s 4ms/step - loss: 1.4809 - accuracy: 0.4700 - val_loss: 1.3249 - val_accuracy: 0.5600\n",
            "Epoch 6/200\n",
            "45/45 [==============================] - 0s 4ms/step - loss: 1.4220 - accuracy: 0.4911 - val_loss: 1.2759 - val_accuracy: 0.5600\n",
            "Epoch 7/200\n",
            "45/45 [==============================] - 0s 4ms/step - loss: 1.3687 - accuracy: 0.5189 - val_loss: 1.2429 - val_accuracy: 0.5800\n",
            "Epoch 8/200\n",
            "45/45 [==============================] - 0s 4ms/step - loss: 1.3243 - accuracy: 0.5433 - val_loss: 1.1936 - val_accuracy: 0.5800\n",
            "Epoch 9/200\n",
            "45/45 [==============================] - 0s 4ms/step - loss: 1.2842 - accuracy: 0.5656 - val_loss: 1.1689 - val_accuracy: 0.6100\n",
            "Epoch 10/200\n",
            "45/45 [==============================] - 0s 4ms/step - loss: 1.2484 - accuracy: 0.5900 - val_loss: 1.1420 - val_accuracy: 0.6400\n",
            "Epoch 11/200\n",
            "45/45 [==============================] - 0s 4ms/step - loss: 1.2150 - accuracy: 0.6011 - val_loss: 1.1229 - val_accuracy: 0.6700\n",
            "Epoch 12/200\n",
            "45/45 [==============================] - 0s 4ms/step - loss: 1.1853 - accuracy: 0.6189 - val_loss: 1.1110 - val_accuracy: 0.6700\n",
            "Epoch 13/200\n",
            "45/45 [==============================] - 0s 4ms/step - loss: 1.1591 - accuracy: 0.6256 - val_loss: 1.0905 - val_accuracy: 0.6600\n",
            "Epoch 14/200\n",
            "45/45 [==============================] - 0s 4ms/step - loss: 1.1343 - accuracy: 0.6400 - val_loss: 1.0734 - val_accuracy: 0.6800\n",
            "Epoch 15/200\n",
            "45/45 [==============================] - 0s 4ms/step - loss: 1.1103 - accuracy: 0.6444 - val_loss: 1.0623 - val_accuracy: 0.6900\n",
            "Epoch 16/200\n",
            "45/45 [==============================] - 0s 4ms/step - loss: 1.0892 - accuracy: 0.6567 - val_loss: 1.0405 - val_accuracy: 0.7000\n",
            "Epoch 17/200\n",
            "45/45 [==============================] - 0s 4ms/step - loss: 1.0689 - accuracy: 0.6567 - val_loss: 1.0216 - val_accuracy: 0.6900\n",
            "Epoch 18/200\n",
            "45/45 [==============================] - 0s 4ms/step - loss: 1.0498 - accuracy: 0.6644 - val_loss: 1.0359 - val_accuracy: 0.7100\n",
            "Epoch 19/200\n",
            "45/45 [==============================] - 0s 4ms/step - loss: 1.0317 - accuracy: 0.6744 - val_loss: 1.0252 - val_accuracy: 0.7000\n",
            "Epoch 20/200\n",
            "45/45 [==============================] - 0s 4ms/step - loss: 1.0165 - accuracy: 0.6789 - val_loss: 1.0134 - val_accuracy: 0.6800\n",
            "Epoch 21/200\n",
            "45/45 [==============================] - 0s 4ms/step - loss: 1.0000 - accuracy: 0.6844 - val_loss: 1.0180 - val_accuracy: 0.7000\n",
            "Epoch 22/200\n",
            "45/45 [==============================] - 0s 4ms/step - loss: 0.9842 - accuracy: 0.6889 - val_loss: 1.0064 - val_accuracy: 0.7200\n",
            "Epoch 23/200\n",
            "45/45 [==============================] - 0s 4ms/step - loss: 0.9714 - accuracy: 0.6900 - val_loss: 0.9981 - val_accuracy: 0.7100\n",
            "Epoch 24/200\n",
            "45/45 [==============================] - 0s 4ms/step - loss: 0.9569 - accuracy: 0.6889 - val_loss: 0.9992 - val_accuracy: 0.7100\n",
            "Epoch 25/200\n",
            "45/45 [==============================] - 0s 4ms/step - loss: 0.9431 - accuracy: 0.6978 - val_loss: 0.9989 - val_accuracy: 0.6900\n",
            "Epoch 26/200\n",
            "45/45 [==============================] - 0s 4ms/step - loss: 0.9335 - accuracy: 0.7033 - val_loss: 1.0038 - val_accuracy: 0.7000\n",
            "Epoch 27/200\n",
            "45/45 [==============================] - 0s 4ms/step - loss: 0.9209 - accuracy: 0.7100 - val_loss: 0.9861 - val_accuracy: 0.7100\n",
            "Epoch 28/200\n",
            "45/45 [==============================] - 0s 4ms/step - loss: 0.9103 - accuracy: 0.7033 - val_loss: 0.9913 - val_accuracy: 0.6800\n",
            "Epoch 29/200\n",
            "45/45 [==============================] - 0s 4ms/step - loss: 0.8980 - accuracy: 0.7167 - val_loss: 0.9850 - val_accuracy: 0.6600\n",
            "Epoch 30/200\n",
            "45/45 [==============================] - 0s 4ms/step - loss: 0.8881 - accuracy: 0.7089 - val_loss: 0.9848 - val_accuracy: 0.6600\n",
            "Epoch 31/200\n",
            "45/45 [==============================] - 0s 4ms/step - loss: 0.8787 - accuracy: 0.7122 - val_loss: 0.9930 - val_accuracy: 0.6900\n",
            "Epoch 32/200\n",
            "45/45 [==============================] - 0s 4ms/step - loss: 0.8674 - accuracy: 0.7189 - val_loss: 0.9991 - val_accuracy: 0.7000\n",
            "Epoch 33/200\n",
            "45/45 [==============================] - 0s 4ms/step - loss: 0.8589 - accuracy: 0.7167 - val_loss: 0.9837 - val_accuracy: 0.6800\n",
            "Epoch 34/200\n",
            "45/45 [==============================] - 0s 4ms/step - loss: 0.8486 - accuracy: 0.7222 - val_loss: 0.9822 - val_accuracy: 0.6600\n",
            "Epoch 35/200\n",
            "45/45 [==============================] - 0s 4ms/step - loss: 0.8397 - accuracy: 0.7200 - val_loss: 0.9926 - val_accuracy: 0.7000\n",
            "Epoch 36/200\n",
            "45/45 [==============================] - 0s 4ms/step - loss: 0.8316 - accuracy: 0.7278 - val_loss: 0.9910 - val_accuracy: 0.6800\n",
            "Epoch 37/200\n",
            "45/45 [==============================] - 0s 4ms/step - loss: 0.8218 - accuracy: 0.7356 - val_loss: 0.9747 - val_accuracy: 0.7100\n",
            "Epoch 38/200\n",
            "45/45 [==============================] - 0s 4ms/step - loss: 0.8141 - accuracy: 0.7278 - val_loss: 0.9895 - val_accuracy: 0.7000\n",
            "Epoch 39/200\n",
            "45/45 [==============================] - 0s 4ms/step - loss: 0.8059 - accuracy: 0.7311 - val_loss: 0.9980 - val_accuracy: 0.6900\n",
            "Epoch 40/200\n",
            "45/45 [==============================] - 0s 4ms/step - loss: 0.7985 - accuracy: 0.7400 - val_loss: 0.9747 - val_accuracy: 0.6900\n",
            "Epoch 41/200\n",
            "45/45 [==============================] - 0s 4ms/step - loss: 0.7901 - accuracy: 0.7367 - val_loss: 0.9855 - val_accuracy: 0.6900\n",
            "Epoch 42/200\n",
            "45/45 [==============================] - 0s 4ms/step - loss: 0.7844 - accuracy: 0.7367 - val_loss: 1.0043 - val_accuracy: 0.7100\n",
            "Epoch 43/200\n",
            "45/45 [==============================] - 0s 4ms/step - loss: 0.7751 - accuracy: 0.7433 - val_loss: 0.9833 - val_accuracy: 0.6900\n",
            "Epoch 44/200\n",
            "45/45 [==============================] - 0s 4ms/step - loss: 0.7692 - accuracy: 0.7511 - val_loss: 0.9795 - val_accuracy: 0.6800\n",
            "Epoch 45/200\n",
            "45/45 [==============================] - 0s 4ms/step - loss: 0.7619 - accuracy: 0.7367 - val_loss: 0.9783 - val_accuracy: 0.6900\n",
            "Epoch 46/200\n",
            "45/45 [==============================] - 0s 4ms/step - loss: 0.7557 - accuracy: 0.7467 - val_loss: 0.9775 - val_accuracy: 0.6800\n",
            "Epoch 47/200\n",
            "45/45 [==============================] - 0s 4ms/step - loss: 0.7437 - accuracy: 0.7478 - val_loss: 0.9957 - val_accuracy: 0.7100\n",
            "Epoch 48/200\n",
            "45/45 [==============================] - 0s 4ms/step - loss: 0.7437 - accuracy: 0.7522 - val_loss: 0.9991 - val_accuracy: 0.7000\n",
            "Epoch 49/200\n",
            "45/45 [==============================] - 0s 4ms/step - loss: 0.7338 - accuracy: 0.7533 - val_loss: 0.9997 - val_accuracy: 0.6800\n",
            "Epoch 50/200\n",
            "45/45 [==============================] - 0s 4ms/step - loss: 0.7287 - accuracy: 0.7622 - val_loss: 0.9900 - val_accuracy: 0.7000\n",
            "Epoch 51/200\n",
            "45/45 [==============================] - 0s 4ms/step - loss: 0.7206 - accuracy: 0.7656 - val_loss: 1.0186 - val_accuracy: 0.6900\n",
            "Epoch 52/200\n",
            "45/45 [==============================] - 0s 4ms/step - loss: 0.7155 - accuracy: 0.7589 - val_loss: 0.9860 - val_accuracy: 0.7000\n",
            "Epoch 53/200\n",
            "45/45 [==============================] - 0s 4ms/step - loss: 0.7107 - accuracy: 0.7544 - val_loss: 0.9849 - val_accuracy: 0.6900\n",
            "Epoch 54/200\n",
            "45/45 [==============================] - 0s 4ms/step - loss: 0.7046 - accuracy: 0.7722 - val_loss: 1.0193 - val_accuracy: 0.7100\n",
            "Epoch 55/200\n",
            "45/45 [==============================] - 0s 4ms/step - loss: 0.7003 - accuracy: 0.7678 - val_loss: 1.0023 - val_accuracy: 0.6900\n",
            "Epoch 56/200\n",
            "45/45 [==============================] - 0s 4ms/step - loss: 0.6926 - accuracy: 0.7711 - val_loss: 1.0082 - val_accuracy: 0.7000\n",
            "Epoch 57/200\n",
            "45/45 [==============================] - 0s 4ms/step - loss: 0.6887 - accuracy: 0.7722 - val_loss: 1.0009 - val_accuracy: 0.7000\n",
            "Epoch 58/200\n",
            "45/45 [==============================] - 0s 4ms/step - loss: 0.6827 - accuracy: 0.7733 - val_loss: 1.0100 - val_accuracy: 0.7000\n",
            "Epoch 59/200\n",
            "45/45 [==============================] - 0s 4ms/step - loss: 0.6759 - accuracy: 0.7778 - val_loss: 1.0196 - val_accuracy: 0.7100\n",
            "Epoch 60/200\n",
            "45/45 [==============================] - 0s 4ms/step - loss: 0.6707 - accuracy: 0.7822 - val_loss: 1.0219 - val_accuracy: 0.6800\n",
            "Epoch 61/200\n",
            "45/45 [==============================] - 0s 4ms/step - loss: 0.6669 - accuracy: 0.7800 - val_loss: 0.9939 - val_accuracy: 0.7100\n",
            "Epoch 62/200\n",
            "45/45 [==============================] - 0s 4ms/step - loss: 0.6603 - accuracy: 0.7844 - val_loss: 0.9976 - val_accuracy: 0.6900\n",
            "Epoch 63/200\n",
            "45/45 [==============================] - 0s 4ms/step - loss: 0.6568 - accuracy: 0.7844 - val_loss: 1.0164 - val_accuracy: 0.7100\n",
            "Epoch 64/200\n",
            "45/45 [==============================] - 0s 4ms/step - loss: 0.6500 - accuracy: 0.7889 - val_loss: 1.0346 - val_accuracy: 0.7100\n",
            "Epoch 65/200\n",
            "45/45 [==============================] - 0s 4ms/step - loss: 0.6446 - accuracy: 0.7900 - val_loss: 1.0274 - val_accuracy: 0.7000\n",
            "Epoch 66/200\n",
            "45/45 [==============================] - 0s 4ms/step - loss: 0.6395 - accuracy: 0.7867 - val_loss: 1.0193 - val_accuracy: 0.7100\n",
            "Epoch 67/200\n",
            "45/45 [==============================] - 0s 4ms/step - loss: 0.6360 - accuracy: 0.7956 - val_loss: 1.0154 - val_accuracy: 0.6900\n",
            "Epoch 68/200\n",
            "45/45 [==============================] - 0s 4ms/step - loss: 0.6304 - accuracy: 0.7989 - val_loss: 1.0235 - val_accuracy: 0.7100\n",
            "Epoch 69/200\n",
            "45/45 [==============================] - 0s 4ms/step - loss: 0.6237 - accuracy: 0.8033 - val_loss: 1.0362 - val_accuracy: 0.6700\n",
            "Epoch 70/200\n",
            "45/45 [==============================] - 0s 4ms/step - loss: 0.6225 - accuracy: 0.7956 - val_loss: 1.0202 - val_accuracy: 0.6800\n",
            "Epoch 71/200\n",
            "45/45 [==============================] - 0s 4ms/step - loss: 0.6160 - accuracy: 0.7978 - val_loss: 1.0337 - val_accuracy: 0.7000\n",
            "Epoch 72/200\n",
            "45/45 [==============================] - 0s 4ms/step - loss: 0.6101 - accuracy: 0.8022 - val_loss: 1.0123 - val_accuracy: 0.6900\n",
            "Epoch 73/200\n",
            "45/45 [==============================] - 0s 4ms/step - loss: 0.6062 - accuracy: 0.7978 - val_loss: 1.0351 - val_accuracy: 0.6800\n",
            "Epoch 74/200\n",
            "45/45 [==============================] - 0s 4ms/step - loss: 0.6012 - accuracy: 0.8011 - val_loss: 1.0298 - val_accuracy: 0.6700\n",
            "Epoch 75/200\n",
            "45/45 [==============================] - 0s 4ms/step - loss: 0.5978 - accuracy: 0.8078 - val_loss: 1.0320 - val_accuracy: 0.6800\n",
            "Epoch 76/200\n",
            "45/45 [==============================] - 0s 4ms/step - loss: 0.5912 - accuracy: 0.8033 - val_loss: 1.0482 - val_accuracy: 0.7000\n",
            "Epoch 77/200\n",
            "45/45 [==============================] - 0s 4ms/step - loss: 0.5876 - accuracy: 0.8089 - val_loss: 1.0411 - val_accuracy: 0.7000\n",
            "Epoch 78/200\n",
            "45/45 [==============================] - 0s 4ms/step - loss: 0.5824 - accuracy: 0.8078 - val_loss: 1.0336 - val_accuracy: 0.7000\n",
            "Epoch 79/200\n",
            "45/45 [==============================] - 0s 4ms/step - loss: 0.5787 - accuracy: 0.8144 - val_loss: 1.0509 - val_accuracy: 0.7000\n",
            "Epoch 80/200\n",
            "45/45 [==============================] - 0s 4ms/step - loss: 0.5744 - accuracy: 0.8089 - val_loss: 1.0433 - val_accuracy: 0.7000\n",
            "Epoch 81/200\n",
            "45/45 [==============================] - 0s 4ms/step - loss: 0.5702 - accuracy: 0.8133 - val_loss: 1.0532 - val_accuracy: 0.6800\n",
            "Epoch 82/200\n",
            "45/45 [==============================] - 0s 4ms/step - loss: 0.5630 - accuracy: 0.8111 - val_loss: 1.0564 - val_accuracy: 0.7000\n",
            "Epoch 83/200\n",
            "45/45 [==============================] - 0s 4ms/step - loss: 0.5602 - accuracy: 0.8178 - val_loss: 1.0327 - val_accuracy: 0.7000\n",
            "Epoch 84/200\n",
            "45/45 [==============================] - 0s 4ms/step - loss: 0.5575 - accuracy: 0.8222 - val_loss: 1.0462 - val_accuracy: 0.7000\n",
            "Epoch 85/200\n",
            "45/45 [==============================] - 0s 4ms/step - loss: 0.5528 - accuracy: 0.8267 - val_loss: 1.0481 - val_accuracy: 0.7000\n",
            "Epoch 86/200\n",
            "45/45 [==============================] - 0s 4ms/step - loss: 0.5504 - accuracy: 0.8322 - val_loss: 1.0677 - val_accuracy: 0.6900\n",
            "Epoch 87/200\n",
            "45/45 [==============================] - 0s 4ms/step - loss: 0.5448 - accuracy: 0.8167 - val_loss: 1.0572 - val_accuracy: 0.7100\n",
            "Epoch 88/200\n",
            "45/45 [==============================] - 0s 4ms/step - loss: 0.5414 - accuracy: 0.8267 - val_loss: 1.0527 - val_accuracy: 0.7000\n",
            "Epoch 89/200\n",
            "45/45 [==============================] - 0s 4ms/step - loss: 0.5365 - accuracy: 0.8300 - val_loss: 1.0546 - val_accuracy: 0.7100\n",
            "Epoch 90/200\n",
            "45/45 [==============================] - 0s 4ms/step - loss: 0.5297 - accuracy: 0.8278 - val_loss: 1.0652 - val_accuracy: 0.6900\n",
            "Epoch 91/200\n",
            "45/45 [==============================] - 0s 4ms/step - loss: 0.5278 - accuracy: 0.8322 - val_loss: 1.0633 - val_accuracy: 0.7100\n",
            "Epoch 92/200\n",
            "45/45 [==============================] - 0s 4ms/step - loss: 0.5239 - accuracy: 0.8278 - val_loss: 1.0580 - val_accuracy: 0.7000\n",
            "Epoch 93/200\n",
            "45/45 [==============================] - 0s 4ms/step - loss: 0.5184 - accuracy: 0.8311 - val_loss: 1.0624 - val_accuracy: 0.7100\n",
            "Epoch 94/200\n",
            "45/45 [==============================] - 0s 4ms/step - loss: 0.5145 - accuracy: 0.8367 - val_loss: 1.0719 - val_accuracy: 0.7200\n",
            "Epoch 95/200\n",
            "45/45 [==============================] - 0s 4ms/step - loss: 0.5121 - accuracy: 0.8289 - val_loss: 1.0657 - val_accuracy: 0.7200\n",
            "Epoch 96/200\n",
            "45/45 [==============================] - 0s 4ms/step - loss: 0.5088 - accuracy: 0.8356 - val_loss: 1.0865 - val_accuracy: 0.7000\n",
            "Epoch 97/200\n",
            "45/45 [==============================] - 0s 4ms/step - loss: 0.5033 - accuracy: 0.8333 - val_loss: 1.0819 - val_accuracy: 0.6900\n",
            "Epoch 98/200\n",
            "45/45 [==============================] - 0s 4ms/step - loss: 0.4999 - accuracy: 0.8378 - val_loss: 1.0765 - val_accuracy: 0.7000\n",
            "Epoch 99/200\n",
            "45/45 [==============================] - 0s 4ms/step - loss: 0.4961 - accuracy: 0.8356 - val_loss: 1.0850 - val_accuracy: 0.7100\n",
            "Epoch 100/200\n",
            "45/45 [==============================] - 0s 4ms/step - loss: 0.4935 - accuracy: 0.8411 - val_loss: 1.0724 - val_accuracy: 0.7200\n",
            "Epoch 101/200\n",
            "45/45 [==============================] - 0s 4ms/step - loss: 0.4878 - accuracy: 0.8411 - val_loss: 1.0707 - val_accuracy: 0.7200\n",
            "Epoch 102/200\n",
            "45/45 [==============================] - 0s 4ms/step - loss: 0.4858 - accuracy: 0.8400 - val_loss: 1.0803 - val_accuracy: 0.7000\n",
            "Epoch 103/200\n",
            "45/45 [==============================] - 0s 4ms/step - loss: 0.4806 - accuracy: 0.8478 - val_loss: 1.0810 - val_accuracy: 0.7100\n",
            "Epoch 104/200\n",
            "45/45 [==============================] - 0s 4ms/step - loss: 0.4780 - accuracy: 0.8444 - val_loss: 1.0944 - val_accuracy: 0.7200\n",
            "Epoch 105/200\n",
            "45/45 [==============================] - 0s 4ms/step - loss: 0.4741 - accuracy: 0.8467 - val_loss: 1.0886 - val_accuracy: 0.7100\n",
            "Epoch 106/200\n",
            "45/45 [==============================] - 0s 4ms/step - loss: 0.4696 - accuracy: 0.8456 - val_loss: 1.0862 - val_accuracy: 0.7000\n",
            "Epoch 107/200\n",
            "45/45 [==============================] - 0s 4ms/step - loss: 0.4654 - accuracy: 0.8478 - val_loss: 1.0970 - val_accuracy: 0.7100\n",
            "Epoch 108/200\n",
            "45/45 [==============================] - 0s 4ms/step - loss: 0.4622 - accuracy: 0.8489 - val_loss: 1.1009 - val_accuracy: 0.7100\n",
            "Epoch 109/200\n",
            "45/45 [==============================] - 0s 4ms/step - loss: 0.4593 - accuracy: 0.8478 - val_loss: 1.0920 - val_accuracy: 0.7200\n",
            "Epoch 110/200\n",
            "45/45 [==============================] - 0s 4ms/step - loss: 0.4537 - accuracy: 0.8478 - val_loss: 1.1304 - val_accuracy: 0.7000\n",
            "Epoch 111/200\n",
            "45/45 [==============================] - 0s 4ms/step - loss: 0.4510 - accuracy: 0.8567 - val_loss: 1.0922 - val_accuracy: 0.7200\n",
            "Epoch 112/200\n",
            "45/45 [==============================] - 0s 4ms/step - loss: 0.4447 - accuracy: 0.8489 - val_loss: 1.1513 - val_accuracy: 0.7200\n",
            "Epoch 113/200\n",
            "45/45 [==============================] - 0s 4ms/step - loss: 0.4440 - accuracy: 0.8567 - val_loss: 1.1159 - val_accuracy: 0.7000\n",
            "Epoch 114/200\n",
            "45/45 [==============================] - 0s 4ms/step - loss: 0.4398 - accuracy: 0.8589 - val_loss: 1.1380 - val_accuracy: 0.7000\n",
            "Epoch 115/200\n",
            "45/45 [==============================] - 0s 4ms/step - loss: 0.4365 - accuracy: 0.8600 - val_loss: 1.1185 - val_accuracy: 0.7000\n",
            "Epoch 116/200\n",
            "45/45 [==============================] - 0s 4ms/step - loss: 0.4338 - accuracy: 0.8578 - val_loss: 1.1286 - val_accuracy: 0.7000\n",
            "Epoch 117/200\n",
            "45/45 [==============================] - 0s 4ms/step - loss: 0.4294 - accuracy: 0.8622 - val_loss: 1.1270 - val_accuracy: 0.7300\n",
            "Epoch 118/200\n",
            "45/45 [==============================] - 0s 4ms/step - loss: 0.4266 - accuracy: 0.8589 - val_loss: 1.1398 - val_accuracy: 0.6900\n",
            "Epoch 119/200\n",
            "45/45 [==============================] - 0s 4ms/step - loss: 0.4219 - accuracy: 0.8667 - val_loss: 1.1435 - val_accuracy: 0.7000\n",
            "Epoch 120/200\n",
            "45/45 [==============================] - 0s 4ms/step - loss: 0.4194 - accuracy: 0.8656 - val_loss: 1.1367 - val_accuracy: 0.7000\n",
            "Epoch 121/200\n",
            "45/45 [==============================] - 0s 4ms/step - loss: 0.4144 - accuracy: 0.8656 - val_loss: 1.1496 - val_accuracy: 0.7000\n",
            "Epoch 122/200\n",
            "45/45 [==============================] - 0s 4ms/step - loss: 0.4135 - accuracy: 0.8700 - val_loss: 1.1279 - val_accuracy: 0.7100\n",
            "Epoch 123/200\n",
            "45/45 [==============================] - 0s 4ms/step - loss: 0.4100 - accuracy: 0.8667 - val_loss: 1.1260 - val_accuracy: 0.7400\n",
            "Epoch 124/200\n",
            "45/45 [==============================] - 0s 4ms/step - loss: 0.4024 - accuracy: 0.8700 - val_loss: 1.1485 - val_accuracy: 0.7100\n",
            "Epoch 125/200\n",
            "45/45 [==============================] - 0s 4ms/step - loss: 0.4016 - accuracy: 0.8678 - val_loss: 1.1591 - val_accuracy: 0.7200\n",
            "Epoch 126/200\n",
            "45/45 [==============================] - 0s 4ms/step - loss: 0.3977 - accuracy: 0.8722 - val_loss: 1.1683 - val_accuracy: 0.6800\n",
            "Epoch 127/200\n",
            "45/45 [==============================] - 0s 4ms/step - loss: 0.3948 - accuracy: 0.8833 - val_loss: 1.1768 - val_accuracy: 0.6900\n",
            "Epoch 128/200\n",
            "45/45 [==============================] - 0s 4ms/step - loss: 0.3885 - accuracy: 0.8756 - val_loss: 1.1639 - val_accuracy: 0.7200\n",
            "Epoch 129/200\n",
            "45/45 [==============================] - 0s 4ms/step - loss: 0.3884 - accuracy: 0.8744 - val_loss: 1.1548 - val_accuracy: 0.7200\n",
            "Epoch 130/200\n",
            "45/45 [==============================] - 0s 4ms/step - loss: 0.3830 - accuracy: 0.8778 - val_loss: 1.1677 - val_accuracy: 0.7000\n",
            "Epoch 131/200\n",
            "45/45 [==============================] - 0s 4ms/step - loss: 0.3820 - accuracy: 0.8756 - val_loss: 1.1645 - val_accuracy: 0.7200\n",
            "Epoch 132/200\n",
            "45/45 [==============================] - 0s 4ms/step - loss: 0.3754 - accuracy: 0.8811 - val_loss: 1.1734 - val_accuracy: 0.7100\n",
            "Epoch 133/200\n",
            "45/45 [==============================] - 0s 4ms/step - loss: 0.3736 - accuracy: 0.8811 - val_loss: 1.2195 - val_accuracy: 0.7100\n",
            "Epoch 134/200\n",
            "45/45 [==============================] - 0s 4ms/step - loss: 0.3732 - accuracy: 0.8833 - val_loss: 1.1764 - val_accuracy: 0.7200\n",
            "Epoch 135/200\n",
            "45/45 [==============================] - 0s 4ms/step - loss: 0.3693 - accuracy: 0.8789 - val_loss: 1.1782 - val_accuracy: 0.7100\n",
            "Epoch 136/200\n",
            "45/45 [==============================] - 0s 4ms/step - loss: 0.3647 - accuracy: 0.8900 - val_loss: 1.1813 - val_accuracy: 0.7300\n",
            "Epoch 137/200\n",
            "45/45 [==============================] - 0s 4ms/step - loss: 0.3611 - accuracy: 0.8811 - val_loss: 1.1960 - val_accuracy: 0.6900\n",
            "Epoch 138/200\n",
            "45/45 [==============================] - 0s 4ms/step - loss: 0.3572 - accuracy: 0.8867 - val_loss: 1.1875 - val_accuracy: 0.7200\n",
            "Epoch 139/200\n",
            "45/45 [==============================] - 0s 4ms/step - loss: 0.3526 - accuracy: 0.8856 - val_loss: 1.1997 - val_accuracy: 0.6800\n",
            "Epoch 140/200\n",
            "45/45 [==============================] - 0s 4ms/step - loss: 0.3514 - accuracy: 0.8900 - val_loss: 1.1973 - val_accuracy: 0.7100\n",
            "Epoch 141/200\n",
            "45/45 [==============================] - 0s 4ms/step - loss: 0.3493 - accuracy: 0.8878 - val_loss: 1.2103 - val_accuracy: 0.7000\n",
            "Epoch 142/200\n",
            "45/45 [==============================] - 0s 4ms/step - loss: 0.3444 - accuracy: 0.8878 - val_loss: 1.2187 - val_accuracy: 0.7100\n",
            "Epoch 143/200\n",
            "45/45 [==============================] - 0s 4ms/step - loss: 0.3413 - accuracy: 0.8944 - val_loss: 1.1957 - val_accuracy: 0.7200\n",
            "Epoch 144/200\n",
            "45/45 [==============================] - 0s 4ms/step - loss: 0.3385 - accuracy: 0.8944 - val_loss: 1.2183 - val_accuracy: 0.7100\n",
            "Epoch 145/200\n",
            "45/45 [==============================] - 0s 4ms/step - loss: 0.3368 - accuracy: 0.8978 - val_loss: 1.2381 - val_accuracy: 0.6900\n",
            "Epoch 146/200\n",
            "45/45 [==============================] - 0s 4ms/step - loss: 0.3334 - accuracy: 0.8978 - val_loss: 1.2598 - val_accuracy: 0.6900\n",
            "Epoch 147/200\n",
            "45/45 [==============================] - 0s 4ms/step - loss: 0.3284 - accuracy: 0.9067 - val_loss: 1.2534 - val_accuracy: 0.7000\n",
            "Epoch 148/200\n",
            "45/45 [==============================] - 0s 4ms/step - loss: 0.3242 - accuracy: 0.8933 - val_loss: 1.2171 - val_accuracy: 0.7200\n",
            "Epoch 149/200\n",
            "45/45 [==============================] - 0s 4ms/step - loss: 0.3243 - accuracy: 0.8978 - val_loss: 1.2585 - val_accuracy: 0.7000\n",
            "Epoch 150/200\n",
            "45/45 [==============================] - 0s 4ms/step - loss: 0.3226 - accuracy: 0.9022 - val_loss: 1.2507 - val_accuracy: 0.7100\n",
            "Epoch 151/200\n",
            "45/45 [==============================] - 0s 4ms/step - loss: 0.3147 - accuracy: 0.9122 - val_loss: 1.2486 - val_accuracy: 0.6900\n",
            "Epoch 152/200\n",
            "45/45 [==============================] - 0s 4ms/step - loss: 0.3138 - accuracy: 0.9189 - val_loss: 1.2779 - val_accuracy: 0.7000\n",
            "Epoch 153/200\n",
            "45/45 [==============================] - 0s 4ms/step - loss: 0.3118 - accuracy: 0.9089 - val_loss: 1.2740 - val_accuracy: 0.6900\n",
            "Epoch 154/200\n",
            "45/45 [==============================] - 0s 4ms/step - loss: 0.3084 - accuracy: 0.9167 - val_loss: 1.2830 - val_accuracy: 0.6900\n",
            "Epoch 155/200\n",
            "45/45 [==============================] - 0s 4ms/step - loss: 0.3043 - accuracy: 0.9189 - val_loss: 1.2821 - val_accuracy: 0.7000\n",
            "Epoch 156/200\n",
            "45/45 [==============================] - 0s 4ms/step - loss: 0.3008 - accuracy: 0.9133 - val_loss: 1.2984 - val_accuracy: 0.7000\n",
            "Epoch 157/200\n",
            "45/45 [==============================] - 0s 4ms/step - loss: 0.2991 - accuracy: 0.9167 - val_loss: 1.2825 - val_accuracy: 0.6900\n",
            "Epoch 158/200\n",
            "45/45 [==============================] - 0s 4ms/step - loss: 0.2954 - accuracy: 0.9156 - val_loss: 1.3187 - val_accuracy: 0.7000\n",
            "Epoch 159/200\n",
            "45/45 [==============================] - 0s 4ms/step - loss: 0.2919 - accuracy: 0.9200 - val_loss: 1.3015 - val_accuracy: 0.6900\n",
            "Epoch 160/200\n",
            "45/45 [==============================] - 0s 4ms/step - loss: 0.2893 - accuracy: 0.9222 - val_loss: 1.2937 - val_accuracy: 0.6900\n",
            "Epoch 161/200\n",
            "45/45 [==============================] - 0s 4ms/step - loss: 0.2885 - accuracy: 0.9222 - val_loss: 1.3208 - val_accuracy: 0.6900\n",
            "Epoch 162/200\n",
            "45/45 [==============================] - 0s 4ms/step - loss: 0.2858 - accuracy: 0.9244 - val_loss: 1.3276 - val_accuracy: 0.7000\n",
            "Epoch 163/200\n",
            "45/45 [==============================] - 0s 4ms/step - loss: 0.2831 - accuracy: 0.9233 - val_loss: 1.3134 - val_accuracy: 0.7000\n",
            "Epoch 164/200\n",
            "45/45 [==============================] - 0s 4ms/step - loss: 0.2792 - accuracy: 0.9233 - val_loss: 1.3328 - val_accuracy: 0.7000\n",
            "Epoch 165/200\n",
            "45/45 [==============================] - 0s 4ms/step - loss: 0.2780 - accuracy: 0.9289 - val_loss: 1.3327 - val_accuracy: 0.6900\n",
            "Epoch 166/200\n",
            "45/45 [==============================] - 0s 4ms/step - loss: 0.2721 - accuracy: 0.9322 - val_loss: 1.3553 - val_accuracy: 0.7000\n",
            "Epoch 167/200\n",
            "45/45 [==============================] - 0s 4ms/step - loss: 0.2715 - accuracy: 0.9311 - val_loss: 1.3360 - val_accuracy: 0.7100\n",
            "Epoch 168/200\n",
            "45/45 [==============================] - 0s 4ms/step - loss: 0.2689 - accuracy: 0.9233 - val_loss: 1.3552 - val_accuracy: 0.6900\n",
            "Epoch 169/200\n",
            "45/45 [==============================] - 0s 4ms/step - loss: 0.2649 - accuracy: 0.9322 - val_loss: 1.3659 - val_accuracy: 0.6900\n",
            "Epoch 170/200\n",
            "45/45 [==============================] - 0s 4ms/step - loss: 0.2631 - accuracy: 0.9289 - val_loss: 1.3382 - val_accuracy: 0.7100\n",
            "Epoch 171/200\n",
            "45/45 [==============================] - 0s 4ms/step - loss: 0.2621 - accuracy: 0.9356 - val_loss: 1.3649 - val_accuracy: 0.6900\n",
            "Epoch 172/200\n",
            "45/45 [==============================] - 0s 4ms/step - loss: 0.2568 - accuracy: 0.9367 - val_loss: 1.3727 - val_accuracy: 0.6800\n",
            "Epoch 173/200\n",
            "45/45 [==============================] - 0s 4ms/step - loss: 0.2558 - accuracy: 0.9422 - val_loss: 1.3673 - val_accuracy: 0.6900\n",
            "Epoch 174/200\n",
            "45/45 [==============================] - 0s 4ms/step - loss: 0.2518 - accuracy: 0.9344 - val_loss: 1.3715 - val_accuracy: 0.6900\n",
            "Epoch 175/200\n",
            "45/45 [==============================] - 0s 4ms/step - loss: 0.2487 - accuracy: 0.9389 - val_loss: 1.4310 - val_accuracy: 0.7000\n",
            "Epoch 176/200\n",
            "45/45 [==============================] - 0s 4ms/step - loss: 0.2482 - accuracy: 0.9433 - val_loss: 1.4061 - val_accuracy: 0.6800\n",
            "Epoch 177/200\n",
            "45/45 [==============================] - 0s 4ms/step - loss: 0.2445 - accuracy: 0.9367 - val_loss: 1.3933 - val_accuracy: 0.6900\n",
            "Epoch 178/200\n",
            "45/45 [==============================] - 0s 4ms/step - loss: 0.2427 - accuracy: 0.9467 - val_loss: 1.4143 - val_accuracy: 0.6800\n",
            "Epoch 179/200\n",
            "45/45 [==============================] - 0s 4ms/step - loss: 0.2394 - accuracy: 0.9456 - val_loss: 1.3918 - val_accuracy: 0.6800\n",
            "Epoch 180/200\n",
            "45/45 [==============================] - 0s 4ms/step - loss: 0.2378 - accuracy: 0.9411 - val_loss: 1.4096 - val_accuracy: 0.6900\n",
            "Epoch 181/200\n",
            "45/45 [==============================] - 0s 4ms/step - loss: 0.2335 - accuracy: 0.9478 - val_loss: 1.4424 - val_accuracy: 0.6800\n",
            "Epoch 182/200\n",
            "45/45 [==============================] - 0s 4ms/step - loss: 0.2312 - accuracy: 0.9489 - val_loss: 1.4216 - val_accuracy: 0.6800\n",
            "Epoch 183/200\n",
            "45/45 [==============================] - 0s 4ms/step - loss: 0.2303 - accuracy: 0.9478 - val_loss: 1.4297 - val_accuracy: 0.6900\n",
            "Epoch 184/200\n",
            "45/45 [==============================] - 0s 4ms/step - loss: 0.2250 - accuracy: 0.9500 - val_loss: 1.4376 - val_accuracy: 0.6700\n",
            "Epoch 185/200\n",
            "45/45 [==============================] - 0s 4ms/step - loss: 0.2227 - accuracy: 0.9422 - val_loss: 1.4179 - val_accuracy: 0.6900\n",
            "Epoch 186/200\n",
            "45/45 [==============================] - 0s 4ms/step - loss: 0.2233 - accuracy: 0.9444 - val_loss: 1.4324 - val_accuracy: 0.6900\n",
            "Epoch 187/200\n",
            "45/45 [==============================] - 0s 4ms/step - loss: 0.2188 - accuracy: 0.9522 - val_loss: 1.4596 - val_accuracy: 0.6900\n",
            "Epoch 188/200\n",
            "45/45 [==============================] - 0s 4ms/step - loss: 0.2147 - accuracy: 0.9489 - val_loss: 1.4774 - val_accuracy: 0.6700\n",
            "Epoch 189/200\n",
            "45/45 [==============================] - 0s 4ms/step - loss: 0.2135 - accuracy: 0.9467 - val_loss: 1.4323 - val_accuracy: 0.6900\n",
            "Epoch 190/200\n",
            "45/45 [==============================] - 0s 4ms/step - loss: 0.2139 - accuracy: 0.9544 - val_loss: 1.4733 - val_accuracy: 0.6900\n",
            "Epoch 191/200\n",
            "45/45 [==============================] - 0s 4ms/step - loss: 0.2086 - accuracy: 0.9522 - val_loss: 1.4488 - val_accuracy: 0.6800\n",
            "Epoch 192/200\n",
            "45/45 [==============================] - 0s 4ms/step - loss: 0.2076 - accuracy: 0.9522 - val_loss: 1.4819 - val_accuracy: 0.6900\n",
            "Epoch 193/200\n",
            "45/45 [==============================] - 0s 4ms/step - loss: 0.2061 - accuracy: 0.9533 - val_loss: 1.4938 - val_accuracy: 0.6900\n",
            "Epoch 194/200\n",
            "45/45 [==============================] - 0s 4ms/step - loss: 0.2034 - accuracy: 0.9578 - val_loss: 1.5178 - val_accuracy: 0.6700\n",
            "Epoch 195/200\n",
            "45/45 [==============================] - 0s 4ms/step - loss: 0.2019 - accuracy: 0.9522 - val_loss: 1.4940 - val_accuracy: 0.6800\n",
            "Epoch 196/200\n",
            "45/45 [==============================] - 0s 4ms/step - loss: 0.1992 - accuracy: 0.9522 - val_loss: 1.5154 - val_accuracy: 0.6800\n",
            "Epoch 197/200\n",
            "45/45 [==============================] - 0s 4ms/step - loss: 0.1982 - accuracy: 0.9544 - val_loss: 1.5098 - val_accuracy: 0.6800\n",
            "Epoch 198/200\n",
            "45/45 [==============================] - 0s 4ms/step - loss: 0.1922 - accuracy: 0.9611 - val_loss: 1.5147 - val_accuracy: 0.6700\n",
            "Epoch 199/200\n",
            "45/45 [==============================] - 0s 4ms/step - loss: 0.1920 - accuracy: 0.9544 - val_loss: 1.5326 - val_accuracy: 0.6800\n",
            "Epoch 200/200\n",
            "45/45 [==============================] - 0s 4ms/step - loss: 0.1891 - accuracy: 0.9578 - val_loss: 1.5401 - val_accuracy: 0.6900\n"
          ],
          "name": "stdout"
        },
        {
          "output_type": "display_data",
          "data": {
            "image/png": "[encoded data removed]",
            "text/plain": [
              "<Figure size 432x288 with 1 Axes>"
            ]
          },
          "metadata": {
            "tags": [],
            "needs_background": "light"
          }
        }
      ]
    },
    {
      "cell_type": "markdown",
      "metadata": {
        "id": "rcm90N8U1Ywo"
      },
      "source": [
        "**Загрузку данных, подготовку данных и обучение полносвязной модели  по шаблону ноутбука восстановили. Далее будем добиваться точности 79% (задание Pro1)**"
      ]
    },
    {
      "cell_type": "markdown",
      "metadata": {
        "id": "lx_Tuxhtoswi"
      },
      "source": [
        "##PRO задание.\n",
        "\n",
        "**Вариант 1**\n",
        "\n",
        "Добейтесь точности распознавания жанров музыки не менее 79% стабильно на последних эпохах обучения. Используйте разбивку 900 записей на обучающую выборку и 100 на проверочную\n"
      ]
    },
    {
      "cell_type": "code",
      "metadata": {
        "id": "uloZ3HvZ9tXp"
      },
      "source": [
        "#Дополняем полносвязанную сеть \n",
        "model2 = Sequential()\n",
        "model2.add(Dense(256, activation='relu', input_shape=(X_train.shape[1],)))\n",
        "model2.add(Dropout(0.5))\n",
        "model2.add(BatchNormalization())\n",
        "model2.add(Dense(256, activation='relu'))\n",
        "model2.add(Dropout(0.3))\n",
        "model2.add(BatchNormalization())\n",
        "model2.add(Dense(64, activation='relu'))\n",
        "model2.add(Dropout(0.3))\n",
        "model2.add(BatchNormalization())\n",
        "model2.add(Dense(32, activation='relu'))\n",
        "#В конце количество нейронов равно количеству классов и softmax\n",
        "model2.add(Dense(len(genres), activation='softmax'))\n"
      ],
      "execution_count": null,
      "outputs": []
    },
    {
      "cell_type": "code",
      "metadata": {
        "id": "nXFRk12JSKmh",
        "outputId": "8db88c06-a268-41ee-fdad-aae34911a251",
        "colab": {
          "base_uri": "https://localhost:8080/",
          "height": 605
        }
      },
      "source": [
        "#Компилируем сеть\n",
        "model2.compile(optimizer=RMSprop(lr=5e-6),\n",
        "              loss='sparse_categorical_crossentropy',\n",
        "              metrics=['accuracy'])\n",
        "\n",
        "#Обучаем\n",
        "history = model2.fit(X_train,\n",
        "                    y_train,\n",
        "                    epochs=10,\n",
        "                    batch_size=20,\n",
        "                    validation_data=(X_test, y_test))\n",
        "\n",
        "#Выводим график точности распознавания на обучающей и проверочной выборках\n",
        "plt.plot(history.history[\"accuracy\"])\n",
        "plt.plot(history.history[\"val_accuracy\"])\n",
        "plt.show()"
      ],
      "execution_count": null,
      "outputs": [
        {
          "output_type": "stream",
          "text": [
            "Epoch 1/10\n",
            "45/45 [==============================] - 0s 8ms/step - loss: 0.5120 - accuracy: 0.8356 - val_loss: 0.9633 - val_accuracy: 0.7900\n",
            "Epoch 2/10\n",
            "45/45 [==============================] - 0s 4ms/step - loss: 0.4685 - accuracy: 0.8444 - val_loss: 0.9682 - val_accuracy: 0.7900\n",
            "Epoch 3/10\n",
            "45/45 [==============================] - 0s 5ms/step - loss: 0.5490 - accuracy: 0.8122 - val_loss: 0.9685 - val_accuracy: 0.7900\n",
            "Epoch 4/10\n",
            "45/45 [==============================] - 0s 5ms/step - loss: 0.5260 - accuracy: 0.8167 - val_loss: 0.9627 - val_accuracy: 0.7800\n",
            "Epoch 5/10\n",
            "45/45 [==============================] - 0s 4ms/step - loss: 0.5393 - accuracy: 0.8156 - val_loss: 0.9611 - val_accuracy: 0.7900\n",
            "Epoch 6/10\n",
            "45/45 [==============================] - 0s 4ms/step - loss: 0.5758 - accuracy: 0.8178 - val_loss: 0.9677 - val_accuracy: 0.7900\n",
            "Epoch 7/10\n",
            "45/45 [==============================] - 0s 4ms/step - loss: 0.5186 - accuracy: 0.8156 - val_loss: 0.9703 - val_accuracy: 0.7900\n",
            "Epoch 8/10\n",
            "45/45 [==============================] - 0s 4ms/step - loss: 0.4962 - accuracy: 0.8344 - val_loss: 0.9679 - val_accuracy: 0.7900\n",
            "Epoch 9/10\n",
            "45/45 [==============================] - 0s 4ms/step - loss: 0.4654 - accuracy: 0.8367 - val_loss: 0.9698 - val_accuracy: 0.7900\n",
            "Epoch 10/10\n",
            "45/45 [==============================] - 0s 4ms/step - loss: 0.4763 - accuracy: 0.8311 - val_loss: 0.9717 - val_accuracy: 0.7900\n"
          ],
          "name": "stdout"
        },
        {
          "output_type": "display_data",
          "data": {
            "image/png": "[encoded data removed]",
            "text/plain": [
              "<Figure size 432x288 with 1 Axes>"
            ]
          },
          "metadata": {
            "tags": [],
            "needs_background": "light"
          }
        }
      ]
    },
    {
      "cell_type": "code",
      "metadata": {
        "id": "KkLglTcdOYE8"
      },
      "source": [
        "#Сохранение и загрузка весов\n",
        "#model2.save_weights('/content/drive/My Drive/my_sample_data/Д.З.21/model2_weights.h5')\n",
        "model2.load_weights('/content/drive/My Drive/my_sample_data/Д.З.21/model2_weights.h5')"
      ],
      "execution_count": null,
      "outputs": []
    },
    {
      "cell_type": "markdown",
      "metadata": {
        "id": "DbsWNHCQNPzQ"
      },
      "source": [
        "**Модель немного подправили. Добавили слои dropout и batchnormalization. Сохранены веса, выводящие на точность 0.79**"
      ]
    },
    {
      "cell_type": "markdown",
      "metadata": {
        "id": "5xa_Al2HtYVy"
      },
      "source": [
        "##PRO задание.\n",
        "\n",
        "**Вариант 2**\n",
        "\n",
        "Запустите сеть не на усреднённых данных, а на полных данных всех коэффициентов, развёрнутых по частотам - одномерные и двумерные вектора. Для классификации используйте не полную длину спектра по файлу (30 секунд), а отдельные участки равной длины (например, по 5 секунд). При классификации итогового файла классифицируйте его по сумме классов всех его участков. Аналогично мы делали при распознавании писателей Можно использовать слои Conv1D, LSTM и Conv2D (Dense, Dropout и остальные)"
      ]
    },
    {
      "cell_type": "markdown",
      "metadata": {
        "id": "EUU4wsvnFh7e"
      },
      "source": [
        "**Делаю не совсем по заданию Pro2. Попробую такую гипотезу:**\n",
        "\n",
        " 1.~~Увеличим количество отсчетов MFCC до 40.~~\n",
        "\n",
        " 2.Будем резать файл на участки по 500 сэмплов = 23 мс. Всего 1320 фрагментов на файл.\n",
        "\n",
        " 3.Прочие параметры (кроме MFCC) пока уберем. \n",
        "\n",
        "**Обработанные данные будут представлять из себя как-бы набор картинок размером 1320х20, которые будем подавать на сверточные слои.**\n"
      ]
    },
    {
      "cell_type": "code",
      "metadata": {
        "id": "xCsrxKt92KHL"
      },
      "source": [
        "#Функция параметризации аудио\n",
        "def get_features_2(y, sr):\n",
        "\n",
        "  # Различные параметры аудио\n",
        "  #chroma_stft = np.mean(librosa.feature.chroma_stft(y=y, sr=sr)) #Частота цветности\n",
        "  #rmse = np.mean(librosa.feature.rmse(y=y)) #Среднеквадратичная амплитуда\n",
        "  #spec_cent = np.mean(librosa.feature.spectral_centroid(y=y, sr=sr)) #Спектральный центроид\n",
        "  #spec_bw = np.mean(librosa.feature.spectral_bandwidth(y=y, sr=sr)) #Спектральная ширина\n",
        "  #rolloff = np.mean(librosa.feature.spectral_rolloff(y=y, sr=sr)) #Спектральный спад частоты\n",
        "  #zcr = np.mean(librosa.feature.zero_crossing_rate(y)) #Пересечения нуля\n",
        "  mfcc = librosa.feature.mfcc(y=y, sr=sr, n_mfcc=20)  #Мел кепстральные коэффициенты на фрагменте\n",
        "  #print(mfcc.shape)\n",
        " \n",
        "  #Добавляем все параметры в один список\n",
        "  out = []\n",
        "  #out.append(chroma_stft)\n",
        "  #out.append(rmse)\n",
        "  #out.append(spec_cent)\n",
        "  #out.append(spec_bw)\n",
        "  #out.append(rolloff)\n",
        "  #out.append(zcr)\n",
        "  \n",
        "  #На коротком участке в 500 сэмплов отсчет MFCC будет 1\n",
        "  #Если отсчет будет не один, то выводим среднее (оставил для на всяк.случай)\n",
        "  for e in mfcc:\n",
        "    if (e.shape[0] == 1):\n",
        "       out.append(e[0])\n",
        "    else:\n",
        "       out.append(np.mean(e))\n",
        "\n",
        "  #Возвращаем получившийся список\n",
        "  return out"
      ],
      "execution_count": null,
      "outputs": []
    },
    {
      "cell_type": "code",
      "metadata": {
        "id": "om2C1Zds2JP2",
        "outputId": "18f75496-f94f-471c-f88e-cf24f6e67db1",
        "colab": {
          "base_uri": "https://localhost:8080/",
          "height": 357
        }
      },
      "source": [
        "# Формируем обучающую выборку\n",
        "  \n",
        "# Звуковые файлы ок.30сек будем делить на фрагменты\n",
        "# примерно по 23мс (всего 660000 сэмплов)\n",
        "S = 500    #сэмплов во фрагменте\n",
        "N = 1320    #фрагментов\n",
        "\n",
        "# Создаём пустые листы\n",
        "X_train = []\n",
        "Y_train = []\n",
        "\n",
        "# Запоминаем время старта формирования выборки\n",
        "curr_time = time.time()\n",
        "\n",
        "# Проходим по всем жарнам\n",
        "for i in range(len(genres)):\n",
        "  g = genres[i] #Берём текущий жанр\n",
        "  print('Готовим ', g)\n",
        "  #Проходим по файлам папки, соответствующей текущему жанру\n",
        "  for filename in os.listdir(f'./genres/{g}'):\n",
        "    #Получаем имя песни\n",
        "    songname = f'./genres/{g}/{filename}'\n",
        "    #Загружаем в y аудиосигнал\n",
        "    y, sr = librosa.load(songname, mono=True, duration=30)\n",
        "    \n",
        "    #Превращаем сигнал в параметризованные данные\n",
        "    #цикл по N фрагментам длиной S семплов\n",
        "    out = []\n",
        "    for nn in range(N):\n",
        "      #out.append(get_features_2(y[S*nn : S*(nn+1)], sr))  #так получается список из 1320 списков по 20 элементов \n",
        "      out = out + get_features_2(y[S*nn : S*(nn+1)], sr)   #так получается список из 26400 элементов\n",
        "    \n",
        "    #Старый вызов функции\n",
        "    #out = get_features_2(y, sr)\n",
        "\n",
        "    #Добавляем строку в X_train\n",
        "    X_train.append(out)\n",
        "    #Добавляем в Y_train номер жанра в формате ohe\n",
        "    Y_train.append(utils.to_categorical(i, len(genres)))\n",
        "\n",
        "  #Выводим информацию о готовности обработки базы\n",
        "  print(\"Жанр \", g, \" готов -> \", round(time.time() - curr_time), \"c\", sep=\"\")\n",
        "  curr_time = time.time()\n",
        "\n",
        "#Превращаем обучающую выборку на numpy массивы\n",
        "X_train = np.array(X_train)\n",
        "Y_train = np.array(Y_train)"
      ],
      "execution_count": null,
      "outputs": [
        {
          "output_type": "stream",
          "text": [
            "Готовим  blues\n",
            "Жанр blues готов -> 640c\n",
            "Готовим  classical\n",
            "Жанр classical готов -> 639c\n",
            "Готовим  country\n",
            "Жанр country готов -> 646c\n",
            "Готовим  disco\n",
            "Жанр disco готов -> 646c\n",
            "Готовим  hiphop\n",
            "Жанр hiphop готов -> 635c\n",
            "Готовим  jazz\n",
            "Жанр jazz готов -> 640c\n",
            "Готовим  metal\n",
            "Жанр metal готов -> 639c\n",
            "Готовим  pop\n",
            "Жанр pop готов -> 644c\n",
            "Готовим  reggae\n",
            "Жанр reggae готов -> 646c\n",
            "Готовим  rock\n",
            "Жанр rock готов -> 655c\n"
          ],
          "name": "stdout"
        }
      ]
    },
    {
      "cell_type": "code",
      "metadata": {
        "id": "WE20cKAm2I_M"
      },
      "source": [
        "#Перейдем от ohe к нумерованной катергории Y_train\n",
        "y_train_class = np.argmax(Y_train, axis=1)\n",
        "#print(y_train_class)"
      ],
      "execution_count": null,
      "outputs": []
    },
    {
      "cell_type": "code",
      "metadata": {
        "id": "-M39ol6eG-bm",
        "outputId": "ce252928-bbfc-43a6-ae5f-20e78afa9597",
        "colab": {
          "base_uri": "https://localhost:8080/",
          "height": 68
        }
      },
      "source": [
        "#Выводим размеры выборки\n",
        "print(X_train.shape)\n",
        "print(Y_train.shape)\n",
        "print(y_train_class.shape)"
      ],
      "execution_count": null,
      "outputs": [
        {
          "output_type": "stream",
          "text": [
            "(1000, 26400)\n",
            "(1000, 10)\n",
            "(1000,)\n"
          ],
          "name": "stdout"
        }
      ]
    },
    {
      "cell_type": "code",
      "metadata": {
        "id": "Bc3Pp-OcHGye"
      },
      "source": [
        "#сохраним готовые массивы этого варианта\n",
        "#np.save('/content/drive/My Drive/my_sample_data/Д.З.21/X_train_Pro2', X_train)\n",
        "#np.save('/content/drive/My Drive/my_sample_data/Д.З.21/Y_train_Pro2', Y_train)\n",
        "#np.save('/content/drive/My Drive/my_sample_data/Д.З.21/y_train_Pro2', y_train_class)"
      ],
      "execution_count": null,
      "outputs": []
    },
    {
      "cell_type": "code",
      "metadata": {
        "id": "ygG4uhq0Hnui",
        "outputId": "e4c0db85-a0ad-49c8-fb9f-8ebbc218aefd",
        "colab": {
          "base_uri": "https://localhost:8080/",
          "height": 68
        }
      },
      "source": [
        "#СКАЧАТЬ ГОТОВЫЕ ДАННЫЕ МОЖНО ТУТ\n",
        "X_train = np.load('/content/drive/My Drive/my_sample_data/Д.З.21/X_train_Pro2.npy')\n",
        "Y_train = np.load('/content/drive/My Drive/my_sample_data/Д.З.21/Y_train_Pro2.npy')\n",
        "y_train_class = np.load('/content/drive/My Drive/my_sample_data/Д.З.21/y_train_Pro2.npy')\n",
        "\n",
        "print(X_train.shape)\n",
        "print(Y_train.shape)\n",
        "print(y_train_class.shape)\n",
        "\n",
        "genres = ['blues', 'classical', 'country', 'disco', 'hiphop', 'jazz', 'metal', 'pop', 'reggae', 'rock']"
      ],
      "execution_count": null,
      "outputs": [
        {
          "output_type": "stream",
          "text": [
            "(1000, 26400)\n",
            "(1000, 10)\n",
            "(1000,)\n"
          ],
          "name": "stdout"
        }
      ]
    },
    {
      "cell_type": "code",
      "metadata": {
        "id": "1HLTy51uHr00"
      },
      "source": [
        "#Создаём scaler экземпляр класса StandardScaler() для нормировки данных\n",
        "scaler = StandardScaler()\n",
        "#Номируем X_train\n",
        "X_train = scaler.fit_transform(X_train)"
      ],
      "execution_count": null,
      "outputs": []
    },
    {
      "cell_type": "code",
      "metadata": {
        "id": "5lYmU6ISHxKM",
        "outputId": "8153ce4c-b737-4a01-d944-49600a6036c9",
        "colab": {
          "base_uri": "https://localhost:8080/",
          "height": 51
        }
      },
      "source": [
        "#Проверяем, что X_train нормировался\n",
        "print(X_train[0])"
      ],
      "execution_count": null,
      "outputs": [
        {
          "output_type": "stream",
          "text": [
            "[-0.30107179  0.01552097 -0.27099687 ... -0.03498228  0.62833587\n",
            " -0.21535672]\n"
          ],
          "name": "stdout"
        }
      ]
    },
    {
      "cell_type": "code",
      "metadata": {
        "id": "GY5-W0rdH9z5"
      },
      "source": [
        "#Разделяем выборку на обучающую и проверочную\n",
        "#Для проверочной используем 10% примеров\n",
        "#Так как база маленькая\n",
        "X_train, X_test, y_train, y_test = train_test_split(X_train, y_train_class, test_size=0.1)"
      ],
      "execution_count": null,
      "outputs": []
    },
    {
      "cell_type": "code",
      "metadata": {
        "id": "myK31rzPIErY",
        "outputId": "2f053734-f8af-419e-bb82-33d2506efba9",
        "colab": {
          "base_uri": "https://localhost:8080/",
          "height": 85
        }
      },
      "source": [
        "#Выводим размеры обучающей и проверочной выборки для проверки\n",
        "print(X_train.shape)\n",
        "print(y_train.shape)\n",
        "print(X_test.shape)\n",
        "print(y_test.shape)"
      ],
      "execution_count": null,
      "outputs": [
        {
          "output_type": "stream",
          "text": [
            "(900, 26400)\n",
            "(900,)\n",
            "(100, 26400)\n",
            "(100,)\n"
          ],
          "name": "stdout"
        }
      ]
    },
    {
      "cell_type": "markdown",
      "metadata": {
        "id": "C4IZJUWgX9Q6"
      },
      "source": [
        "**Нейронная сеть с Conv2D**"
      ]
    },
    {
      "cell_type": "code",
      "metadata": {
        "id": "mek62TGfUrRw",
        "outputId": "0b93acd2-90dc-4266-e548-ccf6f5ccd6b2",
        "colab": {
          "base_uri": "https://localhost:8080/",
          "height": 51
        }
      },
      "source": [
        "X_train = X_train.reshape(900, 1320, 20, 1)\n",
        "X_test = X_test.reshape(100, 1320, 20, 1)\n",
        "\n",
        "print(X_train.shape)\n",
        "print(X_test.shape)"
      ],
      "execution_count": null,
      "outputs": [
        {
          "output_type": "stream",
          "text": [
            "(900, 1320, 20, 1)\n",
            "(100, 1320, 20, 1)\n"
          ],
          "name": "stdout"
        }
      ]
    },
    {
      "cell_type": "code",
      "metadata": {
        "id": "A3ZZTIJx4Rz9"
      },
      "source": [
        "model_p3 = Sequential()\n",
        "\n",
        "model_p3.add(Conv2D(128, (3, 3), padding='same', activation='relu', input_shape=(1320, 20, 1)))\n",
        "\n",
        "model_p3.add(BatchNormalization())\n",
        "\n",
        "model_p3.add(Conv2D(128, (3, 3), padding='same', activation='relu'))\n",
        "\n",
        "model_p3.add(BatchNormalization())\n",
        "\n",
        "model_p3.add(MaxPooling2D(pool_size=(2, 2)))\n",
        "\n",
        "model_p3.add(Dropout(0.3))\n",
        "\n",
        "model_p3.add(Flatten())\n",
        "\n",
        "model_p3.add(Dense(128, activation='relu'))\n",
        "model_p3.add(Dropout(0.3))\n",
        "model_p3.add(BatchNormalization())\n",
        "model_p3.add(Dense(32, activation='relu'))\n",
        "model_p3.add(Dropout(0.3))\n",
        "model_p3.add(BatchNormalization())\n",
        "\n",
        "#В конце количество нейронов равно количеству классов и softmax\n",
        "model_p3.add(Dense(len(genres), activation='softmax'))"
      ],
      "execution_count": null,
      "outputs": []
    },
    {
      "cell_type": "code",
      "metadata": {
        "id": "vzSU7u6K4jnT",
        "outputId": "25f63942-f78f-4661-ae6c-d3483772bee3",
        "colab": {
          "base_uri": "https://localhost:8080/",
          "height": 489
        }
      },
      "source": [
        "#Компилируем сеть\n",
        "model_p3.compile(optimizer=RMSprop(lr=1e-6),\n",
        "              loss='sparse_categorical_crossentropy',\n",
        "              metrics=['accuracy'])\n",
        "\n",
        "#Обучаем\n",
        "history = model_p3.fit(X_train,\n",
        "                    y_train,\n",
        "                    epochs=5,\n",
        "                    batch_size=20,\n",
        "                    validation_data=(X_test, y_test))\n",
        "\n",
        "#Выводим график точности распознавания на обучающей и проверочной выборках\n",
        "plt.plot(history.history[\"accuracy\"])\n",
        "plt.plot(history.history[\"val_accuracy\"])\n",
        "plt.show()"
      ],
      "execution_count": null,
      "outputs": [
        {
          "output_type": "stream",
          "text": [
            "Epoch 1/5\n",
            " 2/45 [>.............................] - ETA: 16s - loss: 0.2464 - accuracy: 0.9500WARNING:tensorflow:Callbacks method `on_train_batch_end` is slow compared to the batch time (batch time: 0.1464s vs `on_train_batch_end` time: 0.2864s). Check your callbacks.\n",
            "45/45 [==============================] - ETA: 0s - loss: 0.3239 - accuracy: 0.9478WARNING:tensorflow:Callbacks method `on_test_batch_end` is slow compared to the batch time (batch time: 0.0028s vs `on_test_batch_end` time: 0.0865s). Check your callbacks.\n",
            "45/45 [==============================] - 20s 437ms/step - loss: 0.3239 - accuracy: 0.9478 - val_loss: 1.0317 - val_accuracy: 0.6900\n",
            "Epoch 2/5\n",
            "45/45 [==============================] - 19s 433ms/step - loss: 0.3461 - accuracy: 0.9456 - val_loss: 1.0275 - val_accuracy: 0.6800\n",
            "Epoch 3/5\n",
            "45/45 [==============================] - 19s 433ms/step - loss: 0.3134 - accuracy: 0.9622 - val_loss: 1.0294 - val_accuracy: 0.6800\n",
            "Epoch 4/5\n",
            "45/45 [==============================] - 19s 433ms/step - loss: 0.3219 - accuracy: 0.9567 - val_loss: 1.0258 - val_accuracy: 0.6800\n",
            "Epoch 5/5\n",
            "45/45 [==============================] - 19s 433ms/step - loss: 0.3323 - accuracy: 0.9611 - val_loss: 1.0249 - val_accuracy: 0.6900\n"
          ],
          "name": "stdout"
        },
        {
          "output_type": "display_data",
          "data": {
            "image/png": "[encoded data removed]",
            "text/plain": [
              "<Figure size 432x288 with 1 Axes>"
            ]
          },
          "metadata": {
            "tags": [],
            "needs_background": "light"
          }
        }
      ]
    },
    {
      "cell_type": "code",
      "metadata": {
        "id": "0DfJEu08A_re"
      },
      "source": [
        "#Сохранение и загрузка весов\n",
        "#model_p3.save_weights('/content/drive/My Drive/my_sample_data/Д.З.21/model_p3_weights.h5')\n",
        "model_p3.load_weights('/content/drive/My Drive/my_sample_data/Д.З.21/model_p3_weights.h5')"
      ],
      "execution_count": null,
      "outputs": []
    },
    {
      "cell_type": "markdown",
      "metadata": {
        "id": "fGiYpRhkPBve"
      },
      "source": [
        "**Сохранены веса, дающие точность чуть менее 69% на проверочной выборке**\n",
        "\n",
        "**Такая точность получена только на данных MFCC. И она лучше чем получалось на исходной модели с усредненными MFCC (при использовании только MFCC там было процентов 60)**\n",
        "\n",
        "Потенциал модели еще не исчерпан.\n",
        "Понятно что и модель сырая и учить еще можно/нужно.\n",
        "Можно и вернуть использование остальных параметров звука."
      ]
    }
  ]
}