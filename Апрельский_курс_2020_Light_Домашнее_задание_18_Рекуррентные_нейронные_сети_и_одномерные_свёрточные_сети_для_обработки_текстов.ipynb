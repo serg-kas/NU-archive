{
  "nbformat": 4,
  "nbformat_minor": 0,
  "metadata": {
    "colab": {
      "name": "Апрельский курс-2020 Light. Домашнее задание 18. Рекуррентные нейронные сети и одномерные свёрточные сети для обработки текстов",
      "provenance": [],
      "collapsed_sections": [],
      "machine_shape": "hm",
      "include_colab_link": true
    },
    "kernelspec": {
      "name": "python3",
      "display_name": "Python 3"
    },
    "accelerator": "GPU"
  },
  "cells": [
    {
      "cell_type": "markdown",
      "metadata": {
        "id": "view-in-github",
        "colab_type": "text"
      },
      "source": [
        "<a href=\"https://colab.research.google.com/github/serg-kas/NN-archive/blob/main/%D0%90%D0%BF%D1%80%D0%B5%D0%BB%D1%8C%D1%81%D0%BA%D0%B8%D0%B9_%D0%BA%D1%83%D1%80%D1%81_2020_Light_%D0%94%D0%BE%D0%BC%D0%B0%D1%88%D0%BD%D0%B5%D0%B5_%D0%B7%D0%B0%D0%B4%D0%B0%D0%BD%D0%B8%D0%B5_18_%D0%A0%D0%B5%D0%BA%D1%83%D1%80%D1%80%D0%B5%D0%BD%D1%82%D0%BD%D1%8B%D0%B5_%D0%BD%D0%B5%D0%B9%D1%80%D0%BE%D0%BD%D0%BD%D1%8B%D0%B5_%D1%81%D0%B5%D1%82%D0%B8_%D0%B8_%D0%BE%D0%B4%D0%BD%D0%BE%D0%BC%D0%B5%D1%80%D0%BD%D1%8B%D0%B5_%D1%81%D0%B2%D1%91%D1%80%D1%82%D0%BE%D1%87%D0%BD%D1%8B%D0%B5_%D1%81%D0%B5%D1%82%D0%B8_%D0%B4%D0%BB%D1%8F_%D0%BE%D0%B1%D1%80%D0%B0%D0%B1%D0%BE%D1%82%D0%BA%D0%B8_%D1%82%D0%B5%D0%BA%D1%81%D1%82%D0%BE%D0%B2.ipynb\" target=\"_parent\"><img src=\"https://colab.research.google.com/assets/colab-badge.svg\" alt=\"Open In Colab\"/></a>"
      ]
    },
    {
      "cell_type": "markdown",
      "metadata": {
        "id": "FSsVm9L6_fZu"
      },
      "source": [
        "##ИМПОРТ БИБЛИОТЕК##"
      ]
    },
    {
      "cell_type": "code",
      "metadata": {
        "id": "2WL_vbnD_lfw"
      },
      "source": [
        "import numpy as np \n",
        "import pandas as pd \n",
        "import matplotlib.pyplot as plt \n",
        "\n",
        "import random\n",
        "\n",
        "%matplotlib inline\n",
        "\n",
        "from tensorflow.keras import utils # Для работы с категориальными данными\n",
        "\n",
        "from tensorflow.keras.models import Sequential # Полносвязная модель\n",
        "from tensorflow.keras.layers import Dense, Dropout, BatchNormalization, Embedding, Flatten, Activation # Стандартные слои\n",
        "from tensorflow.keras.layers import Conv1D, SpatialDropout1D, MaxPooling1D, GlobalAveragePooling1D, GlobalMaxPooling1D # Сверточные слои\n",
        "from tensorflow.keras.layers import LSTM, GRU, SimpleRNN, Bidirectional #Рекуррентные слои\n",
        "from tensorflow.python.keras.optimizers import Adam, RMSprop #Алгоритмы обучения и оптимизации\n",
        "\n",
        "from keras.preprocessing.text import Tokenizer, text_to_word_sequence #инструменты предобработки текста от кераса\n",
        "from sklearn.model_selection import train_test_split #модуль для разбиения данных на обучающую и тестовую выборки\n",
        "\n",
        "import os # Для работы с файлами\n",
        "from google.colab import files #модуль для загрузки файлов в colab\n",
        "from google.colab import drive # Для работы с Google Drive\n"
      ],
      "execution_count": null,
      "outputs": []
    },
    {
      "cell_type": "markdown",
      "metadata": {
        "id": "fmxPojxkceFE"
      },
      "source": [
        "#Light#\n",
        "\n",
        "Используя шаблон ноутбука, напишите четыре нейронки для **распознавания писателей**.\n",
        "\n",
        "Для этого выполните следующее:\n",
        "1. Загрузите данные и разделите на слова.\n",
        "2. Создайте словарь и превратите данные в индексы.\n",
        "3. Превратите данные в обучающую выборку.\n",
        "4. Напишите нейронные сети.\n",
        "\n",
        "Четыре нейронки, которые нужно написать:\n",
        "1. Embedding + Dense сеть.\n",
        "2. Embedding + LSTM сеть.\n",
        "3. Embedding + Conv1D сеть.\n",
        "4. Embedding + сложная сеть из Dense, LSTM и Conv1D.\n",
        "\n",
        "Для выполнения задания можно смотреть в ноутбук задания, но код желательно писать\n",
        "своими руками, а не копировать."
      ]
    },
    {
      "cell_type": "markdown",
      "metadata": {
        "id": "VL25IskRnMJF"
      },
      "source": [
        "## Загрузка данных\n"
      ]
    },
    {
      "cell_type": "code",
      "metadata": {
        "id": "X7sTBsOrA_gb",
        "outputId": "10d6753a-5533-4bbc-b155-2c538691682f",
        "colab": {
          "base_uri": "https://localhost:8080/",
          "height": 34
        }
      },
      "source": [
        "from google.colab import drive\n",
        "drive.mount('/content/drive')"
      ],
      "execution_count": null,
      "outputs": [
        {
          "output_type": "stream",
          "text": [
            "Drive already mounted at /content/drive; to attempt to forcibly remount, call drive.mount(\"/content/drive\", force_remount=True).\n"
          ],
          "name": "stdout"
        }
      ]
    },
    {
      "cell_type": "code",
      "metadata": {
        "id": "axpjh6YdzX9r"
      },
      "source": [
        "# Функция чтения файлов с гугл диска\n",
        "def readText(fileName): \n",
        "  f = open(fileName, 'r')        \n",
        "  text = f.read()                \n",
        "  text = text.replace(\"\\n\", \" \") #переносы строки в пробелы  \n",
        "  return text                    #возвращает текст файла\n",
        "\n",
        "# Загружаем тексты\n",
        "trainText = []\n",
        "trainText.append(readText('/content/drive/My Drive/my_sample_data/Д.З.18/Тексты писателей/(О. Генри) Обучающая_50 вместе.txt'))\n",
        "trainText.append(readText('/content/drive/My Drive/my_sample_data/Д.З.18/Тексты писателей/(Стругацкие) Обучающая_5 вместе.txt'))\n",
        "trainText.append(readText('/content/drive/My Drive/my_sample_data/Д.З.18/Тексты писателей/(Булгаков) Обучающая_5 вместе.txt'))\n",
        "trainText.append(readText('/content/drive/My Drive/my_sample_data/Д.З.18/Тексты писателей/(Клиффорд_Саймак) Обучающая_5 вместе.txt'))\n",
        "trainText.append(readText('/content/drive/My Drive/my_sample_data/Д.З.18/Тексты писателей/(Макс Фрай) Обучающая_5 вместе.txt'))\n",
        "trainText.append(readText('/content/drive/My Drive/my_sample_data/Д.З.18/Тексты писателей/(Рэй Брэдберри) Обучающая_22 вместе.txt')) \n",
        "\n",
        "\n",
        "# Загружаем тестовые тексты\n",
        "testText = []\n",
        "testText.append(readText('/content/drive/My Drive/my_sample_data/Д.З.18/Тексты писателей/(О. Генри) Тестовая_20 вместе.txt'))\n",
        "testText.append(readText('/content/drive/My Drive/my_sample_data/Д.З.18/Тексты писателей/(Стругацкие) Тестовая_2 вместе.txt'))\n",
        "testText.append(readText('/content/drive/My Drive/my_sample_data/Д.З.18/Тексты писателей/(Булгаков) Тестовая_2 вместе.txt'))\n",
        "testText.append(readText('/content/drive/My Drive/my_sample_data/Д.З.18/Тексты писателей/(Клиффорд_Саймак) Тестовая_2 вместе.txt'))\n",
        "testText.append(readText('/content/drive/My Drive/my_sample_data/Д.З.18/Тексты писателей/(Макс Фрай) Тестовая_2 вместе.txt'))\n",
        "testText.append(readText('/content/drive/My Drive/my_sample_data/Д.З.18/Тексты писателей/(Рэй Брэдберри) Тестовая_8 вместе.txt'))\n",
        "\n",
        "\n",
        "# Объявляем интересующие нас классы (=писателей)\n",
        "className = [\"О. Генри\", \"Стругацкие\", \"Булгаков\", \"Саймак\", \"Фрай\", \"Брэдбери\"]\n",
        "nClasses = len(className) #количество классов (=писателей)"
      ],
      "execution_count": null,
      "outputs": []
    },
    {
      "cell_type": "markdown",
      "metadata": {
        "id": "_BYd_uRgTQ_0"
      },
      "source": [
        "## Обработка данных\n"
      ]
    },
    {
      "cell_type": "code",
      "metadata": {
        "id": "63vllsfyo2Og"
      },
      "source": [
        "# Текстовые данные преобразуем в числовые (векторные)\n",
        "\n",
        "maxWordsCount = 20000 # определяем макс.кол-во слов/индексов, учитываемое при обучении текстов\n",
        "\n",
        "# функция Tokenizer для разбиения текста и превращения в матрицу числовых значений (словарь частотности слов)\n",
        "tokenizer = Tokenizer(num_words=maxWordsCount, filters='–—!\"#$%&()*+,-./:;<=>?@[\\\\]^_`{|}~\\t\\n\\xa0–\\ufeff', lower=True, split=' ', char_level=False, oov_token = 'unknown')\n",
        "\n",
        "tokenizer.fit_on_texts(trainText) #обрабатываем тексты\n",
        "\n",
        "items = list(tokenizer.word_index.items()) #вытаскиваем индексы слов для просмотра"
      ],
      "execution_count": null,
      "outputs": []
    },
    {
      "cell_type": "code",
      "metadata": {
        "id": "ollu1xykSFZ9",
        "outputId": "bc8645ca-c129-4c9c-fa58-5768ea8e0e30",
        "colab": {
          "base_uri": "https://localhost:8080/",
          "height": 122
        }
      },
      "source": [
        "# Посмотрим что получилось в словаре\n",
        "print(\"Размер словаря (уникальных слов)\", len(items)) # Длина словаря\n",
        "print(type(items[0])) #получился список кортежей\n",
        "print(items[:20]) # Посмотрим 20 самых часто встречающихся слов\n",
        "print(\"Интересующее слово имеет индекс: \", tokenizer.word_index[input(\"Уточните слово: \")]) #протестируем словарь частотности"
      ],
      "execution_count": null,
      "outputs": [
        {
          "output_type": "stream",
          "text": [
            "Размер словаря (уникальных слов) 144054\n",
            "<class 'tuple'>\n",
            "[('unknown', 1), ('и', 2), ('в', 3), ('не', 4), ('я', 5), ('что', 6), ('на', 7), ('с', 8), ('он', 9), ('а', 10), ('как', 11), ('то', 12), ('это', 13), ('но', 14), ('все', 15), ('у', 16), ('по', 17), ('его', 18), ('к', 19), ('так', 20)]\n",
            "Уточните слово: гвардия\n",
            "Интересующее слово имеет индекс:  8519\n"
          ],
          "name": "stdout"
        }
      ]
    },
    {
      "cell_type": "code",
      "metadata": {
        "id": "PlJf41KQStJh",
        "outputId": "16fcd0d5-8f20-41d3-b6e9-154d315abf79",
        "colab": {
          "base_uri": "https://localhost:8080/",
          "height": 85
        }
      },
      "source": [
        "# Преобразовываем текст в последовательность индексов согласно частотному словарю\n",
        "trainWordIndexes = tokenizer.texts_to_sequences(trainText) # Обучающие тексты в индексы\n",
        "testWordIndexes = tokenizer.texts_to_sequences(testText)  # Проверочные тексты в индексы\n",
        "\n",
        "print('Пример кодирования текста')\n",
        "print('Оригинальный текст:              ', trainText[2][:65])\n",
        "print('Текст кодированный по индексам: ', trainWordIndexes[2][:20], '\\n')"
      ],
      "execution_count": null,
      "outputs": [
        {
          "output_type": "stream",
          "text": [
            "Пример кодирования текста\n",
            "Оригинальный текст:               ﻿Белая гвардия   Посвящается[1]  Любови Евгеньевне Белозерской[2]\n",
            "Текст кодированный по индексам:  [3713, 8519, 1, 1482, 1, 1, 16627, 1538, 357, 8648, 1264, 2, 122, 15237, 1, 1, 700, 11926, 10480, 17259] \n",
            "\n"
          ],
          "name": "stdout"
        }
      ]
    },
    {
      "cell_type": "code",
      "metadata": {
        "id": "9sj2nYMjS98C",
        "outputId": "16fc3721-8da9-4048-a51e-42f7ff6d2f7e",
        "colab": {
          "base_uri": "https://localhost:8080/",
          "height": 357
        }
      },
      "source": [
        "#Посчитаем статистику по текстам\n",
        "\n",
        "print(\"Статистика по обучающим текстам:\")\n",
        "\n",
        "symbolsTrainText = 0 # символов в обучающих текстах\n",
        "wordsTrainText = 0   # слов в обучающих текстах\n",
        "\n",
        "for i in range(nClasses): # Проходим по всем классам\n",
        "  print(className[i], \" \"*(10-len(className[i])), len(trainText[i]), \"символов, \", len(trainWordIndexes[i]), \"слов\")\n",
        "  symbolsTrainText += len(trainText[i]) # Считаем символы\n",
        "  wordsTrainText += len(trainWordIndexes[i]) # Считаем слова \n",
        "\n",
        "print('----')\n",
        "print(\"В сумме \", symbolsTrainText, \" символов, \", wordsTrainText, \" слов \\n\")\n",
        "print()\n",
        "print(\"Статистика по тестовым текстам:\")\n",
        "\n",
        "symbolsTestText = 0 # Объявляем переменную для подсчета символов в тестовых текстах\n",
        "wordsTestText = 0 # Объявляем переменную для подсчета слов в тестовых текстах\n",
        "\n",
        "for i in range(nClasses): #Проходим по всем классам\n",
        "  print(className[i], ' '*(10-len(className[i])), len(testText[i]), \"символов, \", len(testWordIndexes[i]), \"слов\")\n",
        "  symbolsTestText += len(testText[i]) #Считаем символы\n",
        "  wordsTestText += len(testWordIndexes[i]) #Считаем слова \n",
        "print('----')\n",
        "print(\"В сумме \", symbolsTestText, \" символов, \", wordsTestText, \" слов\")"
      ],
      "execution_count": null,
      "outputs": [
        {
          "output_type": "stream",
          "text": [
            "Статистика по обучающим текстам:\n",
            "О. Генри    1049517 символов,  160682 слов\n",
            "Стругацкие  2042469 символов,  313405 слов\n",
            "Булгаков    1765648 символов,  262109 слов\n",
            "Саймак      1609507 символов,  251551 слов\n",
            "Фрай        3700010 символов,  569052 слов\n",
            "Брэдбери    1386454 символов,  214694 слов\n",
            "----\n",
            "В сумме  11553605  символов,  1771493  слов \n",
            "\n",
            "\n",
            "Статистика по тестовым текстам:\n",
            "О. Генри    349662 символов,  53255 слов\n",
            "Стругацкие  704846 символов,  108730 слов\n",
            "Булгаков    875042 символов,  132910 слов\n",
            "Саймак      318811 символов,  50362 слов\n",
            "Фрай        1278191 символов,  196911 слов\n",
            "Брэдбери    868673 символов,  132746 слов\n",
            "----\n",
            "В сумме  4395225  символов,  674914  слов\n"
          ],
          "name": "stdout"
        }
      ]
    },
    {
      "cell_type": "markdown",
      "metadata": {
        "id": "slCp7AkSw0Oo"
      },
      "source": [
        "## Создание обучающей и проверочной выборки"
      ]
    },
    {
      "cell_type": "code",
      "metadata": {
        "id": "_UjRGWHjTdi3"
      },
      "source": [
        "# Формирование обучающей и проверочной выборки \n",
        "# (определение функций)\n",
        "\n",
        "# Разделение на короткие векторы\n",
        "# Функция принимает последовательность индексов, размер окна, шаг окна\n",
        "def getSetFromIndexes(wordIndexes, xLen, step): \n",
        "  xSample = [] # Объявляем переменную для векторов\n",
        "  wordsLen = len(wordIndexes) # Считаем количество слов\n",
        "  index = 0 # Задаем начальный индекс \n",
        "\n",
        "  while (index + xLen <= wordsLen):# Идём по всей длине вектора индексов\n",
        "    xSample.append(wordIndexes[index:index+xLen]) # \"Откусываем\" векторы длины xLen\n",
        "    index += step # Смещаеммся вперёд на step\n",
        "    \n",
        "  return xSample\n",
        "\n",
        "\n",
        "# Функция принимает последовательность индексов, размер окна, шаг окна\n",
        "def createSetsMultiClasses(wordIndexes, xLen, step): \n",
        "\n",
        "  # Для каждого из 6 классов\n",
        "  # Создаём обучающую/проверочную выборку из индексов\n",
        "  nClasses = len(wordIndexes) # Задаем количество классов выборки\n",
        "  classesXSamples = []        # Здесь будет список размером \"кол-во классов*кол-во окон в тексте*длину окна (например, 6 по 1341*1000)\"\n",
        "  for wI in wordIndexes:      # Для каждого текста выборки из последовательности индексов\n",
        "    classesXSamples.append(getSetFromIndexes(wI, xLen, step)) # Добавляем в список очередной текст индексов, разбитый на \"кол-во окон*длину окна\" \n",
        "\n",
        "  # Формируем один общий xSamples\n",
        "  xSamples = [] # Здесь будет список размером \"суммарное кол-во окон во всех текстах*длину окна (например, 15779*1000)\"\n",
        "  ySamples = [] # Здесь будет список размером \"суммарное кол-во окон во всех текстах*вектор длиной 6\"\n",
        "  \n",
        "  for t in range(nClasses): # В диапазоне кол-ва классов(6)\n",
        "    xT = classesXSamples[t] # Берем очередной текст вида \"кол-во окон в тексте*длину окна\"(например, 1341*1000)\n",
        "    for i in range(len(xT)): # И каждое его окно\n",
        "      xSamples.append(xT[i]) # Добавляем в общий список выборки\n",
        "      ySamples.append(utils.to_categorical(t, nClasses)) # Добавляем соответствующий вектор класса\n",
        "\n",
        "  xSamples = np.array(xSamples) # Переводим в массив numpy для подачи в нейронку\n",
        "  ySamples = np.array(ySamples) # Переводим в массив numpy для подачи в нейронку\n",
        "\n",
        "  \n",
        "  return (xSamples, ySamples) #Функция возвращает выборку и соответствующие векторы классов\n",
        "\n"
      ],
      "execution_count": null,
      "outputs": []
    },
    {
      "cell_type": "code",
      "metadata": {
        "id": "SgzoAiyawSwJ"
      },
      "source": [
        "# Задаём базовые параметры\n",
        "xLen = 1000 # Длина отрезка текста, по которой анализируем, в словах\n",
        "step = 100 # Шаг разбиения исходного текста на обучающие вектора"
      ],
      "execution_count": null,
      "outputs": []
    },
    {
      "cell_type": "code",
      "metadata": {
        "id": "ukaClVf1UOBF",
        "outputId": "f50c1969-d347-486b-e1ca-97366da8734b",
        "colab": {
          "base_uri": "https://localhost:8080/",
          "height": 85
        }
      },
      "source": [
        "#Формируем обучающую и тестовую выборку\n",
        "xTrain, yTrain = createSetsMultiClasses(trainWordIndexes, xLen, step) #извлекаем обучающую выборку\n",
        "xTest, yTest = createSetsMultiClasses(testWordIndexes, xLen, step)    #извлекаем тестовую выборку\n",
        "print(xTrain.shape)\n",
        "print(yTrain.shape)\n",
        "print(xTest.shape)\n",
        "print(yTest.shape)\n",
        "#получили обучающий/тестовый набор, достаточный для запуска Embedding"
      ],
      "execution_count": null,
      "outputs": [
        {
          "output_type": "stream",
          "text": [
            "(17658, 1000)\n",
            "(17658, 6)\n",
            "(6693, 1000)\n",
            "(6693, 6)\n"
          ],
          "name": "stdout"
        }
      ]
    },
    {
      "cell_type": "markdown",
      "metadata": {
        "id": "9gI1hXsRmhUo"
      },
      "source": [
        "## Распознавание проверочной выборки\n"
      ]
    },
    {
      "cell_type": "code",
      "metadata": {
        "id": "stHRW8-4mf7G"
      },
      "source": [
        "# Функции для распознавания проверочной выборки\n",
        "\n",
        "def createTestMultiClasses(wordIndexes, xLen, step): # функция принимает последовательность индексов, размер окна, шаг окна\n",
        "\n",
        "  # Для каждого из 6 классов\n",
        "  # Создаём тестовую выборку из индексов\n",
        "  nClasses = len(wordIndexes) # задаем количество классов\n",
        "  xTest6Classes01 = []               # здесь будет список из всех классов,каждый размером \"кол-во окон в тексте * 20000(при maxWordsCount=20000)\"\n",
        "  xTest6Classes = []                 # здесь будет список массивов, каждый размером \"кол-во окон в тексте * длину окна\"(6 по 420*1000)\n",
        "  for wI in wordIndexes:             # для каждого тестового текста из последовательности индексов\n",
        "    sample = (getSetFromIndexes(wI, xLen, step)) # тестовая выборка размером \"кол-во окон*длину окна\"(например 420*1000)\n",
        "    xTest6Classes.append(np.array(sample))       # переводим в массив numpy и добавляем в список\n",
        "    xTest6Classes01.append(tokenizer.sequences_to_matrix(sample)) # трансформируется в Bag of Words в виде \"кол-во окон в тексте * 20000\"\n",
        "  xTest6Classes01 = np.array(xTest6Classes01)                     # и добавляется к нашему списку, \n",
        "  \n",
        "  return xTest6Classes01, xTest6Classes # функция вернёт тестовые данные: TestBg 6 классов на n*20000 и xTestEm 6 по n*1000\n",
        "\n",
        "\n",
        "\n",
        "# Расспознаём тестовую выборку и выводим результаты\n",
        "\n",
        "def recognizeMultiClass(model, xTest, modelName):\n",
        "  print(\"НЕЙРОНКА: \", modelName)\n",
        "  print()\n",
        "  \n",
        "  val = []\n",
        "  pred = []\n",
        "  \n",
        "  totalSumRec = []\n",
        "  \n",
        "  # Проходим по всем классам\n",
        "  for i in range(nClasses):\n",
        "    # Получаем результаты распознавания класса по блокам слов длины xLen\n",
        "    currPred = model.predict(xTest[i])\n",
        "    pred.append(currPred)\n",
        "    # Определяем номер распознанного класса для каждохо блока слов длины xLen\n",
        "    currOut = np.argmax(currPred, axis=1)\n",
        "    \n",
        "    # Считаем процент распознавания каждого класса за каждый\n",
        "    # Получам матрицу 6 на 6\n",
        "    evVal = []\n",
        "    sumRec = []\n",
        "    for j in range(nClasses):\n",
        "      sumRec.append(0)\n",
        "      for t in range(len(currOut)):\n",
        "        if (currOut[t] == j):\n",
        "          sumRec[j] += 1\n",
        "      evVal.append(sumRec[j] / len(currOut))\n",
        "    \n",
        "    totalSumRec.append(sumRec[i])\n",
        "    \n",
        "    # Определяем, какой в класс в итоге за какой был распознан\n",
        "    val.append(evVal[i])\n",
        "    recognizedClass = np.argmax(evVal)\n",
        "    \n",
        "    # Выводим результаты распознавания по текущему классу\n",
        "    isRecognized = \"распознано НЕ ВЕРНО!\"\n",
        "    if (recognizedClass == i):\n",
        "      isRecognized = \"распознано ВЕРНО!\"\n",
        "    print(className[i], \" распознано \", int(100*evVal[i]), \"% сеть считает, что это \", className[recognizedClass], \", \", isRecognized)\n",
        "  \n",
        "  # Выводим cредний процент распознавания по всем классам вместе\n",
        "  print()\n",
        "  sumVal = 0\n",
        "  sumCount = 0\n",
        "  lenXtest = []\n",
        "  for i in range(nClasses):\n",
        "    sumCount += len(xTest[i])\n",
        "    sumVal += totalSumRec[i]\n",
        "  print(\"Средний процент распознавания \", int(100*sumVal/sumCount), \"%\")\n",
        "  print()\n",
        "  return sumVal/sumCount\n",
        "\n",
        "xTest6Classes01, xTest6Classes = createTestMultiClasses(testWordIndexes, xLen, step) # подгоним форму тестовых классов под функцию recognizeMultiClass"
      ],
      "execution_count": null,
      "outputs": []
    },
    {
      "cell_type": "markdown",
      "metadata": {
        "id": "-3wem2kF0IlC"
      },
      "source": [
        "## Работа  с моделями сетей"
      ]
    },
    {
      "cell_type": "markdown",
      "metadata": {
        "id": "ZdO00Lxlhelf"
      },
      "source": [
        "**Embedding + Dense**"
      ]
    },
    {
      "cell_type": "code",
      "metadata": {
        "id": "60oy1EmPh5Oo",
        "outputId": "0024c97e-c9c8-4067-837d-6f4ddc2f95c8",
        "colab": {
          "base_uri": "https://localhost:8080/",
          "height": 1000
        }
      },
      "source": [
        "modelEL = Sequential() # создаём последовательную модель нейросети\n",
        "# преобразовываем каждое слово в многомерный вектор c указанием размерности вектора и длины входных данных\n",
        "modelEL.add(Embedding(maxWordsCount, 10, input_length=xLen))\n",
        "\n",
        "modelEL.add(SpatialDropout1D(0.4)) # добавляем слой регуляризации, \"выключая\" 1D карты объектов из эмбединг векторов, во избежание переобучения\n",
        "\n",
        "modelEL.add(BatchNormalization()) # добавляем слой нормализации данных\n",
        "modelEL.add(Dense(200, activation=\"relu\")) # добавляем полносвязный слой с указанием количества нейронов и функции активации\n",
        "modelEL.add(Dropout(0.5)) # добавляем слой регуляризации, \"выключая\" указанное количество нейронов, во избежание переобучения\n",
        "modelEL.add(BatchNormalization()) # добавляем слой нормализации данных\n",
        "modelEL.add(Flatten()) # добавляем слой выравнивания/сглаживания (\"сплющиваем\" данные в вектор)\n",
        "modelEL.add(Dense(6, activation='softmax')) # добавляем полносвязный слой на 6 нейронов, с функцией активации softmax на выходном слое\n",
        "\n",
        "# Компиляция, составление модели с выбором алгоритма оптимизации, функции потерь и метрики точности\n",
        "modelEL.compile(optimizer='rmsprop', \n",
        "              loss='categorical_crossentropy', \n",
        "              metrics=['accuracy'])\n",
        "\n",
        "# Обучаем сеть с указанием тренировочной выборки, количества эпох, размера минибатча для подачи сети, и тестовой выборки\n",
        "history = modelEL.fit(xTrain, \n",
        "                    yTrain, \n",
        "                    epochs=20,\n",
        "                    batch_size=200,\n",
        "                    validation_data=(xTest, yTest))\n",
        "\n",
        "# Строим график для отображения динамики обучения и точности предсказания сети\n",
        "plt.plot(history.history['accuracy'], \n",
        "         label='Доля верных ответов на обучающем наборе')\n",
        "plt.plot(history.history['val_accuracy'], \n",
        "         label='Доля верных ответов на проверочном наборе')\n",
        "plt.xlabel('Эпоха обучения')\n",
        "plt.ylabel('Доля верных ответов')\n",
        "plt.legend()\n",
        "plt.show()\n",
        "\n",
        "pred = recognizeMultiClass(modelEL, xTest6Classes, \"Embedding + Dense\") #функция покажет какие классы и как распознаны верно"
      ],
      "execution_count": null,
      "outputs": [
        {
          "output_type": "stream",
          "text": [
            "Epoch 1/20\n",
            "89/89 [==============================] - 3s 38ms/step - loss: 2.8405 - accuracy: 0.5421 - val_loss: 6.6886 - val_accuracy: 0.1611\n",
            "Epoch 2/20\n",
            "89/89 [==============================] - 3s 36ms/step - loss: 0.4996 - accuracy: 0.9095 - val_loss: 7.7699 - val_accuracy: 0.2036\n",
            "Epoch 3/20\n",
            "89/89 [==============================] - 3s 36ms/step - loss: 0.3360 - accuracy: 0.9500 - val_loss: 19.2554 - val_accuracy: 0.1611\n",
            "Epoch 4/20\n",
            "89/89 [==============================] - 3s 36ms/step - loss: 0.2919 - accuracy: 0.9612 - val_loss: 6.1201 - val_accuracy: 0.3613\n",
            "Epoch 5/20\n",
            "89/89 [==============================] - 3s 36ms/step - loss: 0.2575 - accuracy: 0.9685 - val_loss: 32.0587 - val_accuracy: 0.1527\n",
            "Epoch 6/20\n",
            "89/89 [==============================] - 3s 36ms/step - loss: 0.2492 - accuracy: 0.9716 - val_loss: 18.9412 - val_accuracy: 0.4597\n",
            "Epoch 7/20\n",
            "89/89 [==============================] - 3s 36ms/step - loss: 0.2493 - accuracy: 0.9750 - val_loss: 8.9683 - val_accuracy: 0.4430\n",
            "Epoch 8/20\n",
            "89/89 [==============================] - 3s 37ms/step - loss: 0.2393 - accuracy: 0.9759 - val_loss: 14.3947 - val_accuracy: 0.4431\n",
            "Epoch 9/20\n",
            "89/89 [==============================] - 3s 36ms/step - loss: 0.1966 - accuracy: 0.9794 - val_loss: 9.8691 - val_accuracy: 0.5241\n",
            "Epoch 10/20\n",
            "89/89 [==============================] - 3s 37ms/step - loss: 0.2200 - accuracy: 0.9805 - val_loss: 7.3858 - val_accuracy: 0.5684\n",
            "Epoch 11/20\n",
            "89/89 [==============================] - 3s 36ms/step - loss: 0.1808 - accuracy: 0.9815 - val_loss: 6.3292 - val_accuracy: 0.6108\n",
            "Epoch 12/20\n",
            "89/89 [==============================] - 3s 36ms/step - loss: 0.1794 - accuracy: 0.9836 - val_loss: 7.1137 - val_accuracy: 0.5906\n",
            "Epoch 13/20\n",
            "89/89 [==============================] - 3s 37ms/step - loss: 0.1679 - accuracy: 0.9844 - val_loss: 7.9174 - val_accuracy: 0.6074\n",
            "Epoch 14/20\n",
            "89/89 [==============================] - 3s 36ms/step - loss: 0.1579 - accuracy: 0.9840 - val_loss: 7.4034 - val_accuracy: 0.5935\n",
            "Epoch 15/20\n",
            "89/89 [==============================] - 3s 36ms/step - loss: 0.1637 - accuracy: 0.9853 - val_loss: 8.3830 - val_accuracy: 0.5690\n",
            "Epoch 16/20\n",
            "89/89 [==============================] - 3s 36ms/step - loss: 0.1363 - accuracy: 0.9863 - val_loss: 7.0050 - val_accuracy: 0.6144\n",
            "Epoch 17/20\n",
            "89/89 [==============================] - 3s 36ms/step - loss: 0.1604 - accuracy: 0.9858 - val_loss: 7.4720 - val_accuracy: 0.6068\n",
            "Epoch 18/20\n",
            "89/89 [==============================] - 3s 36ms/step - loss: 0.1591 - accuracy: 0.9851 - val_loss: 6.8292 - val_accuracy: 0.6284\n",
            "Epoch 19/20\n",
            "89/89 [==============================] - 3s 36ms/step - loss: 0.1319 - accuracy: 0.9877 - val_loss: 8.3238 - val_accuracy: 0.5785\n",
            "Epoch 20/20\n",
            "89/89 [==============================] - 3s 36ms/step - loss: 0.1565 - accuracy: 0.9866 - val_loss: 7.8619 - val_accuracy: 0.6018\n"
          ],
          "name": "stdout"
        },
        {
          "output_type": "display_data",
          "data": {
            "image/png": "[encoded data removed]",
            "text/plain": [
              "<Figure size 432x288 with 1 Axes>"
            ]
          },
          "metadata": {
            "tags": [],
            "needs_background": "light"
          }
        },
        {
          "output_type": "stream",
          "text": [
            "НЕЙРОНКА:  Embedding + Dense\n",
            "\n",
            "О. Генри  распознано  63 % сеть считает, что это  О. Генри ,  распознано ВЕРНО!\n",
            "Стругацкие  распознано  52 % сеть считает, что это  Стругацкие ,  распознано ВЕРНО!\n",
            "Булгаков  распознано  45 % сеть считает, что это  Булгаков ,  распознано ВЕРНО!\n",
            "Саймак  распознано  43 % сеть считает, что это  Саймак ,  распознано ВЕРНО!\n",
            "Фрай  распознано  76 % сеть считает, что это  Фрай ,  распознано ВЕРНО!\n",
            "Брэдбери  распознано  61 % сеть считает, что это  Брэдбери ,  распознано ВЕРНО!\n",
            "\n",
            "Средний процент распознавания  60 %\n",
            "\n"
          ],
          "name": "stdout"
        }
      ]
    },
    {
      "cell_type": "code",
      "metadata": {
        "id": "hyA2aPPSlpFD",
        "outputId": "ad09118c-46e6-41f3-f7be-0f7bec72650d",
        "colab": {
          "base_uri": "https://localhost:8080/",
          "height": 680
        }
      },
      "source": [
        "print(modelEC.summary()) # выведем на экран данные о модели"
      ],
      "execution_count": null,
      "outputs": [
        {
          "output_type": "stream",
          "text": [
            "Model: \"sequential_12\"\n",
            "_________________________________________________________________\n",
            "Layer (type)                 Output Shape              Param #   \n",
            "=================================================================\n",
            "embedding_12 (Embedding)     (None, 1000, 10)          200000    \n",
            "_________________________________________________________________\n",
            "spatial_dropout1d_12 (Spatia (None, 1000, 10)          0         \n",
            "_________________________________________________________________\n",
            "lstm_12 (LSTM)               (None, 1000, 4)           240       \n",
            "_________________________________________________________________\n",
            "dense_18 (Dense)             (None, 1000, 100)         500       \n",
            "_________________________________________________________________\n",
            "conv1d_23 (Conv1D)           (None, 996, 20)           10020     \n",
            "_________________________________________________________________\n",
            "lstm_13 (LSTM)               (None, 996, 4)            400       \n",
            "_________________________________________________________________\n",
            "dropout_20 (Dropout)         (None, 996, 4)            0         \n",
            "_________________________________________________________________\n",
            "batch_normalization_27 (Batc (None, 996, 4)            16        \n",
            "_________________________________________________________________\n",
            "conv1d_24 (Conv1D)           (None, 992, 20)           420       \n",
            "_________________________________________________________________\n",
            "conv1d_25 (Conv1D)           (None, 988, 20)           2020      \n",
            "_________________________________________________________________\n",
            "max_pooling1d_12 (MaxPooling (None, 494, 20)           0         \n",
            "_________________________________________________________________\n",
            "dropout_21 (Dropout)         (None, 494, 20)           0         \n",
            "_________________________________________________________________\n",
            "batch_normalization_28 (Batc (None, 494, 20)           80        \n",
            "_________________________________________________________________\n",
            "flatten_10 (Flatten)         (None, 9880)              0         \n",
            "_________________________________________________________________\n",
            "dense_19 (Dense)             (None, 6)                 59286     \n",
            "=================================================================\n",
            "Total params: 272,982\n",
            "Trainable params: 272,934\n",
            "Non-trainable params: 48\n",
            "_________________________________________________________________\n",
            "None\n"
          ],
          "name": "stdout"
        }
      ]
    },
    {
      "cell_type": "markdown",
      "metadata": {
        "id": "n_-cC13OhK14"
      },
      "source": [
        "**Embedding + LSTM**"
      ]
    },
    {
      "cell_type": "code",
      "metadata": {
        "id": "noNE62y6ULv2",
        "outputId": "f8ffa099-4129-493e-ecc2-79c07a36ebe5",
        "colab": {
          "base_uri": "https://localhost:8080/",
          "height": 806
        }
      },
      "source": [
        "modelEL = Sequential() # создаём последовательную модель нейросети\n",
        "# преобразовываем каждое слово в многомерный вектор c указанием размерности вектора и длины входных данных\n",
        "modelEL.add(Embedding(maxWordsCount, 10, input_length=xLen))\n",
        "\n",
        "modelEL.add(SpatialDropout1D(0.4)) # добавляем слой регуляризации, \"выключая\" 1D карты объектов из эмбединг векторов, во избежание переобучения\n",
        "modelEL.add(BatchNormalization())  # добавляем слой нормализации данных\n",
        "modelEL.add(LSTM(4, return_sequences=1)) # добавляем слой LSTM, совместимый с Cuda при поддержке GPU\n",
        "modelEL.add(Dropout(0.5)) # добавляем слой регуляризации, \"выключая\" указанное количество нейронов, во избежание переобучения\n",
        "\n",
        "modelEL.add(BatchNormalization()) # добавляем слой нормализации данных\n",
        "modelEL.add(Flatten()) # добавляем слой выравнивания/сглаживания (\"сплющиваем\" данные в вектор)\n",
        "modelEL.add(Dense(6, activation='softmax')) # добавляем полносвязный слой на 6 нейронов, с функцией активации softmax на выходном слое\n",
        "\n",
        "# Компиляция, составление модели с выбором алгоритма оптимизации, функции потерь и метрики точности\n",
        "modelEL.compile(optimizer='rmsprop', \n",
        "              loss='categorical_crossentropy', \n",
        "              metrics=['accuracy'])\n",
        "\n",
        "# Обучаем сеть с указанием тренировочной выборки, количества эпох, размера минибатча для подачи сети, и тестовой выборки\n",
        "history = modelEL.fit(xTrain, \n",
        "                    yTrain, \n",
        "                    epochs=10,\n",
        "                    batch_size=200,\n",
        "                    validation_data=(xTest, yTest))\n",
        "\n",
        "# Строим график для отображения динамики обучения и точности предсказания сети\n",
        "plt.plot(history.history['accuracy'], \n",
        "         label='Доля верных ответов на обучающем наборе')\n",
        "plt.plot(history.history['val_accuracy'], \n",
        "         label='Доля верных ответов на проверочном наборе')\n",
        "plt.xlabel('Эпоха обучения')\n",
        "plt.ylabel('Доля верных ответов')\n",
        "plt.legend()\n",
        "plt.show()\n",
        "\n",
        "pred = recognizeMultiClass(modelEL, xTest6Classes, \"Embedding + LSTM\") #функция покажет какие классы и как распознаны верно"
      ],
      "execution_count": null,
      "outputs": [
        {
          "output_type": "stream",
          "text": [
            "Epoch 1/10\n",
            "89/89 [==============================] - 5s 56ms/step - loss: 1.3526 - accuracy: 0.5241 - val_loss: 1.9106 - val_accuracy: 0.0738\n",
            "Epoch 2/10\n",
            "89/89 [==============================] - 5s 53ms/step - loss: 0.2785 - accuracy: 0.8973 - val_loss: 2.8850 - val_accuracy: 0.2954\n",
            "Epoch 3/10\n",
            "89/89 [==============================] - 5s 52ms/step - loss: 0.0887 - accuracy: 0.9686 - val_loss: 2.4246 - val_accuracy: 0.3069\n",
            "Epoch 4/10\n",
            "89/89 [==============================] - 5s 53ms/step - loss: 0.0650 - accuracy: 0.9782 - val_loss: 2.6622 - val_accuracy: 0.3342\n",
            "Epoch 5/10\n",
            "89/89 [==============================] - 5s 53ms/step - loss: 0.0499 - accuracy: 0.9838 - val_loss: 1.8386 - val_accuracy: 0.4814\n",
            "Epoch 6/10\n",
            "89/89 [==============================] - 5s 53ms/step - loss: 0.0431 - accuracy: 0.9858 - val_loss: 1.5087 - val_accuracy: 0.5690\n",
            "Epoch 7/10\n",
            "89/89 [==============================] - 5s 52ms/step - loss: 0.0395 - accuracy: 0.9871 - val_loss: 1.5805 - val_accuracy: 0.6106\n",
            "Epoch 8/10\n",
            "89/89 [==============================] - 4s 47ms/step - loss: 0.0349 - accuracy: 0.9886 - val_loss: 1.2618 - val_accuracy: 0.6706\n",
            "Epoch 9/10\n",
            "89/89 [==============================] - 4s 46ms/step - loss: 0.0307 - accuracy: 0.9908 - val_loss: 1.2740 - val_accuracy: 0.6729\n",
            "Epoch 10/10\n",
            "89/89 [==============================] - 5s 54ms/step - loss: 0.0313 - accuracy: 0.9895 - val_loss: 1.4781 - val_accuracy: 0.6565\n"
          ],
          "name": "stdout"
        },
        {
          "output_type": "display_data",
          "data": {
            "image/png": "[encoded data removed]",
            "text/plain": [
              "<Figure size 432x288 with 1 Axes>"
            ]
          },
          "metadata": {
            "tags": [],
            "needs_background": "light"
          }
        },
        {
          "output_type": "stream",
          "text": [
            "НЕЙРОНКА:  Embedding + LSTM\n",
            "\n",
            "О. Генри  распознано  44 % сеть считает, что это  О. Генри ,  распознано ВЕРНО!\n",
            "Стругацкие  распознано  44 % сеть считает, что это  Стругацкие ,  распознано ВЕРНО!\n",
            "Булгаков  распознано  80 % сеть считает, что это  Булгаков ,  распознано ВЕРНО!\n",
            "Саймак  распознано  64 % сеть считает, что это  Саймак ,  распознано ВЕРНО!\n",
            "Фрай  распознано  74 % сеть считает, что это  Фрай ,  распознано ВЕРНО!\n",
            "Брэдбери  распознано  64 % сеть считает, что это  Брэдбери ,  распознано ВЕРНО!\n",
            "\n",
            "Средний процент распознавания  65 %\n",
            "\n"
          ],
          "name": "stdout"
        }
      ]
    },
    {
      "cell_type": "code",
      "metadata": {
        "id": "oUy6GObm26Rr",
        "outputId": "f218f43c-31d3-4194-bd0c-48d9ccd65628",
        "colab": {
          "base_uri": "https://localhost:8080/",
          "height": 680
        }
      },
      "source": [
        "print(modelEC.summary()) # выведем на экран данные о модели"
      ],
      "execution_count": null,
      "outputs": [
        {
          "output_type": "stream",
          "text": [
            "Model: \"sequential_12\"\n",
            "_________________________________________________________________\n",
            "Layer (type)                 Output Shape              Param #   \n",
            "=================================================================\n",
            "embedding_12 (Embedding)     (None, 1000, 10)          200000    \n",
            "_________________________________________________________________\n",
            "spatial_dropout1d_12 (Spatia (None, 1000, 10)          0         \n",
            "_________________________________________________________________\n",
            "lstm_12 (LSTM)               (None, 1000, 4)           240       \n",
            "_________________________________________________________________\n",
            "dense_18 (Dense)             (None, 1000, 100)         500       \n",
            "_________________________________________________________________\n",
            "conv1d_23 (Conv1D)           (None, 996, 20)           10020     \n",
            "_________________________________________________________________\n",
            "lstm_13 (LSTM)               (None, 996, 4)            400       \n",
            "_________________________________________________________________\n",
            "dropout_20 (Dropout)         (None, 996, 4)            0         \n",
            "_________________________________________________________________\n",
            "batch_normalization_27 (Batc (None, 996, 4)            16        \n",
            "_________________________________________________________________\n",
            "conv1d_24 (Conv1D)           (None, 992, 20)           420       \n",
            "_________________________________________________________________\n",
            "conv1d_25 (Conv1D)           (None, 988, 20)           2020      \n",
            "_________________________________________________________________\n",
            "max_pooling1d_12 (MaxPooling (None, 494, 20)           0         \n",
            "_________________________________________________________________\n",
            "dropout_21 (Dropout)         (None, 494, 20)           0         \n",
            "_________________________________________________________________\n",
            "batch_normalization_28 (Batc (None, 494, 20)           80        \n",
            "_________________________________________________________________\n",
            "flatten_10 (Flatten)         (None, 9880)              0         \n",
            "_________________________________________________________________\n",
            "dense_19 (Dense)             (None, 6)                 59286     \n",
            "=================================================================\n",
            "Total params: 272,982\n",
            "Trainable params: 272,934\n",
            "Non-trainable params: 48\n",
            "_________________________________________________________________\n",
            "None\n"
          ],
          "name": "stdout"
        }
      ]
    },
    {
      "cell_type": "markdown",
      "metadata": {
        "id": "p4K32gEPmDA6"
      },
      "source": [
        "**Embedding + Conv1D**\n"
      ]
    },
    {
      "cell_type": "code",
      "metadata": {
        "id": "MlntD2yQmIws",
        "outputId": "0c60c471-fa3b-49da-b297-3d1f1b46a096",
        "colab": {
          "base_uri": "https://localhost:8080/",
          "height": 1000
        }
      },
      "source": [
        "modelEC = Sequential() # создаём последовательную модель нейросети\n",
        "# преобразовываем каждое слово в многомерный вектор c указанием размерности вектора и длины входных данных\n",
        "modelEC.add(Embedding(maxWordsCount, 10, input_length=xLen))\n",
        "\n",
        "modelEC.add(SpatialDropout1D(0.2)) # добавляем слой регуляризации, \"выключая\" 1D карты объектов из эмбединг векторов, во избежание переобучения\n",
        "\n",
        "modelEC.add(BatchNormalization())  # добавляем слой нормализации данных\n",
        "modelEC.add(Conv1D(20, 5, activation=\"relu\")) # добавляем одномерный сверточный слой, указывая кол-во фильтров и ширину окна для фильтров \n",
        "modelEC.add(MaxPooling1D(2)) # добавляем слой подвыборки/пулинга с функцией максимума\n",
        "\n",
        "modelEC.add(Conv1D(20, 5, activation=\"relu\")) # добавляем одномерный сверточный слой, указывая кол-во фильтров и ширину окна для фильтров \n",
        "modelEC.add(MaxPooling1D(2)) # добавляем слой подвыборки/пулинга с функцией максимума\n",
        "modelEC.add(Dropout(0.2)) # добавляем слой регуляризации, \"выключая\" указанное количество нейронов, во избежание переобучения\n",
        "\n",
        "modelEC.add(BatchNormalization()) # добавляем слой нормализации данных\n",
        "modelEC.add(Flatten()) # добавляем слой выравнивания/сглаживания (\"сплющиваем\" данные в вектор)\n",
        "modelEC.add(Dense(6, activation='softmax')) # добавляем полносвязный слой на 6 нейронов, с функцией активации softmax на выходном слое\n",
        "\n",
        "# Компиляция, составление модели с выбором алгоритма оптимизации, функции потерь и метрики точности\n",
        "modelEC.compile(optimizer='rmsprop', \n",
        "              loss='categorical_crossentropy', \n",
        "              metrics=['accuracy'])\n",
        "\n",
        "# Обучаем сеть с указанием тренировочной выборки, количества эпох, размера минибатча для подачи сети, и тестовой выборки\n",
        "history = modelEC.fit(xTrain, \n",
        "                    yTrain, \n",
        "                    epochs=30,\n",
        "                    batch_size=200,\n",
        "                    validation_data=(xTest, yTest))\n",
        "\n",
        "# Строим график для отображения динамики обучения и точности предсказания сети\n",
        "plt.plot(history.history['accuracy'], \n",
        "         label='Доля верных ответов на обучающем наборе')\n",
        "plt.plot(history.history['val_accuracy'], \n",
        "         label='Доля верных ответов на проверочном наборе')\n",
        "plt.xlabel('Эпоха обучения')\n",
        "plt.ylabel('Доля верных ответов')\n",
        "plt.legend()\n",
        "plt.show()\n",
        "\n",
        "pred = recognizeMultiClass(modelEC, xTest6Classes, \"Embedding + Conv1D\") #функция покажет какие классы и как распознаны верно"
      ],
      "execution_count": null,
      "outputs": [
        {
          "output_type": "stream",
          "text": [
            "Epoch 1/30\n",
            "89/89 [==============================] - 2s 19ms/step - loss: 1.2810 - accuracy: 0.5389 - val_loss: 2.5328 - val_accuracy: 0.1611\n",
            "Epoch 2/30\n",
            "89/89 [==============================] - 2s 17ms/step - loss: 0.0906 - accuracy: 0.9715 - val_loss: 4.7797 - val_accuracy: 0.1611\n",
            "Epoch 3/30\n",
            "89/89 [==============================] - 2s 17ms/step - loss: 0.0180 - accuracy: 0.9942 - val_loss: 3.4941 - val_accuracy: 0.2403\n",
            "Epoch 4/30\n",
            "89/89 [==============================] - 2s 17ms/step - loss: 0.0126 - accuracy: 0.9964 - val_loss: 6.8355 - val_accuracy: 0.1611\n",
            "Epoch 5/30\n",
            "89/89 [==============================] - 2s 17ms/step - loss: 0.0094 - accuracy: 0.9966 - val_loss: 5.6633 - val_accuracy: 0.1832\n",
            "Epoch 6/30\n",
            "89/89 [==============================] - 2s 17ms/step - loss: 0.0094 - accuracy: 0.9967 - val_loss: 2.3325 - val_accuracy: 0.5059\n",
            "Epoch 7/30\n",
            "89/89 [==============================] - 2s 17ms/step - loss: 0.0074 - accuracy: 0.9976 - val_loss: 1.3979 - val_accuracy: 0.6638\n",
            "Epoch 8/30\n",
            "89/89 [==============================] - 2s 17ms/step - loss: 0.0066 - accuracy: 0.9978 - val_loss: 2.3312 - val_accuracy: 0.6203\n",
            "Epoch 9/30\n",
            "89/89 [==============================] - 2s 17ms/step - loss: 0.0066 - accuracy: 0.9981 - val_loss: 2.6848 - val_accuracy: 0.6065\n",
            "Epoch 10/30\n",
            "89/89 [==============================] - 2s 17ms/step - loss: 0.0061 - accuracy: 0.9978 - val_loss: 1.4503 - val_accuracy: 0.7196\n",
            "Epoch 11/30\n",
            "89/89 [==============================] - 2s 17ms/step - loss: 0.0070 - accuracy: 0.9976 - val_loss: 2.8170 - val_accuracy: 0.5802\n",
            "Epoch 12/30\n",
            "89/89 [==============================] - 2s 17ms/step - loss: 0.0089 - accuracy: 0.9979 - val_loss: 2.2701 - val_accuracy: 0.6422\n",
            "Epoch 13/30\n",
            "89/89 [==============================] - 2s 17ms/step - loss: 0.0052 - accuracy: 0.9981 - val_loss: 2.9112 - val_accuracy: 0.6552\n",
            "Epoch 14/30\n",
            "89/89 [==============================] - 2s 18ms/step - loss: 0.0064 - accuracy: 0.9976 - val_loss: 2.6640 - val_accuracy: 0.6398\n",
            "Epoch 15/30\n",
            "89/89 [==============================] - 2s 18ms/step - loss: 0.0057 - accuracy: 0.9977 - val_loss: 2.9730 - val_accuracy: 0.5973\n",
            "Epoch 16/30\n",
            "89/89 [==============================] - 2s 17ms/step - loss: 0.0075 - accuracy: 0.9976 - val_loss: 3.9632 - val_accuracy: 0.5223\n",
            "Epoch 17/30\n",
            "89/89 [==============================] - 2s 17ms/step - loss: 0.0060 - accuracy: 0.9977 - val_loss: 2.2410 - val_accuracy: 0.6392\n",
            "Epoch 18/30\n",
            "89/89 [==============================] - 2s 17ms/step - loss: 0.0057 - accuracy: 0.9981 - val_loss: 2.2206 - val_accuracy: 0.6853\n",
            "Epoch 19/30\n",
            "89/89 [==============================] - 2s 17ms/step - loss: 0.0052 - accuracy: 0.9982 - val_loss: 2.4529 - val_accuracy: 0.6254\n",
            "Epoch 20/30\n",
            "89/89 [==============================] - 2s 17ms/step - loss: 0.0051 - accuracy: 0.9984 - val_loss: 2.4727 - val_accuracy: 0.6573\n",
            "Epoch 21/30\n",
            "89/89 [==============================] - 2s 17ms/step - loss: 0.0068 - accuracy: 0.9977 - val_loss: 2.1268 - val_accuracy: 0.6977\n",
            "Epoch 22/30\n",
            "89/89 [==============================] - 2s 17ms/step - loss: 0.0049 - accuracy: 0.9984 - val_loss: 1.8477 - val_accuracy: 0.7188\n",
            "Epoch 23/30\n",
            "89/89 [==============================] - 2s 17ms/step - loss: 0.0062 - accuracy: 0.9982 - val_loss: 2.6824 - val_accuracy: 0.6444\n",
            "Epoch 24/30\n",
            "89/89 [==============================] - 2s 17ms/step - loss: 0.0052 - accuracy: 0.9985 - val_loss: 3.7284 - val_accuracy: 0.5427\n",
            "Epoch 25/30\n",
            "89/89 [==============================] - 2s 17ms/step - loss: 0.0054 - accuracy: 0.9986 - val_loss: 2.4837 - val_accuracy: 0.6804\n",
            "Epoch 26/30\n",
            "89/89 [==============================] - 2s 17ms/step - loss: 0.0057 - accuracy: 0.9982 - val_loss: 1.8497 - val_accuracy: 0.7173\n",
            "Epoch 27/30\n",
            "89/89 [==============================] - 2s 17ms/step - loss: 0.0039 - accuracy: 0.9988 - val_loss: 4.0634 - val_accuracy: 0.6162\n",
            "Epoch 28/30\n",
            "89/89 [==============================] - 2s 17ms/step - loss: 0.0057 - accuracy: 0.9982 - val_loss: 2.1537 - val_accuracy: 0.6880\n",
            "Epoch 29/30\n",
            "89/89 [==============================] - 2s 17ms/step - loss: 0.0042 - accuracy: 0.9986 - val_loss: 5.6716 - val_accuracy: 0.5634\n",
            "Epoch 30/30\n",
            "89/89 [==============================] - 2s 17ms/step - loss: 0.0037 - accuracy: 0.9989 - val_loss: 2.2258 - val_accuracy: 0.7199\n"
          ],
          "name": "stdout"
        },
        {
          "output_type": "display_data",
          "data": {
            "image/png": "[encoded data removed]",
            "text/plain": [
              "<Figure size 432x288 with 1 Axes>"
            ]
          },
          "metadata": {
            "tags": [],
            "needs_background": "light"
          }
        },
        {
          "output_type": "stream",
          "text": [
            "НЕЙРОНКА:  Embedding + Conv1D\n",
            "\n",
            "О. Генри  распознано  72 % сеть считает, что это  О. Генри ,  распознано ВЕРНО!\n",
            "Стругацкие  распознано  47 % сеть считает, что это  Стругацкие ,  распознано ВЕРНО!\n",
            "Булгаков  распознано  68 % сеть считает, что это  Булгаков ,  распознано ВЕРНО!\n",
            "Саймак  распознано  78 % сеть считает, что это  Саймак ,  распознано ВЕРНО!\n",
            "Фрай  распознано  80 % сеть считает, что это  Фрай ,  распознано ВЕРНО!\n",
            "Брэдбери  распознано  80 % сеть считает, что это  Брэдбери ,  распознано ВЕРНО!\n",
            "\n",
            "Средний процент распознавания  71 %\n",
            "\n"
          ],
          "name": "stdout"
        }
      ]
    },
    {
      "cell_type": "code",
      "metadata": {
        "id": "Q6cKObCq3O3p",
        "outputId": "69c9bbf4-1fd4-4e60-9fdc-eb92458d5c98",
        "colab": {
          "base_uri": "https://localhost:8080/",
          "height": 544
        }
      },
      "source": [
        "print(modelEC.summary()) # выведем на экран данные о модели"
      ],
      "execution_count": null,
      "outputs": [
        {
          "output_type": "stream",
          "text": [
            "Model: \"sequential_23\"\n",
            "_________________________________________________________________\n",
            "Layer (type)                 Output Shape              Param #   \n",
            "=================================================================\n",
            "embedding_23 (Embedding)     (None, 1000, 10)          200000    \n",
            "_________________________________________________________________\n",
            "spatial_dropout1d_23 (Spatia (None, 1000, 10)          0         \n",
            "_________________________________________________________________\n",
            "batch_normalization_51 (Batc (None, 1000, 10)          40        \n",
            "_________________________________________________________________\n",
            "conv1d_28 (Conv1D)           (None, 996, 20)           1020      \n",
            "_________________________________________________________________\n",
            "max_pooling1d_15 (MaxPooling (None, 498, 20)           0         \n",
            "_________________________________________________________________\n",
            "conv1d_29 (Conv1D)           (None, 494, 20)           2020      \n",
            "_________________________________________________________________\n",
            "max_pooling1d_16 (MaxPooling (None, 247, 20)           0         \n",
            "_________________________________________________________________\n",
            "dropout_34 (Dropout)         (None, 247, 20)           0         \n",
            "_________________________________________________________________\n",
            "batch_normalization_52 (Batc (None, 247, 20)           80        \n",
            "_________________________________________________________________\n",
            "flatten_20 (Flatten)         (None, 4940)              0         \n",
            "_________________________________________________________________\n",
            "dense_36 (Dense)             (None, 6)                 29646     \n",
            "=================================================================\n",
            "Total params: 232,806\n",
            "Trainable params: 232,746\n",
            "Non-trainable params: 60\n",
            "_________________________________________________________________\n",
            "None\n"
          ],
          "name": "stdout"
        }
      ]
    },
    {
      "cell_type": "markdown",
      "metadata": {
        "id": "t2EQNRBGP3-b"
      },
      "source": [
        "**Embedding + сложная сеть из Dense, LSTM и Conv1D**"
      ]
    },
    {
      "cell_type": "code",
      "metadata": {
        "id": "wAvFzye_i_-l",
        "outputId": "29f7e25b-289a-4c5f-811e-b56b44905704",
        "colab": {
          "base_uri": "https://localhost:8080/",
          "height": 806
        }
      },
      "source": [
        "modelEC = Sequential() # создаём последовательную модель нейросети\n",
        "# преобразовываем каждое слово в многомерный вектор c указанием размерности вектора и длины входных данных\n",
        "modelEC.add(Embedding(maxWordsCount, 10, input_length=xLen))\n",
        "\n",
        "modelEC.add(SpatialDropout1D(0.2)) # добавляем слой регуляризации, \"выключая\" 1D карты объектов из эмбединг векторов, во избежание переобучения\n",
        "\n",
        "modelEC.add(LSTM(4, return_sequences=1)) # добавляем слой LSTM, совместимый с Cuda при поддержке GPU\n",
        "\n",
        "modelEC.add(Dense(100, activation='relu')) # добавляем полносвязный слой с указанием количества нейронов и функции активации\n",
        "modelEC.add(Dropout(0.4)) # добавляем слой регуляризации, \"выключая\" указанное количество нейронов, во избежание переобучения\n",
        "\n",
        "modelEC.add(Conv1D(20, 5, activation=\"relu\")) # добавляем одномерный сверточный слой, указывая кол-во фильтров и ширину окна для фильтров \n",
        "modelEC.add(MaxPooling1D(2)) # добавляем слой подвыборки/пулинга с функцией максимума\n",
        "\n",
        "modelEC.add(LSTM(4, return_sequences=1)) # добавляем слой LSTM, совместимый с Cuda при поддержке GPU\n",
        "\n",
        "modelEC.add(Conv1D(20, 5, activation=\"relu\")) # добавляем одномерный сверточный слой, указывая кол-во фильтров и ширину окна для фильтров \n",
        "modelEC.add(Conv1D(20, 5, activation=\"relu\")) # добавляем одномерный сверточный слой, указывая кол-во фильтров и ширину окна для фильтров\n",
        "modelEC.add(MaxPooling1D(2)) # добавляем слой подвыборки/пулинга с функцией максимума\n",
        "modelEC.add(Dropout(0.2)) # добавляем слой регуляризации, \"выключая\" указанное количество нейронов, во избежание переобучения\n",
        "\n",
        "modelEC.add(BatchNormalization()) # добавляем слой нормализации данных\n",
        "modelEC.add(Flatten()) # добавляем слой выравнивания/сглаживания (\"сплющиваем\" данные в вектор)\n",
        "modelEC.add(Dense(6, activation='softmax')) # добавляем полносвязный слой на 6 нейронов, с функцией активации softmax на выходном слое\n",
        "\n",
        "# Компиляция, составление модели с выбором алгоритма оптимизации, функции потерь и метрики точности\n",
        "modelEC.compile(optimizer='rmsprop', \n",
        "              loss='categorical_crossentropy', \n",
        "              metrics=['accuracy'])\n",
        "\n",
        "# Обучаем сеть с указанием тренировочной выборки, количества эпох, размера минибатча для подачи сети, и тестовой выборки\n",
        "history = modelEC.fit(xTrain, \n",
        "                    yTrain, \n",
        "                    epochs=10,\n",
        "                    batch_size=200,\n",
        "                    validation_data=(xTest, yTest))\n",
        "\n",
        "# Строим график для отображения динамики обучения и точности предсказания сети\n",
        "plt.plot(history.history['accuracy'], \n",
        "         label='Доля верных ответов на обучающем наборе')\n",
        "plt.plot(history.history['val_accuracy'], \n",
        "         label='Доля верных ответов на проверочном наборе')\n",
        "plt.xlabel('Эпоха обучения')\n",
        "plt.ylabel('Доля верных ответов')\n",
        "plt.legend()\n",
        "plt.show()\n",
        "\n",
        "pred = recognizeMultiClass(modelEC, xTest6Classes, \"Embedding + сложная сеть из Dense, LSTM и Conv1D\") #функция покажет какие классы и как распознаны верно"
      ],
      "execution_count": null,
      "outputs": [
        {
          "output_type": "stream",
          "text": [
            "Epoch 1/10\n",
            "89/89 [==============================] - 9s 102ms/step - loss: 0.5752 - accuracy: 0.7659 - val_loss: 2.6328 - val_accuracy: 0.1638\n",
            "Epoch 2/10\n",
            "89/89 [==============================] - 8s 91ms/step - loss: 0.0430 - accuracy: 0.9865 - val_loss: 4.2382 - val_accuracy: 0.1611\n",
            "Epoch 3/10\n",
            "89/89 [==============================] - 8s 90ms/step - loss: 0.0213 - accuracy: 0.9926 - val_loss: 5.3294 - val_accuracy: 0.2633\n",
            "Epoch 4/10\n",
            "89/89 [==============================] - 8s 93ms/step - loss: 0.0166 - accuracy: 0.9948 - val_loss: 2.2240 - val_accuracy: 0.3853\n",
            "Epoch 5/10\n",
            "89/89 [==============================] - 9s 96ms/step - loss: 0.0146 - accuracy: 0.9950 - val_loss: 10.5051 - val_accuracy: 0.2606\n",
            "Epoch 6/10\n",
            "89/89 [==============================] - 9s 96ms/step - loss: 0.0143 - accuracy: 0.9954 - val_loss: 6.2832 - val_accuracy: 0.3961\n",
            "Epoch 7/10\n",
            "89/89 [==============================] - 9s 96ms/step - loss: 0.0112 - accuracy: 0.9964 - val_loss: 5.4730 - val_accuracy: 0.3223\n",
            "Epoch 8/10\n",
            "89/89 [==============================] - 9s 96ms/step - loss: 0.0112 - accuracy: 0.9962 - val_loss: 4.2211 - val_accuracy: 0.4783\n",
            "Epoch 9/10\n",
            "89/89 [==============================] - 8s 95ms/step - loss: 0.0112 - accuracy: 0.9965 - val_loss: 3.0664 - val_accuracy: 0.5536\n",
            "Epoch 10/10\n",
            "89/89 [==============================] - 8s 92ms/step - loss: 0.0098 - accuracy: 0.9971 - val_loss: 2.9813 - val_accuracy: 0.5706\n"
          ],
          "name": "stdout"
        },
        {
          "output_type": "display_data",
          "data": {
            "image/png": "[encoded data removed]",
            "text/plain": [
              "<Figure size 432x288 with 1 Axes>"
            ]
          },
          "metadata": {
            "tags": [],
            "needs_background": "light"
          }
        },
        {
          "output_type": "stream",
          "text": [
            "НЕЙРОНКА:  Embedding + сложная сеть из Dense, LSTM и Conv1D\n",
            "\n",
            "О. Генри  распознано  19 % сеть считает, что это  Брэдбери ,  распознано НЕ ВЕРНО!\n",
            "Стругацкие  распознано  59 % сеть считает, что это  Стругацкие ,  распознано ВЕРНО!\n",
            "Булгаков  распознано  69 % сеть считает, что это  Булгаков ,  распознано ВЕРНО!\n",
            "Саймак  распознано  73 % сеть считает, что это  Саймак ,  распознано ВЕРНО!\n",
            "Фрай  распознано  69 % сеть считает, что это  Фрай ,  распознано ВЕРНО!\n",
            "Брэдбери  распознано  32 % сеть считает, что это  Саймак ,  распознано НЕ ВЕРНО!\n",
            "\n",
            "Средний процент распознавания  57 %\n",
            "\n"
          ],
          "name": "stdout"
        }
      ]
    },
    {
      "cell_type": "code",
      "metadata": {
        "id": "aGd2K3jr7eLe",
        "outputId": "6e3565fe-9f59-4097-8da2-1e31b0af7d0d",
        "colab": {
          "base_uri": "https://localhost:8080/",
          "height": 612
        }
      },
      "source": [
        "print(modelEC.summary()) # выведем на экран данные о модели"
      ],
      "execution_count": null,
      "outputs": [
        {
          "output_type": "stream",
          "text": [
            "Model: \"sequential_31\"\n",
            "_________________________________________________________________\n",
            "Layer (type)                 Output Shape              Param #   \n",
            "=================================================================\n",
            "embedding_31 (Embedding)     (None, 1000, 10)          200000    \n",
            "_________________________________________________________________\n",
            "spatial_dropout1d_31 (Spatia (None, 1000, 10)          0         \n",
            "_________________________________________________________________\n",
            "lstm_32 (LSTM)               (None, 1000, 4)           240       \n",
            "_________________________________________________________________\n",
            "dense_51 (Dense)             (None, 1000, 100)         500       \n",
            "_________________________________________________________________\n",
            "dropout_48 (Dropout)         (None, 1000, 100)         0         \n",
            "_________________________________________________________________\n",
            "conv1d_45 (Conv1D)           (None, 996, 20)           10020     \n",
            "_________________________________________________________________\n",
            "max_pooling1d_21 (MaxPooling (None, 498, 20)           0         \n",
            "_________________________________________________________________\n",
            "conv1d_46 (Conv1D)           (None, 494, 20)           2020      \n",
            "_________________________________________________________________\n",
            "conv1d_47 (Conv1D)           (None, 490, 20)           2020      \n",
            "_________________________________________________________________\n",
            "dropout_49 (Dropout)         (None, 490, 20)           0         \n",
            "_________________________________________________________________\n",
            "batch_normalization_62 (Batc (None, 490, 20)           80        \n",
            "_________________________________________________________________\n",
            "flatten_28 (Flatten)         (None, 9800)              0         \n",
            "_________________________________________________________________\n",
            "dense_52 (Dense)             (None, 6)                 58806     \n",
            "=================================================================\n",
            "Total params: 273,686\n",
            "Trainable params: 273,646\n",
            "Non-trainable params: 40\n",
            "_________________________________________________________________\n",
            "None\n"
          ],
          "name": "stdout"
        }
      ]
    },
    {
      "cell_type": "markdown",
      "metadata": {
        "id": "HMey9i-FkcQ5"
      },
      "source": [
        "**Итоги:** \n",
        "\n",
        "Название модели / Точность на пров.выборке / Точность по писателям\n",
        "\n",
        "Embedding + Dense / 60% / 60%\n",
        "\n",
        "Embedding + LTSM / 65% / 65%\n",
        "\n",
        "Embedding + Conv1D / 72% / 71%  \n",
        "\n",
        "Embedding+Dense+LSTM+Conv1D / 57% / 57% \n",
        "\n",
        "Перспективными для улучшения кажутся модели Embedding+LTSM  и Embedding+Conv1D.\n",
        "\n",
        "\n",
        "\n",
        "\n"
      ]
    },
    {
      "cell_type": "markdown",
      "metadata": {
        "id": "XO5EboyLcd6I"
      },
      "source": [
        "#PRO# \n",
        "\n",
        "**Вариант 1**\n",
        "\n",
        "Напишите классификацию заболеваний по базе симптомов, используя любые подходы,\n",
        "связанные с обработкой текстов.\n",
        "1. Embedding + LSTM сеть.\n",
        "2. Embedding + Conv1D сеть.\n",
        "3. Embedding + сложная сеть из Dense, LSTM и Conv1D.\n",
        "\n",
        "Добейтесь максимальной точности распознавания.\n",
        "Используйте xLen = 50."
      ]
    },
    {
      "cell_type": "code",
      "metadata": {
        "id": "gvTLQs7JK0kP",
        "outputId": "e03e187e-71b8-4e6d-89a8-71312eea3730",
        "colab": {
          "base_uri": "https://localhost:8080/",
          "height": 51
        }
      },
      "source": [
        "# Загружаем данные и приступаем к их обработке\n",
        "\n",
        "drive.mount('/content/drive') #подключаем google drive \n",
        "\n",
        "!rm -R /content/diseases  #если уже есть папка deseases то удаляем ее\n",
        "\n",
        "# Указываем путь к базе в Google Drive, создаем папку texts и извлекаем туда базу\n",
        "!unzip -q '/content/drive/My Drive/my_sample_data/Д.З.18/Болезни.zip' -d /content/diseases \n",
        "\n",
        "#print('\\n', os.listdir('diseases/Болезни'))"
      ],
      "execution_count": null,
      "outputs": [
        {
          "output_type": "stream",
          "text": [
            "Mounted at /content/drive\n",
            "rm: cannot remove '/content/diseases': No such file or directory\n"
          ],
          "name": "stdout"
        }
      ]
    },
    {
      "cell_type": "code",
      "metadata": {
        "id": "CUvJTB8Hgyr4",
        "outputId": "6f90f8e1-96c4-4747-de1a-73e26b3f965e",
        "colab": {
          "base_uri": "https://localhost:8080/",
          "height": 51
        }
      },
      "source": [
        "className = os.listdir('diseases/Болезни')    # Классы болезней = список файлов из папки\n",
        "nClasses = len(className) # Количество классов (=болезней)\n",
        "\n",
        "# Избавимся от .txt названиях классов\n",
        "for i in range(nClasses):\n",
        "  className[i] = className[i][0:-4]\n",
        "  #print(i, className[i])\n",
        "\n",
        "print(className)\n",
        "print(nClasses)"
      ],
      "execution_count": null,
      "outputs": [
        {
          "output_type": "stream",
          "text": [
            "['Дуоденит', 'Гастрит', 'Колит', 'Энтерит', 'Гепатит', 'Панкреатит', 'Язва', 'Холицестит', 'Эзофагит', 'Аппендицит']\n",
            "10\n"
          ],
          "name": "stdout"
        }
      ]
    },
    {
      "cell_type": "code",
      "metadata": {
        "id": "GS_Q8BLrax2E"
      },
      "source": [
        "# Функция для чтения файла. \n",
        "\n",
        "def readText(fileName):          # На вход отправляем путь к файлу\n",
        "  f = open(fileName, 'r')        # Задаем открытие нужного файла в режиме чтения\n",
        "  text = f.read()                # Читаем текст\n",
        "  text = text.replace(\"\\n\", \" \") # Переносы строки переводим в пробелы\n",
        "  \n",
        "  return text                    # Возвращаем текст файла\n"
      ],
      "execution_count": null,
      "outputs": []
    },
    {
      "cell_type": "code",
      "metadata": {
        "id": "gSj-l55RL7vj",
        "outputId": "f24f31dc-1cd0-4e47-9e85-c480b439cd2c",
        "colab": {
          "base_uri": "https://localhost:8080/",
          "height": 238
        }
      },
      "source": [
        "#Загружаем тексты\n",
        "\n",
        "trainText = [] #пустой список обучающие тексты\n",
        "testText = []  #пустой список тестовые тексты\n",
        " \n",
        "#Класс каждого i-ого эллемента в обучающей выборке будет соответствовать \n",
        "#классу каждого i-ого эллемента в тестовой выборке\n",
        "\n",
        "# Цикл по классам\n",
        "for i in className:\n",
        "  # Цикл по  файлам в папке\n",
        "  for j in os.listdir('diseases/Болезни/'):\n",
        "    if i in j:\n",
        "      fileText = readText('diseases/Болезни/' + j) #текст из файла\n",
        "      print('Обрабатывается файл', j,'длиной', len(fileText), 'символов')\n",
        "\n",
        "      # Разбиваем текст из файла на обучающую и проверочную выборку\n",
        "      # 20% текста, начинающиеся с произвольного места, пойдут в проверочную выборку\n",
        "      # остальные 80% текста пойдут обучающую выборку\n",
        "\n",
        "      # Делим по целым словам чтобы не портить текст.\n",
        "      # Сделаем список слов разделением по пробелам\n",
        "      tempText = fileText.split(' ')\n",
        "      # a и b - случайные границы интервала 20% \n",
        "      a = random.randint(0, round(0.8*len(tempText)))\n",
        "      b = a + round(0.2*len(tempText))\n",
        "      # при добавлении объединяем список слов обратно в сплошную строку\n",
        "      trainText.append(' '.join(tempText[:a] + tempText[b:])) #добавляем в обучающую выборку\n",
        "      testText.append(' '.join(tempText[a:b])) #добавляем в тестовую выборку\n",
        "      \n",
        "\n",
        "print()\n",
        "print('Количество элементов в trainText', len(trainText))  \n",
        "print('Количество элементов в testText', len(testText)) "
      ],
      "execution_count": null,
      "outputs": [
        {
          "output_type": "stream",
          "text": [
            "Обрабатывается файл Дуоденит.txt длиной 3941 символов\n",
            "Обрабатывается файл Гастрит.txt длиной 6717 символов\n",
            "Обрабатывается файл Колит.txt длиной 9127 символов\n",
            "Обрабатывается файл Энтерит.txt длиной 6383 символов\n",
            "Обрабатывается файл Гепатит.txt длиной 5523 символов\n",
            "Обрабатывается файл Панкреатит.txt длиной 11313 символов\n",
            "Обрабатывается файл Язва.txt длиной 3460 символов\n",
            "Обрабатывается файл Холицестит.txt длиной 6157 символов\n",
            "Обрабатывается файл Эзофагит.txt длиной 5867 символов\n",
            "Обрабатывается файл Аппендицит.txt длиной 4075 символов\n",
            "\n",
            "Количество элементов в trainText 10\n",
            "Количество элементов в testText 10\n"
          ],
          "name": "stdout"
        }
      ]
    },
    {
      "cell_type": "code",
      "metadata": {
        "id": "PMgUnV7PfFfB"
      },
      "source": [
        "# Текстовые данные преобразуем в числовые (векторные)\n",
        "\n",
        "maxWordsCount = 1000 # определяем макс.кол-во слов/индексов, учитываемое при обучении текстов\n",
        "\n",
        "# функция Tokenizer для разбиения текста и превращения в матрицу числовых значений (словарь частотности слов)\n",
        "tokenizer = Tokenizer(num_words=maxWordsCount, filters='–—!\"#$%&()*+,-./:;<=>?@[\\\\]^_`{|}~\\t\\n\\xa0–\\ufeff', lower=True, split=' ', char_level=False, oov_token = 'unknown')\n",
        "\n",
        "tokenizer.fit_on_texts(trainText) #обрабатываем тексты\n",
        "\n",
        "items = list(tokenizer.word_index.items()) #вытаскиваем индексы слов для просмотра"
      ],
      "execution_count": null,
      "outputs": []
    },
    {
      "cell_type": "code",
      "metadata": {
        "id": "e6NJ81wxGOLO",
        "outputId": "00e223f5-c7b8-441e-9a04-8caedece506b",
        "colab": {
          "base_uri": "https://localhost:8080/",
          "height": 122
        }
      },
      "source": [
        "# Посмотрим что получилось в словаре\n",
        "print(\"Размер словаря (уникальных слов)\", len(items)) # Длина словаря\n",
        "print(type(items[0])) #получился список кортежей\n",
        "print(items[:20]) # Посмотрим 20 самых часто встречающихся слов\n",
        "print(\"Интересующее слово имеет индекс: \", tokenizer.word_index[input(\"Уточните слово: \")]) #протестируем словарь частотности"
      ],
      "execution_count": null,
      "outputs": [
        {
          "output_type": "stream",
          "text": [
            "Размер словаря (уникальных слов) 1749\n",
            "<class 'tuple'>\n",
            "[('unknown', 1), ('в', 2), ('и', 3), ('боль', 4), ('боли', 5), ('или', 6), ('тошнота', 7), ('рвота', 8), ('живота', 9), ('животе', 10), ('области', 11), ('при', 12), ('отрыжка', 13), ('после', 14), ('слабость', 15), ('во', 16), ('с', 17), ('аппетита', 18), ('тела', 19), ('изжога', 20)]\n",
            "Уточните слово: слабость\n",
            "Интересующее слово имеет индекс:  15\n"
          ],
          "name": "stdout"
        }
      ]
    },
    {
      "cell_type": "code",
      "metadata": {
        "id": "3gGhgH0sfags",
        "outputId": "f4f8c86f-498b-485d-8c00-1cfe7800bd6d",
        "colab": {
          "base_uri": "https://localhost:8080/",
          "height": 85
        }
      },
      "source": [
        "# Преобразовываем текст в последовательность индексов согласно частотному словарю\n",
        "trainWordIndexes = tokenizer.texts_to_sequences(trainText) # Обучающие тексты в индексы\n",
        "testWordIndexes = tokenizer.texts_to_sequences(testText)  # Проверочные тексты в индексы\n",
        "\n",
        "print('Пример кодирования текста')\n",
        "print('Оригинальный текст:              ', trainText[2][:72])\n",
        "print('Текст кодированный по индексам: ', trainWordIndexes[2][:9], '\\n')"
      ],
      "execution_count": null,
      "outputs": [
        {
          "output_type": "stream",
          "text": [
            "Пример кодирования текста\n",
            "Оригинальный текст:               постоянные позывы на дефекацию, урчание, вздутие живота, профузный понос\n",
            "Текст кодированный по индексам:  [373, 64, 30, 184, 46, 26, 9, 838, 53] \n",
            "\n"
          ],
          "name": "stdout"
        }
      ]
    },
    {
      "cell_type": "code",
      "metadata": {
        "id": "7UrHuWolfvJo",
        "outputId": "a309fb40-eed1-4b81-e03b-d0cdefaea4cd",
        "colab": {
          "base_uri": "https://localhost:8080/",
          "height": 493
        }
      },
      "source": [
        "#Посчитаем статистику по текстам\n",
        "\n",
        "print(\"Статистика по обучающим текстам:\")\n",
        "\n",
        "symbolsTrainText = 0 # символов в обучающих текстах\n",
        "wordsTrainText = 0   # слов в обучающих текстах\n",
        "\n",
        "for i in range(nClasses): # Проходим по всем классам\n",
        "  print(className[i], \" \"*(10-len(className[i])), len(trainText[i]), \"символов, \", len(trainWordIndexes[i]), \"слов\")\n",
        "  symbolsTrainText += len(trainText[i]) # Считаем символы\n",
        "  wordsTrainText += len(trainWordIndexes[i]) # Считаем слова \n",
        "\n",
        "print('----')\n",
        "print(\"В сумме \", symbolsTrainText, \" символов, \", wordsTrainText, \" слов \\n\")\n",
        "print()\n",
        "print(\"Статистика по тестовым текстам:\")\n",
        "\n",
        "symbolsTestText = 0 # Объявляем переменную для подсчета символов в тестовых текстах\n",
        "wordsTestText = 0 # Объявляем переменную для подсчета слов в тестовых текстах\n",
        "\n",
        "for i in range(nClasses): #Проходим по всем классам\n",
        "  print(className[i], ' '*(10-len(className[i])), len(testText[i]), \"символов, \", len(testWordIndexes[i]), \"слов\")\n",
        "  symbolsTestText += len(testText[i]) #Считаем символы\n",
        "  wordsTestText += len(testWordIndexes[i]) #Считаем слова \n",
        "print('----')\n",
        "print(\"В сумме \", symbolsTestText, \" символов, \", wordsTestText, \" слов\")"
      ],
      "execution_count": null,
      "outputs": [
        {
          "output_type": "stream",
          "text": [
            "Статистика по обучающим текстам:\n",
            "Дуоденит    3187 символов,  390 слов\n",
            "Гастрит     5353 символов,  680 слов\n",
            "Колит       7352 символов,  958 слов\n",
            "Энтерит     5048 символов,  658 слов\n",
            "Гепатит     4472 символов,  552 слов\n",
            "Панкреатит  8958 символов,  1183 слов\n",
            "Язва        2760 символов,  378 слов\n",
            "Холицестит  4879 символов,  670 слов\n",
            "Эзофагит    4684 символов,  632 слов\n",
            "Аппендицит  3269 символов,  464 слов\n",
            "----\n",
            "В сумме  49962  символов,  6565  слов \n",
            "\n",
            "\n",
            "Статистика по тестовым текстам:\n",
            "Дуоденит    753 символов,  98 слов\n",
            "Гастрит     1363 символов,  159 слов\n",
            "Колит       1774 символов,  234 слов\n",
            "Энтерит     1334 символов,  170 слов\n",
            "Гепатит     1050 символов,  135 слов\n",
            "Панкреатит  2354 символов,  297 слов\n",
            "Язва        699 символов,  94 слов\n",
            "Холицестит  1277 символов,  171 слов\n",
            "Эзофагит    1182 символов,  161 слов\n",
            "Аппендицит  805 символов,  115 слов\n",
            "----\n",
            "В сумме  12591  символов,  1634  слов\n"
          ],
          "name": "stdout"
        }
      ]
    },
    {
      "cell_type": "code",
      "metadata": {
        "id": "KOjdYSgngSdl"
      },
      "source": [
        "# Формирование обучающей и проверочной выборки \n",
        "# (определение функций)\n",
        "\n",
        "# Разделение на короткие векторы\n",
        "# Функция принимает последовательность индексов, размер окна, шаг окна\n",
        "def getSetFromIndexes(wordIndexes, xLen, step): \n",
        "  xSample = [] # Объявляем переменную для векторов\n",
        "  wordsLen = len(wordIndexes) # Считаем количество слов\n",
        "  index = 0 # Задаем начальный индекс \n",
        "\n",
        "  while (index + xLen <= wordsLen):# Идём по всей длине вектора индексов\n",
        "    xSample.append(wordIndexes[index:index+xLen]) # \"Откусываем\" векторы длины xLen\n",
        "    index += step # Смещаеммся вперёд на step\n",
        "    \n",
        "  return xSample\n",
        "\n",
        "\n",
        "# Функция принимает последовательность индексов, размер окна, шаг окна\n",
        "def createSetsMultiClasses(wordIndexes, xLen, step): \n",
        "\n",
        "  # Для каждого из 6 классов\n",
        "  # Создаём обучающую/проверочную выборку из индексов\n",
        "  nClasses = len(wordIndexes) # Задаем количество классов выборки\n",
        "  classesXSamples = []        # Здесь будет список размером \"кол-во классов*кол-во окон в тексте*длину окна (например, 6 по 1341*1000)\"\n",
        "  for wI in wordIndexes:      # Для каждого текста выборки из последовательности индексов\n",
        "    classesXSamples.append(getSetFromIndexes(wI, xLen, step)) # Добавляем в список очередной текст индексов, разбитый на \"кол-во окон*длину окна\" \n",
        "\n",
        "  # Формируем один общий xSamples\n",
        "  xSamples = [] # Здесь будет список размером \"суммарное кол-во окон во всех текстах*длину окна (например, 15779*1000)\"\n",
        "  ySamples = [] # Здесь будет список размером \"суммарное кол-во окон во всех текстах*вектор длиной 6\"\n",
        "  \n",
        "  for t in range(nClasses): # В диапазоне кол-ва классов(6)\n",
        "    xT = classesXSamples[t] # Берем очередной текст вида \"кол-во окон в тексте*длину окна\"(например, 1341*1000)\n",
        "    for i in range(len(xT)): # И каждое его окно\n",
        "      xSamples.append(xT[i]) # Добавляем в общий список выборки\n",
        "      ySamples.append(utils.to_categorical(t, nClasses)) # Добавляем соответствующий вектор класса\n",
        "\n",
        "  xSamples = np.array(xSamples) # Переводим в массив numpy для подачи в нейронку\n",
        "  ySamples = np.array(ySamples) # Переводим в массив numpy для подачи в нейронку\n",
        "\n",
        "  \n",
        "  return (xSamples, ySamples) #Функция возвращает выборку и соответствующие векторы классов\n"
      ],
      "execution_count": null,
      "outputs": []
    },
    {
      "cell_type": "code",
      "metadata": {
        "id": "tfBF0yzogXoL"
      },
      "source": [
        "# Задаём базовые параметры\n",
        "\n",
        "# xLen=50 по условию задачи (в \"распознавании писателей\" было и 1000 и 5000)\n",
        "# step уменьшил со 100 до 5 ввиду малости выборки\n",
        "\n",
        "xLen = 50 # Длина отрезка текста, по которой анализируем, в словах\n",
        "step = 5 # Шаг разбиения исходного текста на обучающие вектора"
      ],
      "execution_count": null,
      "outputs": []
    },
    {
      "cell_type": "code",
      "metadata": {
        "id": "qdQbHcoYhRlP",
        "outputId": "c2c399c1-b1cf-4d9d-84e6-f5f7bc0b735e",
        "colab": {
          "base_uri": "https://localhost:8080/",
          "height": 85
        }
      },
      "source": [
        "#Формируем обучающую и тестовую выборку\n",
        "xTrain, yTrain = createSetsMultiClasses(trainWordIndexes, xLen, step) #извлекаем обучающую выборку\n",
        "xTest, yTest = createSetsMultiClasses(testWordIndexes, xLen, step)    #извлекаем тестовую выборку\n",
        "print(xTrain.shape)\n",
        "print(yTrain.shape)\n",
        "print(xTest.shape)\n",
        "print(yTest.shape)\n",
        "#получили обучающий/тестовый набор, достаточный для запуска Embedding"
      ],
      "execution_count": null,
      "outputs": [
        {
          "output_type": "stream",
          "text": [
            "(1219, 50)\n",
            "(1219, 10)\n",
            "(233, 50)\n",
            "(233, 10)\n"
          ],
          "name": "stdout"
        }
      ]
    },
    {
      "cell_type": "code",
      "metadata": {
        "id": "1TBx05AZhfal"
      },
      "source": [
        "# Функции для распознавания проверочной выборки\n",
        "\n",
        "def createTestMultiClasses(wordIndexes, xLen, step): # функция принимает последовательность индексов, размер окна, шаг окна\n",
        "\n",
        "  # Для каждого из классов\n",
        "  # Создаём тестовую выборку из индексов\n",
        "  nClasses = len(wordIndexes) # задаем количество классов\n",
        "  xTest6Classes01 = []               # здесь будет список из всех классов,каждый размером \"кол-во окон в тексте * 20000(при maxWordsCount=20000)\"\n",
        "  xTest6Classes = []                 # здесь будет список массивов, каждый размером \"кол-во окон в тексте * длину окна\"(6 по 420*1000)\n",
        "  for wI in wordIndexes:             # для каждого тестового текста из последовательности индексов\n",
        "    sample = (getSetFromIndexes(wI, xLen, step)) # тестовая выборка размером \"кол-во окон*длину окна\"(например 420*1000)\n",
        "    xTest6Classes.append(np.array(sample))       # переводим в массив numpy и добавляем в список\n",
        "    xTest6Classes01.append(tokenizer.sequences_to_matrix(sample)) # трансформируется в Bag of Words в виде \"кол-во окон в тексте * 20000\"\n",
        "  xTest6Classes01 = np.array(xTest6Classes01)                     # и добавляется к нашему списку, \n",
        "  \n",
        "  return xTest6Classes01, xTest6Classes # функция вернёт тестовые данные: TestBg 6 классов на n*20000 и xTestEm 6 по n*1000\n",
        "\n",
        "\n",
        "\n",
        "# Расспознаём тестовую выборку и выводим результаты\n",
        "\n",
        "def recognizeMultiClass(model, xTest, modelName):\n",
        "  print(\"НЕЙРОНКА: \", modelName)\n",
        "  print()\n",
        "  \n",
        "  val = []\n",
        "  pred = []\n",
        "  \n",
        "  totalSumRec = []\n",
        "  \n",
        "  # Проходим по всем классам\n",
        "  for i in range(nClasses):\n",
        "    # Получаем результаты распознавания класса по блокам слов длины xLen\n",
        "    currPred = model.predict(xTest[i])\n",
        "    pred.append(currPred)\n",
        "    # Определяем номер распознанного класса для каждохо блока слов длины xLen\n",
        "    currOut = np.argmax(currPred, axis=1)\n",
        "    \n",
        "    # Считаем процент распознавания каждого класса за каждый\n",
        "    # Получам матрицу 6 на 6\n",
        "    evVal = []\n",
        "    sumRec = []\n",
        "    for j in range(nClasses):\n",
        "      sumRec.append(0)\n",
        "      for t in range(len(currOut)):\n",
        "        if (currOut[t] == j):\n",
        "          sumRec[j] += 1\n",
        "      evVal.append(sumRec[j] / len(currOut))\n",
        "    \n",
        "    totalSumRec.append(sumRec[i])\n",
        "    \n",
        "    # Определяем, какой в класс в итоге за какой был распознан\n",
        "    val.append(evVal[i])\n",
        "    recognizedClass = np.argmax(evVal)\n",
        "    \n",
        "    # Выводим результаты распознавания по текущему классу\n",
        "    isRecognized = \"распознано НЕ ВЕРНО!\"\n",
        "    if (recognizedClass == i):\n",
        "      isRecognized = \"распознано ВЕРНО!\"\n",
        "    print(className[i], \" распознано \", int(100*evVal[i]), \"% сеть считает, что это \", className[recognizedClass], \", \", isRecognized)\n",
        "  \n",
        "  # Выводим cредний процент распознавания по всем классам вместе\n",
        "  print()\n",
        "  sumVal = 0\n",
        "  sumCount = 0\n",
        "  lenXtest = []\n",
        "  for i in range(nClasses):\n",
        "    sumCount += len(xTest[i])\n",
        "    sumVal += totalSumRec[i]\n",
        "  print(\"Средний процент распознавания \", int(100*sumVal/sumCount), \"%\")\n",
        "  print()\n",
        "  return sumVal/sumCount\n",
        "\n",
        "xTest6Classes01, xTest6Classes = createTestMultiClasses(testWordIndexes, xLen, step) # подгоним форму тестовых классов под функцию recognizeMultiClass"
      ],
      "execution_count": null,
      "outputs": []
    },
    {
      "cell_type": "markdown",
      "metadata": {
        "id": "lIZy8NXwh5w2"
      },
      "source": [
        "**Embedding + LSTM**"
      ]
    },
    {
      "cell_type": "code",
      "metadata": {
        "id": "rNGrr-qphgkN",
        "outputId": "1bcec28c-6989-4acd-98b5-1d32d667796e",
        "colab": {
          "base_uri": "https://localhost:8080/",
          "height": 874
        }
      },
      "source": [
        "modelEL = Sequential() # создаём последовательную модель нейросети\n",
        "# преобразовываем каждое слово в многомерный вектор c указанием размерности вектора и длины входных данных\n",
        "modelEL.add(Embedding(maxWordsCount, 15, input_length=xLen))\n",
        "\n",
        "modelEL.add(SpatialDropout1D(0.4)) # добавляем слой регуляризации, \"выключая\" 1D карты объектов из эмбединг векторов, во избежание переобучения\n",
        "modelEL.add(BatchNormalization())  # добавляем слой нормализации данных\n",
        "modelEL.add(LSTM(12, return_sequences=1)) # добавляем слой LSTM, совместимый с Cuda при поддержке GPU\n",
        "modelEL.add(Dropout(0.5)) # добавляем слой регуляризации, \"выключая\" указанное количество нейронов, во избежание переобучения\n",
        "\n",
        "modelEL.add(BatchNormalization()) # добавляем слой нормализации данных\n",
        "modelEL.add(Flatten()) # добавляем слой выравнивания/сглаживания (\"сплющиваем\" данные в вектор)\n",
        "modelEL.add(Dense(10, activation='softmax')) # добавляем полносвязный слой на 10 нейронов, с функцией активации softmax на выходном слое\n",
        "\n",
        "# Компиляция, составление модели с выбором алгоритма оптимизации, функции потерь и метрики точности\n",
        "modelEL.compile(optimizer='rmsprop', \n",
        "              loss='categorical_crossentropy', \n",
        "              metrics=['accuracy'])\n",
        "\n",
        "# Обучаем сеть с указанием тренировочной выборки, количества эпох, размера минибатча для подачи сети, и тестовой выборки\n",
        "history = modelEL.fit(xTrain, \n",
        "                    yTrain, \n",
        "                    epochs=10,\n",
        "                    batch_size=5,\n",
        "                    validation_data=(xTest, yTest))\n",
        "\n",
        "# Строим график для отображения динамики обучения и точности предсказания сети\n",
        "plt.plot(history.history['accuracy'], \n",
        "         label='Доля верных ответов на обучающем наборе')\n",
        "plt.plot(history.history['val_accuracy'], \n",
        "         label='Доля верных ответов на проверочном наборе')\n",
        "plt.xlabel('Эпоха обучения')\n",
        "plt.ylabel('Доля верных ответов')\n",
        "plt.legend()\n",
        "plt.show()\n",
        "\n",
        "pred = recognizeMultiClass(modelEL, xTest6Classes, \"Embedding + LSTM\") #функция покажет какие классы и как распознаны верно"
      ],
      "execution_count": null,
      "outputs": [
        {
          "output_type": "stream",
          "text": [
            "Epoch 1/10\n",
            "244/244 [==============================] - 3s 12ms/step - loss: 2.5410 - accuracy: 0.2190 - val_loss: 2.1178 - val_accuracy: 0.2532\n",
            "Epoch 2/10\n",
            "244/244 [==============================] - 2s 9ms/step - loss: 1.6597 - accuracy: 0.4504 - val_loss: 1.4772 - val_accuracy: 0.5107\n",
            "Epoch 3/10\n",
            "244/244 [==============================] - 2s 9ms/step - loss: 1.1390 - accuracy: 0.6120 - val_loss: 1.1856 - val_accuracy: 0.5794\n",
            "Epoch 4/10\n",
            "244/244 [==============================] - 2s 9ms/step - loss: 0.9398 - accuracy: 0.6866 - val_loss: 1.1786 - val_accuracy: 0.6438\n",
            "Epoch 5/10\n",
            "244/244 [==============================] - 2s 9ms/step - loss: 0.6325 - accuracy: 0.7957 - val_loss: 1.4970 - val_accuracy: 0.5923\n",
            "Epoch 6/10\n",
            "244/244 [==============================] - 2s 9ms/step - loss: 0.5362 - accuracy: 0.8261 - val_loss: 1.1176 - val_accuracy: 0.6266\n",
            "Epoch 7/10\n",
            "244/244 [==============================] - 2s 9ms/step - loss: 0.4362 - accuracy: 0.8622 - val_loss: 0.9949 - val_accuracy: 0.7124\n",
            "Epoch 8/10\n",
            "244/244 [==============================] - 2s 9ms/step - loss: 0.3651 - accuracy: 0.8819 - val_loss: 1.3656 - val_accuracy: 0.6352\n",
            "Epoch 9/10\n",
            "244/244 [==============================] - 2s 9ms/step - loss: 0.3783 - accuracy: 0.8712 - val_loss: 1.0578 - val_accuracy: 0.6438\n",
            "Epoch 10/10\n",
            "244/244 [==============================] - 2s 9ms/step - loss: 0.2898 - accuracy: 0.9139 - val_loss: 0.9993 - val_accuracy: 0.6695\n"
          ],
          "name": "stdout"
        },
        {
          "output_type": "display_data",
          "data": {
            "image/png": "[encoded data removed]",
            "text/plain": [
              "<Figure size 432x288 with 1 Axes>"
            ]
          },
          "metadata": {
            "tags": [],
            "needs_background": "light"
          }
        },
        {
          "output_type": "stream",
          "text": [
            "НЕЙРОНКА:  Embedding + LSTM\n",
            "\n",
            "Дуоденит  распознано  40 % сеть считает, что это  Дуоденит ,  распознано ВЕРНО!\n",
            "Гастрит  распознано  59 % сеть считает, что это  Гастрит ,  распознано ВЕРНО!\n",
            "Колит  распознано  48 % сеть считает, что это  Колит ,  распознано ВЕРНО!\n",
            "Энтерит  распознано  16 % сеть считает, что это  Панкреатит ,  распознано НЕ ВЕРНО!\n",
            "Гепатит  распознано  72 % сеть считает, что это  Гепатит ,  распознано ВЕРНО!\n",
            "Панкреатит  распознано  94 % сеть считает, что это  Панкреатит ,  распознано ВЕРНО!\n",
            "Язва  распознано  88 % сеть считает, что это  Язва ,  распознано ВЕРНО!\n",
            "Холицестит  распознано  72 % сеть считает, что это  Холицестит ,  распознано ВЕРНО!\n",
            "Эзофагит  распознано  73 % сеть считает, что это  Эзофагит ,  распознано ВЕРНО!\n",
            "Аппендицит  распознано  100 % сеть считает, что это  Аппендицит ,  распознано ВЕРНО!\n",
            "\n",
            "Средний процент распознавания  66 %\n",
            "\n"
          ],
          "name": "stdout"
        }
      ]
    },
    {
      "cell_type": "markdown",
      "metadata": {
        "id": "WhRJG37NiZgc"
      },
      "source": [
        "**Embedding + Conv1D**"
      ]
    },
    {
      "cell_type": "code",
      "metadata": {
        "id": "_IBLm68GiaEB",
        "outputId": "5296aeb2-d80e-4cc2-eee7-1de0c804d430",
        "colab": {
          "base_uri": "https://localhost:8080/",
          "height": 942
        }
      },
      "source": [
        "modelEC = Sequential() # создаём последовательную модель нейросети\n",
        "# преобразовываем каждое слово в многомерный вектор c указанием размерности вектора и длины входных данных\n",
        "modelEC.add(Embedding(maxWordsCount, 15, input_length=xLen))\n",
        "\n",
        "modelEC.add(SpatialDropout1D(0.4)) # добавляем слой регуляризации, \"выключая\" 1D карты объектов из эмбединг векторов, во избежание переобучения\n",
        "\n",
        "modelEC.add(BatchNormalization())  # добавляем слой нормализации данных\n",
        "modelEC.add(Conv1D(40, 5, activation=\"relu\")) # добавляем одномерный сверточный слой, указывая кол-во фильтров и ширину окна для фильтров \n",
        "modelEC.add(MaxPooling1D(2)) # добавляем слой подвыборки/пулинга с функцией максимума\n",
        "\n",
        "modelEC.add(Conv1D(40, 5, activation=\"relu\")) # добавляем одномерный сверточный слой, указывая кол-во фильтров и ширину окна для фильтров \n",
        "modelEC.add(MaxPooling1D(2)) # добавляем слой подвыборки/пулинга с функцией максимума\n",
        "modelEC.add(Dropout(0.2)) # добавляем слой регуляризации, \"выключая\" указанное количество нейронов, во избежание переобучения\n",
        "\n",
        "modelEC.add(BatchNormalization()) # добавляем слой нормализации данных\n",
        "modelEC.add(Flatten()) # добавляем слой выравнивания/сглаживания (\"сплющиваем\" данные в вектор)\n",
        "modelEC.add(Dense(10, activation='softmax')) # добавляем полносвязный слой на 10 нейронов, с функцией активации softmax на выходном слое\n",
        "\n",
        "# Компиляция, составление модели с выбором алгоритма оптимизации, функции потерь и метрики точности\n",
        "modelEC.compile(optimizer='rmsprop', \n",
        "              loss='categorical_crossentropy', \n",
        "              metrics=['accuracy'])\n",
        "\n",
        "# Обучаем сеть с указанием тренировочной выборки, количества эпох, размера минибатча для подачи сети, и тестовой выборки\n",
        "history = modelEC.fit(xTrain, \n",
        "                    yTrain, \n",
        "                    epochs=12,\n",
        "                    batch_size=10,\n",
        "                    validation_data=(xTest, yTest))\n",
        "\n",
        "# Строим график для отображения динамики обучения и точности предсказания сети\n",
        "plt.plot(history.history['accuracy'], \n",
        "         label='Доля верных ответов на обучающем наборе')\n",
        "plt.plot(history.history['val_accuracy'], \n",
        "         label='Доля верных ответов на проверочном наборе')\n",
        "plt.xlabel('Эпоха обучения')\n",
        "plt.ylabel('Доля верных ответов')\n",
        "plt.legend()\n",
        "plt.show()\n",
        "\n",
        "pred = recognizeMultiClass(modelEC, xTest6Classes, \"Embedding + Conv1D\") #функция покажет какие классы и как распознаны верно"
      ],
      "execution_count": null,
      "outputs": [
        {
          "output_type": "stream",
          "text": [
            "Epoch 1/12\n",
            "122/122 [==============================] - 1s 9ms/step - loss: 2.5298 - accuracy: 0.1764 - val_loss: 2.2901 - val_accuracy: 0.1159\n",
            "Epoch 2/12\n",
            "122/122 [==============================] - 1s 7ms/step - loss: 1.8610 - accuracy: 0.3495 - val_loss: 2.4972 - val_accuracy: 0.1073\n",
            "Epoch 3/12\n",
            "122/122 [==============================] - 1s 7ms/step - loss: 1.3805 - accuracy: 0.5012 - val_loss: 2.4610 - val_accuracy: 0.1502\n",
            "Epoch 4/12\n",
            "122/122 [==============================] - 1s 7ms/step - loss: 0.8801 - accuracy: 0.7178 - val_loss: 1.8370 - val_accuracy: 0.4421\n",
            "Epoch 5/12\n",
            "122/122 [==============================] - 1s 7ms/step - loss: 0.6128 - accuracy: 0.7859 - val_loss: 1.3318 - val_accuracy: 0.5794\n",
            "Epoch 6/12\n",
            "122/122 [==============================] - 1s 7ms/step - loss: 0.4632 - accuracy: 0.8540 - val_loss: 1.3378 - val_accuracy: 0.5880\n",
            "Epoch 7/12\n",
            "122/122 [==============================] - 1s 7ms/step - loss: 0.3278 - accuracy: 0.8942 - val_loss: 1.5271 - val_accuracy: 0.5751\n",
            "Epoch 8/12\n",
            "122/122 [==============================] - 1s 7ms/step - loss: 0.2759 - accuracy: 0.9163 - val_loss: 1.8737 - val_accuracy: 0.5150\n",
            "Epoch 9/12\n",
            "122/122 [==============================] - 1s 7ms/step - loss: 0.2502 - accuracy: 0.9204 - val_loss: 1.8963 - val_accuracy: 0.5322\n",
            "Epoch 10/12\n",
            "122/122 [==============================] - 1s 7ms/step - loss: 0.2293 - accuracy: 0.9188 - val_loss: 1.7212 - val_accuracy: 0.5236\n",
            "Epoch 11/12\n",
            "122/122 [==============================] - 1s 7ms/step - loss: 0.1704 - accuracy: 0.9459 - val_loss: 2.1582 - val_accuracy: 0.5236\n",
            "Epoch 12/12\n",
            "122/122 [==============================] - 1s 7ms/step - loss: 0.2028 - accuracy: 0.9377 - val_loss: 1.9288 - val_accuracy: 0.5794\n"
          ],
          "name": "stdout"
        },
        {
          "output_type": "display_data",
          "data": {
            "image/png": "[encoded data removed]",
            "text/plain": [
              "<Figure size 432x288 with 1 Axes>"
            ]
          },
          "metadata": {
            "tags": [],
            "needs_background": "light"
          }
        },
        {
          "output_type": "stream",
          "text": [
            "НЕЙРОНКА:  Embedding + Conv1D\n",
            "\n",
            "Дуоденит  распознано  60 % сеть считает, что это  Дуоденит ,  распознано ВЕРНО!\n",
            "Гастрит  распознано  68 % сеть считает, что это  Гастрит ,  распознано ВЕРНО!\n",
            "Колит  распознано  48 % сеть считает, что это  Колит ,  распознано ВЕРНО!\n",
            "Энтерит  распознано  28 % сеть считает, что это  Панкреатит ,  распознано НЕ ВЕРНО!\n",
            "Гепатит  распознано  72 % сеть считает, что это  Гепатит ,  распознано ВЕРНО!\n",
            "Панкреатит  распознано  98 % сеть считает, что это  Панкреатит ,  распознано ВЕРНО!\n",
            "Язва  распознано  100 % сеть считает, что это  Язва ,  распознано ВЕРНО!\n",
            "Холицестит  распознано  12 % сеть считает, что это  Панкреатит ,  распознано НЕ ВЕРНО!\n",
            "Эзофагит  распознано  56 % сеть считает, что это  Эзофагит ,  распознано ВЕРНО!\n",
            "Аппендицит  распознано  14 % сеть считает, что это  Панкреатит ,  распознано НЕ ВЕРНО!\n",
            "\n",
            "Средний процент распознавания  57 %\n",
            "\n"
          ],
          "name": "stdout"
        }
      ]
    },
    {
      "cell_type": "markdown",
      "metadata": {
        "id": "-YOQFY0EjK1K"
      },
      "source": [
        "**Embedding + сложная сеть из Dense, LSTM и Conv1D**"
      ]
    },
    {
      "cell_type": "code",
      "metadata": {
        "id": "U7DHK_Nni01-",
        "outputId": "b768743c-f167-41ce-b88a-c57121b8b840",
        "colab": {
          "base_uri": "https://localhost:8080/",
          "height": 1000
        }
      },
      "source": [
        "modelEC = Sequential() # создаём последовательную модель нейросети\n",
        "# преобразовываем каждое слово в многомерный вектор c указанием размерности вектора и длины входных данных\n",
        "modelEC.add(Embedding(maxWordsCount, 15, input_length=xLen))\n",
        "\n",
        "modelEC.add(SpatialDropout1D(0.3)) # добавляем слой регуляризации, \"выключая\" 1D карты объектов из эмбединг векторов, во избежание переобучения\n",
        "\n",
        "modelEC.add(LSTM(12, return_sequences=1)) # добавляем слой LSTM, совместимый с Cuda при поддержке GPU\n",
        "\n",
        "modelEC.add(Dense(200, activation='relu')) # добавляем полносвязный слой с указанием количества нейронов и функции активации\n",
        "#modelEC.add(Dense(100, activation='relu'))\n",
        "modelEC.add(Dropout(0.3)) # добавляем слой регуляризации, \"выключая\" указанное количество нейронов, во избежание переобучения\n",
        "\n",
        "modelEC.add(Conv1D(30, 5, activation=\"relu\")) # добавляем одномерный сверточный слой, указывая кол-во фильтров и ширину окна для фильтров \n",
        "modelEC.add(MaxPooling1D(3)) # добавляем слой подвыборки/пулинга с функцией максимума\n",
        "\n",
        "modelEC.add(LSTM(8, return_sequences=1)) # добавляем слой LSTM, совместимый с Cuda при поддержке GPU\n",
        "\n",
        "modelEC.add(Conv1D(30, 5, activation=\"relu\")) # добавляем одномерный сверточный слой, указывая кол-во фильтров и ширину окна для фильтров \n",
        "modelEC.add(Conv1D(30, 5, activation=\"relu\")) # добавляем одномерный сверточный слой, указывая кол-во фильтров и ширину окна для фильтров\n",
        "modelEC.add(MaxPooling1D(2)) # добавляем слой подвыборки/пулинга с функцией максимума\n",
        "modelEC.add(Dropout(0.2)) # добавляем слой регуляризации, \"выключая\" указанное количество нейронов, во избежание переобучения\n",
        "\n",
        "modelEC.add(BatchNormalization()) # добавляем слой нормализации данных\n",
        "modelEC.add(Flatten()) # добавляем слой выравнивания/сглаживания (\"сплющиваем\" данные в вектор)\n",
        "modelEC.add(Dense(10, activation='softmax')) # добавляем полносвязный слой на 10 нейронов, с функцией активации softmax на выходном слое\n",
        "\n",
        "# Компиляция, составление модели с выбором алгоритма оптимизации, функции потерь и метрики точности\n",
        "modelEC.compile(optimizer='rmsprop', \n",
        "              loss='categorical_crossentropy', \n",
        "              metrics=['accuracy'])\n",
        "\n",
        "# Обучаем сеть с указанием тренировочной выборки, количества эпох, размера минибатча для подачи сети, и тестовой выборки\n",
        "history = modelEC.fit(xTrain, \n",
        "                    yTrain, \n",
        "                    epochs=50,\n",
        "                    batch_size=15,\n",
        "                    validation_data=(xTest, yTest))\n",
        "\n",
        "# Строим график для отображения динамики обучения и точности предсказания сети\n",
        "plt.plot(history.history['accuracy'], \n",
        "         label='Доля верных ответов на обучающем наборе')\n",
        "plt.plot(history.history['val_accuracy'], \n",
        "         label='Доля верных ответов на проверочном наборе')\n",
        "plt.xlabel('Эпоха обучения')\n",
        "plt.ylabel('Доля верных ответов')\n",
        "plt.legend()\n",
        "plt.show()\n",
        "\n",
        "pred = recognizeMultiClass(modelEC, xTest6Classes, \"Embedding + сложная сеть из Dense, LSTM и Conv1D\") #функция покажет какие классы и как распознаны верно"
      ],
      "execution_count": null,
      "outputs": [
        {
          "output_type": "stream",
          "text": [
            "Epoch 1/50\n",
            "82/82 [==============================] - 2s 25ms/step - loss: 2.0185 - accuracy: 0.2461 - val_loss: 2.2072 - val_accuracy: 0.2704\n",
            "Epoch 2/50\n",
            "82/82 [==============================] - 1s 13ms/step - loss: 1.3831 - accuracy: 0.4742 - val_loss: 2.1391 - val_accuracy: 0.2575\n",
            "Epoch 3/50\n",
            "82/82 [==============================] - 1s 14ms/step - loss: 1.0452 - accuracy: 0.6038 - val_loss: 1.9964 - val_accuracy: 0.2704\n",
            "Epoch 4/50\n",
            "82/82 [==============================] - 1s 13ms/step - loss: 0.8209 - accuracy: 0.7088 - val_loss: 1.9628 - val_accuracy: 0.3433\n",
            "Epoch 5/50\n",
            "82/82 [==============================] - 1s 13ms/step - loss: 0.6749 - accuracy: 0.7572 - val_loss: 2.0325 - val_accuracy: 0.3433\n",
            "Epoch 6/50\n",
            "82/82 [==============================] - 1s 14ms/step - loss: 0.5375 - accuracy: 0.8023 - val_loss: 2.8397 - val_accuracy: 0.2403\n",
            "Epoch 7/50\n",
            "82/82 [==============================] - 1s 14ms/step - loss: 0.4430 - accuracy: 0.8499 - val_loss: 2.5943 - val_accuracy: 0.2661\n",
            "Epoch 8/50\n",
            "82/82 [==============================] - 1s 15ms/step - loss: 0.4174 - accuracy: 0.8532 - val_loss: 2.4752 - val_accuracy: 0.3820\n",
            "Epoch 9/50\n",
            "82/82 [==============================] - 1s 15ms/step - loss: 0.4096 - accuracy: 0.8597 - val_loss: 2.6152 - val_accuracy: 0.3605\n",
            "Epoch 10/50\n",
            "82/82 [==============================] - 1s 16ms/step - loss: 0.3220 - accuracy: 0.8876 - val_loss: 3.1451 - val_accuracy: 0.3433\n",
            "Epoch 11/50\n",
            "82/82 [==============================] - 1s 15ms/step - loss: 0.3222 - accuracy: 0.8942 - val_loss: 4.4730 - val_accuracy: 0.2918\n",
            "Epoch 12/50\n",
            "82/82 [==============================] - 1s 15ms/step - loss: 0.2904 - accuracy: 0.8934 - val_loss: 3.7718 - val_accuracy: 0.3391\n",
            "Epoch 13/50\n",
            "82/82 [==============================] - 1s 15ms/step - loss: 0.2661 - accuracy: 0.9147 - val_loss: 3.5297 - val_accuracy: 0.3133\n",
            "Epoch 14/50\n",
            "82/82 [==============================] - 1s 16ms/step - loss: 0.2213 - accuracy: 0.9262 - val_loss: 3.1289 - val_accuracy: 0.3605\n",
            "Epoch 15/50\n",
            "82/82 [==============================] - 1s 14ms/step - loss: 0.2147 - accuracy: 0.9327 - val_loss: 3.4123 - val_accuracy: 0.2833\n",
            "Epoch 16/50\n",
            "82/82 [==============================] - 1s 13ms/step - loss: 0.2052 - accuracy: 0.9418 - val_loss: 2.7605 - val_accuracy: 0.4120\n",
            "Epoch 17/50\n",
            "82/82 [==============================] - 1s 14ms/step - loss: 0.1964 - accuracy: 0.9450 - val_loss: 3.6435 - val_accuracy: 0.3777\n",
            "Epoch 18/50\n",
            "82/82 [==============================] - 1s 14ms/step - loss: 0.2345 - accuracy: 0.9303 - val_loss: 4.2093 - val_accuracy: 0.3519\n",
            "Epoch 19/50\n",
            "82/82 [==============================] - 1s 13ms/step - loss: 0.1658 - accuracy: 0.9532 - val_loss: 3.3690 - val_accuracy: 0.3047\n",
            "Epoch 20/50\n",
            "82/82 [==============================] - 1s 13ms/step - loss: 0.2252 - accuracy: 0.9303 - val_loss: 2.8511 - val_accuracy: 0.4077\n",
            "Epoch 21/50\n",
            "82/82 [==============================] - 1s 13ms/step - loss: 0.2012 - accuracy: 0.9393 - val_loss: 3.0293 - val_accuracy: 0.3820\n",
            "Epoch 22/50\n",
            "82/82 [==============================] - 1s 14ms/step - loss: 0.1482 - accuracy: 0.9582 - val_loss: 5.0308 - val_accuracy: 0.2790\n",
            "Epoch 23/50\n",
            "82/82 [==============================] - 1s 14ms/step - loss: 0.1432 - accuracy: 0.9524 - val_loss: 2.6784 - val_accuracy: 0.4378\n",
            "Epoch 24/50\n",
            "82/82 [==============================] - 1s 13ms/step - loss: 0.1611 - accuracy: 0.9565 - val_loss: 3.8899 - val_accuracy: 0.3648\n",
            "Epoch 25/50\n",
            "82/82 [==============================] - 1s 13ms/step - loss: 0.1468 - accuracy: 0.9565 - val_loss: 3.9422 - val_accuracy: 0.3691\n",
            "Epoch 26/50\n",
            "82/82 [==============================] - 1s 13ms/step - loss: 0.1162 - accuracy: 0.9623 - val_loss: 4.1958 - val_accuracy: 0.3176\n",
            "Epoch 27/50\n",
            "82/82 [==============================] - 1s 14ms/step - loss: 0.1159 - accuracy: 0.9614 - val_loss: 3.6625 - val_accuracy: 0.3691\n",
            "Epoch 28/50\n",
            "82/82 [==============================] - 1s 13ms/step - loss: 0.1272 - accuracy: 0.9655 - val_loss: 4.6456 - val_accuracy: 0.3133\n",
            "Epoch 29/50\n",
            "82/82 [==============================] - 1s 14ms/step - loss: 0.1333 - accuracy: 0.9655 - val_loss: 4.7389 - val_accuracy: 0.3219\n",
            "Epoch 30/50\n",
            "82/82 [==============================] - 1s 13ms/step - loss: 0.1245 - accuracy: 0.9672 - val_loss: 4.4595 - val_accuracy: 0.3734\n",
            "Epoch 31/50\n",
            "82/82 [==============================] - 1s 14ms/step - loss: 0.1406 - accuracy: 0.9614 - val_loss: 4.9922 - val_accuracy: 0.3348\n",
            "Epoch 32/50\n",
            "82/82 [==============================] - 1s 13ms/step - loss: 0.1710 - accuracy: 0.9541 - val_loss: 4.5583 - val_accuracy: 0.3648\n",
            "Epoch 33/50\n",
            "82/82 [==============================] - 1s 13ms/step - loss: 0.0980 - accuracy: 0.9754 - val_loss: 4.0485 - val_accuracy: 0.3777\n",
            "Epoch 34/50\n",
            "82/82 [==============================] - 1s 13ms/step - loss: 0.1305 - accuracy: 0.9655 - val_loss: 3.5276 - val_accuracy: 0.4335\n",
            "Epoch 35/50\n",
            "82/82 [==============================] - 1s 14ms/step - loss: 0.1285 - accuracy: 0.9606 - val_loss: 3.6451 - val_accuracy: 0.3562\n",
            "Epoch 36/50\n",
            "82/82 [==============================] - 1s 13ms/step - loss: 0.1439 - accuracy: 0.9573 - val_loss: 3.8879 - val_accuracy: 0.3004\n",
            "Epoch 37/50\n",
            "82/82 [==============================] - 1s 13ms/step - loss: 0.1092 - accuracy: 0.9688 - val_loss: 3.8261 - val_accuracy: 0.3734\n",
            "Epoch 38/50\n",
            "82/82 [==============================] - 1s 13ms/step - loss: 0.1233 - accuracy: 0.9713 - val_loss: 4.6112 - val_accuracy: 0.3820\n",
            "Epoch 39/50\n",
            "82/82 [==============================] - 1s 14ms/step - loss: 0.0830 - accuracy: 0.9713 - val_loss: 4.7674 - val_accuracy: 0.3262\n",
            "Epoch 40/50\n",
            "82/82 [==============================] - 1s 14ms/step - loss: 0.0930 - accuracy: 0.9754 - val_loss: 4.8041 - val_accuracy: 0.3391\n",
            "Epoch 41/50\n",
            "82/82 [==============================] - 1s 14ms/step - loss: 0.0799 - accuracy: 0.9770 - val_loss: 5.1118 - val_accuracy: 0.3262\n",
            "Epoch 42/50\n",
            "82/82 [==============================] - 1s 13ms/step - loss: 0.1206 - accuracy: 0.9647 - val_loss: 6.0704 - val_accuracy: 0.3004\n",
            "Epoch 43/50\n",
            "82/82 [==============================] - 1s 14ms/step - loss: 0.1201 - accuracy: 0.9696 - val_loss: 4.9673 - val_accuracy: 0.3262\n",
            "Epoch 44/50\n",
            "82/82 [==============================] - 1s 13ms/step - loss: 0.1026 - accuracy: 0.9688 - val_loss: 4.5012 - val_accuracy: 0.3562\n",
            "Epoch 45/50\n",
            "82/82 [==============================] - 1s 13ms/step - loss: 0.0724 - accuracy: 0.9737 - val_loss: 4.3626 - val_accuracy: 0.3433\n",
            "Epoch 46/50\n",
            "82/82 [==============================] - 1s 14ms/step - loss: 0.1137 - accuracy: 0.9623 - val_loss: 4.3632 - val_accuracy: 0.3519\n",
            "Epoch 47/50\n",
            "82/82 [==============================] - 1s 13ms/step - loss: 0.1320 - accuracy: 0.9655 - val_loss: 4.6580 - val_accuracy: 0.3090\n",
            "Epoch 48/50\n",
            "82/82 [==============================] - 1s 14ms/step - loss: 0.0832 - accuracy: 0.9762 - val_loss: 3.8922 - val_accuracy: 0.3648\n",
            "Epoch 49/50\n",
            "82/82 [==============================] - 1s 13ms/step - loss: 0.0974 - accuracy: 0.9705 - val_loss: 3.5798 - val_accuracy: 0.3562\n",
            "Epoch 50/50\n",
            "82/82 [==============================] - 1s 13ms/step - loss: 0.1007 - accuracy: 0.9688 - val_loss: 4.9008 - val_accuracy: 0.3562\n"
          ],
          "name": "stdout"
        },
        {
          "output_type": "display_data",
          "data": {
            "image/png": "[encoded data removed]",
            "text/plain": [
              "<Figure size 432x288 with 1 Axes>"
            ]
          },
          "metadata": {
            "tags": [],
            "needs_background": "light"
          }
        },
        {
          "output_type": "stream",
          "text": [
            "НЕЙРОНКА:  Embedding + сложная сеть из Dense, LSTM и Conv1D\n",
            "\n",
            "Дуоденит  распознано  30 % сеть считает, что это  Энтерит ,  распознано НЕ ВЕРНО!\n",
            "Гастрит  распознано  50 % сеть считает, что это  Гастрит ,  распознано ВЕРНО!\n",
            "Колит  распознано  18 % сеть считает, что это  Эзофагит ,  распознано НЕ ВЕРНО!\n",
            "Энтерит  распознано  0 % сеть считает, что это  Панкреатит ,  распознано НЕ ВЕРНО!\n",
            "Гепатит  распознано  11 % сеть считает, что это  Язва ,  распознано НЕ ВЕРНО!\n",
            "Панкреатит  распознано  74 % сеть считает, что это  Панкреатит ,  распознано ВЕРНО!\n",
            "Язва  распознано  33 % сеть считает, что это  Энтерит ,  распознано НЕ ВЕРНО!\n",
            "Холицестит  распознано  16 % сеть считает, что это  Панкреатит ,  распознано НЕ ВЕРНО!\n",
            "Эзофагит  распознано  47 % сеть считает, что это  Панкреатит ,  распознано НЕ ВЕРНО!\n",
            "Аппендицит  распознано  35 % сеть считает, что это  Эзофагит ,  распознано НЕ ВЕРНО!\n",
            "\n",
            "Средний процент распознавания  35 %\n",
            "\n"
          ],
          "name": "stdout"
        }
      ]
    },
    {
      "cell_type": "markdown",
      "metadata": {
        "id": "KbqKdsDAIs8C"
      },
      "source": [
        "**ИТОГИ:**\n",
        "\n",
        "Три модели сделал. Точность получилась на трех заданных моделях не выше 66%. \n",
        "\n",
        "Модель \"сложная сеть из Dense, LSTM и Conv1D\" оказалась совсем нерабочая- 35%\n",
        "\n",
        "Ниже попробовал сделать другую модель на основе двунаправленного LSTM.\n",
        "Получил тоже 66%\n"
      ]
    },
    {
      "cell_type": "markdown",
      "metadata": {
        "id": "W2DJQ-jaKoM0"
      },
      "source": [
        "**Embedding + двунаправленный LSTM**\n",
        "\n"
      ]
    },
    {
      "cell_type": "code",
      "metadata": {
        "id": "e32JFca_xEGR",
        "outputId": "a4bd68bb-e4bc-4bac-ae6b-0d60540d141a",
        "colab": {
          "base_uri": "https://localhost:8080/",
          "height": 1000
        }
      },
      "source": [
        "modelEL = Sequential() #создаём последовательную модель нейросети\n",
        "\n",
        "#преобразовываем каждое слово в многомерный вектор c указанием размерности вектора и длины входных данных\n",
        "modelEL.add(Embedding(maxWordsCount, 50, input_length=xLen))\n",
        "\n",
        "modelEL.add(SpatialDropout1D(0.5)) #добавляем слой регуляризации, \"выключая\" 1D карты объектов из эмбединг векторов, во избежание переобучения\n",
        "modelEL.add(BatchNormalization()) #добавляем слой нормализации данных\n",
        "modelEL.add(Bidirectional(LSTM(12, return_sequences=1))) #добавляем слой с двунаправленным LSTM, совместимый с Cuda при поддержке GPU\n",
        "modelEL.add(Bidirectional(LSTM(12, return_sequences=1))) #добавляем слой с двунаправленным LSTM, совместимый с Cuda при поддержке GPU\n",
        "modelEL.add(Dropout(0.4)) #добавляем слой регуляризации, \"выключая\" указанное количество нейронов, во избежание переобучения\n",
        "modelEL.add(BatchNormalization()) #добавляем слой нормализации данных\n",
        "\n",
        "modelEL.add(GRU(12, return_sequences=1,reset_after=True)) #добавляем слой GRU, совместимый с Cuda при поддержке GPU\n",
        "modelEL.add(GRU(12, reset_after=True)) #добавляем слой GRU, совместимый с Cuda при поддержке GPU\n",
        "\n",
        "modelEL.add(Dropout(0.3)) #добавляем слой регуляризации, \"выключая\" указанное количество нейронов, во избежание переобучения\n",
        "modelEL.add(BatchNormalization()) #добавляем слой нормализации данных\n",
        "modelEL.add(Dense(100, activation='relu')) #добавляем полносвязный слой с указанием количества нейронов и функции активации\n",
        "modelEL.add(Dropout(0.3)) #добавляем слой регуляризации, \"выключая\" указанное количество нейронов, во избежание переобучения\n",
        "modelEL.add(BatchNormalization()) #добавляем слой нормализации данных\n",
        "modelEL.add(Dense(10, activation='softmax')) #добавляем полносвязный слой на 6 нейронов, с функцией активации softmax на выходном слое\n",
        "\n",
        "# Компиляция, составление модели с выбором алгоритма оптимизации, функции потерь и метрики точности\n",
        "modelEL.compile(optimizer='adam', \n",
        "              loss='categorical_crossentropy', \n",
        "              metrics=['accuracy'])\n",
        "\n",
        "# Обучаем сеть с указанием тренировочной выборки, количества эпох, размера минибатча для подачи сети, и тестовой выборки\n",
        "history = modelEL.fit(xTrain, \n",
        "                    yTrain, \n",
        "                    epochs=200,\n",
        "                    batch_size=10,\n",
        "                    validation_data=(xTest, yTest))\n",
        "\n",
        "# Строим график для отображения динамики обучения и точности предсказания сети\n",
        "plt.plot(history.history['accuracy'], \n",
        "         label='Доля верных ответов на обучающем наборе')\n",
        "plt.plot(history.history['val_accuracy'], \n",
        "         label='Доля верных ответов на проверочном наборе')\n",
        "plt.xlabel('Эпоха обучения')\n",
        "plt.ylabel('Доля верных ответов')\n",
        "plt.legend()\n",
        "plt.show()\n",
        "\n",
        "pred = recognizeMultiClass(modelEL, xTest6Classes, \"Embedding + двунаправленный LSTM\") #функция покажет какие классы и как распознаны верно"
      ],
      "execution_count": null,
      "outputs": [
        {
          "output_type": "stream",
          "text": [
            "Epoch 1/200\n",
            "122/122 [==============================] - 5s 43ms/step - loss: 2.6344 - accuracy: 0.1485 - val_loss: 2.2861 - val_accuracy: 0.1073\n",
            "Epoch 2/200\n",
            "122/122 [==============================] - 3s 26ms/step - loss: 2.2090 - accuracy: 0.2674 - val_loss: 2.2394 - val_accuracy: 0.2575\n",
            "Epoch 3/200\n",
            "122/122 [==============================] - 3s 26ms/step - loss: 1.9041 - accuracy: 0.3380 - val_loss: 2.4218 - val_accuracy: 0.3133\n",
            "Epoch 4/200\n",
            "122/122 [==============================] - 3s 27ms/step - loss: 1.6848 - accuracy: 0.4118 - val_loss: 2.0680 - val_accuracy: 0.3348\n",
            "Epoch 5/200\n",
            "122/122 [==============================] - 3s 26ms/step - loss: 1.5099 - accuracy: 0.4578 - val_loss: 2.0310 - val_accuracy: 0.3734\n",
            "Epoch 6/200\n",
            "122/122 [==============================] - 3s 26ms/step - loss: 1.3222 - accuracy: 0.5037 - val_loss: 1.8698 - val_accuracy: 0.4292\n",
            "Epoch 7/200\n",
            "122/122 [==============================] - 3s 26ms/step - loss: 1.2193 - accuracy: 0.5488 - val_loss: 1.6619 - val_accuracy: 0.4678\n",
            "Epoch 8/200\n",
            "122/122 [==============================] - 3s 26ms/step - loss: 1.0917 - accuracy: 0.5923 - val_loss: 1.5623 - val_accuracy: 0.5107\n",
            "Epoch 9/200\n",
            "122/122 [==============================] - 3s 27ms/step - loss: 1.0489 - accuracy: 0.6120 - val_loss: 1.4768 - val_accuracy: 0.5408\n",
            "Epoch 10/200\n",
            "122/122 [==============================] - 3s 26ms/step - loss: 0.9475 - accuracy: 0.6505 - val_loss: 1.6260 - val_accuracy: 0.5408\n",
            "Epoch 11/200\n",
            "122/122 [==============================] - 3s 26ms/step - loss: 0.8462 - accuracy: 0.6899 - val_loss: 1.4788 - val_accuracy: 0.5322\n",
            "Epoch 12/200\n",
            "122/122 [==============================] - 3s 26ms/step - loss: 0.7856 - accuracy: 0.7309 - val_loss: 1.5987 - val_accuracy: 0.5365\n",
            "Epoch 13/200\n",
            "122/122 [==============================] - 3s 27ms/step - loss: 0.6780 - accuracy: 0.7613 - val_loss: 1.6363 - val_accuracy: 0.5536\n",
            "Epoch 14/200\n",
            "122/122 [==============================] - 3s 27ms/step - loss: 0.6547 - accuracy: 0.7695 - val_loss: 1.6147 - val_accuracy: 0.5665\n",
            "Epoch 15/200\n",
            "122/122 [==============================] - 3s 26ms/step - loss: 0.6071 - accuracy: 0.7908 - val_loss: 1.4059 - val_accuracy: 0.6180\n",
            "Epoch 16/200\n",
            "122/122 [==============================] - 3s 26ms/step - loss: 0.5855 - accuracy: 0.8089 - val_loss: 1.6803 - val_accuracy: 0.6180\n",
            "Epoch 17/200\n",
            "122/122 [==============================] - 3s 26ms/step - loss: 0.5144 - accuracy: 0.8294 - val_loss: 1.6518 - val_accuracy: 0.5880\n",
            "Epoch 18/200\n",
            "122/122 [==============================] - 3s 26ms/step - loss: 0.5012 - accuracy: 0.8425 - val_loss: 1.7525 - val_accuracy: 0.5880\n",
            "Epoch 19/200\n",
            "122/122 [==============================] - 3s 26ms/step - loss: 0.4339 - accuracy: 0.8720 - val_loss: 2.0730 - val_accuracy: 0.5708\n",
            "Epoch 20/200\n",
            "122/122 [==============================] - 3s 26ms/step - loss: 0.5538 - accuracy: 0.8335 - val_loss: 1.9324 - val_accuracy: 0.6009\n",
            "Epoch 21/200\n",
            "122/122 [==============================] - 3s 26ms/step - loss: 0.5113 - accuracy: 0.8368 - val_loss: 1.7624 - val_accuracy: 0.6137\n",
            "Epoch 22/200\n",
            "122/122 [==============================] - 3s 26ms/step - loss: 0.4534 - accuracy: 0.8622 - val_loss: 1.8047 - val_accuracy: 0.5837\n",
            "Epoch 23/200\n",
            "122/122 [==============================] - 3s 25ms/step - loss: 0.4032 - accuracy: 0.8769 - val_loss: 1.8133 - val_accuracy: 0.5579\n",
            "Epoch 24/200\n",
            "122/122 [==============================] - 3s 27ms/step - loss: 0.3788 - accuracy: 0.8819 - val_loss: 1.8010 - val_accuracy: 0.5794\n",
            "Epoch 25/200\n",
            "122/122 [==============================] - 3s 26ms/step - loss: 0.4105 - accuracy: 0.8827 - val_loss: 1.9152 - val_accuracy: 0.6137\n",
            "Epoch 26/200\n",
            "122/122 [==============================] - 3s 26ms/step - loss: 0.3516 - accuracy: 0.8966 - val_loss: 1.9518 - val_accuracy: 0.5708\n",
            "Epoch 27/200\n",
            "122/122 [==============================] - 3s 27ms/step - loss: 0.3502 - accuracy: 0.8909 - val_loss: 2.0873 - val_accuracy: 0.5451\n",
            "Epoch 28/200\n",
            "122/122 [==============================] - 3s 26ms/step - loss: 0.3474 - accuracy: 0.8991 - val_loss: 1.9269 - val_accuracy: 0.5494\n",
            "Epoch 29/200\n",
            "122/122 [==============================] - 3s 26ms/step - loss: 0.3976 - accuracy: 0.8778 - val_loss: 2.3466 - val_accuracy: 0.5236\n",
            "Epoch 30/200\n",
            "122/122 [==============================] - 3s 26ms/step - loss: 0.3158 - accuracy: 0.9032 - val_loss: 2.1582 - val_accuracy: 0.5880\n",
            "Epoch 31/200\n",
            "122/122 [==============================] - 3s 26ms/step - loss: 0.2997 - accuracy: 0.9040 - val_loss: 1.9767 - val_accuracy: 0.6223\n",
            "Epoch 32/200\n",
            "122/122 [==============================] - 3s 26ms/step - loss: 0.3036 - accuracy: 0.9155 - val_loss: 2.3650 - val_accuracy: 0.5966\n",
            "Epoch 33/200\n",
            "122/122 [==============================] - 3s 26ms/step - loss: 0.3258 - accuracy: 0.9040 - val_loss: 2.2487 - val_accuracy: 0.6052\n",
            "Epoch 34/200\n",
            "122/122 [==============================] - 3s 26ms/step - loss: 0.3149 - accuracy: 0.9065 - val_loss: 2.3711 - val_accuracy: 0.5794\n",
            "Epoch 35/200\n",
            "122/122 [==============================] - 3s 26ms/step - loss: 0.2817 - accuracy: 0.9122 - val_loss: 2.5889 - val_accuracy: 0.5794\n",
            "Epoch 36/200\n",
            "122/122 [==============================] - 3s 26ms/step - loss: 0.3201 - accuracy: 0.9114 - val_loss: 2.5936 - val_accuracy: 0.5365\n",
            "Epoch 37/200\n",
            "122/122 [==============================] - 3s 26ms/step - loss: 0.3225 - accuracy: 0.9139 - val_loss: 1.9922 - val_accuracy: 0.5408\n",
            "Epoch 38/200\n",
            "122/122 [==============================] - 3s 25ms/step - loss: 0.3035 - accuracy: 0.9155 - val_loss: 2.1153 - val_accuracy: 0.5665\n",
            "Epoch 39/200\n",
            "122/122 [==============================] - 3s 26ms/step - loss: 0.2811 - accuracy: 0.9253 - val_loss: 1.9127 - val_accuracy: 0.5837\n",
            "Epoch 40/200\n",
            "122/122 [==============================] - 3s 26ms/step - loss: 0.2724 - accuracy: 0.9106 - val_loss: 2.2199 - val_accuracy: 0.5622\n",
            "Epoch 41/200\n",
            "122/122 [==============================] - 3s 26ms/step - loss: 0.2820 - accuracy: 0.9147 - val_loss: 2.2620 - val_accuracy: 0.5708\n",
            "Epoch 42/200\n",
            "122/122 [==============================] - 3s 28ms/step - loss: 0.2452 - accuracy: 0.9221 - val_loss: 1.9483 - val_accuracy: 0.5923\n",
            "Epoch 43/200\n",
            "122/122 [==============================] - 3s 28ms/step - loss: 0.2289 - accuracy: 0.9295 - val_loss: 1.9824 - val_accuracy: 0.6137\n",
            "Epoch 44/200\n",
            "122/122 [==============================] - 3s 28ms/step - loss: 0.3074 - accuracy: 0.9171 - val_loss: 2.0137 - val_accuracy: 0.5880\n",
            "Epoch 45/200\n",
            "122/122 [==============================] - 3s 26ms/step - loss: 0.2903 - accuracy: 0.9270 - val_loss: 1.7471 - val_accuracy: 0.6652\n",
            "Epoch 46/200\n",
            "122/122 [==============================] - 3s 26ms/step - loss: 0.2171 - accuracy: 0.9352 - val_loss: 2.1134 - val_accuracy: 0.6137\n",
            "Epoch 47/200\n",
            "122/122 [==============================] - 3s 26ms/step - loss: 0.2099 - accuracy: 0.9409 - val_loss: 2.5300 - val_accuracy: 0.6009\n",
            "Epoch 48/200\n",
            "122/122 [==============================] - 3s 26ms/step - loss: 0.2157 - accuracy: 0.9327 - val_loss: 2.4249 - val_accuracy: 0.5751\n",
            "Epoch 49/200\n",
            "122/122 [==============================] - 3s 27ms/step - loss: 0.2401 - accuracy: 0.9311 - val_loss: 2.4318 - val_accuracy: 0.6266\n",
            "Epoch 50/200\n",
            "122/122 [==============================] - 3s 28ms/step - loss: 0.2999 - accuracy: 0.9212 - val_loss: 2.6919 - val_accuracy: 0.5751\n",
            "Epoch 51/200\n",
            "122/122 [==============================] - 3s 27ms/step - loss: 0.2341 - accuracy: 0.9393 - val_loss: 2.3157 - val_accuracy: 0.6094\n",
            "Epoch 52/200\n",
            "122/122 [==============================] - 3s 26ms/step - loss: 0.2520 - accuracy: 0.9270 - val_loss: 2.3507 - val_accuracy: 0.5923\n",
            "Epoch 53/200\n",
            "122/122 [==============================] - 3s 26ms/step - loss: 0.2276 - accuracy: 0.9327 - val_loss: 2.0305 - val_accuracy: 0.6052\n",
            "Epoch 54/200\n",
            "122/122 [==============================] - 3s 26ms/step - loss: 0.2399 - accuracy: 0.9360 - val_loss: 2.3832 - val_accuracy: 0.5751\n",
            "Epoch 55/200\n",
            "122/122 [==============================] - 3s 26ms/step - loss: 0.2156 - accuracy: 0.9475 - val_loss: 2.1028 - val_accuracy: 0.6266\n",
            "Epoch 56/200\n",
            "122/122 [==============================] - 3s 26ms/step - loss: 0.2071 - accuracy: 0.9450 - val_loss: 2.0284 - val_accuracy: 0.6180\n",
            "Epoch 57/200\n",
            "122/122 [==============================] - 3s 26ms/step - loss: 0.1820 - accuracy: 0.9450 - val_loss: 2.1186 - val_accuracy: 0.6524\n",
            "Epoch 58/200\n",
            "122/122 [==============================] - 3s 26ms/step - loss: 0.1589 - accuracy: 0.9475 - val_loss: 2.0128 - val_accuracy: 0.6438\n",
            "Epoch 59/200\n",
            "122/122 [==============================] - 3s 27ms/step - loss: 0.1574 - accuracy: 0.9483 - val_loss: 2.5341 - val_accuracy: 0.5966\n",
            "Epoch 60/200\n",
            "122/122 [==============================] - 3s 26ms/step - loss: 0.1938 - accuracy: 0.9368 - val_loss: 2.7606 - val_accuracy: 0.5923\n",
            "Epoch 61/200\n",
            "122/122 [==============================] - 3s 26ms/step - loss: 0.1806 - accuracy: 0.9467 - val_loss: 2.5191 - val_accuracy: 0.6309\n",
            "Epoch 62/200\n",
            "122/122 [==============================] - 3s 26ms/step - loss: 0.1494 - accuracy: 0.9549 - val_loss: 2.6706 - val_accuracy: 0.6094\n",
            "Epoch 63/200\n",
            "122/122 [==============================] - 3s 26ms/step - loss: 0.2195 - accuracy: 0.9401 - val_loss: 2.4372 - val_accuracy: 0.6438\n",
            "Epoch 64/200\n",
            "122/122 [==============================] - 3s 27ms/step - loss: 0.1649 - accuracy: 0.9541 - val_loss: 2.2627 - val_accuracy: 0.6438\n",
            "Epoch 65/200\n",
            "122/122 [==============================] - 3s 27ms/step - loss: 0.2229 - accuracy: 0.9409 - val_loss: 2.4442 - val_accuracy: 0.6180\n",
            "Epoch 66/200\n",
            "122/122 [==============================] - 3s 27ms/step - loss: 0.2095 - accuracy: 0.9377 - val_loss: 2.1759 - val_accuracy: 0.6309\n",
            "Epoch 67/200\n",
            "122/122 [==============================] - 3s 27ms/step - loss: 0.2334 - accuracy: 0.9336 - val_loss: 2.2095 - val_accuracy: 0.6094\n",
            "Epoch 68/200\n",
            "122/122 [==============================] - 3s 26ms/step - loss: 0.1806 - accuracy: 0.9467 - val_loss: 2.3755 - val_accuracy: 0.6309\n",
            "Epoch 69/200\n",
            "122/122 [==============================] - 3s 27ms/step - loss: 0.1720 - accuracy: 0.9500 - val_loss: 2.4906 - val_accuracy: 0.6180\n",
            "Epoch 70/200\n",
            "122/122 [==============================] - 3s 26ms/step - loss: 0.1870 - accuracy: 0.9450 - val_loss: 2.8490 - val_accuracy: 0.5837\n",
            "Epoch 71/200\n",
            "122/122 [==============================] - 3s 27ms/step - loss: 0.1699 - accuracy: 0.9475 - val_loss: 2.9458 - val_accuracy: 0.5665\n",
            "Epoch 72/200\n",
            "122/122 [==============================] - 3s 26ms/step - loss: 0.1884 - accuracy: 0.9434 - val_loss: 2.6320 - val_accuracy: 0.5923\n",
            "Epoch 73/200\n",
            "122/122 [==============================] - 3s 26ms/step - loss: 0.1903 - accuracy: 0.9418 - val_loss: 2.5147 - val_accuracy: 0.6266\n",
            "Epoch 74/200\n",
            "122/122 [==============================] - 3s 26ms/step - loss: 0.1956 - accuracy: 0.9541 - val_loss: 2.7861 - val_accuracy: 0.5494\n",
            "Epoch 75/200\n",
            "122/122 [==============================] - 3s 26ms/step - loss: 0.2255 - accuracy: 0.9393 - val_loss: 2.8614 - val_accuracy: 0.5837\n",
            "Epoch 76/200\n",
            "122/122 [==============================] - 3s 27ms/step - loss: 0.1813 - accuracy: 0.9401 - val_loss: 2.0247 - val_accuracy: 0.6438\n",
            "Epoch 77/200\n",
            "122/122 [==============================] - 3s 26ms/step - loss: 0.1614 - accuracy: 0.9623 - val_loss: 2.3256 - val_accuracy: 0.6438\n",
            "Epoch 78/200\n",
            "122/122 [==============================] - 3s 26ms/step - loss: 0.1718 - accuracy: 0.9483 - val_loss: 2.2716 - val_accuracy: 0.6395\n",
            "Epoch 79/200\n",
            "122/122 [==============================] - 3s 26ms/step - loss: 0.2036 - accuracy: 0.9409 - val_loss: 2.4127 - val_accuracy: 0.6266\n",
            "Epoch 80/200\n",
            "122/122 [==============================] - 3s 26ms/step - loss: 0.1394 - accuracy: 0.9541 - val_loss: 2.4050 - val_accuracy: 0.6223\n",
            "Epoch 81/200\n",
            "122/122 [==============================] - 3s 25ms/step - loss: 0.1769 - accuracy: 0.9450 - val_loss: 2.7672 - val_accuracy: 0.6052\n",
            "Epoch 82/200\n",
            "122/122 [==============================] - 3s 26ms/step - loss: 0.1379 - accuracy: 0.9557 - val_loss: 2.6203 - val_accuracy: 0.6137\n",
            "Epoch 83/200\n",
            "122/122 [==============================] - 3s 26ms/step - loss: 0.1277 - accuracy: 0.9582 - val_loss: 2.6327 - val_accuracy: 0.6266\n",
            "Epoch 84/200\n",
            "122/122 [==============================] - 3s 26ms/step - loss: 0.1582 - accuracy: 0.9573 - val_loss: 2.6109 - val_accuracy: 0.6009\n",
            "Epoch 85/200\n",
            "122/122 [==============================] - 3s 26ms/step - loss: 0.1594 - accuracy: 0.9614 - val_loss: 2.4249 - val_accuracy: 0.6137\n",
            "Epoch 86/200\n",
            "122/122 [==============================] - 3s 27ms/step - loss: 0.1344 - accuracy: 0.9557 - val_loss: 2.7393 - val_accuracy: 0.5880\n",
            "Epoch 87/200\n",
            "122/122 [==============================] - 3s 27ms/step - loss: 0.1629 - accuracy: 0.9606 - val_loss: 2.3879 - val_accuracy: 0.5966\n",
            "Epoch 88/200\n",
            "122/122 [==============================] - 3s 26ms/step - loss: 0.1567 - accuracy: 0.9573 - val_loss: 2.9711 - val_accuracy: 0.5665\n",
            "Epoch 89/200\n",
            "122/122 [==============================] - 3s 26ms/step - loss: 0.1352 - accuracy: 0.9647 - val_loss: 2.6629 - val_accuracy: 0.6094\n",
            "Epoch 90/200\n",
            "122/122 [==============================] - 3s 26ms/step - loss: 0.1573 - accuracy: 0.9631 - val_loss: 2.6591 - val_accuracy: 0.5622\n",
            "Epoch 91/200\n",
            "122/122 [==============================] - 3s 25ms/step - loss: 0.2027 - accuracy: 0.9409 - val_loss: 2.4910 - val_accuracy: 0.5923\n",
            "Epoch 92/200\n",
            "122/122 [==============================] - 3s 26ms/step - loss: 0.1792 - accuracy: 0.9491 - val_loss: 2.5315 - val_accuracy: 0.6309\n",
            "Epoch 93/200\n",
            "122/122 [==============================] - 3s 26ms/step - loss: 0.1332 - accuracy: 0.9541 - val_loss: 3.0597 - val_accuracy: 0.5579\n",
            "Epoch 94/200\n",
            "122/122 [==============================] - 3s 26ms/step - loss: 0.1115 - accuracy: 0.9688 - val_loss: 2.9490 - val_accuracy: 0.5751\n",
            "Epoch 95/200\n",
            "122/122 [==============================] - 3s 26ms/step - loss: 0.1465 - accuracy: 0.9541 - val_loss: 3.1859 - val_accuracy: 0.6009\n",
            "Epoch 96/200\n",
            "122/122 [==============================] - 3s 26ms/step - loss: 0.1481 - accuracy: 0.9508 - val_loss: 3.2650 - val_accuracy: 0.5579\n",
            "Epoch 97/200\n",
            "122/122 [==============================] - 3s 26ms/step - loss: 0.1646 - accuracy: 0.9475 - val_loss: 2.9859 - val_accuracy: 0.6009\n",
            "Epoch 98/200\n",
            "122/122 [==============================] - 3s 26ms/step - loss: 0.0884 - accuracy: 0.9729 - val_loss: 2.9016 - val_accuracy: 0.6223\n",
            "Epoch 99/200\n",
            "122/122 [==============================] - 3s 26ms/step - loss: 0.1926 - accuracy: 0.9491 - val_loss: 2.4920 - val_accuracy: 0.6009\n",
            "Epoch 100/200\n",
            "122/122 [==============================] - 3s 26ms/step - loss: 0.1623 - accuracy: 0.9573 - val_loss: 2.9793 - val_accuracy: 0.6052\n",
            "Epoch 101/200\n",
            "122/122 [==============================] - 3s 26ms/step - loss: 0.1226 - accuracy: 0.9639 - val_loss: 3.0700 - val_accuracy: 0.5751\n",
            "Epoch 102/200\n",
            "122/122 [==============================] - 3s 26ms/step - loss: 0.0973 - accuracy: 0.9705 - val_loss: 3.0626 - val_accuracy: 0.5966\n",
            "Epoch 103/200\n",
            "122/122 [==============================] - 3s 26ms/step - loss: 0.1114 - accuracy: 0.9614 - val_loss: 3.0480 - val_accuracy: 0.5966\n",
            "Epoch 104/200\n",
            "122/122 [==============================] - 3s 26ms/step - loss: 0.1739 - accuracy: 0.9500 - val_loss: 2.7192 - val_accuracy: 0.6009\n",
            "Epoch 105/200\n",
            "122/122 [==============================] - 3s 27ms/step - loss: 0.1351 - accuracy: 0.9623 - val_loss: 2.8933 - val_accuracy: 0.6137\n",
            "Epoch 106/200\n",
            "122/122 [==============================] - 3s 26ms/step - loss: 0.1641 - accuracy: 0.9532 - val_loss: 2.6621 - val_accuracy: 0.6609\n",
            "Epoch 107/200\n",
            "122/122 [==============================] - 3s 26ms/step - loss: 0.1469 - accuracy: 0.9565 - val_loss: 3.0058 - val_accuracy: 0.6438\n",
            "Epoch 108/200\n",
            "122/122 [==============================] - 3s 26ms/step - loss: 0.1282 - accuracy: 0.9631 - val_loss: 3.1759 - val_accuracy: 0.5880\n",
            "Epoch 109/200\n",
            "122/122 [==============================] - 3s 26ms/step - loss: 0.1942 - accuracy: 0.9516 - val_loss: 3.4497 - val_accuracy: 0.5622\n",
            "Epoch 110/200\n",
            "122/122 [==============================] - 3s 26ms/step - loss: 0.1284 - accuracy: 0.9647 - val_loss: 3.4977 - val_accuracy: 0.5494\n",
            "Epoch 111/200\n",
            "122/122 [==============================] - 3s 26ms/step - loss: 0.1133 - accuracy: 0.9655 - val_loss: 2.5928 - val_accuracy: 0.6180\n",
            "Epoch 112/200\n",
            "122/122 [==============================] - 3s 25ms/step - loss: 0.1421 - accuracy: 0.9639 - val_loss: 2.8154 - val_accuracy: 0.6009\n",
            "Epoch 113/200\n",
            "122/122 [==============================] - 3s 26ms/step - loss: 0.1428 - accuracy: 0.9614 - val_loss: 2.7015 - val_accuracy: 0.6094\n",
            "Epoch 114/200\n",
            "122/122 [==============================] - 3s 26ms/step - loss: 0.1329 - accuracy: 0.9631 - val_loss: 3.1575 - val_accuracy: 0.5665\n",
            "Epoch 115/200\n",
            "122/122 [==============================] - 3s 26ms/step - loss: 0.1512 - accuracy: 0.9565 - val_loss: 2.6804 - val_accuracy: 0.6438\n",
            "Epoch 116/200\n",
            "122/122 [==============================] - 3s 27ms/step - loss: 0.1291 - accuracy: 0.9557 - val_loss: 3.1650 - val_accuracy: 0.5966\n",
            "Epoch 117/200\n",
            "122/122 [==============================] - 3s 27ms/step - loss: 0.1506 - accuracy: 0.9606 - val_loss: 2.9674 - val_accuracy: 0.6137\n",
            "Epoch 118/200\n",
            "122/122 [==============================] - 3s 26ms/step - loss: 0.0937 - accuracy: 0.9721 - val_loss: 3.0506 - val_accuracy: 0.6052\n",
            "Epoch 119/200\n",
            "122/122 [==============================] - 3s 26ms/step - loss: 0.1487 - accuracy: 0.9655 - val_loss: 3.4189 - val_accuracy: 0.6137\n",
            "Epoch 120/200\n",
            "122/122 [==============================] - 3s 26ms/step - loss: 0.1195 - accuracy: 0.9590 - val_loss: 2.7552 - val_accuracy: 0.6524\n",
            "Epoch 121/200\n",
            "122/122 [==============================] - 3s 26ms/step - loss: 0.1145 - accuracy: 0.9688 - val_loss: 2.4801 - val_accuracy: 0.6695\n",
            "Epoch 122/200\n",
            "122/122 [==============================] - 3s 26ms/step - loss: 0.1028 - accuracy: 0.9672 - val_loss: 2.5065 - val_accuracy: 0.6824\n",
            "Epoch 123/200\n",
            "122/122 [==============================] - 3s 26ms/step - loss: 0.0976 - accuracy: 0.9680 - val_loss: 2.5043 - val_accuracy: 0.6781\n",
            "Epoch 124/200\n",
            "122/122 [==============================] - 3s 26ms/step - loss: 0.1252 - accuracy: 0.9746 - val_loss: 2.6904 - val_accuracy: 0.6738\n",
            "Epoch 125/200\n",
            "122/122 [==============================] - 3s 26ms/step - loss: 0.1480 - accuracy: 0.9565 - val_loss: 2.3784 - val_accuracy: 0.7039\n",
            "Epoch 126/200\n",
            "122/122 [==============================] - 3s 26ms/step - loss: 0.1511 - accuracy: 0.9631 - val_loss: 2.7239 - val_accuracy: 0.6309\n",
            "Epoch 127/200\n",
            "122/122 [==============================] - 3s 27ms/step - loss: 0.1978 - accuracy: 0.9582 - val_loss: 2.8666 - val_accuracy: 0.6223\n",
            "Epoch 128/200\n",
            "122/122 [==============================] - 3s 26ms/step - loss: 0.1599 - accuracy: 0.9532 - val_loss: 2.7140 - val_accuracy: 0.6695\n",
            "Epoch 129/200\n",
            "122/122 [==============================] - 3s 26ms/step - loss: 0.2111 - accuracy: 0.9475 - val_loss: 2.6887 - val_accuracy: 0.6052\n",
            "Epoch 130/200\n",
            "122/122 [==============================] - 3s 26ms/step - loss: 0.1247 - accuracy: 0.9639 - val_loss: 2.9932 - val_accuracy: 0.5966\n",
            "Epoch 131/200\n",
            "122/122 [==============================] - 3s 25ms/step - loss: 0.1526 - accuracy: 0.9614 - val_loss: 2.8480 - val_accuracy: 0.5708\n",
            "Epoch 132/200\n",
            "122/122 [==============================] - 3s 26ms/step - loss: 0.1765 - accuracy: 0.9557 - val_loss: 3.1485 - val_accuracy: 0.6009\n",
            "Epoch 133/200\n",
            "122/122 [==============================] - 3s 27ms/step - loss: 0.1361 - accuracy: 0.9598 - val_loss: 3.2657 - val_accuracy: 0.5708\n",
            "Epoch 134/200\n",
            "122/122 [==============================] - 3s 26ms/step - loss: 0.1478 - accuracy: 0.9614 - val_loss: 2.3429 - val_accuracy: 0.6395\n",
            "Epoch 135/200\n",
            "122/122 [==============================] - 3s 26ms/step - loss: 0.0789 - accuracy: 0.9770 - val_loss: 2.8490 - val_accuracy: 0.6137\n",
            "Epoch 136/200\n",
            "122/122 [==============================] - 3s 26ms/step - loss: 0.0975 - accuracy: 0.9737 - val_loss: 2.6610 - val_accuracy: 0.6352\n",
            "Epoch 137/200\n",
            "122/122 [==============================] - 3s 26ms/step - loss: 0.0846 - accuracy: 0.9696 - val_loss: 2.8335 - val_accuracy: 0.6052\n",
            "Epoch 138/200\n",
            "122/122 [==============================] - 3s 28ms/step - loss: 0.1431 - accuracy: 0.9491 - val_loss: 3.2133 - val_accuracy: 0.5751\n",
            "Epoch 139/200\n",
            "122/122 [==============================] - 4s 29ms/step - loss: 0.1500 - accuracy: 0.9590 - val_loss: 3.3232 - val_accuracy: 0.5536\n",
            "Epoch 140/200\n",
            "122/122 [==============================] - 3s 29ms/step - loss: 0.0804 - accuracy: 0.9779 - val_loss: 2.7264 - val_accuracy: 0.5923\n",
            "Epoch 141/200\n",
            "122/122 [==============================] - 3s 27ms/step - loss: 0.0770 - accuracy: 0.9770 - val_loss: 3.0713 - val_accuracy: 0.5837\n",
            "Epoch 142/200\n",
            "122/122 [==============================] - 3s 26ms/step - loss: 0.0956 - accuracy: 0.9729 - val_loss: 3.0954 - val_accuracy: 0.5837\n",
            "Epoch 143/200\n",
            "122/122 [==============================] - 3s 27ms/step - loss: 0.1066 - accuracy: 0.9647 - val_loss: 2.8622 - val_accuracy: 0.6309\n",
            "Epoch 144/200\n",
            "122/122 [==============================] - 3s 28ms/step - loss: 0.1310 - accuracy: 0.9680 - val_loss: 2.7105 - val_accuracy: 0.6438\n",
            "Epoch 145/200\n",
            "122/122 [==============================] - 3s 27ms/step - loss: 0.1179 - accuracy: 0.9655 - val_loss: 2.7438 - val_accuracy: 0.6438\n",
            "Epoch 146/200\n",
            "122/122 [==============================] - 3s 27ms/step - loss: 0.1338 - accuracy: 0.9614 - val_loss: 2.3394 - val_accuracy: 0.6652\n",
            "Epoch 147/200\n",
            "122/122 [==============================] - 3s 26ms/step - loss: 0.1259 - accuracy: 0.9647 - val_loss: 2.9469 - val_accuracy: 0.6352\n",
            "Epoch 148/200\n",
            "122/122 [==============================] - 3s 25ms/step - loss: 0.0942 - accuracy: 0.9770 - val_loss: 2.6874 - val_accuracy: 0.6352\n",
            "Epoch 149/200\n",
            "122/122 [==============================] - 3s 26ms/step - loss: 0.1361 - accuracy: 0.9590 - val_loss: 2.2447 - val_accuracy: 0.6652\n",
            "Epoch 150/200\n",
            "122/122 [==============================] - 3s 26ms/step - loss: 0.0704 - accuracy: 0.9779 - val_loss: 2.5887 - val_accuracy: 0.6481\n",
            "Epoch 151/200\n",
            "122/122 [==============================] - 3s 26ms/step - loss: 0.0915 - accuracy: 0.9705 - val_loss: 2.8812 - val_accuracy: 0.6266\n",
            "Epoch 152/200\n",
            "122/122 [==============================] - 3s 27ms/step - loss: 0.1270 - accuracy: 0.9631 - val_loss: 2.6139 - val_accuracy: 0.6223\n",
            "Epoch 153/200\n",
            "122/122 [==============================] - 3s 26ms/step - loss: 0.1273 - accuracy: 0.9655 - val_loss: 3.0627 - val_accuracy: 0.6137\n",
            "Epoch 154/200\n",
            "122/122 [==============================] - 3s 26ms/step - loss: 0.1303 - accuracy: 0.9639 - val_loss: 2.7328 - val_accuracy: 0.6223\n",
            "Epoch 155/200\n",
            "122/122 [==============================] - 3s 26ms/step - loss: 0.1612 - accuracy: 0.9516 - val_loss: 2.8345 - val_accuracy: 0.6094\n",
            "Epoch 156/200\n",
            "122/122 [==============================] - 3s 26ms/step - loss: 0.1093 - accuracy: 0.9729 - val_loss: 3.0100 - val_accuracy: 0.6395\n",
            "Epoch 157/200\n",
            "122/122 [==============================] - 3s 26ms/step - loss: 0.1271 - accuracy: 0.9598 - val_loss: 2.9432 - val_accuracy: 0.6481\n",
            "Epoch 158/200\n",
            "122/122 [==============================] - 3s 26ms/step - loss: 0.1160 - accuracy: 0.9672 - val_loss: 3.3759 - val_accuracy: 0.6094\n",
            "Epoch 159/200\n",
            "122/122 [==============================] - 3s 26ms/step - loss: 0.1070 - accuracy: 0.9631 - val_loss: 3.1361 - val_accuracy: 0.6352\n",
            "Epoch 160/200\n",
            "122/122 [==============================] - 3s 26ms/step - loss: 0.1014 - accuracy: 0.9705 - val_loss: 3.7665 - val_accuracy: 0.5708\n",
            "Epoch 161/200\n",
            "122/122 [==============================] - 3s 26ms/step - loss: 0.1133 - accuracy: 0.9672 - val_loss: 2.9109 - val_accuracy: 0.5837\n",
            "Epoch 162/200\n",
            "122/122 [==============================] - 3s 25ms/step - loss: 0.1083 - accuracy: 0.9688 - val_loss: 2.5488 - val_accuracy: 0.6695\n",
            "Epoch 163/200\n",
            "122/122 [==============================] - 3s 26ms/step - loss: 0.0886 - accuracy: 0.9672 - val_loss: 3.2354 - val_accuracy: 0.6094\n",
            "Epoch 164/200\n",
            "122/122 [==============================] - 3s 26ms/step - loss: 0.1037 - accuracy: 0.9664 - val_loss: 2.9063 - val_accuracy: 0.5923\n",
            "Epoch 165/200\n",
            "122/122 [==============================] - 3s 25ms/step - loss: 0.0815 - accuracy: 0.9787 - val_loss: 2.6939 - val_accuracy: 0.6009\n",
            "Epoch 166/200\n",
            "122/122 [==============================] - 3s 25ms/step - loss: 0.0939 - accuracy: 0.9705 - val_loss: 3.1553 - val_accuracy: 0.6137\n",
            "Epoch 167/200\n",
            "122/122 [==============================] - 3s 26ms/step - loss: 0.1200 - accuracy: 0.9655 - val_loss: 3.8171 - val_accuracy: 0.5665\n",
            "Epoch 168/200\n",
            "122/122 [==============================] - 3s 26ms/step - loss: 0.1211 - accuracy: 0.9623 - val_loss: 3.6656 - val_accuracy: 0.5708\n",
            "Epoch 169/200\n",
            "122/122 [==============================] - 3s 26ms/step - loss: 0.1053 - accuracy: 0.9655 - val_loss: 3.2393 - val_accuracy: 0.5880\n",
            "Epoch 170/200\n",
            "122/122 [==============================] - 3s 26ms/step - loss: 0.0943 - accuracy: 0.9721 - val_loss: 3.3290 - val_accuracy: 0.6137\n",
            "Epoch 171/200\n",
            "122/122 [==============================] - 3s 25ms/step - loss: 0.1042 - accuracy: 0.9737 - val_loss: 2.9187 - val_accuracy: 0.6352\n",
            "Epoch 172/200\n",
            "122/122 [==============================] - 3s 26ms/step - loss: 0.0761 - accuracy: 0.9746 - val_loss: 3.5390 - val_accuracy: 0.6052\n",
            "Epoch 173/200\n",
            "122/122 [==============================] - 3s 26ms/step - loss: 0.0956 - accuracy: 0.9721 - val_loss: 3.7734 - val_accuracy: 0.5837\n",
            "Epoch 174/200\n",
            "122/122 [==============================] - 3s 25ms/step - loss: 0.0811 - accuracy: 0.9721 - val_loss: 3.9760 - val_accuracy: 0.6052\n",
            "Epoch 175/200\n",
            "122/122 [==============================] - 3s 27ms/step - loss: 0.1192 - accuracy: 0.9688 - val_loss: 3.3259 - val_accuracy: 0.6009\n",
            "Epoch 176/200\n",
            "122/122 [==============================] - 3s 26ms/step - loss: 0.1301 - accuracy: 0.9721 - val_loss: 3.5250 - val_accuracy: 0.5966\n",
            "Epoch 177/200\n",
            "122/122 [==============================] - 3s 26ms/step - loss: 0.1070 - accuracy: 0.9713 - val_loss: 2.8753 - val_accuracy: 0.6567\n",
            "Epoch 178/200\n",
            "122/122 [==============================] - 3s 26ms/step - loss: 0.0816 - accuracy: 0.9746 - val_loss: 2.7500 - val_accuracy: 0.6738\n",
            "Epoch 179/200\n",
            "122/122 [==============================] - 3s 25ms/step - loss: 0.0963 - accuracy: 0.9729 - val_loss: 2.8999 - val_accuracy: 0.6524\n",
            "Epoch 180/200\n",
            "122/122 [==============================] - 3s 26ms/step - loss: 0.0831 - accuracy: 0.9762 - val_loss: 2.6922 - val_accuracy: 0.6652\n",
            "Epoch 181/200\n",
            "122/122 [==============================] - 3s 26ms/step - loss: 0.0713 - accuracy: 0.9779 - val_loss: 3.4315 - val_accuracy: 0.6223\n",
            "Epoch 182/200\n",
            "122/122 [==============================] - 3s 26ms/step - loss: 0.1364 - accuracy: 0.9557 - val_loss: 2.7576 - val_accuracy: 0.6438\n",
            "Epoch 183/200\n",
            "122/122 [==============================] - 3s 25ms/step - loss: 0.0986 - accuracy: 0.9729 - val_loss: 2.7753 - val_accuracy: 0.6652\n",
            "Epoch 184/200\n",
            "122/122 [==============================] - 3s 26ms/step - loss: 0.0903 - accuracy: 0.9696 - val_loss: 2.9227 - val_accuracy: 0.6438\n",
            "Epoch 185/200\n",
            "122/122 [==============================] - 3s 26ms/step - loss: 0.1046 - accuracy: 0.9688 - val_loss: 2.9882 - val_accuracy: 0.6352\n",
            "Epoch 186/200\n",
            "122/122 [==============================] - 3s 26ms/step - loss: 0.0945 - accuracy: 0.9696 - val_loss: 3.0481 - val_accuracy: 0.6266\n",
            "Epoch 187/200\n",
            "122/122 [==============================] - 3s 25ms/step - loss: 0.1019 - accuracy: 0.9729 - val_loss: 3.2443 - val_accuracy: 0.6094\n",
            "Epoch 188/200\n",
            "122/122 [==============================] - 3s 26ms/step - loss: 0.0929 - accuracy: 0.9746 - val_loss: 3.3859 - val_accuracy: 0.6180\n",
            "Epoch 189/200\n",
            "122/122 [==============================] - 3s 26ms/step - loss: 0.0897 - accuracy: 0.9737 - val_loss: 3.9888 - val_accuracy: 0.5708\n",
            "Epoch 190/200\n",
            "122/122 [==============================] - 3s 27ms/step - loss: 0.1275 - accuracy: 0.9672 - val_loss: 4.1068 - val_accuracy: 0.6094\n",
            "Epoch 191/200\n",
            "122/122 [==============================] - 3s 26ms/step - loss: 0.1233 - accuracy: 0.9664 - val_loss: 3.1233 - val_accuracy: 0.6567\n",
            "Epoch 192/200\n",
            "122/122 [==============================] - 3s 26ms/step - loss: 0.1218 - accuracy: 0.9672 - val_loss: 3.2131 - val_accuracy: 0.6309\n",
            "Epoch 193/200\n",
            "122/122 [==============================] - 3s 26ms/step - loss: 0.0746 - accuracy: 0.9729 - val_loss: 3.4381 - val_accuracy: 0.6266\n",
            "Epoch 194/200\n",
            "122/122 [==============================] - 3s 26ms/step - loss: 0.0880 - accuracy: 0.9721 - val_loss: 3.6534 - val_accuracy: 0.6266\n",
            "Epoch 195/200\n",
            "122/122 [==============================] - 3s 27ms/step - loss: 0.0898 - accuracy: 0.9705 - val_loss: 3.1653 - val_accuracy: 0.6438\n",
            "Epoch 196/200\n",
            "122/122 [==============================] - 3s 26ms/step - loss: 0.0774 - accuracy: 0.9713 - val_loss: 3.5997 - val_accuracy: 0.6052\n",
            "Epoch 197/200\n",
            "122/122 [==============================] - 3s 26ms/step - loss: 0.0955 - accuracy: 0.9729 - val_loss: 3.2239 - val_accuracy: 0.6352\n",
            "Epoch 198/200\n",
            "122/122 [==============================] - 3s 26ms/step - loss: 0.0837 - accuracy: 0.9713 - val_loss: 2.8708 - val_accuracy: 0.6352\n",
            "Epoch 199/200\n",
            "122/122 [==============================] - 3s 25ms/step - loss: 0.0956 - accuracy: 0.9713 - val_loss: 2.5232 - val_accuracy: 0.6738\n",
            "Epoch 200/200\n",
            "122/122 [==============================] - 3s 25ms/step - loss: 0.0698 - accuracy: 0.9746 - val_loss: 2.6049 - val_accuracy: 0.6695\n"
          ],
          "name": "stdout"
        },
        {
          "output_type": "display_data",
          "data": {
            "image/png": "[encoded data removed]",
            "text/plain": [
              "<Figure size 432x288 with 1 Axes>"
            ]
          },
          "metadata": {
            "tags": [],
            "needs_background": "light"
          }
        },
        {
          "output_type": "stream",
          "text": [
            "НЕЙРОНКА:  Embedding + двунаправленный LSTM\n",
            "\n",
            "Дуоденит  распознано  90 % сеть считает, что это  Дуоденит ,  распознано ВЕРНО!\n",
            "Гастрит  распознано  90 % сеть считает, что это  Гастрит ,  распознано ВЕРНО!\n",
            "Колит  распознано  45 % сеть считает, что это  Панкреатит ,  распознано НЕ ВЕРНО!\n",
            "Энтерит  распознано  12 % сеть считает, что это  Панкреатит ,  распознано НЕ ВЕРНО!\n",
            "Гепатит  распознано  88 % сеть считает, что это  Гепатит ,  распознано ВЕРНО!\n",
            "Панкреатит  распознано  90 % сеть считает, что это  Панкреатит ,  распознано ВЕРНО!\n",
            "Язва  распознано  55 % сеть считает, что это  Язва ,  распознано ВЕРНО!\n",
            "Холицестит  распознано  80 % сеть считает, что это  Холицестит ,  распознано ВЕРНО!\n",
            "Эзофагит  распознано  52 % сеть считает, что это  Эзофагит ,  распознано ВЕРНО!\n",
            "Аппендицит  распознано  64 % сеть считает, что это  Аппендицит ,  распознано ВЕРНО!\n",
            "\n",
            "Средний процент распознавания  66 %\n",
            "\n"
          ],
          "name": "stdout"
        }
      ]
    }
  ]
}